{
 "cells": [
  {
   "cell_type": "code",
   "execution_count": 1,
   "metadata": {},
   "outputs": [],
   "source": [
    "# Data manipulation\n",
    "import pandas as pd\n",
    "import numpy as np\n",
    "# Evaluation of the model\n",
    "from sklearn.model_selection import KFold, train_test_split\n",
    "from sklearn.metrics import roc_auc_score\n",
    "\n",
    "# Visualization\n",
    "import matplotlib.pyplot as plt\n",
    "import seaborn as sns\n",
    "plt.rcParams['font.size'] = 18\n",
    "%matplotlib inline\n",
    "\n",
    "MAX_EVALS = 20\n",
    "import csv\n",
    "from hyperopt import STATUS_OK\n",
    "from timeit import default_timer as timer\n",
    "\n"
   ]
  },
  {
   "cell_type": "code",
   "execution_count": 2,
   "metadata": {},
   "outputs": [],
   "source": [
    "import json\n",
    "import shlex\n",
    "import subprocess\n",
    "import logging\n",
    "from pprint import pprint\n",
    "import re\n",
    "import os\n"
   ]
  },
  {
   "cell_type": "code",
   "execution_count": 3,
   "metadata": {},
   "outputs": [],
   "source": [
    "def runthebenchmark(hyperparameters):\n",
    "    os.chdir('/home/dsinghvi/project/progress/active/../')\n",
    "    storeinfile(hyperparameters)\n",
    "    out=subprocess.Popen([\"python3\",\"read_config_general.py\",\"-n 2\",\"-c200 200 400 2 2 4 1\"], shell=False, stdout=subprocess.PIPE)\n",
    "    logging.basicConfig(level=logging.DEBUG)\n",
    "    output=out.stdout.read().decode('utf-8')\n",
    "    print(\"output\"+output)\n",
    "    if len(output.split(\" \")) > 5:\n",
    "        value = output.split(\" \")[5]\n",
    "        value = float(value)\n",
    "        print(value)\n",
    "        return float(1/value)\n",
    "    return 0;\n",
    "    #logging.basicConfig(filename='app.log', filemode='a', format='%(name)s - %(levelname)s - %(message)s',level=logging.DEBUG)\n"
   ]
  },
  {
   "cell_type": "code",
   "execution_count": 4,
   "metadata": {},
   "outputs": [],
   "source": [
    "def storeinfile(hyperparameters):\n",
    "    data={\"mpi\": {\"romio_ds_read\": \"enable\", \"romio_ds_write\": \"disable\"}, \"lfs\": {\"setstripe\": {\"size\": \"16777216\", \"count\": 4}}}\n",
    "    data[\"lfs\"][\"setstripe\"][\"size\"] = int(hyperparameters[\"setstripe-size\"])\n",
    "    data[\"lfs\"][\"setstripe\"][\"count\"] = int(hyperparameters[\"setstripe-count\"])\n",
    "\n",
    "    data[\"mpi\"][\"romio_ds_read\"] = hyperparameters[\"romio_ds_read\"]\n",
    "    data[\"mpi\"][\"romio_ds_write\"] = hyperparameters[\"romio_ds_write\"]\n",
    "    data[\"mpi\"][\"romio_cb_read\"] = hyperparameters[\"romio_cb_read\"]\n",
    "    data[\"mpi\"][\"romio_cb_write\"] = hyperparameters[\"romio_cb_write\"]\n",
    "    data[\"mpi\"][\"cb_buffer_size\"] = str(int(hyperparameters[\"cb_buffer_size\"]))\n",
    "    with open(\"confex.json\",\"w\") as fp:\n",
    "        json.dump(data,fp)\n",
    "    print(data)\n"
   ]
  },
  {
   "cell_type": "code",
   "execution_count": 7,
   "metadata": {},
   "outputs": [],
   "source": [
    "def objective(hyperparameters):\n",
    "    global ITERATION\n",
    "    ITERATION += 1\n",
    "    start = timer()\n",
    "    result=0\n",
    "    z=0\n",
    "    while(result == 0 and z<=1):\n",
    "        print(\"rerun\")\n",
    "        result = runthebenchmark(hyperparameters)\n",
    "        if(result is not 0):\n",
    "            z=z+1\n",
    "        print(result)\n",
    "    run_time = timer() - start\n",
    "    print({'loss': result, 'hyperparameters': hyperparameters, 'iteration': ITERATION, 'iteration_time': run_time, 'status': STATUS_OK})\n",
    "    # Write to the csv file ('a' means append)\n",
    "    of_connection = open(out_file, 'a')\n",
    "    writer = csv.writer(of_connection)\n",
    "    writer.writerow([float(result), hyperparameters, ITERATION, run_time])\n",
    "    return {'loss': float(result), 'hyperparameters': hyperparameters, 'iteration': ITERATION, 'iteration_time': run_time, 'status': STATUS_OK}\n"
   ]
  },
  {
   "cell_type": "code",
   "execution_count": 8,
   "metadata": {},
   "outputs": [],
   "source": [
    "from hyperopt import hp\n",
    "from hyperopt.pyll.stochastic import sample\n",
    "\n",
    "space = {\n",
    "    'romio_ds_read' : hp.choice('romio_ds_read',['enable','disable']),\n",
    "    'romio_ds_write' : hp.choice('romio_ds_write',['enable','disable']),\n",
    "    'romio_cb_read' : hp.choice('romio_cb_read',['enable','disable']),\n",
    "    'romio_cb_write' : hp.choice('romio_cb_write',['enable','disable']),\n",
    "    'cb_buffer_size' : 1048576*hp.quniform('cb_buffer_size',1,512,1),\n",
    "    'setstripe-size' : 65536*(hp.qloguniform('setstripe-size',0,3,1)),\n",
    "    'setstripe-count' : hp.quniform('setstripe-count',0,20,1)\n",
    "    \n",
    "}"
   ]
  },
  {
   "cell_type": "code",
   "execution_count": 9,
   "metadata": {},
   "outputs": [
    {
     "name": "stdout",
     "output_type": "stream",
     "text": [
      "{'cb_buffer_size': 466616320.0, 'romio_cb_read': 'disable', 'romio_cb_write': 'disable', 'romio_ds_read': 'enable', 'romio_ds_write': 'disable', 'setstripe-count': 11.0, 'setstripe-size': 393216.0}\n"
     ]
    }
   ],
   "source": [
    "x = sample(space)\n",
    "params = x\n",
    "print(x)\n",
    "cb_buffer_size_dist = []\n",
    "for _ in range(1000):\n",
    "    cb_buffer_size_dist.append(sample(space)['cb_buffer_size'])"
   ]
  },
  {
   "cell_type": "code",
   "execution_count": 10,
   "metadata": {},
   "outputs": [],
   "source": [
    "from hyperopt import tpe\n",
    "\n",
    "# Create the algorithm\n",
    "tpe_algorithm = tpe.suggest\n",
    "\n",
    "\n",
    "from hyperopt import Trials\n",
    "\n",
    "# Record results\n",
    "bayes_trials = Trials()"
   ]
  },
  {
   "cell_type": "code",
   "execution_count": 11,
   "metadata": {},
   "outputs": [
    {
     "name": "stdout",
     "output_type": "stream",
     "text": [
      "/home/dsinghvi/project/progress/active\n"
     ]
    }
   ],
   "source": [
    "# File to save first results\n",
    "print(os.getcwd())\n",
    "out_file = '/home/dsinghvi/project/progress/active/result/gbm_trials.csv'\n",
    "of_connection = open(out_file, 'w')\n",
    "writer = csv.writer(of_connection)\n",
    "writer.writerow(['loss', 'params', 'iteration', 'train_time'])\n",
    "of_connection.close()"
   ]
  },
  {
   "cell_type": "code",
   "execution_count": null,
   "metadata": {},
   "outputs": [
    {
     "name": "stdout",
     "output_type": "stream",
     "text": [
      "rerun                                               \n",
      "{'mpi': {'romio_ds_read': 'enable', 'romio_ds_write': 'disable', 'romio_cb_read': 'disable', 'romio_cb_write': 'enable', 'cb_buffer_size': '372244480'}, 'lfs': {'setstripe': {'size': 983040, 'count': 2}}}\n",
      "outputS3D-IO 200-200-400-2-2-4-1 0.00 0.00 0.00 684.87 5.72 8.56 0.03 0.07 983040 2 enable disable disable enable 372244480 \n",
      "\n",
      "684.87                                              \n",
      "0.0014601311197745557                               \n",
      "{'loss': 0.0014601311197745557, 'hyperparameters': {'cb_buffer_size': 372244480.0, 'romio_cb_read': 'disable', 'romio_cb_write': 'enable', 'romio_ds_read': 'enable', 'romio_ds_write': 'disable', 'setstripe-count': 2.0, 'setstripe-size': 983040.0}, 'iteration': 1, 'iteration_time': 13.471907799132168, 'status': 'ok'}\n",
      "  5%|▌         | 1/20 [00:13<04:16, 13.53s/it, best loss: 0.0014601311197745557]"
     ]
    },
    {
     "name": "stderr",
     "output_type": "stream",
     "text": [
      "INFO:hyperopt.tpe:tpe_transform took 0.009922 seconds\n",
      "INFO:hyperopt.tpe:TPE using 1/1 trials with best loss 0.001460\n"
     ]
    },
    {
     "name": "stdout",
     "output_type": "stream",
     "text": [
      "rerun                                                                           \n",
      "{'mpi': {'romio_ds_read': 'disable', 'romio_ds_write': 'disable', 'romio_cb_read': 'disable', 'romio_cb_write': 'enable', 'cb_buffer_size': '358612992'}, 'lfs': {'setstripe': {'size': 65536, 'count': 5}}}\n",
      "outputS3D-IO 200-200-400-2-2-4-1 515.29 1.91 3.79 716.43 5.72 8.18 0.04 0.11 65536 5 disable disable disable enable 358612992 \n",
      "\n",
      "716.43                                                                          \n",
      "0.001395809779043312                                                            \n",
      "{'loss': 0.001395809779043312, 'hyperparameters': {'cb_buffer_size': 358612992.0, 'romio_cb_read': 'disable', 'romio_cb_write': 'enable', 'romio_ds_read': 'disable', 'romio_ds_write': 'disable', 'setstripe-count': 5.0, 'setstripe-size': 65536.0}, 'iteration': 2, 'iteration_time': 16.54008394945413, 'status': 'ok'}\n",
      " 10%|█         | 2/20 [00:30<04:19, 14.44s/it, best loss: 0.001395809779043312] "
     ]
    },
    {
     "name": "stderr",
     "output_type": "stream",
     "text": [
      "INFO:hyperopt.tpe:tpe_transform took 0.011229 seconds\n",
      "INFO:hyperopt.tpe:TPE using 2/2 trials with best loss 0.001396\n"
     ]
    },
    {
     "name": "stdout",
     "output_type": "stream",
     "text": [
      "rerun                                                                          \n",
      "{'mpi': {'romio_ds_read': 'enable', 'romio_ds_write': 'enable', 'romio_cb_read': 'disable', 'romio_cb_write': 'enable', 'cb_buffer_size': '141557760'}, 'lfs': {'setstripe': {'size': 131072, 'count': 8}}}\n",
      "outputS3D-IO 200-200-400-2-2-4-1 582.72 1.91 3.35 689.18 5.72 8.50 0.04 0.10 131072 8 enable enable disable enable 141557760 \n",
      "\n",
      "689.18                                                                         \n",
      "0.0014509997388200472                                                          \n",
      "{'loss': 0.0014509997388200472, 'hyperparameters': {'cb_buffer_size': 141557760.0, 'romio_cb_read': 'disable', 'romio_cb_write': 'enable', 'romio_ds_read': 'enable', 'romio_ds_write': 'enable', 'setstripe-count': 8.0, 'setstripe-size': 131072.0}, 'iteration': 3, 'iteration_time': 16.42815659288317, 'status': 'ok'}\n",
      " 15%|█▌        | 3/20 [00:46<04:15, 15.04s/it, best loss: 0.001395809779043312]"
     ]
    },
    {
     "name": "stderr",
     "output_type": "stream",
     "text": [
      "INFO:hyperopt.tpe:tpe_transform took 0.009912 seconds\n",
      "INFO:hyperopt.tpe:TPE using 3/3 trials with best loss 0.001396\n"
     ]
    },
    {
     "name": "stdout",
     "output_type": "stream",
     "text": [
      "rerun                                                                          \n",
      "{'mpi': {'romio_ds_read': 'enable', 'romio_ds_write': 'disable', 'romio_cb_read': 'enable', 'romio_cb_write': 'disable', 'cb_buffer_size': '423624704'}, 'lfs': {'setstripe': {'size': 1048576, 'count': 3}}}\n",
      "outputS3D-IO 200-200-400-2-2-4-1 606.73 1.91 3.22 753.38 5.72 7.78 0.04 0.19 1048576 3 enable disable enable disable 423624704 \n",
      "\n",
      "753.38                                                                         \n",
      "0.001327351403010433                                                           \n",
      "{'loss': 0.001327351403010433, 'hyperparameters': {'cb_buffer_size': 423624704.0, 'romio_cb_read': 'enable', 'romio_cb_write': 'disable', 'romio_ds_read': 'enable', 'romio_ds_write': 'disable', 'setstripe-count': 3.0, 'setstripe-size': 1048576.0}, 'iteration': 4, 'iteration_time': 15.674575096927583, 'status': 'ok'}\n",
      " 20%|██        | 4/20 [01:02<04:03, 15.24s/it, best loss: 0.001327351403010433]"
     ]
    },
    {
     "name": "stderr",
     "output_type": "stream",
     "text": [
      "INFO:hyperopt.tpe:tpe_transform took 0.010127 seconds\n",
      "INFO:hyperopt.tpe:TPE using 4/4 trials with best loss 0.001327\n"
     ]
    },
    {
     "name": "stdout",
     "output_type": "stream",
     "text": [
      "rerun                                                                          \n",
      "{'mpi': {'romio_ds_read': 'disable', 'romio_ds_write': 'disable', 'romio_cb_read': 'disable', 'romio_cb_write': 'disable', 'cb_buffer_size': '359661568'}, 'lfs': {'setstripe': {'size': 458752, 'count': 3}}}\n",
      "outputS3D-IO 200-200-400-2-2-4-1 109.34 1.91 17.87 723.90 5.72 8.09 0.03 0.09 458752 3 disable disable disable disable 359661568 \n",
      "\n",
      "723.9                                                                          \n",
      "0.001381406271584473                                                           \n",
      "{'loss': 0.001381406271584473, 'hyperparameters': {'cb_buffer_size': 359661568.0, 'romio_cb_read': 'disable', 'romio_cb_write': 'disable', 'romio_ds_read': 'disable', 'romio_ds_write': 'disable', 'setstripe-count': 3.0, 'setstripe-size': 458752.0}, 'iteration': 5, 'iteration_time': 30.577011886052787, 'status': 'ok'}\n",
      " 25%|██▌       | 5/20 [01:32<04:57, 19.85s/it, best loss: 0.001327351403010433]"
     ]
    },
    {
     "name": "stderr",
     "output_type": "stream",
     "text": [
      "INFO:hyperopt.tpe:tpe_transform took 0.009906 seconds\n",
      "INFO:hyperopt.tpe:TPE using 5/5 trials with best loss 0.001327\n"
     ]
    },
    {
     "name": "stdout",
     "output_type": "stream",
     "text": [
      "rerun                                                                          \n",
      "{'mpi': {'romio_ds_read': 'disable', 'romio_ds_write': 'enable', 'romio_cb_read': 'enable', 'romio_cb_write': 'disable', 'cb_buffer_size': '270532608'}, 'lfs': {'setstripe': {'size': 1048576, 'count': 19}}}\n",
      "outputS3D-IO 200-200-400-2-2-4-1 695.86 1.91 2.81 383.31 5.72 15.29 0.04 0.09 1048576 19 disable enable enable disable 270532608 \n",
      "\n",
      "383.31                                                                         \n",
      "0.0026088544520101223                                                          \n",
      "{'loss': 0.0026088544520101223, 'hyperparameters': {'cb_buffer_size': 270532608.0, 'romio_cb_read': 'enable', 'romio_cb_write': 'disable', 'romio_ds_read': 'disable', 'romio_ds_write': 'enable', 'setstripe-count': 19.0, 'setstripe-size': 1048576.0}, 'iteration': 6, 'iteration_time': 22.84776001702994, 'status': 'ok'}\n",
      " 30%|███       | 6/20 [01:55<04:50, 20.76s/it, best loss: 0.001327351403010433]"
     ]
    },
    {
     "name": "stderr",
     "output_type": "stream",
     "text": [
      "INFO:hyperopt.tpe:tpe_transform took 0.009919 seconds\n",
      "INFO:hyperopt.tpe:TPE using 6/6 trials with best loss 0.001327\n"
     ]
    },
    {
     "name": "stdout",
     "output_type": "stream",
     "text": [
      "rerun                                                                          \n",
      "{'mpi': {'romio_ds_read': 'enable', 'romio_ds_write': 'enable', 'romio_cb_read': 'enable', 'romio_cb_write': 'disable', 'cb_buffer_size': '173015040'}, 'lfs': {'setstripe': {'size': 393216, 'count': 10}}}\n",
      "outputS3D-IO 200-200-400-2-2-4-1 109.38 1.91 17.86 669.21 5.72 8.76 0.04 0.08 393216 10 enable enable enable disable 173015040 \n",
      "\n",
      "669.21                                                                         \n",
      "0.001494299248367478                                                           \n",
      "{'loss': 0.001494299248367478, 'hyperparameters': {'cb_buffer_size': 173015040.0, 'romio_cb_read': 'enable', 'romio_cb_write': 'disable', 'romio_ds_read': 'enable', 'romio_ds_write': 'enable', 'setstripe-count': 10.0, 'setstripe-size': 393216.0}, 'iteration': 7, 'iteration_time': 31.24831651803106, 'status': 'ok'}\n",
      " 35%|███▌      | 7/20 [02:27<05:10, 23.92s/it, best loss: 0.001327351403010433]"
     ]
    },
    {
     "name": "stderr",
     "output_type": "stream",
     "text": [
      "INFO:hyperopt.tpe:tpe_transform took 0.010478 seconds\n",
      "INFO:hyperopt.tpe:TPE using 7/7 trials with best loss 0.001327\n"
     ]
    },
    {
     "name": "stdout",
     "output_type": "stream",
     "text": [
      "rerun                                                                          \n",
      "{'mpi': {'romio_ds_read': 'disable', 'romio_ds_write': 'disable', 'romio_cb_read': 'disable', 'romio_cb_write': 'disable', 'cb_buffer_size': '131072000'}, 'lfs': {'setstripe': {'size': 131072, 'count': 13}}}\n",
      "outputS3D-IO 200-200-400-2-2-4-1 609.48 1.91 3.21 625.84 5.72 9.36 0.04 0.09 131072 13 disable disable disable disable 131072000 \n",
      "\n",
      "625.84                                                                         \n",
      "0.0015978524862584685                                                          \n",
      "{'loss': 0.0015978524862584685, 'hyperparameters': {'cb_buffer_size': 131072000.0, 'romio_cb_read': 'disable', 'romio_cb_write': 'disable', 'romio_ds_read': 'disable', 'romio_ds_write': 'disable', 'setstripe-count': 13.0, 'setstripe-size': 131072.0}, 'iteration': 8, 'iteration_time': 17.225619639270008, 'status': 'ok'}\n",
      " 40%|████      | 8/20 [02:44<04:23, 21.92s/it, best loss: 0.001327351403010433]"
     ]
    },
    {
     "name": "stderr",
     "output_type": "stream",
     "text": [
      "INFO:hyperopt.tpe:tpe_transform took 0.005182 seconds\n",
      "INFO:hyperopt.tpe:TPE using 8/8 trials with best loss 0.001327\n"
     ]
    },
    {
     "name": "stdout",
     "output_type": "stream",
     "text": [
      "rerun                                                                          \n",
      "{'mpi': {'romio_ds_read': 'disable', 'romio_ds_write': 'disable', 'romio_cb_read': 'disable', 'romio_cb_write': 'disable', 'cb_buffer_size': '301989888'}, 'lfs': {'setstripe': {'size': 655360, 'count': 17}}}\n",
      "outputS3D-IO 200-200-400-2-2-4-1 559.81 1.91 3.49 338.17 5.72 17.33 0.04 0.04 655360 17 disable disable disable disable 301989888 \n",
      "\n",
      "338.17                                                                         \n",
      "0.002957092586568885                                                           \n",
      "{'loss': 0.002957092586568885, 'hyperparameters': {'cb_buffer_size': 301989888.0, 'romio_cb_read': 'disable', 'romio_cb_write': 'disable', 'romio_ds_read': 'disable', 'romio_ds_write': 'disable', 'setstripe-count': 17.0, 'setstripe-size': 655360.0}, 'iteration': 9, 'iteration_time': 25.37408720422536, 'status': 'ok'}\n",
      " 45%|████▌     | 9/20 [03:09<04:12, 22.96s/it, best loss: 0.001327351403010433]"
     ]
    },
    {
     "name": "stderr",
     "output_type": "stream",
     "text": [
      "INFO:hyperopt.tpe:tpe_transform took 0.009998 seconds\n",
      "INFO:hyperopt.tpe:TPE using 9/9 trials with best loss 0.001327\n"
     ]
    },
    {
     "name": "stdout",
     "output_type": "stream",
     "text": [
      "rerun                                                                          \n",
      "{'mpi': {'romio_ds_read': 'disable', 'romio_ds_write': 'disable', 'romio_cb_read': 'enable', 'romio_cb_write': 'disable', 'cb_buffer_size': '93323264'}, 'lfs': {'setstripe': {'size': 262144, 'count': 14}}}\n",
      "outputS3D-IO 200-200-400-2-2-4-1 603.78 1.91 3.24 674.18 5.72 8.69 0.07 0.13 262144 14 disable disable enable disable 93323264 \n",
      "\n",
      "674.18                                                                         \n",
      "0.001483283396125664                                                           \n",
      "{'loss': 0.001483283396125664, 'hyperparameters': {'cb_buffer_size': 93323264.0, 'romio_cb_read': 'enable', 'romio_cb_write': 'disable', 'romio_ds_read': 'disable', 'romio_ds_write': 'disable', 'setstripe-count': 14.0, 'setstripe-size': 262144.0}, 'iteration': 10, 'iteration_time': 16.58751973323524, 'status': 'ok'}\n",
      " 50%|█████     | 10/20 [03:26<03:30, 21.06s/it, best loss: 0.001327351403010433]"
     ]
    },
    {
     "name": "stderr",
     "output_type": "stream",
     "text": [
      "INFO:hyperopt.tpe:tpe_transform took 0.012339 seconds\n",
      "INFO:hyperopt.tpe:TPE using 10/10 trials with best loss 0.001327\n"
     ]
    },
    {
     "name": "stdout",
     "output_type": "stream",
     "text": [
      "rerun                                                                           \n",
      "{'mpi': {'romio_ds_read': 'enable', 'romio_ds_write': 'disable', 'romio_cb_read': 'enable', 'romio_cb_write': 'disable', 'cb_buffer_size': '195035136'}, 'lfs': {'setstripe': {'size': 393216, 'count': 3}}}\n",
      "outputS3D-IO 200-200-400-2-2-4-1 592.57 1.91 3.30 752.76 5.72 7.78 0.04 0.11 393216 3 enable disable enable disable 195035136 \n",
      "\n",
      "752.76                                                                          \n",
      "0.0013284446569955897                                                           \n",
      "{'loss': 0.0013284446569955897, 'hyperparameters': {'cb_buffer_size': 195035136.0, 'romio_cb_read': 'enable', 'romio_cb_write': 'disable', 'romio_ds_read': 'enable', 'romio_ds_write': 'disable', 'setstripe-count': 3.0, 'setstripe-size': 393216.0}, 'iteration': 11, 'iteration_time': 17.627801725640893, 'status': 'ok'}\n",
      " 55%|█████▌    | 11/20 [03:43<03:00, 20.04s/it, best loss: 0.001327351403010433]"
     ]
    },
    {
     "name": "stderr",
     "output_type": "stream",
     "text": [
      "INFO:hyperopt.tpe:tpe_transform took 0.009768 seconds\n",
      "INFO:hyperopt.tpe:TPE using 11/11 trials with best loss 0.001327\n"
     ]
    },
    {
     "name": "stdout",
     "output_type": "stream",
     "text": [
      "rerun                                                                           \n",
      "{'mpi': {'romio_ds_read': 'enable', 'romio_ds_write': 'enable', 'romio_cb_read': 'disable', 'romio_cb_write': 'disable', 'cb_buffer_size': '320864256'}, 'lfs': {'setstripe': {'size': 327680, 'count': 3}}}\n",
      "outputS3D-IO 200-200-400-2-2-4-1 634.33 1.91 3.08 660.26 5.72 8.87 0.08 0.12 327680 3 enable enable disable disable 320864256 \n",
      "\n",
      "660.26                                                                          \n",
      "0.0015145548723230243                                                           \n",
      "{'loss': 0.0015145548723230243, 'hyperparameters': {'cb_buffer_size': 320864256.0, 'romio_cb_read': 'disable', 'romio_cb_write': 'disable', 'romio_ds_read': 'enable', 'romio_ds_write': 'enable', 'setstripe-count': 3.0, 'setstripe-size': 327680.0}, 'iteration': 12, 'iteration_time': 16.593609840609133, 'status': 'ok'}\n",
      " 60%|██████    | 12/20 [04:00<02:32, 19.01s/it, best loss: 0.001327351403010433]"
     ]
    },
    {
     "name": "stderr",
     "output_type": "stream",
     "text": [
      "INFO:hyperopt.tpe:tpe_transform took 0.009869 seconds\n",
      "INFO:hyperopt.tpe:TPE using 12/12 trials with best loss 0.001327\n"
     ]
    },
    {
     "name": "stdout",
     "output_type": "stream",
     "text": [
      "rerun                                                                           \n",
      "{'mpi': {'romio_ds_read': 'enable', 'romio_ds_write': 'disable', 'romio_cb_read': 'enable', 'romio_cb_write': 'disable', 'cb_buffer_size': '384827392'}, 'lfs': {'setstripe': {'size': 65536, 'count': 17}}}\n",
      " 60%|██████    | 12/20 [04:00<02:32, 19.01s/it, best loss: 0.001327351403010433]"
     ]
    }
   ],
   "source": [
    "from hyperopt import fmin\n",
    "\n",
    "\n",
    "ITERATION = 0\n",
    "\n",
    "best = fmin(fn = objective, space = space, algo = tpe.suggest, trials = bayes_trials, max_evals = MAX_EVALS)"
   ]
  },
  {
   "cell_type": "code",
   "execution_count": 180,
   "metadata": {},
   "outputs": [
    {
     "name": "stdout",
     "output_type": "stream",
     "text": [
      "{'cb_buffer_size': 404.0, 'romio_cb_read': 0, 'romio_cb_write': 1, 'romio_ds_read': 1, 'romio_ds_write': 0, 'setstripe-count': 10.0, 'setstripe-size': 10.0}\n"
     ]
    }
   ],
   "source": [
    "print(best)\n",
    "d=  best\n",
    "#print(bayes_trials.results)\n",
    "bayes_trials_results = sorted(bayes_trials.results, key = lambda x: x['loss'])\n",
    "#bayes_trials_results[:1]"
   ]
  },
  {
   "cell_type": "code",
   "execution_count": 181,
   "metadata": {},
   "outputs": [
    {
     "data": {
      "text/html": [
       "<div>\n",
       "<style scoped>\n",
       "    .dataframe tbody tr th:only-of-type {\n",
       "        vertical-align: middle;\n",
       "    }\n",
       "\n",
       "    .dataframe tbody tr th {\n",
       "        vertical-align: top;\n",
       "    }\n",
       "\n",
       "    .dataframe thead th {\n",
       "        text-align: right;\n",
       "    }\n",
       "</style>\n",
       "<table border=\"1\" class=\"dataframe\">\n",
       "  <thead>\n",
       "    <tr style=\"text-align: right;\">\n",
       "      <th></th>\n",
       "      <th>loss</th>\n",
       "      <th>params</th>\n",
       "      <th>iteration</th>\n",
       "      <th>train_time</th>\n",
       "    </tr>\n",
       "  </thead>\n",
       "  <tbody>\n",
       "    <tr>\n",
       "      <th>0</th>\n",
       "      <td>0.001474</td>\n",
       "      <td>{'cb_buffer_size': 423624704.0, 'romio_cb_read...</td>\n",
       "      <td>7</td>\n",
       "      <td>16.947673</td>\n",
       "    </tr>\n",
       "    <tr>\n",
       "      <th>1</th>\n",
       "      <td>0.001719</td>\n",
       "      <td>{'cb_buffer_size': 376438784.0, 'romio_cb_read...</td>\n",
       "      <td>5</td>\n",
       "      <td>18.111392</td>\n",
       "    </tr>\n",
       "    <tr>\n",
       "      <th>2</th>\n",
       "      <td>0.001556</td>\n",
       "      <td>{'cb_buffer_size': 455081984.0, 'romio_cb_read...</td>\n",
       "      <td>11</td>\n",
       "      <td>18.322661</td>\n",
       "    </tr>\n",
       "    <tr>\n",
       "      <th>3</th>\n",
       "      <td>0.001713</td>\n",
       "      <td>{'cb_buffer_size': 31457280.0, 'romio_cb_read'...</td>\n",
       "      <td>4</td>\n",
       "      <td>18.605086</td>\n",
       "    </tr>\n",
       "    <tr>\n",
       "      <th>4</th>\n",
       "      <td>0.001785</td>\n",
       "      <td>{'cb_buffer_size': 392167424.0, 'romio_cb_read...</td>\n",
       "      <td>10</td>\n",
       "      <td>19.397235</td>\n",
       "    </tr>\n",
       "  </tbody>\n",
       "</table>\n",
       "</div>"
      ],
      "text/plain": [
       "       loss                                             params  iteration  \\\n",
       "0  0.001474  {'cb_buffer_size': 423624704.0, 'romio_cb_read...          7   \n",
       "1  0.001719  {'cb_buffer_size': 376438784.0, 'romio_cb_read...          5   \n",
       "2  0.001556  {'cb_buffer_size': 455081984.0, 'romio_cb_read...         11   \n",
       "3  0.001713  {'cb_buffer_size': 31457280.0, 'romio_cb_read'...          4   \n",
       "4  0.001785  {'cb_buffer_size': 392167424.0, 'romio_cb_read...         10   \n",
       "\n",
       "   train_time  \n",
       "0   16.947673  \n",
       "1   18.111392  \n",
       "2   18.322661  \n",
       "3   18.605086  \n",
       "4   19.397235  "
      ]
     },
     "execution_count": 181,
     "metadata": {},
     "output_type": "execute_result"
    }
   ],
   "source": [
    "results = pd.read_csv(out_file)\n",
    "\n",
    "# Sort with best scores on top and reset index for slicing\n",
    "results.sort_values('train_time', ascending = True, inplace = True)\n",
    "results.reset_index(inplace = True, drop = True)\n",
    "results.head()\n"
   ]
  },
  {
   "cell_type": "code",
   "execution_count": 182,
   "metadata": {},
   "outputs": [
    {
     "name": "stdout",
     "output_type": "stream",
     "text": [
      "{'cb_buffer_size': 423624704.0, 'romio_cb_read': 'enable', 'romio_cb_write': 'disable', 'romio_ds_read': 'disable', 'romio_ds_write': 'enable', 'setstripe-count': 10.0, 'setstripe-size': 655360.0}\n"
     ]
    }
   ],
   "source": [
    "import ast\n",
    "\n",
    "# Convert from a string to a dictionary\n",
    "ast.literal_eval(results.loc[0, 'params'])\n",
    "best_bayes_params = ast.literal_eval(results.loc[0, 'params']).copy()\n",
    "print(best_bayes_params)"
   ]
  },
  {
   "cell_type": "code",
   "execution_count": 183,
   "metadata": {},
   "outputs": [
    {
     "data": {
      "text/html": [
       "<div>\n",
       "<style scoped>\n",
       "    .dataframe tbody tr th:only-of-type {\n",
       "        vertical-align: middle;\n",
       "    }\n",
       "\n",
       "    .dataframe tbody tr th {\n",
       "        vertical-align: top;\n",
       "    }\n",
       "\n",
       "    .dataframe thead th {\n",
       "        text-align: right;\n",
       "    }\n",
       "</style>\n",
       "<table border=\"1\" class=\"dataframe\">\n",
       "  <thead>\n",
       "    <tr style=\"text-align: right;\">\n",
       "      <th></th>\n",
       "      <th>cb_buffer_size</th>\n",
       "      <th>romio_cb_read</th>\n",
       "      <th>romio_cb_write</th>\n",
       "      <th>romio_ds_read</th>\n",
       "      <th>romio_ds_write</th>\n",
       "      <th>setstripe-count</th>\n",
       "      <th>setstripe-size</th>\n",
       "      <th>train_time</th>\n",
       "      <th>loss</th>\n",
       "      <th>iteration</th>\n",
       "    </tr>\n",
       "  </thead>\n",
       "  <tbody>\n",
       "    <tr>\n",
       "      <th>0</th>\n",
       "      <td>4.23625e+08</td>\n",
       "      <td>enable</td>\n",
       "      <td>disable</td>\n",
       "      <td>disable</td>\n",
       "      <td>enable</td>\n",
       "      <td>10</td>\n",
       "      <td>655360</td>\n",
       "      <td>16.947673</td>\n",
       "      <td>0.001474</td>\n",
       "      <td>7</td>\n",
       "    </tr>\n",
       "    <tr>\n",
       "      <th>1</th>\n",
       "      <td>3.76439e+08</td>\n",
       "      <td>disable</td>\n",
       "      <td>disable</td>\n",
       "      <td>enable</td>\n",
       "      <td>disable</td>\n",
       "      <td>14</td>\n",
       "      <td>262144</td>\n",
       "      <td>18.111392</td>\n",
       "      <td>0.001719</td>\n",
       "      <td>5</td>\n",
       "    </tr>\n",
       "    <tr>\n",
       "      <th>2</th>\n",
       "      <td>4.55082e+08</td>\n",
       "      <td>disable</td>\n",
       "      <td>disable</td>\n",
       "      <td>disable</td>\n",
       "      <td>enable</td>\n",
       "      <td>4</td>\n",
       "      <td>65536</td>\n",
       "      <td>18.322661</td>\n",
       "      <td>0.001556</td>\n",
       "      <td>11</td>\n",
       "    </tr>\n",
       "    <tr>\n",
       "      <th>3</th>\n",
       "      <td>3.14573e+07</td>\n",
       "      <td>disable</td>\n",
       "      <td>enable</td>\n",
       "      <td>enable</td>\n",
       "      <td>disable</td>\n",
       "      <td>6</td>\n",
       "      <td>262144</td>\n",
       "      <td>18.605086</td>\n",
       "      <td>0.001713</td>\n",
       "      <td>4</td>\n",
       "    </tr>\n",
       "    <tr>\n",
       "      <th>4</th>\n",
       "      <td>3.92167e+08</td>\n",
       "      <td>enable</td>\n",
       "      <td>disable</td>\n",
       "      <td>enable</td>\n",
       "      <td>disable</td>\n",
       "      <td>14</td>\n",
       "      <td>131072</td>\n",
       "      <td>19.397235</td>\n",
       "      <td>0.001785</td>\n",
       "      <td>10</td>\n",
       "    </tr>\n",
       "  </tbody>\n",
       "</table>\n",
       "</div>"
      ],
      "text/plain": [
       "  cb_buffer_size romio_cb_read romio_cb_write romio_ds_read romio_ds_write  \\\n",
       "0    4.23625e+08        enable        disable       disable         enable   \n",
       "1    3.76439e+08       disable        disable        enable        disable   \n",
       "2    4.55082e+08       disable        disable       disable         enable   \n",
       "3    3.14573e+07       disable         enable        enable        disable   \n",
       "4    3.92167e+08        enable        disable        enable        disable   \n",
       "\n",
       "  setstripe-count setstripe-size  train_time      loss  iteration  \n",
       "0              10         655360   16.947673  0.001474          7  \n",
       "1              14         262144   18.111392  0.001719          5  \n",
       "2               4          65536   18.322661  0.001556         11  \n",
       "3               6         262144   18.605086  0.001713          4  \n",
       "4              14         131072   19.397235  0.001785         10  "
      ]
     },
     "execution_count": 183,
     "metadata": {},
     "output_type": "execute_result"
    }
   ],
   "source": [
    "bayes_params = pd.DataFrame(columns = list(ast.literal_eval(results.loc[0, 'params']).keys()),\n",
    "                            index = list(range(len(results))))\n",
    "\n",
    "# Add the results with each parameter a different column\n",
    "for i, params in enumerate(results['params']):\n",
    "    bayes_params.loc[i, :] = list(ast.literal_eval(params).values())\n",
    "bayes_params['train_time'] = results['train_time']    \n",
    "bayes_params['loss'] = results['loss']\n",
    "bayes_params['iteration'] = results['iteration']\n",
    "\n",
    "bayes_params.head()"
   ]
  },
  {
   "cell_type": "code",
   "execution_count": 184,
   "metadata": {},
   "outputs": [
    {
     "name": "stderr",
     "output_type": "stream",
     "text": [
      "DEBUG:matplotlib.axes._base:update_title_pos\n",
      "DEBUG:matplotlib.axes._base:update_title_pos\n",
      "DEBUG:matplotlib.axes._base:update_title_pos\n",
      "DEBUG:matplotlib.axes._base:update_title_pos\n",
      "DEBUG:matplotlib.axes._base:update_title_pos\n"
     ]
    },
    {
     "data": {
      "image/png": "[encoded data removed]",
      "text/plain": [
       "<Figure size 1440x576 with 1 Axes>"
      ]
     },
     "metadata": {
      "needs_background": "light"
     },
     "output_type": "display_data"
    }
   ],
   "source": [
    "plt.figure(figsize = (20, 8))\n",
    "plt.rcParams['font.size'] = 18\n",
    "\n",
    "# Density plots of the learning rate distributions \n",
    "sns.kdeplot(bayes_params['loss'], label = 'Loss Variation', linewidth = 2)\n",
    "plt.legend()\n",
    "plt.xlabel('Loss'); plt.ylabel('Density'); plt.title('Loss Distribution');\n"
   ]
  },
  {
   "cell_type": "code",
   "execution_count": 185,
   "metadata": {},
   "outputs": [
    {
     "name": "stderr",
     "output_type": "stream",
     "text": [
      "DEBUG:matplotlib.axes._base:update_title_pos\n",
      "DEBUG:matplotlib.axes._base:update_title_pos\n",
      "DEBUG:matplotlib.axes._base:update_title_pos\n",
      "DEBUG:matplotlib.axes._base:update_title_pos\n",
      "DEBUG:matplotlib.axes._base:update_title_pos\n"
     ]
    },
    {
     "data": {
      "image/png": "[encoded data removed]",
      "text/plain": [
       "<Figure size 1440x576 with 1 Axes>"
      ]
     },
     "metadata": {
      "needs_background": "light"
     },
     "output_type": "display_data"
    }
   ],
   "source": [
    "plt.figure(figsize = (20, 8))\n",
    "plt.rcParams['font.size'] = 18\n",
    "cb_buffer_size_dist_now = []\n",
    "for _ in range(1000):\n",
    "    cb_buffer_size_dist_now.append(sample(space)['cb_buffer_size'])\n",
    "# Density plots of the learning rate distributions \n",
    "sns.kdeplot(bayes_params['cb_buffer_size'], label = 'cb_buffer_size', linewidth = 2)\n",
    "sns.kdeplot(cb_buffer_size_dist,color=\"red\",linewidth=2)\n",
    "sns.kdeplot(cb_buffer_size_dist_now,color=\"green\",linewidth=2)\n",
    "plt.legend()\n",
    "plt.xlabel('cb_buffer_size'); plt.ylabel('Density'); plt.title('cb_buffer_size Distribution');"
   ]
  },
  {
   "cell_type": "code",
   "execution_count": null,
   "metadata": {},
   "outputs": [],
   "source": []
  },
  {
   "cell_type": "code",
   "execution_count": null,
   "metadata": {},
   "outputs": [],
   "source": []
  }
 ],
 "metadata": {
  "kernelspec": {
   "display_name": "Python 3",
   "language": "python",
   "name": "python3"
  },
  "language_info": {
   "codemirror_mode": {
    "name": "ipython",
    "version": 3
   },
   "file_extension": ".py",
   "mimetype": "text/x-python",
   "name": "python",
   "nbconvert_exporter": "python",
   "pygments_lexer": "ipython3",
   "version": "3.6.7"
  }
 },
 "nbformat": 4,
 "nbformat_minor": 2
}
