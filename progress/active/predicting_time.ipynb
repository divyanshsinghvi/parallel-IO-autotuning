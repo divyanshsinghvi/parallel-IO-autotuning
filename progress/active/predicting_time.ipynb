{
 "cells": [
  {
   "cell_type": "code",
   "execution_count": 15,
   "metadata": {},
   "outputs": [],
   "source": [
    "import numpy as np\n",
    "import matplotlib.pyplot as plt\n",
    "from sklearn import preprocessing\n",
    "from sklearn.datasets import make_circles\n",
    "from sklearn.ensemble import RandomTreesEmbedding, ExtraTreesClassifier\n",
    "from sklearn.decomposition import TruncatedSVD\n",
    "from sklearn.naive_bayes import BernoulliNB\n",
    "import pickle\n",
    "from sklearn.externals import joblib\n"
   ]
  },
  {
   "cell_type": "code",
   "execution_count": 16,
   "metadata": {},
   "outputs": [
    {
     "name": "stdout",
     "output_type": "stream",
     "text": [
      "/home/dsinghvi/sem8/parallel/project/CS633-2018-19-2-project/progress/active\n",
      "   S3D-IO    50-50-100-2-2-4-1    0.00  0.00.1  0.00.2     2.14   0.15  71.19  \\\n",
      "0  S3D-IO   50-100-100-2-2-4-1  325.28    0.06    0.19   359.09   0.30   0.85   \n",
      "1  S3D-IO  200-400-400-2-4-4-1    0.00    0.00    0.00  1086.34  19.07  17.98   \n",
      "2  S3D-IO  100-400-400-2-4-4-1  977.33    1.91    2.00   783.88   5.72   7.47   \n",
      "3  S3D-IO   50-100-100-2-2-4-1  448.82    0.06    0.14   394.71   0.30   0.77   \n",
      "4  S3D-IO     50-50-50-2-2-2-1   73.56    0.02    0.21   354.61   0.04   0.13   \n",
      "\n",
      "   0.06  0.01   1048576   1  disable disable.1 disable.2 disable.3       1024  \n",
      "0  0.05  0.02    131072   3  disable   disable    enable   disable  255852544  \n",
      "1  0.09  0.11    131072  13  disable   disable    enable   disable  557842432  \n",
      "2  0.05  0.19  14680064  10  disable   disable    enable   disable  519045120  \n",
      "3  0.06  0.03     65536   2  disable   disable   disable   disable  838860800  \n",
      "4  0.04  0.01    327680   2  disable    enable   disable   disable  482344960  \n",
      "(1141, 17)\n",
      "0     [50, 100, 100, 2, 2, 4, 1]\n",
      "1    [200, 400, 400, 2, 4, 4, 1]\n",
      "2    [100, 400, 400, 2, 4, 4, 1]\n",
      "3     [50, 100, 100, 2, 2, 4, 1]\n",
      "4       [50, 50, 50, 2, 2, 2, 1]\n",
      "Name: col2, dtype: object\n"
     ]
    }
   ],
   "source": [
    "import pandas as pd\n",
    "import os \n",
    "print(os.getcwd())\n",
    "data = pd.read_csv('../stats.txt', delim_whitespace=True)\n",
    "data = data.sample(frac=1).reset_index(drop=True)\n",
    "modelfile = 'final.sav'\n",
    "\n",
    "\n",
    "array = data.values\n",
    "\n",
    "print(data.head())\n",
    "print(data.shape)\n",
    "data.columns=['col1','col2','col3','col4','col5','col6','col7','col8','col9','col10','col11','col12','col13','col14','col15','col16','col17']\n",
    "#data['x'],data['y'],data['z'],data['nx'],data['ny']=data['col2'].str.split('-')\n",
    "z = data['col2'].str.split('-')\n",
    "print(z.head())\n",
    "data['col13']=data['col13'].eq(\"enable\").mul(1)\n",
    "data['col14']=data['col14'].eq(\"enable\").mul(1)\n",
    "data['col15']=data['col15'].eq(\"enable\").mul(1)\n",
    "data['col16']=data['col16'].eq(\"enable\").mul(1)"
   ]
  },
  {
   "cell_type": "code",
   "execution_count": 20,
   "metadata": {},
   "outputs": [
    {
     "name": "stdout",
     "output_type": "stream",
     "text": [
      "<class 'pandas.core.frame.DataFrame'>\n",
      "         0         1         2    3    4         5         6         7   \\\n",
      "0  0.000000  0.142857  0.066667  0.0  0.0  0.333333  0.000109  0.006186   \n",
      "1  0.428571  1.000000  0.466667  0.0  1.0  0.333333  0.000109  0.026804   \n",
      "2  0.142857  1.000000  0.466667  0.0  1.0  0.333333  0.012260  0.020619   \n",
      "3  0.000000  0.142857  0.066667  0.0  0.0  0.333333  0.000055  0.004124   \n",
      "4  0.000000  0.000000  0.000000  0.0  0.0  0.000000  0.000274  0.004124   \n",
      "\n",
      "         8         9         10        11  \n",
      "0  0.238469  0.000000  0.142857  0.000000  \n",
      "1  0.521099  0.428571  0.428571  0.428571  \n",
      "2  0.484789  0.142857  0.428571  0.428571  \n",
      "3  0.784102  0.000000  0.142857  0.000000  \n",
      "4  0.450442  0.000000  0.000000  0.000000  \n"
     ]
    },
    {
     "name": "stderr",
     "output_type": "stream",
     "text": [
      "/usr/local/lib/python3.6/dist-packages/sklearn/utils/validation.py:475: DataConversionWarning: Data with input dtype object was converted to float64 by MinMaxScaler.\n",
      "  warnings.warn(msg, DataConversionWarning)\n"
     ]
    }
   ],
   "source": [
    "\n",
    "\n",
    "X_temp = pd.DataFrame() #creates a new dataframe that's empty\n",
    "X = pd.DataFrame(z.tolist())\n",
    "X = X.drop(6, 1)\n",
    "\n",
    "\n",
    "X_temp['cb1']=data['col11']\n",
    "X_temp['cb2']=data['col12']\n",
    "#X['cb3']=data['col13']\n",
    "#X['cb4']=data['col14']\n",
    "#X['cb5']=data['col15']\n",
    "#X['cb6']=data['col16']\n",
    "X_temp['cb7']=data['col17']\n",
    "\n",
    "#temp = X_temp.values #returns a numpy array\n",
    "#min_max_scaler = preprocessing.MinMaxScaler()\n",
    "#x_scaled = min_max_scaler.fit_transform(temp)\n",
    "#X_temp = pd.DataFrame(x_scaled)\n",
    "X =pd.concat([X, X_temp], axis=1)\n",
    "X['ratio1'] = X.iloc[:,0].astype(int)/(X.iloc[:,3].astype(int)*100)\n",
    "X['ratio2'] = X.iloc[:,1].astype(int)/(X.iloc[:,4].astype(int)*100)\n",
    "X['ratio3'] = X.iloc[:,2].astype(int)/(X.iloc[:,5].astype(int)*100)\n",
    "X_scaled = min_max_scaler.fit_transform(X.values)\n",
    "X = pd.DataFrame(X_scaled)\n",
    "print(type(X))\n",
    "print(X.head())\n",
    "i=0\n",
    "\n",
    "for _ in X.columns:\n",
    "    if(i == 0):\n",
    "        continue\n",
    "    X.iloc[:,i].astype(int)\n",
    "    print(i)\n",
    "    i=i+1 \n",
    "\n",
    "#pd.options.display.max_rows=  1500\n",
    "#print(X.iloc[:,0])\n",
    "\n"
   ]
  },
  {
   "cell_type": "code",
   "execution_count": 18,
   "metadata": {},
   "outputs": [
    {
     "name": "stdout",
     "output_type": "stream",
     "text": [
      "<class 'pandas.core.frame.DataFrame'>\n",
      "          0         1         2    3    4         5         0         1  \\\n",
      "0  0.000000  0.142857  0.066667  0.0  0.0  0.333333  0.000109  0.006186   \n",
      "1  0.428571  1.000000  0.466667  0.0  1.0  0.333333  0.000109  0.026804   \n",
      "2  0.142857  1.000000  0.466667  0.0  1.0  0.333333  0.012260  0.020619   \n",
      "3  0.000000  0.142857  0.066667  0.0  0.0  0.333333  0.000055  0.004124   \n",
      "5  0.428571  1.000000  0.466667  0.0  0.0  0.333333  0.000164  0.032990   \n",
      "\n",
      "          2  ratio1    ratio2  ratio3  \n",
      "0  0.238469     NaN       NaN     NaN  \n",
      "1  0.521099     NaN  0.010000     NaN  \n",
      "2  0.484789     NaN  0.010000     NaN  \n",
      "3  0.784102     NaN       NaN     NaN  \n",
      "5  0.033366     NaN       inf     NaN  \n",
      "<class 'pandas.core.frame.DataFrame'>\n",
      "(907,) (907, 12)\n",
      "[ 35909 108633  78388  39471  60076]\n"
     ]
    }
   ],
   "source": [
    "Y = data['col6']\n",
    "Y=Y.values\n",
    "Y = Y*100\n",
    "Y = Y.astype(int)\n",
    "\n",
    "\n",
    "msk = np.random.rand(len(X)) < 0.8\n",
    "train_X = X[msk]\n",
    "test_X = X[~msk]\n",
    "train_Y = Y[msk]\n",
    "test_Y = Y[~msk]\n",
    "print(type(train_X))\n",
    "\n",
    "y = train_Y\n",
    "X = train_X\n",
    "#X = train_X.astype(int)\n",
    "\n",
    "\n",
    "print(X[0:5])\n",
    "print(type(X))\n",
    "\n",
    "print(y.shape, X.shape)\n",
    "print(y[0:5])\n",
    "\n"
   ]
  },
  {
   "cell_type": "code",
   "execution_count": 5,
   "metadata": {},
   "outputs": [
    {
     "data": {
      "text/plain": [
       "<886x75 sparse matrix of type '<class 'numpy.float64'>'\n",
       "\twith 8860 stored elements in Compressed Sparse Row format>"
      ]
     },
     "execution_count": 5,
     "metadata": {},
     "output_type": "execute_result"
    }
   ],
   "source": [
    "hasher = RandomTreesEmbedding(n_estimators=10, random_state=0, max_depth=3)\n",
    "X_transformed = hasher.fit_transform(X)\n",
    "X_transformed"
   ]
  },
  {
   "cell_type": "code",
   "execution_count": 6,
   "metadata": {},
   "outputs": [],
   "source": [
    "svd = TruncatedSVD(n_components=2)\n",
    "X_reduced = svd.fit_transform(X_transformed)\n"
   ]
  },
  {
   "cell_type": "code",
   "execution_count": 7,
   "metadata": {},
   "outputs": [
    {
     "data": {
      "text/plain": [
       "BernoulliNB(alpha=1.0, binarize=0.0, class_prior=None, fit_prior=True)"
      ]
     },
     "execution_count": 7,
     "metadata": {},
     "output_type": "execute_result"
    }
   ],
   "source": [
    "nb = BernoulliNB()\n",
    "nb.fit(X_transformed, y)\n"
   ]
  },
  {
   "cell_type": "code",
   "execution_count": 8,
   "metadata": {},
   "outputs": [
    {
     "data": {
      "text/plain": [
       "ExtraTreesClassifier(bootstrap=False, class_weight=None, criterion='gini',\n",
       "           max_depth=1000, max_features='auto', max_leaf_nodes=None,\n",
       "           min_impurity_decrease=0.0, min_impurity_split=None,\n",
       "           min_samples_leaf=1, min_samples_split=2,\n",
       "           min_weight_fraction_leaf=0.0, n_estimators=300, n_jobs=1,\n",
       "           oob_score=False, random_state=0, verbose=0, warm_start=False)"
      ]
     },
     "execution_count": 8,
     "metadata": {},
     "output_type": "execute_result"
    }
   ],
   "source": [
    "trees = ExtraTreesClassifier(max_depth=1000, n_estimators=300, random_state=0)\n",
    "trees.fit(X, y)\n",
    "\n"
   ]
  },
  {
   "cell_type": "code",
   "execution_count": 9,
   "metadata": {},
   "outputs": [
    {
     "name": "stdout",
     "output_type": "stream",
     "text": [
      "     0    1    2  3  4  5         0         1         2  ratio1  ratio2  \\\n",
      "0  100  200  400  2  4  4  0.011111  0.004124  0.053974     0.5     0.5   \n",
      "\n",
      "   ratio3  \n",
      "0     1.0  \n",
      "(255, 12)\n"
     ]
    },
    {
     "data": {
      "text/plain": [
       "array([66594])"
      ]
     },
     "execution_count": 9,
     "metadata": {},
     "output_type": "execute_result"
    }
   ],
   "source": [
    "print(test_X.head(1))\n",
    "print(test_X.shape)\n",
    "trees.predict(test_X.head(1))"
   ]
  },
  {
   "cell_type": "code",
   "execution_count": 10,
   "metadata": {},
   "outputs": [
    {
     "data": {
      "text/plain": [
       "0.7928303033386507"
      ]
     },
     "execution_count": 10,
     "metadata": {},
     "output_type": "execute_result"
    }
   ],
   "source": [
    "predicted = trees.predict(test_X)\n",
    "#print(test_Y)\n",
    "from sklearn.metrics import r2_score\n",
    "r2_score(test_Y,predicted)"
   ]
  },
  {
   "cell_type": "code",
   "execution_count": 11,
   "metadata": {},
   "outputs": [
    {
     "data": {
      "image/png": "[encoded data removed]",
      "text/plain": [
       "<Figure size 432x288 with 1 Axes>"
      ]
     },
     "metadata": {},
     "output_type": "display_data"
    }
   ],
   "source": [
    "fig, ax = plt.subplots()\n",
    "ax.scatter(test_Y, predicted)\n",
    "ax.plot([test_Y.min(), test_Y.max()], [test_Y.min(), test_Y.max()], 'k--', lw=4)\n",
    "ax.set_xlabel('Measured')\n",
    "ax.set_ylabel('Predicted')\n",
    "plt.show()"
   ]
  },
  {
   "cell_type": "code",
   "execution_count": 12,
   "metadata": {},
   "outputs": [
    {
     "data": {
      "text/plain": [
       "['scaler.save']"
      ]
     },
     "execution_count": 12,
     "metadata": {},
     "output_type": "execute_result"
    }
   ],
   "source": [
    "# save the model to disk\n",
    "\n",
    "modelfile = 'final.sav'\n",
    "pickle.dump(trees, open(modelfile, 'wb'))\n",
    "scaler_filename = \"scaler.save\"\n",
    "joblib.dump(min_max_scaler, scaler_filename) \n"
   ]
  },
  {
   "cell_type": "code",
   "execution_count": 13,
   "metadata": {},
   "outputs": [
    {
     "ename": "ValueError",
     "evalue": "could not convert string to float: 'enable'",
     "output_type": "error",
     "traceback": [
      "\u001b[0;31m---------------------------------------------------------------------------\u001b[0m",
      "\u001b[0;31mValueError\u001b[0m                                Traceback (most recent call last)",
      "\u001b[0;32m<ipython-input-13-5a5ee814b9c4>\u001b[0m in \u001b[0;36m<module>\u001b[0;34m()\u001b[0m\n\u001b[1;32m     18\u001b[0m \u001b[0mscaler_filename\u001b[0m \u001b[0;34m=\u001b[0m \u001b[0;34m\"scaler.save\"\u001b[0m\u001b[0;34m\u001b[0m\u001b[0;34m\u001b[0m\u001b[0m\n\u001b[1;32m     19\u001b[0m \u001b[0mscaler\u001b[0m \u001b[0;34m=\u001b[0m \u001b[0mjoblib\u001b[0m\u001b[0;34m.\u001b[0m\u001b[0mload\u001b[0m\u001b[0;34m(\u001b[0m\u001b[0mscaler_filename\u001b[0m\u001b[0;34m)\u001b[0m\u001b[0;34m\u001b[0m\u001b[0;34m\u001b[0m\u001b[0m\n\u001b[0;32m---> 20\u001b[0;31m \u001b[0mnorm_df\u001b[0m \u001b[0;34m=\u001b[0m \u001b[0mscaler\u001b[0m\u001b[0;34m.\u001b[0m\u001b[0mtransform\u001b[0m\u001b[0;34m(\u001b[0m \u001b[0mcb_df\u001b[0m \u001b[0;34m)\u001b[0m\u001b[0;34m\u001b[0m\u001b[0;34m\u001b[0m\u001b[0m\n\u001b[0m\u001b[1;32m     21\u001b[0m \u001b[0mtemp\u001b[0m \u001b[0;34m=\u001b[0m \u001b[0mpd\u001b[0m\u001b[0;34m.\u001b[0m\u001b[0mDataFrame\u001b[0m\u001b[0;34m(\u001b[0m\u001b[0mnorm_df\u001b[0m\u001b[0;34m)\u001b[0m\u001b[0;34m\u001b[0m\u001b[0;34m\u001b[0m\u001b[0m\n\u001b[1;32m     22\u001b[0m \u001b[0;34m\u001b[0m\u001b[0m\n",
      "\u001b[0;32m/usr/local/lib/python3.6/dist-packages/sklearn/preprocessing/data.py\u001b[0m in \u001b[0;36mtransform\u001b[0;34m(self, X)\u001b[0m\n\u001b[1;32m    365\u001b[0m         \u001b[0mcheck_is_fitted\u001b[0m\u001b[0;34m(\u001b[0m\u001b[0mself\u001b[0m\u001b[0;34m,\u001b[0m \u001b[0;34m'scale_'\u001b[0m\u001b[0;34m)\u001b[0m\u001b[0;34m\u001b[0m\u001b[0;34m\u001b[0m\u001b[0m\n\u001b[1;32m    366\u001b[0m \u001b[0;34m\u001b[0m\u001b[0m\n\u001b[0;32m--> 367\u001b[0;31m         \u001b[0mX\u001b[0m \u001b[0;34m=\u001b[0m \u001b[0mcheck_array\u001b[0m\u001b[0;34m(\u001b[0m\u001b[0mX\u001b[0m\u001b[0;34m,\u001b[0m \u001b[0mcopy\u001b[0m\u001b[0;34m=\u001b[0m\u001b[0mself\u001b[0m\u001b[0;34m.\u001b[0m\u001b[0mcopy\u001b[0m\u001b[0;34m,\u001b[0m \u001b[0mdtype\u001b[0m\u001b[0;34m=\u001b[0m\u001b[0mFLOAT_DTYPES\u001b[0m\u001b[0;34m)\u001b[0m\u001b[0;34m\u001b[0m\u001b[0;34m\u001b[0m\u001b[0m\n\u001b[0m\u001b[1;32m    368\u001b[0m \u001b[0;34m\u001b[0m\u001b[0m\n\u001b[1;32m    369\u001b[0m         \u001b[0mX\u001b[0m \u001b[0;34m*=\u001b[0m \u001b[0mself\u001b[0m\u001b[0;34m.\u001b[0m\u001b[0mscale_\u001b[0m\u001b[0;34m\u001b[0m\u001b[0;34m\u001b[0m\u001b[0m\n",
      "\u001b[0;32m/usr/local/lib/python3.6/dist-packages/sklearn/utils/validation.py\u001b[0m in \u001b[0;36mcheck_array\u001b[0;34m(array, accept_sparse, dtype, order, copy, force_all_finite, ensure_2d, allow_nd, ensure_min_samples, ensure_min_features, warn_on_dtype, estimator)\u001b[0m\n\u001b[1;32m    431\u001b[0m                                       force_all_finite)\n\u001b[1;32m    432\u001b[0m     \u001b[0;32melse\u001b[0m\u001b[0;34m:\u001b[0m\u001b[0;34m\u001b[0m\u001b[0;34m\u001b[0m\u001b[0m\n\u001b[0;32m--> 433\u001b[0;31m         \u001b[0marray\u001b[0m \u001b[0;34m=\u001b[0m \u001b[0mnp\u001b[0m\u001b[0;34m.\u001b[0m\u001b[0marray\u001b[0m\u001b[0;34m(\u001b[0m\u001b[0marray\u001b[0m\u001b[0;34m,\u001b[0m \u001b[0mdtype\u001b[0m\u001b[0;34m=\u001b[0m\u001b[0mdtype\u001b[0m\u001b[0;34m,\u001b[0m \u001b[0morder\u001b[0m\u001b[0;34m=\u001b[0m\u001b[0morder\u001b[0m\u001b[0;34m,\u001b[0m \u001b[0mcopy\u001b[0m\u001b[0;34m=\u001b[0m\u001b[0mcopy\u001b[0m\u001b[0;34m)\u001b[0m\u001b[0;34m\u001b[0m\u001b[0;34m\u001b[0m\u001b[0m\n\u001b[0m\u001b[1;32m    434\u001b[0m \u001b[0;34m\u001b[0m\u001b[0m\n\u001b[1;32m    435\u001b[0m         \u001b[0;32mif\u001b[0m \u001b[0mensure_2d\u001b[0m\u001b[0;34m:\u001b[0m\u001b[0;34m\u001b[0m\u001b[0;34m\u001b[0m\u001b[0m\n",
      "\u001b[0;31mValueError\u001b[0m: could not convert string to float: 'enable'"
     ]
    }
   ],
   "source": [
    "import json\n",
    "with open('/home/dsinghvi/sem8/parallel/project/CS633-2018-19-2-project/progress/confex.json') as f:\n",
    "    data = json.load(f)\n",
    "\n",
    "romio_ds_read = data[\"mpi\"][\"romio_ds_read\"]\n",
    "romio_ds_write = data[\"mpi\"][\"romio_ds_write\"]\n",
    "romio_cb_read = data[\"mpi\"][\"romio_cb_read\"]\n",
    "romio_cb_write = data[\"mpi\"][\"romio_cb_write\"]\n",
    "cb_buffer_size = data[\"mpi\"][\"cb_buffer_size\"]\n",
    "stripe_size = data[\"lfs\"][\"setstripe\"][\"size\"]\n",
    "stripe_count = data[\"lfs\"][\"setstripe\"][\"count\"]\n",
    "\n",
    "col_names =  ['cb1', 'cb2', 'cb5','cb6','cb7']\n",
    "cb_df  = pd.DataFrame(columns = col_names)\n",
    "cb_df.loc[len(cb_df)] = [romio_ds_read,romio_ds_write,stripe_size, stripe_count, cb_buffer_size]\n",
    "\n",
    "\n",
    "scaler_filename = \"scaler.save\"\n",
    "scaler = joblib.load(scaler_filename) \n",
    "norm_df = scaler.transform( cb_df )\n",
    "temp = pd.DataFrame(norm_df)\n",
    "\n",
    "\n",
    "\n",
    "\n",
    "col_names =  ['0','1', '2','3','4','5','6','7','8','9','10']\n",
    "my_df = pd.DataFrame(columns=col_names)\n",
    "my_df.loc[len(my_df)] = [100,100,100,2,2,4]\n",
    "x = pd.concat([my_df,temp], axis=1)\n",
    "\n",
    "\n",
    "print(trees.predict(x))"
   ]
  },
  {
   "cell_type": "code",
   "execution_count": null,
   "metadata": {},
   "outputs": [],
   "source": [
    "print(predicted)"
   ]
  },
  {
   "cell_type": "code",
   "execution_count": null,
   "metadata": {},
   "outputs": [],
   "source": [
    "x\n"
   ]
  },
  {
   "cell_type": "code",
   "execution_count": null,
   "metadata": {},
   "outputs": [],
   "source": [
    "test_X.head(1)"
   ]
  },
  {
   "cell_type": "code",
   "execution_count": null,
   "metadata": {},
   "outputs": [],
   "source": [
    "trees.predict(test_X.head(1))"
   ]
  },
  {
   "cell_type": "code",
   "execution_count": null,
   "metadata": {},
   "outputs": [],
   "source": []
  },
  {
   "cell_type": "code",
   "execution_count": null,
   "metadata": {},
   "outputs": [],
   "source": []
  }
 ],
 "metadata": {
  "kernelspec": {
   "display_name": "Python 3",
   "language": "python",
   "name": "python3"
  },
  "language_info": {
   "codemirror_mode": {
    "name": "ipython",
    "version": 3
   },
   "file_extension": ".py",
   "mimetype": "text/x-python",
   "name": "python",
   "nbconvert_exporter": "python",
   "pygments_lexer": "ipython3",
   "version": "3.6.7"
  }
 },
 "nbformat": 4,
 "nbformat_minor": 2
}
