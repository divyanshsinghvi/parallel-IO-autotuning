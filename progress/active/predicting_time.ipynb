{
 "cells": [
  {
   "cell_type": "code",
   "execution_count": 53,
   "metadata": {},
   "outputs": [],
   "source": [
    "import numpy as np\n",
    "import matplotlib.pyplot as plt\n",
    "from sklearn import preprocessing\n",
    "from sklearn.datasets import make_circles\n",
    "from sklearn.ensemble import RandomTreesEmbedding, ExtraTreesClassifier\n",
    "from sklearn.decomposition import TruncatedSVD\n",
    "from sklearn.naive_bayes import BernoulliNB\n",
    "import pickle\n",
    "from sklearn.externals import joblib"
   ]
  },
  {
   "cell_type": "code",
   "execution_count": 54,
   "metadata": {},
   "outputs": [
    {
     "name": "stdout",
     "output_type": "stream",
     "text": [
      "/home/dsinghvi/sem8/parallel/project/CS633-2018-19-2-project/progress/active\n",
      "   S3D-IO    50-50-100-2-2-4-1  526.27  0.03   0.06    66.03   0.15   2.31  \\\n",
      "0  S3D-IO  200-200-400-2-2-4-1  664.72  1.91   2.94   583.94   5.72  10.03   \n",
      "1  S3D-IO   50-100-100-2-2-4-1  314.13  0.06   0.20    30.17   0.30  10.12   \n",
      "2  S3D-IO   50-100-100-2-2-4-1  435.40  0.06   0.14   112.72   0.30   2.71   \n",
      "3  S3D-IO   50-100-100-2-2-4-1  495.15  0.06   0.12   206.89   0.30   1.48   \n",
      "4  S3D-IO  400-400-400-4-4-4-1  197.96  7.63  39.47  1174.42  22.89  19.96   \n",
      "\n",
      "   0.05  0.01  196608  12   enable enable.1 enable.2  disable  478150656  \n",
      "0  0.04  0.07  720896  11  disable  disable   enable  disable  142606336  \n",
      "1  0.07  0.03   65536  12  disable  disable   enable  disable  603979776  \n",
      "2  0.07  0.02  524288  14  disable  disable  disable  disable  246415360  \n",
      "3  0.05  0.03  131072   5   enable   enable  disable  disable  239075328  \n",
      "4  0.11  0.33   65536   7   enable   enable   enable  disable  293601280  \n",
      "(1135, 17)\n",
      "0    [200, 200, 400, 2, 2, 4, 1]\n",
      "1     [50, 100, 100, 2, 2, 4, 1]\n",
      "2     [50, 100, 100, 2, 2, 4, 1]\n",
      "3     [50, 100, 100, 2, 2, 4, 1]\n",
      "4    [400, 400, 400, 4, 4, 4, 1]\n",
      "Name: col2, dtype: object\n"
     ]
    }
   ],
   "source": [
    "import pandas as pd\n",
    "import os \n",
    "print(os.getcwd())\n",
    "data = pd.read_csv('../stats.txt', delim_whitespace=True)\n",
    "data = data.sample(frac=1).reset_index(drop=True)\n",
    "modelfile = 'final.sav'\n",
    "projectdir = \"/home/dsinghvi/sem8/parallel/project/CS633-2018-19-2-project/progress/\"\n",
    "\n",
    "\n",
    "array = data.values\n",
    "\n",
    "print(data.head())\n",
    "print(data.shape)\n",
    "data.columns=['col1','col2','col3','col4','col5','col6','col7','col8','col9','col10','col11','col12','col13','col14','col15','col16','col17']\n",
    "z = data['col2'].str.split('-')\n",
    "print(z.head())\n",
    "data['col13']=data['col13'].eq(\"enable\").mul(1)\n",
    "data['col14']=data['col14'].eq(\"enable\").mul(1)\n",
    "data['col15']=data['col15'].eq(\"enable\").mul(1)\n",
    "data['col16']=data['col16'].eq(\"enable\").mul(1)"
   ]
  },
  {
   "cell_type": "code",
   "execution_count": 55,
   "metadata": {},
   "outputs": [
    {
     "name": "stdout",
     "output_type": "stream",
     "text": [
      "<class 'pandas.core.frame.DataFrame'>\n",
      "         0         1         2    3    4         5         6         7   \\\n",
      "0  0.428571  0.428571  0.466667  0.0  0.0  0.333333  0.000602  0.022680   \n",
      "1  0.000000  0.142857  0.066667  0.0  0.0  0.333333  0.000055  0.024742   \n",
      "2  0.000000  0.142857  0.066667  0.0  0.0  0.333333  0.000438  0.028866   \n",
      "3  0.000000  0.142857  0.066667  0.0  0.0  0.333333  0.000109  0.010309   \n",
      "4  1.000000  1.000000  0.466667  1.0  1.0  0.333333  0.000055  0.014433   \n",
      "\n",
      "         8         9         10        11  \n",
      "0  0.132483  0.428571  0.428571  0.428571  \n",
      "1  0.564279  0.000000  0.142857  0.000000  \n",
      "2  0.229637  0.000000  0.142857  0.000000  \n",
      "3  0.222767  0.000000  0.142857  0.000000  \n",
      "4  0.273798  0.428571  0.428571  0.428571  \n"
     ]
    },
    {
     "name": "stderr",
     "output_type": "stream",
     "text": [
      "/usr/local/lib/python3.6/dist-packages/sklearn/utils/validation.py:475: DataConversionWarning: Data with input dtype object was converted to float64 by MinMaxScaler.\n",
      "  warnings.warn(msg, DataConversionWarning)\n"
     ]
    }
   ],
   "source": [
    "##### FEATURES for our model(some could be specific to the benchmark)\n",
    "\n",
    "X_temp = pd.DataFrame() #creates a new dataframe that's empty\n",
    "X = pd.DataFrame(z.tolist())\n",
    "X = X.drop(6, 1)\n",
    "\n",
    "#MPI AND LUSTURE HINTS ADDED AS FEATURES\n",
    "X_temp['cb1']=data['col11']\n",
    "X_temp['cb2']=data['col12']\n",
    "#X['cb3']=data['col13']\n",
    "#X['cb4']=data['col14']\n",
    "#X['cb5']=data['col15']\n",
    "#X['cb6']=data['col16']\n",
    "X_temp['cb7']=data['col17']\n",
    "\n",
    "X =pd.concat([X, X_temp], axis=1)\n",
    "\n",
    "#RATIO added as feature to give size of box each process needs to take(specific to S3D-IO)\n",
    "X['ratio1'] = X.iloc[:,0].astype(int)/(X.iloc[:,3].astype(int)*100)\n",
    "X['ratio2'] = X.iloc[:,1].astype(int)/(X.iloc[:,4].astype(int)*100)\n",
    "X['ratio3'] = X.iloc[:,2].astype(int)/(X.iloc[:,5].astype(int)*100)\n",
    "\n",
    "###NORMALIZING \n",
    "min_max_scaler = preprocessing.MinMaxScaler()\n",
    "X_scaled = min_max_scaler.fit_transform(X.values)\n",
    "X = pd.DataFrame(X_scaled)\n",
    "print(type(X))\n",
    "print(X.head())\n",
    "i=0\n",
    "\n",
    "for _ in X.columns:\n",
    "    if(i == 0):\n",
    "        continue\n",
    "    X.iloc[:,i].astype(int)\n",
    "    print(i)\n",
    "    i=i+1 \n",
    "\n",
    "#pd.options.display.max_rows=  1500\n",
    "#print(X.iloc[:,0])\n",
    "\n"
   ]
  },
  {
   "cell_type": "code",
   "execution_count": 56,
   "metadata": {},
   "outputs": [
    {
     "name": "stdout",
     "output_type": "stream",
     "text": [
      "<class 'pandas.core.frame.DataFrame'>\n",
      "         0         1         2    3    4         5         6         7   \\\n",
      "0  0.428571  0.428571  0.466667  0.0  0.0  0.333333  0.000602  0.022680   \n",
      "1  0.000000  0.142857  0.066667  0.0  0.0  0.333333  0.000055  0.024742   \n",
      "2  0.000000  0.142857  0.066667  0.0  0.0  0.333333  0.000438  0.028866   \n",
      "3  0.000000  0.142857  0.066667  0.0  0.0  0.333333  0.000109  0.010309   \n",
      "4  1.000000  1.000000  0.466667  1.0  1.0  0.333333  0.000055  0.014433   \n",
      "\n",
      "         8         9         10        11  \n",
      "0  0.132483  0.428571  0.428571  0.428571  \n",
      "1  0.564279  0.000000  0.142857  0.000000  \n",
      "2  0.229637  0.000000  0.142857  0.000000  \n",
      "3  0.222767  0.000000  0.142857  0.000000  \n",
      "4  0.273798  0.428571  0.428571  0.428571  \n",
      "<class 'pandas.core.frame.DataFrame'>\n",
      "(663,) (663, 12)\n",
      "[ 58394   3017  11272  20689 117442]\n"
     ]
    }
   ],
   "source": [
    "Y = data['col6'] ### WRITE BANDWIDTH\n",
    "Y=Y.values\n",
    "Y = Y*100\n",
    "Y = Y.astype(int)\n",
    "\n",
    "\n",
    "#### SPLITTING INTO TEST -TRAIN DATASET\n",
    "msk = np.random.rand(len(X)) < 0.6\n",
    "train_X = X[msk]\n",
    "test_X = X[~msk]\n",
    "train_Y = Y[msk]\n",
    "test_Y = Y[~msk]\n",
    "print(type(train_X))\n",
    "\n",
    "y = train_Y\n",
    "X = train_X\n",
    "\n",
    "print(X[0:5])\n",
    "print(type(X))\n",
    "\n",
    "print(y.shape, X.shape)\n",
    "print(y[0:5])\n",
    "\n"
   ]
  },
  {
   "cell_type": "code",
   "execution_count": 57,
   "metadata": {},
   "outputs": [
    {
     "data": {
      "text/plain": [
       "<663x80 sparse matrix of type '<class 'numpy.float64'>'\n",
       "\twith 6630 stored elements in Compressed Sparse Row format>"
      ]
     },
     "execution_count": 57,
     "metadata": {},
     "output_type": "execute_result"
    }
   ],
   "source": [
    "hasher = RandomTreesEmbedding(n_estimators=10, random_state=0, max_depth=3)\n",
    "X_transformed = hasher.fit_transform(X)\n",
    "X_transformed"
   ]
  },
  {
   "cell_type": "code",
   "execution_count": 58,
   "metadata": {},
   "outputs": [],
   "source": [
    "svd = TruncatedSVD(n_components=2)\n",
    "X_reduced = svd.fit_transform(X_transformed)\n"
   ]
  },
  {
   "cell_type": "code",
   "execution_count": 59,
   "metadata": {},
   "outputs": [
    {
     "data": {
      "text/plain": [
       "BernoulliNB(alpha=1.0, binarize=0.0, class_prior=None, fit_prior=True)"
      ]
     },
     "execution_count": 59,
     "metadata": {},
     "output_type": "execute_result"
    }
   ],
   "source": [
    "nb = BernoulliNB()\n",
    "nb.fit(X_transformed, y)\n"
   ]
  },
  {
   "cell_type": "code",
   "execution_count": 60,
   "metadata": {},
   "outputs": [
    {
     "data": {
      "text/plain": [
       "ExtraTreesClassifier(bootstrap=False, class_weight=None, criterion='gini',\n",
       "           max_depth=100, max_features='auto', max_leaf_nodes=None,\n",
       "           min_impurity_decrease=0.0, min_impurity_split=None,\n",
       "           min_samples_leaf=1, min_samples_split=2,\n",
       "           min_weight_fraction_leaf=0.0, n_estimators=300, n_jobs=1,\n",
       "           oob_score=False, random_state=0, verbose=0, warm_start=False)"
      ]
     },
     "execution_count": 60,
     "metadata": {},
     "output_type": "execute_result"
    }
   ],
   "source": [
    "trees = ExtraTreesClassifier(max_depth=100, n_estimators=300, random_state=0)\n",
    "trees.fit(X, y)\n",
    "\n"
   ]
  },
  {
   "cell_type": "code",
   "execution_count": 61,
   "metadata": {},
   "outputs": [
    {
     "name": "stdout",
     "output_type": "stream",
     "text": [
      "    0         1         2    3    4         5         6         7         8   \\\n",
      "8  0.0  0.142857  0.066667  0.0  0.0  0.333333  0.000055  0.002062  0.548577   \n",
      "\n",
      "    9         10   11  \n",
      "8  0.0  0.142857  0.0  \n",
      "(472, 12)\n"
     ]
    },
    {
     "data": {
      "text/plain": [
       "array([36928])"
      ]
     },
     "execution_count": 61,
     "metadata": {},
     "output_type": "execute_result"
    }
   ],
   "source": [
    "print(test_X.head(1))\n",
    "print(test_X.shape)\n",
    "trees.predict(test_X.head(1))"
   ]
  },
  {
   "cell_type": "code",
   "execution_count": 62,
   "metadata": {},
   "outputs": [
    {
     "data": {
      "text/plain": [
       "0.7424726088649227"
      ]
     },
     "execution_count": 62,
     "metadata": {},
     "output_type": "execute_result"
    }
   ],
   "source": [
    "predicted = trees.predict(test_X)\n",
    "#print(test_Y)\n",
    "from sklearn.metrics import r2_score\n",
    "r2_score(test_Y,predicted)"
   ]
  },
  {
   "cell_type": "code",
   "execution_count": 52,
   "metadata": {},
   "outputs": [
    {
     "data": {
      "image/png": "[encoded data removed]",
      "text/plain": [
       "<Figure size 432x288 with 1 Axes>"
      ]
     },
     "metadata": {},
     "output_type": "display_data"
    }
   ],
   "source": [
    "fig, ax = plt.subplots()\n",
    "ax.scatter(test_Y, predicted)\n",
    "ax.plot([test_Y.min(), test_Y.max()], [test_Y.min(), test_Y.max()], 'k--', lw=4)\n",
    "ax.set_xlabel('Measured')\n",
    "ax.set_ylabel('Predicted')\n",
    "plt.show()"
   ]
  },
  {
   "cell_type": "code",
   "execution_count": null,
   "metadata": {},
   "outputs": [],
   "source": [
    "# save the model to disk\n",
    "\n",
    "modelfile = 'final.sav'\n",
    "pickle.dump(trees, open(modelfile, 'wb'))\n",
    "scaler_filename = \"scaler.save\"\n",
    "joblib.dump(min_max_scaler, scaler_filename) \n"
   ]
  },
  {
   "cell_type": "code",
   "execution_count": null,
   "metadata": {},
   "outputs": [],
   "source": [
    "import json\n",
    "with open(projectdir+'confex.json') as f:\n",
    "    data = json.load(f)\n",
    "\n",
    "romio_ds_read = data[\"mpi\"][\"romio_ds_read\"]\n",
    "romio_ds_write = data[\"mpi\"][\"romio_ds_write\"]\n",
    "romio_cb_read = data[\"mpi\"][\"romio_cb_read\"]\n",
    "romio_cb_write = data[\"mpi\"][\"romio_cb_write\"]\n",
    "cb_buffer_size = data[\"mpi\"][\"cb_buffer_size\"]\n",
    "stripe_size = data[\"lfs\"][\"setstripe\"][\"size\"]\n",
    "stripe_count = data[\"lfs\"][\"setstripe\"][\"count\"]\n",
    "\n",
    "col_names =  ['cb1', 'cb2', 'cb5','cb6','cb7']\n",
    "cb_df  = pd.DataFrame(columns = col_names)\n",
    "cb_df.loc[len(cb_df)] = [romio_ds_read,romio_ds_write,stripe_size, stripe_count, cb_buffer_size]\n",
    "\n",
    "\n",
    "scaler_filename = \"scaler.save\"\n",
    "scaler = joblib.load(scaler_filename) \n",
    "norm_df = scaler.transform( cb_df )\n",
    "temp = pd.DataFrame(norm_df)\n",
    "\n",
    "\n",
    "\n",
    "\n",
    "col_names =  ['0','1', '2','3','4','5','6','7','8','9','10']\n",
    "my_df = pd.DataFrame(columns=col_names)\n",
    "my_df.loc[len(my_df)] = [100,100,100,2,2,4]\n",
    "x = pd.concat([my_df,temp], axis=1)\n",
    "\n",
    "\n",
    "print(trees.predict(x))"
   ]
  },
  {
   "cell_type": "code",
   "execution_count": null,
   "metadata": {},
   "outputs": [],
   "source": [
    "print(predicted)"
   ]
  },
  {
   "cell_type": "code",
   "execution_count": null,
   "metadata": {},
   "outputs": [],
   "source": [
    "x\n"
   ]
  },
  {
   "cell_type": "code",
   "execution_count": null,
   "metadata": {},
   "outputs": [],
   "source": [
    "test_X.head(1)"
   ]
  },
  {
   "cell_type": "code",
   "execution_count": null,
   "metadata": {},
   "outputs": [],
   "source": [
    "trees.predict(test_X.head(1))"
   ]
  },
  {
   "cell_type": "code",
   "execution_count": null,
   "metadata": {},
   "outputs": [],
   "source": []
  },
  {
   "cell_type": "code",
   "execution_count": null,
   "metadata": {},
   "outputs": [],
   "source": []
  }
 ],
 "metadata": {
  "kernelspec": {
   "display_name": "Python 3",
   "language": "python",
   "name": "python3"
  },
  "language_info": {
   "codemirror_mode": {
    "name": "ipython",
    "version": 3
   },
   "file_extension": ".py",
   "mimetype": "text/x-python",
   "name": "python",
   "nbconvert_exporter": "python",
   "pygments_lexer": "ipython3",
   "version": "3.6.7"
  }
 },
 "nbformat": 4,
 "nbformat_minor": 2
}
