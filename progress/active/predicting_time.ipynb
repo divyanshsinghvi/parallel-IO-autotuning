{
 "cells": [
  {
   "cell_type": "code",
   "execution_count": 157,
   "metadata": {},
   "outputs": [],
   "source": [
    "import numpy as np\n",
    "import matplotlib.pyplot as plt\n",
    "from sklearn import preprocessing\n",
    "from sklearn.datasets import make_circles\n",
    "from sklearn.ensemble import RandomTreesEmbedding, ExtraTreesClassifier\n",
    "from sklearn.decomposition import TruncatedSVD\n",
    "from sklearn.naive_bayes import BernoulliNB\n",
    "import pickle\n",
    "from sklearn.externals import joblib\n"
   ]
  },
  {
   "cell_type": "code",
   "execution_count": 118,
   "metadata": {},
   "outputs": [
    {
     "name": "stdout",
     "output_type": "stream",
     "text": [
      "/Users/megha/parallel/mnt/project/progress/active\n",
      "   S3D-IO    50-50-100-2-2-4-1    0.00  0.00.1  0.00.2     2.14   0.15  71.19  \\\n",
      "0  S3D-IO   50-100-100-2-2-4-1  511.55    0.06    0.12   379.72   0.30   0.80   \n",
      "1  S3D-IO    50-50-100-2-2-4-1  390.27    0.03    0.08    45.42   0.15   3.36   \n",
      "2  S3D-IO  400-400-800-4-4-4-1  713.01   15.26   21.91  1274.20  45.78  36.79   \n",
      "3  S3D-IO  100-200-400-2-4-4-1  730.05    0.95    1.34   498.44   2.86   5.88   \n",
      "4  S3D-IO  100-100-100-2-4-4-1  770.96    0.12    0.16   604.45   0.36   0.61   \n",
      "\n",
      "   0.06  0.01   1048576   1  disable disable.1 disable.2 disable.3        1024  \n",
      "0  0.05  0.03     65536   2  disable   disable   disable    enable  1015021568  \n",
      "1  0.06  0.01    131072  20  disable   disable   disable   disable   545259520  \n",
      "2  0.49  0.42    524288  13  disable    enable    enable    enable   385875968  \n",
      "3  0.05  0.03   1048576  27   enable   disable   disable   disable     5242880  \n",
      "4  0.05  0.02  32112640  23   enable   disable   disable    enable   208666624  \n",
      "(1141, 17)\n",
      "0     [50, 100, 100, 2, 2, 4, 1]\n",
      "1      [50, 50, 100, 2, 2, 4, 1]\n",
      "2    [400, 400, 800, 4, 4, 4, 1]\n",
      "3    [100, 200, 400, 2, 4, 4, 1]\n",
      "4    [100, 100, 100, 2, 4, 4, 1]\n",
      "Name: col2, dtype: object\n"
     ]
    }
   ],
   "source": [
    "import pandas as pd\n",
    "import os \n",
    "print(os.getcwd())\n",
    "data = pd.read_csv('../stats.txt', delim_whitespace=True)\n",
    "data = data.sample(frac=1).reset_index(drop=True)\n",
    "modelfile = 'final.sav'\n",
    "\n",
    "\n",
    "array = data.values\n",
    "\n",
    "print(data.head())\n",
    "print(data.shape)\n",
    "data.columns=['col1','col2','col3','col4','col5','col6','col7','col8','col9','col10','col11','col12','col13','col14','col15','col16','col17']\n",
    "#data['x'],data['y'],data['z'],data['nx'],data['ny']=data['col2'].str.split('-')\n",
    "z = data['col2'].str.split('-')\n",
    "print(z.head())\n",
    "data['col13']=data['col13'].eq(\"enable\").mul(1)\n",
    "data['col14']=data['col14'].eq(\"enable\").mul(1)\n",
    "data['col15']=data['col15'].eq(\"enable\").mul(1)\n",
    "data['col16']=data['col16'].eq(\"enable\").mul(1)"
   ]
  },
  {
   "cell_type": "code",
   "execution_count": 119,
   "metadata": {},
   "outputs": [
    {
     "name": "stdout",
     "output_type": "stream",
     "text": [
      "<class 'pandas.core.frame.DataFrame'>\n",
      "     0    1    2  3  4  5         0         1         2\n",
      "0   50  100  100  2  2  4  0.000055  0.004124  0.948970\n",
      "1   50   50  100  2  2  4  0.000109  0.041237  0.509323\n",
      "2  400  400  800  4  4  4  0.000438  0.026804  0.360157\n",
      "3  100  200  400  2  4  4  0.000876  0.055670  0.003925\n",
      "4  100  100  100  2  4  4  0.026818  0.047423  0.194308\n"
     ]
    },
    {
     "name": "stderr",
     "output_type": "stream",
     "text": [
      "/usr/local/lib/python3.7/site-packages/sklearn/utils/validation.py:595: DataConversionWarning: Data with input dtype int64 was converted to float64 by MinMaxScaler.\n",
      "  warnings.warn(msg, DataConversionWarning)\n"
     ]
    }
   ],
   "source": [
    "\n",
    "\n",
    "X_temp = pd.DataFrame() #creates a new dataframe that's empty\n",
    "\n",
    "X = pd.DataFrame(z.tolist())\n",
    "X = X.drop(6, 1)\n",
    "X_temp['cb1']=data['col11']\n",
    "X_temp['cb2']=data['col12']\n",
    "#X['cb3']=data['col13']\n",
    "#X['cb4']=data['col14']\n",
    "#X['cb5']=data['col15']\n",
    "#X['cb6']=data['col16']\n",
    "X_temp['cb7']=data['col17']\n",
    "\n",
    "temp = X_temp.values #returns a numpy array\n",
    "min_max_scaler = preprocessing.MinMaxScaler()\n",
    "x_scaled = min_max_scaler.fit_transform(temp)\n",
    "X_temp = pd.DataFrame(x_scaled)\n",
    "\n",
    "X =pd.concat([X, X_temp], axis=1)\n",
    "\n",
    "\n",
    "\n",
    "print(type(X))\n",
    "print(X.head())\n",
    "i=0\n",
    "\n",
    "for _ in X.columns:\n",
    "    if(i == 0):\n",
    "        continue\n",
    "    X.iloc[:,i].astype(int)\n",
    "    print(i)\n",
    "    i=i+1 \n",
    "\n",
    "#pd.options.display.max_rows=  1500\n",
    "#print(X.iloc[:,0])\n",
    "\n"
   ]
  },
  {
   "cell_type": "code",
   "execution_count": 120,
   "metadata": {},
   "outputs": [
    {
     "name": "stdout",
     "output_type": "stream",
     "text": [
      "<class 'pandas.core.frame.DataFrame'>\n",
      "     0    1    2  3  4  5         0         1         2\n",
      "0   50  100  100  2  2  4  0.000055  0.004124  0.948970\n",
      "1   50   50  100  2  2  4  0.000109  0.041237  0.509323\n",
      "2  400  400  800  4  4  4  0.000438  0.026804  0.360157\n",
      "3  100  200  400  2  4  4  0.000876  0.055670  0.003925\n",
      "4  100  100  100  2  4  4  0.026818  0.047423  0.194308\n",
      "<class 'pandas.core.frame.DataFrame'>\n",
      "(920,) (920, 9)\n",
      "[ 37972   4542 127420  49844  60445]\n"
     ]
    }
   ],
   "source": [
    "Y = data['col6']\n",
    "Y=Y.values\n",
    "Y = Y*100\n",
    "Y = Y.astype(int)\n",
    "\n",
    "\n",
    "msk = np.random.rand(len(X)) < 0.8\n",
    "train_X = X[msk]\n",
    "test_X = X[~msk]\n",
    "train_Y = Y[msk]\n",
    "test_Y = Y[~msk]\n",
    "print(type(train_X))\n",
    "\n",
    "y = train_Y\n",
    "X = train_X\n",
    "#X = train_X.astype(int)\n",
    "\n",
    "\n",
    "print(X[0:5])\n",
    "print(type(X))\n",
    "\n",
    "print(y.shape, X.shape)\n",
    "print(y[0:5])\n",
    "\n"
   ]
  },
  {
   "cell_type": "code",
   "execution_count": 121,
   "metadata": {},
   "outputs": [
    {
     "data": {
      "text/plain": [
       "<920x73 sparse matrix of type '<class 'numpy.float64'>'\n",
       "\twith 9200 stored elements in Compressed Sparse Row format>"
      ]
     },
     "execution_count": 121,
     "metadata": {},
     "output_type": "execute_result"
    }
   ],
   "source": [
    "hasher = RandomTreesEmbedding(n_estimators=10, random_state=0, max_depth=3)\n",
    "X_transformed = hasher.fit_transform(X)\n",
    "X_transformed"
   ]
  },
  {
   "cell_type": "code",
   "execution_count": null,
   "metadata": {},
   "outputs": [],
   "source": []
  },
  {
   "cell_type": "code",
   "execution_count": 122,
   "metadata": {},
   "outputs": [],
   "source": [
    "svd = TruncatedSVD(n_components=2)\n",
    "X_reduced = svd.fit_transform(X_transformed)\n"
   ]
  },
  {
   "cell_type": "code",
   "execution_count": 123,
   "metadata": {},
   "outputs": [
    {
     "data": {
      "text/plain": [
       "BernoulliNB(alpha=1.0, binarize=0.0, class_prior=None, fit_prior=True)"
      ]
     },
     "execution_count": 123,
     "metadata": {},
     "output_type": "execute_result"
    }
   ],
   "source": [
    "nb = BernoulliNB()\n",
    "nb.fit(X_transformed, y)\n"
   ]
  },
  {
   "cell_type": "code",
   "execution_count": 140,
   "metadata": {},
   "outputs": [
    {
     "data": {
      "text/plain": [
       "ExtraTreesClassifier(bootstrap=False, class_weight=None, criterion='gini',\n",
       "           max_depth=10, max_features='auto', max_leaf_nodes=None,\n",
       "           min_impurity_decrease=0.0, min_impurity_split=None,\n",
       "           min_samples_leaf=1, min_samples_split=2,\n",
       "           min_weight_fraction_leaf=0.0, n_estimators=100, n_jobs=None,\n",
       "           oob_score=False, random_state=0, verbose=0, warm_start=False)"
      ]
     },
     "execution_count": 140,
     "metadata": {},
     "output_type": "execute_result"
    }
   ],
   "source": [
    "trees = ExtraTreesClassifier(max_depth=10, n_estimators=100, random_state=0)\n",
    "trees.fit(X, y)\n",
    "\n"
   ]
  },
  {
   "cell_type": "code",
   "execution_count": 141,
   "metadata": {},
   "outputs": [],
   "source": [
    "# fig = plt.figure(figsize=(9, 8))\n",
    "\n",
    "# ax = plt.subplot(221)\n",
    "# ax.scatter(X[:, 0], X[:, 1], c=y, s=50, edgecolor='k')\n",
    "# ax.set_title(\"Original Data (2d)\")\n",
    "# ax.set_xticks(())\n",
    "# ax.set_yticks(())\n",
    "\n",
    "# ax = plt.subplot(222)\n",
    "# ax.scatter(X_reduced[:, 0], X_reduced[:, 1], c=y, s=50, edgecolor='k')\n",
    "# ax.set_title(\"Truncated SVD reduction (2d) of transformed data (%dd)\" %\n",
    "#              X_transformed.shape[1])\n",
    "# ax.set_xticks(())\n",
    "# ax.set_yticks(())\n",
    "\n",
    "# # Plot the decision in original space. For that, we will assign a color\n",
    "# # to each point in the mesh [x_min, x_max]x[y_min, y_max].\n",
    "# h = .01\n",
    "# x_min, x_max = X[:, 0].min() , X[:, 0].max() \n",
    "# y_min, y_max = X[:, 1].min() , X[:, 1].max() \n",
    "# #xx, yy = np.meshgrid(np.arange(x_min, x_max, h), np.arange(y_min, y_max, h))"
   ]
  },
  {
   "cell_type": "code",
   "execution_count": 156,
   "metadata": {},
   "outputs": [
    {
     "name": "stdout",
     "output_type": "stream",
     "text": [
      "     0   1   2  3  4  5         0         1         2\n",
      "11  50  50  50  2  2  2  0.000438  0.018557  0.615309\n",
      "(221, 9)\n"
     ]
    },
    {
     "data": {
      "text/plain": [
       "array([37290])"
      ]
     },
     "execution_count": 156,
     "metadata": {},
     "output_type": "execute_result"
    }
   ],
   "source": [
    "print(test_X.head(1))\n",
    "print(test_X.shape)\n",
    "trees.predict(test_X.head(1))"
   ]
  },
  {
   "cell_type": "code",
   "execution_count": 205,
   "metadata": {},
   "outputs": [
    {
     "name": "stdout",
     "output_type": "stream",
     "text": [
      "[ 34947  44814  65633  41110  78796  72582  75763  59027  64548  10592\n",
      "  37295  20665  38073  19643  40170   7048  36144   3148  48575   9345\n",
      "  62499 118699   6577  64555  28776  58566  22427  19569  58394  36350\n",
      "   4345 105151  22050  45624  80178  63104  40778  65759  39064  60365\n",
      "   9406   9379  98846  35976  12473   4489  25793  52510   4223  68724\n",
      "  69124  80481  49627  97478  33516  14084  36018  13337  72224  52709\n",
      " 108911  65423   3538  85779  42675   7106  42338 116099  35781  30517\n",
      "  46773  42869  78879  16371  50151  52588 102570  51352  53191  98043\n",
      "  74363  32641  25544  71539  27522   7111  36928  54652  10901  45176\n",
      "  72366  47109  21068  74201  42930  11886  27262   5224  30632  34630\n",
      "   4146  60352  73352  83638  76130 117150  62217   8811  23340  37015\n",
      "  93677 115894  18260  31726  54233  85382  68276 102701  56658  84598\n",
      " 104678  91410  31164  37078  43836  29277   4017  60119  66191  43724\n",
      "   5929 131753  68487  32152 102053  34851 113298  45951  49855  34776\n",
      "  99340  69259  38641  62746  21436   4746 106488  13581 128701  67945\n",
      "  63529  11353  33628   4597  61619  75391  34018  19889  30454  91786\n",
      "  34548  41832  41327  99521  33524  22180  41888  74099  69933  32263\n",
      "  79537  20493  71753  48532  99829  43962  32712  85674  65036  74697\n",
      "  12946  75999  30852  38996   8573  13010  36482 127981  27832 124286\n",
      "  13869  19454  70774  24280  46574  98382   8755  40933  94302  36283\n",
      "   3381  36564  55004   5658  60908  35571  86914   5195  68929 111698\n",
      "  33966   9393  66596  23344  58555  10402  83991  75024  57002  84399\n",
      "  16125]\n"
     ]
    },
    {
     "data": {
      "text/plain": [
       "0.0"
      ]
     },
     "execution_count": 205,
     "metadata": {},
     "output_type": "execute_result"
    }
   ],
   "source": [
    "predicted = trees.predict(test_X)\n",
    "print(test_Y)\n",
    "trees.score(test_X, test_Y, sample_weight=None)"
   ]
  },
  {
   "cell_type": "code",
   "execution_count": 206,
   "metadata": {},
   "outputs": [
    {
     "data": {
      "image/png": "[encoded data removed]",
      "text/plain": [
       "<Figure size 432x288 with 1 Axes>"
      ]
     },
     "metadata": {
      "needs_background": "light"
     },
     "output_type": "display_data"
    }
   ],
   "source": [
    "fig, ax = plt.subplots()\n",
    "ax.scatter(test_Y, predicted)\n",
    "ax.plot([test_Y.min(), test_Y.max()], [test_Y.min(), test_Y.max()], 'k--', lw=4)\n",
    "ax.set_xlabel('Measured')\n",
    "ax.set_ylabel('Predicted')\n",
    "plt.show()"
   ]
  },
  {
   "cell_type": "code",
   "execution_count": 207,
   "metadata": {},
   "outputs": [
    {
     "data": {
      "text/plain": [
       "['scaler.save']"
      ]
     },
     "execution_count": 207,
     "metadata": {},
     "output_type": "execute_result"
    }
   ],
   "source": [
    "# save the model to disk\n",
    "modelfile = 'final.sav'\n",
    "pickle.dump(trees, open(modelfile, 'wb'))\n",
    "scaler_filename = \"scaler.save\"\n",
    "joblib.dump(min_max_scaler, scaler_filename) \n"
   ]
  },
  {
   "cell_type": "code",
   "execution_count": 208,
   "metadata": {},
   "outputs": [
    {
     "data": {
      "text/plain": [
       "array([11253])"
      ]
     },
     "execution_count": 208,
     "metadata": {},
     "output_type": "execute_result"
    }
   ],
   "source": [
    "trees.predict(x)"
   ]
  },
  {
   "cell_type": "code",
   "execution_count": 209,
   "metadata": {},
   "outputs": [
    {
     "name": "stdout",
     "output_type": "stream",
     "text": [
      "[11253]\n"
     ]
    }
   ],
   "source": [
    "import json\n",
    "with open('/Users/megha/parallel/mnt/project/progress/confex.json') as f:\n",
    "    data = json.load(f)\n",
    "\n",
    "cb_buffer_size = data[\"mpi\"][\"cb_buffer_size\"]\n",
    "stripe_size = data[\"lfs\"][\"setstripe\"][\"size\"]\n",
    "stripe_count = data[\"lfs\"][\"setstripe\"][\"count\"]\n",
    "\n",
    "col_names =  ['cb1', 'cb2', 'cb3']\n",
    "cb_df  = pd.DataFrame(columns = col_names)\n",
    "cb_df.loc[len(cb_df)] = [stripe_size, stripe_count, cb_buffer_size]\n",
    "\n",
    "\n",
    "scaler_filename = \"scaler.save\"\n",
    "scaler = joblib.load(scaler_filename) \n",
    "norm_df = scaler.transform( cb_df )\n",
    "temp = pd.DataFrame(norm_df)\n",
    "\n",
    "\n",
    "\n",
    "\n",
    "col_names =  ['0','1', '2','3','4','5']\n",
    "my_df = pd.DataFrame(columns=col_names)\n",
    "my_df.loc[len(my_df)] = [100,100,100,2,2,4]\n",
    "x = pd.concat([my_df,temp], axis=1)\n",
    "\n",
    "\n",
    "print(trees.predict(x))"
   ]
  },
  {
   "cell_type": "code",
   "execution_count": 203,
   "metadata": {},
   "outputs": [
    {
     "name": "stdout",
     "output_type": "stream",
     "text": [
      "[ 37290  34176  70599  40807 102383  98905  61563  48048  76273  13799\n",
      "  36561  21999  36661  15355 126754  10075  35316   3214  40703   7459\n",
      "  52230 116405   4813  64478  45698  60155  20216  13997  10539  36565\n",
      "   3729  74606  10355  60632  66925  60338  36932  61265  38008  63316\n",
      "   8895  19587  82576  32853  13427   5483  15144  84920   4638  80510\n",
      "  76273  59813  52230  54230  38043  65226  41777  15383  75338  62740\n",
      "  98905  29095   3214  88440  37251   8767  63945 116405  36810  53882\n",
      "  38661  16754  85905   9824  65184  64698  96665  54164 109116 102820\n",
      "  77741  32483  16641 126754  28401   8247  35766  64698  11002  64478\n",
      "  66299  34999  39243  65226  58757  16641  31732  10075  31101  35006\n",
      "   4108  57004  69860  93967  77741 119319  62348   5462  24675  36810\n",
      " 123988  95614  12929  33770  61563  77082  65226  70193  60076  87144\n",
      " 101208  64841  30988  35796  76675  46231   4638  66925  72923  52583\n",
      "  33203 127542  40398  29588 113338  36811 123988  36962  59801  33203\n",
      "  98996  70536  38043  51724  13751   4182 108633  14046 125325  85288\n",
      "  67112   8767  13427   5483  82544  46297  33203  13844  29242  58479\n",
      "  36661  47860  37604  73758  32663  15355  38661  70709  98479  45183\n",
      "  83172  20216  16570  85983  54341  67924  38058  77741  78147 126754\n",
      "  13052  38602  37498  40530   6948  11719  35326  69328  20378  67924\n",
      "  14559  10082  69860  13103  54230  79758   8767  36517  93441  35907\n",
      "   3729  37793  93892  13819  63101  38306  61779   3139  60338 108320\n",
      "  32676  13403  16570  69620  60069   4542  64841  80510 120038  69328\n",
      "  49271]\n"
     ]
    }
   ],
   "source": [
    "print(predicted)"
   ]
  },
  {
   "cell_type": "code",
   "execution_count": 210,
   "metadata": {},
   "outputs": [
    {
     "data": {
      "text/html": [
       "<div>\n",
       "<style scoped>\n",
       "    .dataframe tbody tr th:only-of-type {\n",
       "        vertical-align: middle;\n",
       "    }\n",
       "\n",
       "    .dataframe tbody tr th {\n",
       "        vertical-align: top;\n",
       "    }\n",
       "\n",
       "    .dataframe thead th {\n",
       "        text-align: right;\n",
       "    }\n",
       "</style>\n",
       "<table border=\"1\" class=\"dataframe\">\n",
       "  <thead>\n",
       "    <tr style=\"text-align: right;\">\n",
       "      <th></th>\n",
       "      <th>0</th>\n",
       "      <th>1</th>\n",
       "      <th>2</th>\n",
       "      <th>3</th>\n",
       "      <th>4</th>\n",
       "      <th>5</th>\n",
       "      <th>0</th>\n",
       "      <th>1</th>\n",
       "      <th>2</th>\n",
       "    </tr>\n",
       "  </thead>\n",
       "  <tbody>\n",
       "    <tr>\n",
       "      <th>0</th>\n",
       "      <td>100</td>\n",
       "      <td>100</td>\n",
       "      <td>100</td>\n",
       "      <td>2</td>\n",
       "      <td>2</td>\n",
       "      <td>4</td>\n",
       "      <td>0.000821</td>\n",
       "      <td>0.008247</td>\n",
       "      <td>0.443572</td>\n",
       "    </tr>\n",
       "  </tbody>\n",
       "</table>\n",
       "</div>"
      ],
      "text/plain": [
       "     0    1    2  3  4  5         0         1         2\n",
       "0  100  100  100  2  2  4  0.000821  0.008247  0.443572"
      ]
     },
     "execution_count": 210,
     "metadata": {},
     "output_type": "execute_result"
    }
   ],
   "source": [
    "x\n"
   ]
  },
  {
   "cell_type": "code",
   "execution_count": 211,
   "metadata": {},
   "outputs": [
    {
     "data": {
      "text/html": [
       "<div>\n",
       "<style scoped>\n",
       "    .dataframe tbody tr th:only-of-type {\n",
       "        vertical-align: middle;\n",
       "    }\n",
       "\n",
       "    .dataframe tbody tr th {\n",
       "        vertical-align: top;\n",
       "    }\n",
       "\n",
       "    .dataframe thead th {\n",
       "        text-align: right;\n",
       "    }\n",
       "</style>\n",
       "<table border=\"1\" class=\"dataframe\">\n",
       "  <thead>\n",
       "    <tr style=\"text-align: right;\">\n",
       "      <th></th>\n",
       "      <th>0</th>\n",
       "      <th>1</th>\n",
       "      <th>2</th>\n",
       "      <th>3</th>\n",
       "      <th>4</th>\n",
       "      <th>5</th>\n",
       "      <th>0</th>\n",
       "      <th>1</th>\n",
       "      <th>2</th>\n",
       "    </tr>\n",
       "  </thead>\n",
       "  <tbody>\n",
       "    <tr>\n",
       "      <th>11</th>\n",
       "      <td>50</td>\n",
       "      <td>50</td>\n",
       "      <td>50</td>\n",
       "      <td>2</td>\n",
       "      <td>2</td>\n",
       "      <td>2</td>\n",
       "      <td>0.000438</td>\n",
       "      <td>0.018557</td>\n",
       "      <td>0.615309</td>\n",
       "    </tr>\n",
       "  </tbody>\n",
       "</table>\n",
       "</div>"
      ],
      "text/plain": [
       "     0   1   2  3  4  5         0         1         2\n",
       "11  50  50  50  2  2  2  0.000438  0.018557  0.615309"
      ]
     },
     "execution_count": 211,
     "metadata": {},
     "output_type": "execute_result"
    }
   ],
   "source": [
    "test_X.head(1)"
   ]
  },
  {
   "cell_type": "code",
   "execution_count": 214,
   "metadata": {},
   "outputs": [
    {
     "data": {
      "text/plain": [
       "array([37290])"
      ]
     },
     "execution_count": 214,
     "metadata": {},
     "output_type": "execute_result"
    }
   ],
   "source": [
    "trees.predict(test_X.head(1))"
   ]
  },
  {
   "cell_type": "code",
   "execution_count": null,
   "metadata": {},
   "outputs": [],
   "source": []
  }
 ],
 "metadata": {
  "kernelspec": {
   "display_name": "Python 3",
   "language": "python",
   "name": "python3"
  },
  "language_info": {
   "codemirror_mode": {
    "name": "ipython",
    "version": 3
   },
   "file_extension": ".py",
   "mimetype": "text/x-python",
   "name": "python",
   "nbconvert_exporter": "python",
   "pygments_lexer": "ipython3",
   "version": "3.7.0"
  }
 },
 "nbformat": 4,
 "nbformat_minor": 2
}
