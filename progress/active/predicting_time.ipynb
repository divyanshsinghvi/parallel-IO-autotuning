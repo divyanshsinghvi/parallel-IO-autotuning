{
 "cells": [
  {
   "cell_type": "code",
   "execution_count": 90,
   "metadata": {},
   "outputs": [],
   "source": [
    "import numpy as np\n",
    "import matplotlib.pyplot as plt\n",
    "\n",
    "from sklearn.datasets import make_circles\n",
    "from sklearn.ensemble import RandomTreesEmbedding, ExtraTreesClassifier\n",
    "from sklearn.decomposition import TruncatedSVD\n",
    "from sklearn.naive_bayes import BernoulliNB"
   ]
  },
  {
   "cell_type": "code",
   "execution_count": 91,
   "metadata": {},
   "outputs": [
    {
     "name": "stdout",
     "output_type": "stream",
     "text": [
      "/Users/megha/parallel/mnt/project/progress/active\n",
      "   S3D-IO    50-50-100-2-2-4-1     0.00  0.00.1  0.00.2    2.14  0.15  71.19  \\\n",
      "0  S3D-IO     50-50-50-2-2-2-1   260.19    0.02    0.06  326.63  0.04   0.14   \n",
      "1  S3D-IO    50-50-100-2-2-4-1   182.10    0.03    0.17   24.15  0.15   6.32   \n",
      "2  S3D-IO  200-200-400-2-4-4-1  1127.75    1.91    1.73  974.78  5.72   6.01   \n",
      "3  S3D-IO  200-200-200-2-4-4-1  1280.43    0.95    0.76  839.91  2.86   3.49   \n",
      "4  S3D-IO  200-200-400-2-2-4-1   612.72    1.91    3.19  462.31  5.72  12.67   \n",
      "\n",
      "   0.06  0.01   1048576   1  disable disable.1 disable.2 disable.3       1024  \n",
      "0  0.04  0.01     65536   5   enable   disable    enable   disable  624951296  \n",
      "1  0.07  0.01     65536  18  disable   disable    enable   disable  683671552  \n",
      "2  0.06  0.09   5570560   2   enable    enable   disable    enable  205520896  \n",
      "3  0.08  0.06  27000832   2   enable    enable    enable    enable  225443840  \n",
      "4  0.04  0.10    327680  17   enable   disable   disable   disable  120586240  \n",
      "(1141, 17)\n",
      "0       [50, 50, 50, 2, 2, 2, 1]\n",
      "1      [50, 50, 100, 2, 2, 4, 1]\n",
      "2    [200, 200, 400, 2, 4, 4, 1]\n",
      "3    [200, 200, 200, 2, 4, 4, 1]\n",
      "4    [200, 200, 400, 2, 2, 4, 1]\n",
      "Name: col2, dtype: object\n"
     ]
    }
   ],
   "source": [
    "import pandas as pd\n",
    "import os \n",
    "print(os.getcwd())\n",
    "data = pd.read_csv('../stats.txt', delim_whitespace=True)\n",
    "data = data.sample(frac=1).reset_index(drop=True)\n",
    "\n",
    "array = data.values\n",
    "\n",
    "print(data.head())\n",
    "print(data.shape)\n",
    "data.columns=['col1','col2','col3','col4','col5','col6','col7','col8','col9','col10','col11','col12','col13','col14','col15','col16','col17']\n",
    "#data['x'],data['y'],data['z'],data['nx'],data['ny']=data['col2'].str.split('-')\n",
    "z = data['col2'].str.split('-')\n",
    "print(z.head())\n",
    "data['col13']=data['col13'].eq(\"enable\").mul(1)\n",
    "data['col14']=data['col14'].eq(\"enable\").mul(1)\n",
    "data['col15']=data['col15'].eq(\"enable\").mul(1)\n",
    "data['col16']=data['col16'].eq(\"enable\").mul(1)"
   ]
  },
  {
   "cell_type": "code",
   "execution_count": 92,
   "metadata": {},
   "outputs": [
    {
     "name": "stdout",
     "output_type": "stream",
     "text": [
      "<class 'pandas.core.frame.DataFrame'>\n",
      "     0    1    2  3  4  5       cb1  cb2        cb7\n",
      "0   50   50   50  2  2  2     65536    5  624951296\n",
      "1   50   50  100  2  2  4     65536   18  683671552\n",
      "2  200  200  400  2  4  4   5570560    2  205520896\n",
      "3  200  200  200  2  4  4  27000832    2  225443840\n",
      "4  200  200  400  2  2  4    327680   17  120586240\n"
     ]
    }
   ],
   "source": [
    "X = pd.DataFrame(z.tolist())\n",
    "X = X.drop(6, 1)\n",
    "X['cb1']=data['col11']\n",
    "X['cb2']=data['col12']\n",
    "#X['cb3']=data['col13']\n",
    "#X['cb4']=data['col14']\n",
    "#X['cb5']=data['col15']\n",
    "#X['cb6']=data['col16']\n",
    "X['cb7']=data['col17']\n",
    "\n",
    "\n",
    "\n",
    "print(type(X))\n",
    "print(X.head())\n",
    "i=0\n",
    "\n",
    "for _ in X.columns:\n",
    "    if(i == 0):\n",
    "        continue\n",
    "    X.iloc[:,i].astype(int)\n",
    "    print(i)\n",
    "    i=i+1 \n",
    "\n",
    "#pd.options.display.max_rows=  1500\n",
    "#print(X.iloc[:,0])\n",
    "\n"
   ]
  },
  {
   "cell_type": "code",
   "execution_count": 93,
   "metadata": {},
   "outputs": [
    {
     "name": "stdout",
     "output_type": "stream",
     "text": [
      "<class 'pandas.core.frame.DataFrame'>\n",
      "     0    1    2  3  4  5       cb1  cb2        cb7\n",
      "0   50   50   50  2  2  2     65536    5  624951296\n",
      "1   50   50  100  2  2  4     65536   18  683671552\n",
      "2  200  200  400  2  4  4   5570560    2  205520896\n",
      "4  200  200  400  2  2  4    327680   17  120586240\n",
      "5  200  200  200  2  4  4  31457280    2  190840832\n",
      "<class 'pandas.core.frame.DataFrame'>\n",
      "(892,) (892, 9)\n",
      "[  14  632  601 1267  451]\n"
     ]
    }
   ],
   "source": [
    "Y = data['col8']\n",
    "Y=Y.values\n",
    "Y = Y*100\n",
    "Y = Y.astype(int)\n",
    "\n",
    "\n",
    "\n",
    "msk = np.random.rand(len(X)) < 0.8\n",
    "train_X = X[msk]\n",
    "test_X = X[~msk]\n",
    "train_Y = Y[msk]\n",
    "test_Y = Y[~msk]\n",
    "print(type(train_X))\n",
    "\n",
    "y = train_Y\n",
    "X = train_X\n",
    "#X = train_X.astype(int)\n",
    "\n",
    "\n",
    "print(X[0:5])\n",
    "print(type(X))\n",
    "\n",
    "print(y.shape, X.shape)\n",
    "print(y[0:5])\n",
    "\n"
   ]
  },
  {
   "cell_type": "code",
   "execution_count": 94,
   "metadata": {},
   "outputs": [
    {
     "data": {
      "text/plain": [
       "<892x73 sparse matrix of type '<class 'numpy.float64'>'\n",
       "\twith 8920 stored elements in Compressed Sparse Row format>"
      ]
     },
     "execution_count": 94,
     "metadata": {},
     "output_type": "execute_result"
    }
   ],
   "source": [
    "hasher = RandomTreesEmbedding(n_estimators=10, random_state=0, max_depth=3)\n",
    "X_transformed = hasher.fit_transform(X)\n",
    "X_transformed"
   ]
  },
  {
   "cell_type": "code",
   "execution_count": null,
   "metadata": {},
   "outputs": [],
   "source": []
  },
  {
   "cell_type": "code",
   "execution_count": 95,
   "metadata": {},
   "outputs": [],
   "source": [
    "svd = TruncatedSVD(n_components=2)\n",
    "X_reduced = svd.fit_transform(X_transformed)\n"
   ]
  },
  {
   "cell_type": "code",
   "execution_count": 96,
   "metadata": {},
   "outputs": [
    {
     "data": {
      "text/plain": [
       "BernoulliNB(alpha=1.0, binarize=0.0, class_prior=None, fit_prior=True)"
      ]
     },
     "execution_count": 96,
     "metadata": {},
     "output_type": "execute_result"
    }
   ],
   "source": [
    "nb = BernoulliNB()\n",
    "nb.fit(X_transformed, y)\n"
   ]
  },
  {
   "cell_type": "code",
   "execution_count": 97,
   "metadata": {},
   "outputs": [
    {
     "data": {
      "text/plain": [
       "ExtraTreesClassifier(bootstrap=False, class_weight=None, criterion='gini',\n",
       "           max_depth=3, max_features='auto', max_leaf_nodes=None,\n",
       "           min_impurity_decrease=0.0, min_impurity_split=None,\n",
       "           min_samples_leaf=1, min_samples_split=2,\n",
       "           min_weight_fraction_leaf=0.0, n_estimators=10, n_jobs=None,\n",
       "           oob_score=False, random_state=0, verbose=0, warm_start=False)"
      ]
     },
     "execution_count": 97,
     "metadata": {},
     "output_type": "execute_result"
    }
   ],
   "source": [
    "trees = ExtraTreesClassifier(max_depth=3, n_estimators=10, random_state=0)\n",
    "trees.fit(X, y)\n",
    "\n"
   ]
  },
  {
   "cell_type": "code",
   "execution_count": 98,
   "metadata": {},
   "outputs": [],
   "source": [
    "# fig = plt.figure(figsize=(9, 8))\n",
    "\n",
    "# ax = plt.subplot(221)\n",
    "# ax.scatter(X[:, 0], X[:, 1], c=y, s=50, edgecolor='k')\n",
    "# ax.set_title(\"Original Data (2d)\")\n",
    "# ax.set_xticks(())\n",
    "# ax.set_yticks(())\n",
    "\n",
    "# ax = plt.subplot(222)\n",
    "# ax.scatter(X_reduced[:, 0], X_reduced[:, 1], c=y, s=50, edgecolor='k')\n",
    "# ax.set_title(\"Truncated SVD reduction (2d) of transformed data (%dd)\" %\n",
    "#              X_transformed.shape[1])\n",
    "# ax.set_xticks(())\n",
    "# ax.set_yticks(())\n",
    "\n",
    "# # Plot the decision in original space. For that, we will assign a color\n",
    "# # to each point in the mesh [x_min, x_max]x[y_min, y_max].\n",
    "# h = .01\n",
    "# x_min, x_max = X[:, 0].min() , X[:, 0].max() \n",
    "# y_min, y_max = X[:, 1].min() , X[:, 1].max() \n",
    "# #xx, yy = np.meshgrid(np.arange(x_min, x_max, h), np.arange(y_min, y_max, h))"
   ]
  },
  {
   "cell_type": "code",
   "execution_count": null,
   "metadata": {},
   "outputs": [],
   "source": []
  },
  {
   "cell_type": "code",
   "execution_count": 99,
   "metadata": {},
   "outputs": [
    {
     "name": "stdout",
     "output_type": "stream",
     "text": [
      "[ 181 3604 3663  771 3604   85   13   13 1645   88 3663   13 3663   88\n",
      "  873   85 4367  873 3663   88   85   88  873  717   85   13   85  873\n",
      "   13  181   85  717   88  873   85   56   85 3604   85 3604   88   85\n",
      "   85   85   88  873  451 3604  451  873   85   84   85   85   85  717\n",
      "   85   85 3663 3604  873   85  181   85   88   88   85   84 1133   85\n",
      "   85   88  451  717   85 3663   85   85  873  873   61   88   12   13\n",
      "   85 1645  873   85 3604  181  451   88   85 3604  451  873  842   85\n",
      "  717  873 1645  909 3663   85  909   13  873  451   85   85   85  873\n",
      "  285  717   85   88   88  873  771   85   85  842  873  873   88  873\n",
      "   85   88   85  771 3604   73  451  285   88   88   85   85  771  873\n",
      "   85  451   13   88   12 3604  873   88  717  909   85   88  873   85\n",
      "  181  451   85  451   88  181   85  717   85 3604   85   88   88   85\n",
      "   13   85  873  181   13   85 4367   85  873 3663   13   12 3663   88\n",
      " 3604   88   85   85  909 3604  873 1645   88   13   85   88   88   88\n",
      "  181  873  873   88  873  285   13  873  873   85   85   85 4825  909\n",
      "   88  873 3604  285  873 4427 4367   85   13   85  873  451   85  873\n",
      "   85   56  873  451   88   88  873  873  181   13  771  285   85  181\n",
      "   85   56   88   88 3604   13  873   85 3375  873  873]\n",
      "[  349  2258  4246   747  3351    83    12    15  2160   149  3886    12\n",
      "  4327   610  1542    86  4975  4149 12773   210    79   143   956  1571\n",
      "    91    92   461  1170   172   188    82  1178   646  1001   156    64\n",
      "   218  4381    80  5107   364  1042   106   127   863   749   336  3554\n",
      "  1258   799    86   202   206   249   236  1332    76   115 10258  2944\n",
      "  1181   124   335   330   902    88   272   341   934   136   146   972\n",
      "   331  2016   236  4735   111   356   791  2226   107   217    12    13\n",
      "   316  1948   880   178  1953   584   440   194    89  3525   592   876\n",
      "  1165    81  1900   795  2043  1412  4739   149  1648    14   971   808\n",
      "    98   150   136   856   318  1798   220   723    84  4397   900   221\n",
      "    93   714  2986  1437   277  1923    94   473    91   672  2292   195\n",
      "   486   344   536   382   131    88   743  1284   142   541   105   271\n",
      "    12  2831  1126   813  1691   886    83   336   877    79   375   407\n",
      "   103   698    84   397   607  6639   754  3740   138   257   416   211\n",
      "    78    80   856   227    13    87  2412   282  3336 10663    13    12\n",
      "  4197   349  2282   736    98   284  4261  3264   850  1866  1019    60\n",
      "    77    88   587   742   155   932   787   124  4955   379    69  6114\n",
      "  1857   202   180   176  5758  1384   200   908  8016   409   975  3565\n",
      "  6341   343    14    96  1087   484    90   906   137    42  2680   571\n",
      "   886   225   840   933   321    14   788   354    82   194    84    41\n",
      "   682   542  3679    45  1393   233  3161   796  4089]\n"
     ]
    },
    {
     "data": {
      "text/plain": [
       "0.0321285140562249"
      ]
     },
     "execution_count": 99,
     "metadata": {},
     "output_type": "execute_result"
    }
   ],
   "source": [
    "print(trees.predict(test_X))\n",
    "print(test_Y)\n",
    "trees.score(test_X, test_Y, sample_weight=None)"
   ]
  },
  {
   "cell_type": "code",
   "execution_count": null,
   "metadata": {},
   "outputs": [],
   "source": []
  },
  {
   "cell_type": "code",
   "execution_count": null,
   "metadata": {},
   "outputs": [],
   "source": []
  },
  {
   "cell_type": "code",
   "execution_count": null,
   "metadata": {},
   "outputs": [],
   "source": []
  },
  {
   "cell_type": "code",
   "execution_count": null,
   "metadata": {},
   "outputs": [],
   "source": []
  }
 ],
 "metadata": {
  "kernelspec": {
   "display_name": "Python 3",
   "language": "python",
   "name": "python3"
  },
  "language_info": {
   "codemirror_mode": {
    "name": "ipython",
    "version": 3
   },
   "file_extension": ".py",
   "mimetype": "text/x-python",
   "name": "python",
   "nbconvert_exporter": "python",
   "pygments_lexer": "ipython3",
   "version": "3.7.0"
  }
 },
 "nbformat": 4,
 "nbformat_minor": 2
}
