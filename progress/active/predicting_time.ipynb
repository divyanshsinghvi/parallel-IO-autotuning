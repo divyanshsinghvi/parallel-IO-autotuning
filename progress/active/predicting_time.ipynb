{
 "cells": [
  {
   "cell_type": "code",
   "execution_count": 51,
   "metadata": {},
   "outputs": [],
   "source": [
    "import numpy as np\n",
    "import matplotlib.pyplot as plt\n",
    "\n",
    "from sklearn.datasets import make_circles\n",
    "from sklearn.ensemble import RandomTreesEmbedding, ExtraTreesClassifier\n",
    "from sklearn.decomposition import TruncatedSVD\n",
    "from sklearn.naive_bayes import BernoulliNB"
   ]
  },
  {
   "cell_type": "code",
   "execution_count": 76,
   "metadata": {},
   "outputs": [
    {
     "name": "stdout",
     "output_type": "stream",
     "text": [
      "(38, 17)\n",
      "(38, 7)\n"
     ]
    }
   ],
   "source": [
    "import pandas as pd\n",
    "data = pd.read_csv('../best.txt', delim_whitespace=True,nrows=38)\n",
    "array = data.values\n",
    "\n",
    "print(data.shape)\n",
    "data.columns=['col1','col2','col3','col4','col5','col6','col7','col8','col9','col10','col11','col12','col13','col14','col15','col16','col17']\n",
    "#data['x'],data['y'],data['z'],data['nx'],data['ny']=data['col2'].str.split('-')\n",
    "z = data['col2'].str.split('-')\n",
    "data['col13']=data['col13'].eq(\"enable\").mul(1)\n",
    "data['col14']=data['col14'].eq(\"enable\").mul(1)"
   ]
  },
  {
   "cell_type": "code",
   "execution_count": 84,
   "metadata": {},
   "outputs": [
    {
     "name": "stdout",
     "output_type": "stream",
     "text": [
      "(29,) (29, 7)\n"
     ]
    }
   ],
   "source": [
    "X = pd.DataFrame(z.tolist())\n",
    "Y = data['col8']\n",
    "\n",
    "msk = np.random.rand(len(X)) < 0.8\n",
    "train_X = X[msk]\n",
    "test_X = X[~msk]\n",
    "train_Y = Y[msk]\n",
    "test_Y = Y[~msk]\n",
    "\n",
    "y = train_Y.values\n",
    "X = train_X.values\n",
    "\n",
    "y = y.astype(int)\n",
    "X = X.astype(int)\n",
    "print(y.shape, X.shape)"
   ]
  },
  {
   "cell_type": "code",
   "execution_count": 90,
   "metadata": {},
   "outputs": [
    {
     "data": {
      "text/plain": [
       "<29x77 sparse matrix of type '<class 'numpy.float64'>'\n",
       "\twith 290 stored elements in Compressed Sparse Row format>"
      ]
     },
     "execution_count": 90,
     "metadata": {},
     "output_type": "execute_result"
    }
   ],
   "source": [
    "hasher = RandomTreesEmbedding(n_estimators=10, random_state=0, max_depth=3)\n",
    "X_transformed = hasher.fit_transform(train_X)\n",
    "X_transformed"
   ]
  },
  {
   "cell_type": "code",
   "execution_count": 91,
   "metadata": {},
   "outputs": [],
   "source": [
    "y = y*100"
   ]
  },
  {
   "cell_type": "code",
   "execution_count": 92,
   "metadata": {},
   "outputs": [],
   "source": [
    "svd = TruncatedSVD(n_components=2)\n",
    "X_reduced = svd.fit_transform(X_transformed)\n"
   ]
  },
  {
   "cell_type": "code",
   "execution_count": 93,
   "metadata": {},
   "outputs": [
    {
     "data": {
      "text/plain": [
       "BernoulliNB(alpha=1.0, binarize=0.0, class_prior=None, fit_prior=True)"
      ]
     },
     "execution_count": 93,
     "metadata": {},
     "output_type": "execute_result"
    }
   ],
   "source": [
    "nb = BernoulliNB()\n",
    "nb.fit(X_transformed, y)\n"
   ]
  },
  {
   "cell_type": "code",
   "execution_count": 94,
   "metadata": {},
   "outputs": [
    {
     "data": {
      "text/plain": [
       "ExtraTreesClassifier(bootstrap=False, class_weight=None, criterion='gini',\n",
       "           max_depth=3, max_features='auto', max_leaf_nodes=None,\n",
       "           min_impurity_decrease=0.0, min_impurity_split=None,\n",
       "           min_samples_leaf=1, min_samples_split=2,\n",
       "           min_weight_fraction_leaf=0.0, n_estimators=10, n_jobs=None,\n",
       "           oob_score=False, random_state=0, verbose=0, warm_start=False)"
      ]
     },
     "execution_count": 94,
     "metadata": {},
     "output_type": "execute_result"
    }
   ],
   "source": [
    "trees = ExtraTreesClassifier(max_depth=3, n_estimators=10, random_state=0)\n",
    "trees.fit(X, y)\n",
    "\n"
   ]
  },
  {
   "cell_type": "code",
   "execution_count": 95,
   "metadata": {},
   "outputs": [
    {
     "data": {
      "image/png": "[encoded data removed]",
      "text/plain": [
       "<Figure size 648x576 with 2 Axes>"
      ]
     },
     "metadata": {},
     "output_type": "display_data"
    }
   ],
   "source": [
    "fig = plt.figure(figsize=(9, 8))\n",
    "\n",
    "ax = plt.subplot(221)\n",
    "ax.scatter(X[:, 0], X[:, 1], c=y, s=50, edgecolor='k')\n",
    "ax.set_title(\"Original Data (2d)\")\n",
    "ax.set_xticks(())\n",
    "ax.set_yticks(())\n",
    "\n",
    "ax = plt.subplot(222)\n",
    "ax.scatter(X_reduced[:, 0], X_reduced[:, 1], c=y, s=50, edgecolor='k')\n",
    "ax.set_title(\"Truncated SVD reduction (2d) of transformed data (%dd)\" %\n",
    "             X_transformed.shape[1])\n",
    "ax.set_xticks(())\n",
    "ax.set_yticks(())\n",
    "\n",
    "# Plot the decision in original space. For that, we will assign a color\n",
    "# to each point in the mesh [x_min, x_max]x[y_min, y_max].\n",
    "h = .01\n",
    "x_min, x_max = X[:, 0].min() , X[:, 0].max() \n",
    "y_min, y_max = X[:, 1].min() , X[:, 1].max() \n",
    "#xx, yy = np.meshgrid(np.arange(x_min, x_max, h), np.arange(y_min, y_max, h))"
   ]
  },
  {
   "cell_type": "code",
   "execution_count": 96,
   "metadata": {},
   "outputs": [
    {
     "data": {
      "text/plain": [
       "100"
      ]
     },
     "execution_count": 96,
     "metadata": {},
     "output_type": "execute_result"
    }
   ],
   "source": [
    "X[:, 0].min()"
   ]
  },
  {
   "cell_type": "code",
   "execution_count": 101,
   "metadata": {},
   "outputs": [
    {
     "name": "stdout",
     "output_type": "stream",
     "text": [
      "[310000  10000  10000  40000  10000  60000 310000  40000  30000]\n",
      "      0    1    2  3  4  5  6\n",
      "14  400  400  400  4  4  4  1\n",
      "15  100  100  200  4  4  8  1\n",
      "18  100  100  400  4  4  8  1\n",
      "19  100  200  400  4  4  8  1\n",
      "25  100  200  200  2  4  4  1\n",
      "30  200  400  400  2  4  4  1\n",
      "32  400  400  400  2  4  4  1\n",
      "35  200  200  400  4  4  8  1\n",
      "37  200  200  400  4  4  4  1 14    23.62\n",
      "15     1.20\n",
      "18     1.97\n",
      "19     2.83\n",
      "25     1.78\n",
      "30    10.82\n",
      "32    24.12\n",
      "35     4.25\n",
      "37     6.49\n",
      "Name: col8, dtype: float64\n"
     ]
    }
   ],
   "source": [
    "print(trees.predict(test_X))\n",
    "print(test_X, test_Y)"
   ]
  },
  {
   "cell_type": "code",
   "execution_count": null,
   "metadata": {},
   "outputs": [],
   "source": []
  },
  {
   "cell_type": "code",
   "execution_count": null,
   "metadata": {},
   "outputs": [],
   "source": []
  },
  {
   "cell_type": "code",
   "execution_count": null,
   "metadata": {},
   "outputs": [],
   "source": []
  },
  {
   "cell_type": "code",
   "execution_count": null,
   "metadata": {},
   "outputs": [],
   "source": []
  }
 ],
 "metadata": {
  "kernelspec": {
   "display_name": "Python 3",
   "language": "python",
   "name": "python3"
  },
  "language_info": {
   "codemirror_mode": {
    "name": "ipython",
    "version": 3
   },
   "file_extension": ".py",
   "mimetype": "text/x-python",
   "name": "python",
   "nbconvert_exporter": "python",
   "pygments_lexer": "ipython3",
   "version": "3.7.0"
  }
 },
 "nbformat": 4,
 "nbformat_minor": 2
}
