{
 "cells": [
  {
   "cell_type": "code",
   "execution_count": 20,
   "metadata": {},
   "outputs": [],
   "source": [
    "import numpy as np\n",
    "import pandas as pd\n",
    "import matplotlib.pyplot as plt\n",
    "import seaborn as sns\n",
    "from sklearn import preprocessing\n",
    "from sklearn.datasets import make_circles\n",
    "from sklearn.ensemble import RandomTreesEmbedding, ExtraTreesClassifier\n",
    "from sklearn.decomposition import TruncatedSVD\n",
    "from sklearn.naive_bayes import BernoulliNB\n",
    "import pickle\n",
    "from sklearn.externals import joblib\n",
    "from sklearn.metrics import auc, accuracy_score, confusion_matrix, mean_squared_error\n",
    "import os "
   ]
  },
  {
   "cell_type": "code",
   "execution_count": 21,
   "metadata": {},
   "outputs": [
    {
     "name": "stdout",
     "output_type": "stream",
     "text": [
      "   S3D-IO    50-50-100-2-2-4-1   526.27  0.03  0.06   66.03  0.15   2.31  \\\n",
      "0  S3D-IO  100-100-400-2-4-4-1  1351.36  0.48  0.36  913.92  1.43   1.60   \n",
      "1  S3D-IO   50-100-100-2-2-4-1   360.76  0.06  0.17  133.79  0.30   2.28   \n",
      "2  S3D-IO   50-100-100-2-2-4-1   505.08  0.06  0.12  110.28  0.30   2.77   \n",
      "3  S3D-IO  200-200-400-4-4-4-1   496.78  1.91  3.93  524.19  5.72  11.18   \n",
      "4  S3D-IO  200-200-400-2-2-4-1   643.82  1.91  3.03  736.98  5.72   7.95   \n",
      "\n",
      "   0.05  0.01    196608  12   enable enable.1 enable.2  disable  478150656  \n",
      "0  0.07  0.06  23134208   2   enable   enable   enable   enable  503316480  \n",
      "1  0.05  0.02    851968   7  disable  disable  disable  disable  263192576  \n",
      "2  0.06  0.03    262144  15   enable   enable   enable   enable  523239424  \n",
      "3  0.37  0.59  32833536   1   enable  disable   enable   enable   88080384  \n",
      "4  0.10  0.04    524288   5  disable  disable  disable   enable  300941312  \n"
     ]
    },
    {
     "data": {
      "text/plain": [
       "<matplotlib.axes._subplots.AxesSubplot at 0x7f907a6b6a58>"
      ]
     },
     "execution_count": 21,
     "metadata": {},
     "output_type": "execute_result"
    },
    {
     "data": {
      "image/png": "[encoded data removed]",
      "text/plain": [
       "<Figure size 432x288 with 1 Axes>"
      ]
     },
     "metadata": {},
     "output_type": "display_data"
    }
   ],
   "source": [
    "projectdir = \"/home/dsinghvi/sem8/parallel/project/CS633-2018-19-2-project/progress/\"\n",
    "data = pd.read_csv('../S3DIOstats.txt', delim_whitespace=True)\n",
    "data = data.sample(frac=1).reset_index(drop=True)\n",
    "print(data.head(5))\n",
    "data.iloc[:,5].plot()"
   ]
  },
  {
   "cell_type": "code",
   "execution_count": 22,
   "metadata": {},
   "outputs": [
    {
     "name": "stdout",
     "output_type": "stream",
     "text": [
      "   S3D-IO    50-50-100-2-2-4-1   526.27  0.03  0.06   66.03  0.15   2.31  \\\n",
      "0  S3D-IO  100-100-400-2-4-4-1  1351.36  0.48  0.36  913.92  1.43   1.60   \n",
      "1  S3D-IO   50-100-100-2-2-4-1   360.76  0.06  0.17  133.79  0.30   2.28   \n",
      "2  S3D-IO   50-100-100-2-2-4-1   505.08  0.06  0.12  110.28  0.30   2.77   \n",
      "3  S3D-IO  200-200-400-4-4-4-1   496.78  1.91  3.93  524.19  5.72  11.18   \n",
      "4  S3D-IO  200-200-400-2-2-4-1   643.82  1.91  3.03  736.98  5.72   7.95   \n",
      "\n",
      "   0.05  0.01    196608  12   enable enable.1 enable.2  disable  478150656  \n",
      "0  0.07  0.06  23134208   2   enable   enable   enable   enable  503316480  \n",
      "1  0.05  0.02    851968   7  disable  disable  disable  disable  263192576  \n",
      "2  0.06  0.03    262144  15   enable   enable   enable   enable  523239424  \n",
      "3  0.37  0.59  32833536   1   enable  disable   enable   enable   88080384  \n",
      "4  0.10  0.04    524288   5  disable  disable  disable   enable  300941312  \n",
      "(1135, 17)\n",
      "0    [100, 100, 400, 2, 4, 4, 1]\n",
      "1     [50, 100, 100, 2, 2, 4, 1]\n",
      "2     [50, 100, 100, 2, 2, 4, 1]\n",
      "3    [200, 200, 400, 4, 4, 4, 1]\n",
      "4    [200, 200, 400, 2, 2, 4, 1]\n",
      "Name: col2, dtype: object\n"
     ]
    }
   ],
   "source": [
    "array = data.values\n",
    "\n",
    "print(data.head())\n",
    "print(data.shape)\n",
    "data.columns=['col1','col2','col3','col4','col5','col6','col7','col8','col9','col10','col11','col12','col13','col14','col15','col16','col17']\n",
    "z = data['col2'].str.split('-')\n",
    "print(z.head())\n",
    "data['col13']=data['col13'].eq(\"enable\").mul(1)\n",
    "data['col14']=data['col14'].eq(\"enable\").mul(1)\n",
    "data['col15']=data['col15'].eq(\"enable\").mul(1)\n",
    "data['col16']=data['col16'].eq(\"enable\").mul(1)"
   ]
  },
  {
   "cell_type": "code",
   "execution_count": 23,
   "metadata": {},
   "outputs": [
    {
     "name": "stdout",
     "output_type": "stream",
     "text": [
      "<class 'pandas.core.frame.DataFrame'>\n",
      "         0         1         2    3    4         5    6    7         8   \\\n",
      "0  0.142857  0.142857  0.466667  0.0  1.0  0.333333  1.0  1.0  0.019320   \n",
      "1  0.000000  0.142857  0.066667  0.0  0.0  0.333333  0.0  0.0  0.000712   \n",
      "2  0.000000  0.142857  0.066667  0.0  0.0  0.333333  1.0  1.0  0.000219   \n",
      "3  0.428571  0.428571  0.466667  1.0  1.0  0.333333  1.0  0.0  0.027421   \n",
      "4  0.428571  0.428571  0.466667  0.0  0.0  0.333333  0.0  0.0  0.000438   \n",
      "\n",
      "         9         10        11        12        13  \n",
      "0  0.004124  0.470069  0.142857  0.000000  0.428571  \n",
      "1  0.014433  0.245339  0.000000  0.142857  0.000000  \n",
      "2  0.030928  0.488714  0.000000  0.142857  0.000000  \n",
      "3  0.002062  0.081452  0.142857  0.142857  0.428571  \n",
      "4  0.010309  0.280667  0.428571  0.428571  0.428571  \n"
     ]
    },
    {
     "name": "stderr",
     "output_type": "stream",
     "text": [
      "/usr/local/lib/python3.6/dist-packages/sklearn/utils/validation.py:475: DataConversionWarning: Data with input dtype object was converted to float64 by MinMaxScaler.\n",
      "  warnings.warn(msg, DataConversionWarning)\n"
     ]
    }
   ],
   "source": [
    "X = pd.DataFrame(z.tolist())\n",
    "X = X.drop(6, 1)\n",
    "\n",
    "#FEATURES\n",
    "X['cb3']=data['col13']\n",
    "X['cb4']=data['col14']\n",
    "#X['cb5']=data['col15']\n",
    "#X['cb6']=data['col16']\n",
    "X['cb1']=data['col11']\n",
    "X['cb2']=data['col12']\n",
    "X['cb7']=data['col17']\n",
    "X['ratio1'] = X.iloc[:,0].astype(int)/(X.iloc[:,3].astype(int))\n",
    "X['ratio2'] = X.iloc[:,1].astype(int)/(X.iloc[:,4].astype(int))\n",
    "X['ratio3'] = X.iloc[:,2].astype(int)/(X.iloc[:,5].astype(int))\n",
    "\n",
    "#NORMALIZING \n",
    "min_max_scaler = preprocessing.MinMaxScaler()\n",
    "X_scaled = min_max_scaler.fit_transform(X.values)\n",
    "X = pd.DataFrame(X_scaled)\n",
    "\n",
    "print(type(X))\n",
    "print(X.head())\n",
    "X_total = X\n",
    "#pd.options.display.max_rows=  1500\n"
   ]
  },
  {
   "cell_type": "code",
   "execution_count": 24,
   "metadata": {},
   "outputs": [
    {
     "name": "stdout",
     "output_type": "stream",
     "text": [
      "[913 133 110 524 736]\n",
      "            0         1         2    3    4         5    6    7         8   \\\n",
      "912   0.428571  1.000000  0.466667  0.0  1.0  0.333333  1.0  0.0  0.000438   \n",
      "1037  0.142857  0.428571  0.200000  0.0  1.0  0.333333  0.0  0.0  0.000055   \n",
      "486   1.000000  1.000000  0.466667  0.0  0.0  0.333333  0.0  1.0  0.008210   \n",
      "1035  0.428571  0.428571  0.466667  0.0  0.0  0.333333  0.0  0.0  0.000055   \n",
      "704   0.000000  0.142857  0.066667  0.0  0.0  0.333333  0.0  1.0  0.000000   \n",
      "\n",
      "            9         10        11        12        13  \n",
      "912   0.000000  0.619235  0.428571  0.428571  0.428571  \n",
      "1037  0.016495  0.399411  0.142857  0.142857  0.142857  \n",
      "486   0.014433  0.058881  1.000000  1.000000  0.428571  \n",
      "1035  0.016495  0.184495  0.428571  0.428571  0.428571  \n",
      "704   0.014433  0.093229  0.000000  0.142857  0.000000  \n",
      "(794,) (794, 14)\n",
      "(341, 14) (341,)\n",
      "[379 859 483 652 332]\n"
     ]
    }
   ],
   "source": [
    "Y = data['col6']\n",
    "#Y = ((data['col7'])*1024)/data['col6'] + (data['col4']*1024)/data['col3']\n",
    "Y=Y.values\n",
    "Y = Y.astype(int)\n",
    "print(Y[0:5])\n",
    "import xgboost as xgb\n",
    "from sklearn.model_selection import train_test_split\n",
    "train_X, test_X, train_Y, test_Y = train_test_split(X_total,Y,test_size=0.3,random_state = 42) \n",
    "y = train_Y\n",
    "X = train_X\n",
    "print(X[0:5])\n",
    "print(y.shape, X.shape)\n",
    "print(test_X.shape,test_Y.shape)\n",
    "print(y[0:5])\n",
    "\n"
   ]
  },
  {
   "cell_type": "code",
   "execution_count": 25,
   "metadata": {},
   "outputs": [
    {
     "name": "stdout",
     "output_type": "stream",
     "text": [
      "116.13155198121606\n"
     ]
    }
   ],
   "source": [
    "xgb_model =xgb_model = xgb.XGBRegressor(objective=\"reg:linear\", random_state=42)\n",
    "\n",
    "xgb_model.fit(X, y)\n",
    "y_pred = xgb_model.predict(test_X)\n",
    "\n",
    "mse=mean_squared_error(test_Y, y_pred)\n",
    "print(np.sqrt(mse))"
   ]
  },
  {
   "cell_type": "code",
   "execution_count": 26,
   "metadata": {},
   "outputs": [
    {
     "data": {
      "text/plain": [
       "0.8641556830437517"
      ]
     },
     "execution_count": 26,
     "metadata": {},
     "output_type": "execute_result"
    }
   ],
   "source": [
    "#print(test_Y)\n",
    "from sklearn.metrics import r2_score\n",
    "r2_score(test_Y,y_pred)"
   ]
  },
  {
   "cell_type": "code",
   "execution_count": 27,
   "metadata": {},
   "outputs": [
    {
     "data": {
      "image/png": "[encoded data removed]",
      "text/plain": [
       "<Figure size 432x288 with 1 Axes>"
      ]
     },
     "metadata": {},
     "output_type": "display_data"
    }
   ],
   "source": [
    "fig, ax = plt.subplots()\n",
    "ax.scatter(test_Y, y_pred)\n",
    "ax.plot([test_Y.min(), test_Y.max()], [test_Y.min(), test_Y.max()], 'k--', lw=4)\n",
    "ax.set_xlabel('Measured')\n",
    "ax.set_ylabel('Predicted')\n",
    "plt.show()"
   ]
  },
  {
   "cell_type": "code",
   "execution_count": 28,
   "metadata": {},
   "outputs": [
    {
     "data": {
      "text/plain": [
       "['scalerxgb.save']"
      ]
     },
     "execution_count": 28,
     "metadata": {},
     "output_type": "execute_result"
    }
   ],
   "source": [
    "# save the model to disk\n",
    "\n",
    "modelfile = 'finalxgb.sav'\n",
    "joblib.dump(xgb_model, open(modelfile, 'wb'))\n",
    "scaler_filename = \"scalerxgb.save\"\n",
    "joblib.dump(min_max_scaler, scaler_filename) \n"
   ]
  },
  {
   "cell_type": "code",
   "execution_count": 19,
   "metadata": {},
   "outputs": [],
   "source": [
    "# ##### TESTING CODE FOR THIS MODEL\n",
    "\n",
    "\n",
    "# import json\n",
    "# with open(projectdir+'confex.json') as f:\n",
    "#     data = json.load(f)\n",
    "\n",
    "# romio_ds_read = data[\"mpi\"][\"romio_ds_read\"] == \"enable\"\n",
    "# romio_ds_write = data[\"mpi\"][\"romio_ds_write\"] == \"enable\"\n",
    "# romio_cb_read = data[\"mpi\"][\"romio_cb_read\"]\n",
    "# romio_cb_write = data[\"mpi\"][\"romio_cb_write\"]\n",
    "# cb_buffer_size = data[\"mpi\"][\"cb_buffer_size\"]\n",
    "# stripe_size = data[\"lfs\"][\"setstripe\"][\"size\"]\n",
    "# stripe_count = data[\"lfs\"][\"setstripe\"][\"count\"]\n",
    "\n",
    "# col_names =  ['cb5','cb6','cb7','cb8','cb8','cb10','cb11','cb12']\n",
    "# cb_df  = pd.DataFrame(columns = col_names)\n",
    "# cb_df.loc[len(cb_df)] = [romio_ds_read,romio_ds_write,stripe_size, stripe_count, cb_buffer_size,\"50\",\"50\",\"50\"]\n",
    "\n",
    "\n",
    "# scaler_filename = \"scalerxgb.save\"\n",
    "# scaler = joblib.load(scaler_filename)\n",
    "# xgb_model = joblib.load(modelfile)\n",
    "\n",
    "# print(test_X.head(1))\n",
    "\n",
    "\n",
    "# col_names =  ['f0','1', '2','3','4','5']\n",
    "# my_df = pd.DataFrame(columns=col_names)\n",
    "# my_df.loc[len(my_df)] = [100,100,100,2,2,4]\n",
    "\n",
    "# x = pd.concat([my_df,cb_df], axis=1)\n",
    "# norm_df = pd.DataFrame(scaler.transform(x))\n",
    "# print(norm_df)\n",
    "\n",
    "# xgb_model.predict(norm_df)\n",
    "# x\n",
    "# test_X.head(1)\n",
    "# trees.predict(test_X.head(1))"
   ]
  },
  {
   "cell_type": "code",
   "execution_count": null,
   "metadata": {},
   "outputs": [],
   "source": []
  },
  {
   "cell_type": "code",
   "execution_count": null,
   "metadata": {},
   "outputs": [],
   "source": []
  }
 ],
 "metadata": {
  "kernelspec": {
   "display_name": "Python 3",
   "language": "python",
   "name": "python3"
  },
  "language_info": {
   "codemirror_mode": {
    "name": "ipython",
    "version": 3
   },
   "file_extension": ".py",
   "mimetype": "text/x-python",
   "name": "python",
   "nbconvert_exporter": "python",
   "pygments_lexer": "ipython3",
   "version": "3.6.7"
  }
 },
 "nbformat": 4,
 "nbformat_minor": 2
}
