{
 "cells": [
  {
   "cell_type": "code",
   "execution_count": 354,
   "metadata": {},
   "outputs": [],
   "source": [
    "import numpy as np\n",
    "import pandas as pd\n",
    "import matplotlib.pyplot as plt\n",
    "import seaborn as sns\n",
    "from sklearn import preprocessing\n",
    "from sklearn.datasets import make_circles\n",
    "from sklearn.ensemble import RandomTreesEmbedding, ExtraTreesClassifier\n",
    "from sklearn.decomposition import TruncatedSVD\n",
    "from sklearn.naive_bayes import BernoulliNB\n",
    "import pickle\n",
    "from sklearn.externals import joblib\n",
    "from sklearn.metrics import auc, accuracy_score, confusion_matrix, mean_squared_error\n",
    "import os "
   ]
  },
  {
   "cell_type": "code",
   "execution_count": 355,
   "metadata": {},
   "outputs": [
    {
     "name": "stdout",
     "output_type": "stream",
     "text": [
      "   S3D-IO    50-50-100-2-2-4-1   526.27  0.03  0.06   66.03  0.15  2.31  0.05  \\\n",
      "0  S3D-IO  100-200-200-2-4-4-1  1089.66  0.48  0.45  778.57  1.43  1.88  0.07   \n",
      "1  S3D-IO     50-50-50-2-2-2-1    73.56  0.02  0.21  354.61  0.04  0.13  0.04   \n",
      "2  S3D-IO    50-50-100-2-2-4-1   483.04  0.03  0.06  336.28  0.15  0.45  0.06   \n",
      "3  S3D-IO  100-100-100-2-4-4-1   200.81  0.12  0.61  388.38  0.36  0.94  0.10   \n",
      "4  S3D-IO   50-100-100-2-2-4-1   344.12  0.06  0.18   55.24  0.30  5.53  0.10   \n",
      "\n",
      "   0.01   196608  12   enable enable.1 enable.2  disable  478150656  \n",
      "0  0.03  2097152   5  disable  disable  disable   enable  148897792  \n",
      "1  0.01   327680   2  disable   enable  disable  disable  482344960  \n",
      "2  0.02  1310720  20  disable  disable   enable  disable  629145600  \n",
      "3  0.03  1114112   1   enable  disable  disable   enable  415236096  \n",
      "4  0.03   131072   8   enable  disable   enable   enable  243269632  \n"
     ]
    },
    {
     "data": {
      "image/png": "[encoded data removed]",
      "text/plain": [
       "<Figure size 432x288 with 1 Axes>"
      ]
     },
     "metadata": {},
     "output_type": "display_data"
    }
   ],
   "source": [
    "data = pd.read_csv('../stats.txt', delim_whitespace=True)\n",
    "data = data.sample(frac=1).reset_index(drop=True)\n",
    "print(data.head(5))\n",
    "data.iloc[:,5].plot()\n",
    "modelfile = 'final.sav'"
   ]
  },
  {
   "cell_type": "code",
   "execution_count": 356,
   "metadata": {},
   "outputs": [
    {
     "name": "stdout",
     "output_type": "stream",
     "text": [
      "   S3D-IO    50-50-100-2-2-4-1   526.27  0.03  0.06   66.03  0.15  2.31  0.05  \\\n",
      "0  S3D-IO  100-200-200-2-4-4-1  1089.66  0.48  0.45  778.57  1.43  1.88  0.07   \n",
      "1  S3D-IO     50-50-50-2-2-2-1    73.56  0.02  0.21  354.61  0.04  0.13  0.04   \n",
      "2  S3D-IO    50-50-100-2-2-4-1   483.04  0.03  0.06  336.28  0.15  0.45  0.06   \n",
      "3  S3D-IO  100-100-100-2-4-4-1   200.81  0.12  0.61  388.38  0.36  0.94  0.10   \n",
      "4  S3D-IO   50-100-100-2-2-4-1   344.12  0.06  0.18   55.24  0.30  5.53  0.10   \n",
      "\n",
      "   0.01   196608  12   enable enable.1 enable.2  disable  478150656  \n",
      "0  0.03  2097152   5  disable  disable  disable   enable  148897792  \n",
      "1  0.01   327680   2  disable   enable  disable  disable  482344960  \n",
      "2  0.02  1310720  20  disable  disable   enable  disable  629145600  \n",
      "3  0.03  1114112   1   enable  disable  disable   enable  415236096  \n",
      "4  0.03   131072   8   enable  disable   enable   enable  243269632  \n",
      "(1135, 17)\n",
      "0    [100, 200, 200, 2, 4, 4, 1]\n",
      "1       [50, 50, 50, 2, 2, 2, 1]\n",
      "2      [50, 50, 100, 2, 2, 4, 1]\n",
      "3    [100, 100, 100, 2, 4, 4, 1]\n",
      "4     [50, 100, 100, 2, 2, 4, 1]\n",
      "Name: col2, dtype: object\n"
     ]
    }
   ],
   "source": [
    "array = data.values\n",
    "\n",
    "print(data.head())\n",
    "print(data.shape)\n",
    "data.columns=['col1','col2','col3','col4','col5','col6','col7','col8','col9','col10','col11','col12','col13','col14','col15','col16','col17']\n",
    "z = data['col2'].str.split('-')\n",
    "print(z.head())\n",
    "data['col13']=data['col13'].eq(\"enable\").mul(1)\n",
    "data['col14']=data['col14'].eq(\"enable\").mul(1)\n",
    "data['col15']=data['col15'].eq(\"enable\").mul(1)\n",
    "data['col16']=data['col16'].eq(\"enable\").mul(1)"
   ]
  },
  {
   "cell_type": "code",
   "execution_count": 357,
   "metadata": {},
   "outputs": [
    {
     "name": "stdout",
     "output_type": "stream",
     "text": [
      "<class 'pandas.core.frame.DataFrame'>\n",
      "         0         1         2    3    4         5    6    7         8   \\\n",
      "0  0.142857  0.428571  0.200000  0.0  1.0  0.333333  0.0  0.0  0.001751   \n",
      "1  0.000000  0.000000  0.000000  0.0  0.0  0.000000  0.0  1.0  0.000274   \n",
      "2  0.000000  0.000000  0.066667  0.0  0.0  0.333333  0.0  0.0  0.001095   \n",
      "3  0.142857  0.142857  0.066667  0.0  1.0  0.333333  1.0  0.0  0.000930   \n",
      "4  0.000000  0.142857  0.066667  0.0  0.0  0.333333  1.0  0.0  0.000109   \n",
      "\n",
      "         9         10        11        12        13  \n",
      "0  0.010309  0.138371  0.142857  0.142857  0.142857  \n",
      "1  0.004124  0.450442  0.000000  0.000000  0.000000  \n",
      "2  0.041237  0.587831  0.000000  0.000000  0.000000  \n",
      "3  0.002062  0.387635  0.142857  0.000000  0.000000  \n",
      "4  0.016495  0.226693  0.000000  0.142857  0.000000  \n"
     ]
    },
    {
     "name": "stderr",
     "output_type": "stream",
     "text": [
      "/usr/local/lib/python3.6/dist-packages/sklearn/utils/validation.py:475: DataConversionWarning: Data with input dtype object was converted to float64 by MinMaxScaler.\n",
      "  warnings.warn(msg, DataConversionWarning)\n"
     ]
    }
   ],
   "source": [
    "X = pd.DataFrame(z.tolist())\n",
    "X = X.drop(6, 1)\n",
    "\n",
    "#FEATURES\n",
    "X['cb3']=data['col13']\n",
    "X['cb4']=data['col14']\n",
    "#X['cb5']=data['col15']\n",
    "#X['cb6']=data['col16']\n",
    "X['cb1']=data['col11']\n",
    "X['cb2']=data['col12']\n",
    "X['cb7']=data['col17']\n",
    "X['ratio1'] = X.iloc[:,0].astype(int)/(X.iloc[:,3].astype(int))\n",
    "X['ratio2'] = X.iloc[:,1].astype(int)/(X.iloc[:,4].astype(int))\n",
    "X['ratio3'] = X.iloc[:,2].astype(int)/(X.iloc[:,5].astype(int))\n",
    "\n",
    "#NORMALIZING \n",
    "min_max_scaler = preprocessing.MinMaxScaler()\n",
    "X_scaled = min_max_scaler.fit_transform(X.values)\n",
    "X = pd.DataFrame(X_scaled)\n",
    "\n",
    "print(type(X))\n",
    "print(X.head())\n",
    "X_total = X\n",
    "#pd.options.display.max_rows=  1500\n"
   ]
  },
  {
   "cell_type": "code",
   "execution_count": 358,
   "metadata": {},
   "outputs": [
    {
     "name": "stdout",
     "output_type": "stream",
     "text": [
      "[778 354 336 388  55]\n",
      "           0         1         2    3    4         5    6    7         8   \\\n",
      "480  0.000000  0.142857  0.066667  0.0  0.0  0.333333  1.0  1.0  0.000055   \n",
      "283  0.428571  0.428571  0.466667  0.0  0.0  0.333333  1.0  1.0  0.000164   \n",
      "902  0.000000  0.142857  0.066667  0.0  0.0  0.333333  0.0  1.0  0.000109   \n",
      "991  1.000000  1.000000  0.466667  0.0  1.0  0.333333  1.0  1.0  0.007334   \n",
      "824  0.000000  0.142857  0.066667  0.0  0.0  0.333333  1.0  0.0  0.000055   \n",
      "\n",
      "           9         10        11        12        13  \n",
      "480  0.002062  0.455348  0.000000  0.142857  0.000000  \n",
      "283  0.016495  0.222767  0.428571  0.428571  0.428571  \n",
      "902  0.018557  0.354269  0.000000  0.142857  0.000000  \n",
      "991  0.111340  0.457311  1.000000  0.428571  0.428571  \n",
      "824  0.024742  0.340530  0.000000  0.142857  0.000000  \n",
      "(340,) (340, 14)\n",
      "[367 700 211 795  33]\n"
     ]
    }
   ],
   "source": [
    "Y = data['col6']\n",
    "#Y = ((data['col7'])*1024)/data['col6'] + (data['col4']*1024)/data['col3']\n",
    "Y=Y.values\n",
    "Y = Y.astype(int)\n",
    "print(Y[0:5])\n",
    "import xgboost as xgb\n",
    "from sklearn.model_selection import train_test_split\n",
    "train_X, test_X, train_Y, test_Y = train_test_split(X_total,Y,test_size=0.7,random_state = 42) \n",
    "y = train_Y\n",
    "X = train_X\n",
    "print(X[0:5])\n",
    "print(y.shape, X.shape)\n",
    "print(y[0:5])\n",
    "\n"
   ]
  },
  {
   "cell_type": "code",
   "execution_count": 359,
   "metadata": {},
   "outputs": [
    {
     "name": "stdout",
     "output_type": "stream",
     "text": [
      "116.93768836972903\n"
     ]
    }
   ],
   "source": [
    "xgb_model =xgb_model = xgb.XGBRegressor(objective=\"reg:linear\", random_state=42)\n",
    "\n",
    "xgb_model.fit(X, y)\n",
    "y_pred = xgb_model.predict(test_X)\n",
    "\n",
    "mse=mean_squared_error(test_Y, y_pred)\n",
    "print(np.sqrt(mse))\n",
    "\n",
    "# xgdmat = xgb.DMatrix(X,y)\n",
    "# our_params = {'eta': 0.1, 'seed':0,'subsample':0.8,'colsample_bytree':0.8,'objective':'reg:linear','max_depth':3,'min_child_weight':1}\n",
    "# final_gb=xgb.train(our_params,xgdmat)"
   ]
  },
  {
   "cell_type": "code",
   "execution_count": 360,
   "metadata": {},
   "outputs": [],
   "source": [
    "# tesdmat = xgb.DMatrix(test_X)\n",
    "# final_gb.predict(test_X)"
   ]
  },
  {
   "cell_type": "code",
   "execution_count": 361,
   "metadata": {},
   "outputs": [
    {
     "data": {
      "text/plain": [
       "0.87054037118784"
      ]
     },
     "execution_count": 361,
     "metadata": {},
     "output_type": "execute_result"
    }
   ],
   "source": [
    "#print(test_Y)\n",
    "from sklearn.metrics import r2_score\n",
    "r2_score(test_Y,y_pred)"
   ]
  },
  {
   "cell_type": "code",
   "execution_count": 362,
   "metadata": {},
   "outputs": [
    {
     "data": {
      "image/png": "[encoded data removed]",
      "text/plain": [
       "<Figure size 432x288 with 1 Axes>"
      ]
     },
     "metadata": {},
     "output_type": "display_data"
    }
   ],
   "source": [
    "fig, ax = plt.subplots()\n",
    "ax.scatter(test_Y, y_pred)\n",
    "ax.plot([test_Y.min(), test_Y.max()], [test_Y.min(), test_Y.max()], 'k--', lw=4)\n",
    "ax.set_xlabel('Measured')\n",
    "ax.set_ylabel('Predicted')\n",
    "plt.show()"
   ]
  },
  {
   "cell_type": "code",
   "execution_count": 363,
   "metadata": {},
   "outputs": [
    {
     "data": {
      "text/plain": [
       "['scalerxgb.save']"
      ]
     },
     "execution_count": 363,
     "metadata": {},
     "output_type": "execute_result"
    }
   ],
   "source": [
    "# save the model to disk\n",
    "\n",
    "modelfile = 'finalxgb.sav'\n",
    "joblib.dump(xgb_model, open(modelfile, 'wb'))\n",
    "scaler_filename = \"scalerxgb.save\"\n",
    "joblib.dump(min_max_scaler, scaler_filename) \n"
   ]
  },
  {
   "cell_type": "code",
   "execution_count": 364,
   "metadata": {},
   "outputs": [
    {
     "name": "stdout",
     "output_type": "stream",
     "text": [
      "           0    1         2    3    4         5    6    7         8   \\\n",
      "784  0.142857  1.0  0.466667  0.0  1.0  0.333333  0.0  1.0  0.023753   \n",
      "\n",
      "           9        10        11        12        13  \n",
      "784  0.018557  0.38371  0.142857  0.428571  0.428571  \n",
      "         0         1         2    3    4         5    6    7         8    9   \\\n",
      "0  0.142857  0.142857  0.066667  0.0  0.0  0.333333  1.0  0.0  0.001806  0.0   \n",
      "\n",
      "        10        11        12        13  \n",
      "0  0.07949  0.142857  0.142857  0.142857  \n"
     ]
    }
   ],
   "source": [
    "import json\n",
    "with open('/home/dsinghvi/sem8/parallel/project/CS633-2018-19-2-project/progress/confex.json') as f:\n",
    "    data = json.load(f)\n",
    "\n",
    "romio_ds_read = data[\"mpi\"][\"romio_ds_read\"] == \"enable\"\n",
    "romio_ds_write = data[\"mpi\"][\"romio_ds_write\"] == \"enable\"\n",
    "romio_cb_read = data[\"mpi\"][\"romio_cb_read\"]\n",
    "romio_cb_write = data[\"mpi\"][\"romio_cb_write\"]\n",
    "cb_buffer_size = data[\"mpi\"][\"cb_buffer_size\"]\n",
    "stripe_size = data[\"lfs\"][\"setstripe\"][\"size\"]\n",
    "stripe_count = data[\"lfs\"][\"setstripe\"][\"count\"]\n",
    "\n",
    "col_names =  ['cb5','cb6','cb7','cb8','cb8','cb10','cb11','cb12']\n",
    "cb_df  = pd.DataFrame(columns = col_names)\n",
    "cb_df.loc[len(cb_df)] = [romio_ds_read,romio_ds_write,stripe_size, stripe_count, cb_buffer_size,\"50\",\"50\",\"50\"]\n",
    "\n",
    "\n",
    "scaler_filename = \"scalerxgb.save\"\n",
    "scaler = joblib.load(scaler_filename)\n",
    "xgb_model = joblib.load(modelfile)\n",
    "\n",
    "print(test_X.head(1))\n",
    "\n",
    "\n",
    "col_names =  ['f0','1', '2','3','4','5']\n",
    "my_df = pd.DataFrame(columns=col_names)\n",
    "my_df.loc[len(my_df)] = [100,100,100,2,2,4]\n",
    "\n",
    "x = pd.concat([my_df,cb_df], axis=1)\n",
    "norm_df = pd.DataFrame(scaler.transform(x))\n",
    "print(norm_df)"
   ]
  },
  {
   "cell_type": "code",
   "execution_count": 365,
   "metadata": {},
   "outputs": [
    {
     "data": {
      "text/plain": [
       "array([376.69833], dtype=float32)"
      ]
     },
     "execution_count": 365,
     "metadata": {},
     "output_type": "execute_result"
    }
   ],
   "source": [
    "xgb_model.predict(norm_df)"
   ]
  },
  {
   "cell_type": "code",
   "execution_count": null,
   "metadata": {},
   "outputs": [],
   "source": [
    "x\n"
   ]
  },
  {
   "cell_type": "code",
   "execution_count": null,
   "metadata": {},
   "outputs": [],
   "source": [
    "test_X.head(1)"
   ]
  },
  {
   "cell_type": "code",
   "execution_count": null,
   "metadata": {},
   "outputs": [],
   "source": [
    "trees.predict(test_X.head(1))"
   ]
  },
  {
   "cell_type": "code",
   "execution_count": null,
   "metadata": {},
   "outputs": [],
   "source": []
  },
  {
   "cell_type": "code",
   "execution_count": null,
   "metadata": {},
   "outputs": [],
   "source": []
  }
 ],
 "metadata": {
  "kernelspec": {
   "display_name": "Python 3",
   "language": "python",
   "name": "python3"
  },
  "language_info": {
   "codemirror_mode": {
    "name": "ipython",
    "version": 3
   },
   "file_extension": ".py",
   "mimetype": "text/x-python",
   "name": "python",
   "nbconvert_exporter": "python",
   "pygments_lexer": "ipython3",
   "version": "3.6.7"
  }
 },
 "nbformat": 4,
 "nbformat_minor": 2
}
