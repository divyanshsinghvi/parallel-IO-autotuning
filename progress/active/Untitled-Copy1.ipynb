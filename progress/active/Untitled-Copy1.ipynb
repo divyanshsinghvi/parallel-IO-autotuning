{
 "cells": [
  {
   "cell_type": "code",
   "execution_count": 188,
   "metadata": {},
   "outputs": [
    {
     "name": "stderr",
     "output_type": "stream",
     "text": [
      "DEBUG:matplotlib.pyplot:Loaded backend module://ipykernel.pylab.backend_inline version unknown.\n"
     ]
    }
   ],
   "source": [
    "# Data manipulation\n",
    "import pandas as pd\n",
    "import numpy as np\n",
    "# Evaluation of the model\n",
    "from sklearn.model_selection import KFold, train_test_split\n",
    "from sklearn.metrics import roc_auc_score\n",
    "\n",
    "# Visualization\n",
    "import matplotlib.pyplot as plt\n",
    "import seaborn as sns\n",
    "plt.rcParams['font.size'] = 18\n",
    "%matplotlib inline\n",
    "\n",
    "MAX_EVALS = 30\n",
    "import csv\n",
    "from hyperopt import STATUS_OK\n",
    "from timeit import default_timer as timer\n",
    "\n"
   ]
  },
  {
   "cell_type": "code",
   "execution_count": 189,
   "metadata": {},
   "outputs": [],
   "source": [
    "import json\n",
    "import shlex\n",
    "import subprocess\n",
    "import logging\n",
    "from pprint import pprint\n",
    "import re\n",
    "import os\n"
   ]
  },
  {
   "cell_type": "code",
   "execution_count": 190,
   "metadata": {},
   "outputs": [],
   "source": [
    "def runthebenchmark(hyperparameters):\n",
    "    os.chdir('/home/meghaagr/project/progress/active/../')\n",
    "    storeinfile(hyperparameters)\n",
    "    out=subprocess.Popen([\"python3\",\"read_config.py\"], shell=False, stdout=subprocess.PIPE)\n",
    "    logging.basicConfig(level=logging.DEBUG)\n",
    "    output=out.stdout.read().decode('utf-8')\n",
    "    print(output)\n",
    "    if len(output.split(\" \")) > 5:\n",
    "        value = output.split(\" \")[5]\n",
    "        value = float(value)\n",
    "        print(value)\n",
    "        return float(1/value)\n",
    "    return 0;\n",
    "    #logging.basicConfig(filename='app.log', filemode='a', format='%(name)s - %(levelname)s - %(message)s',level=logging.DEBUG)\n"
   ]
  },
  {
   "cell_type": "code",
   "execution_count": 191,
   "metadata": {},
   "outputs": [],
   "source": [
    "def storeinfile(hyperparameters):\n",
    "    data={\"mpi\": {\"romio_ds_read\": \"enable\", \"romio_ds_write\": \"disable\"}, \"lfs\": {\"setstripe\": {\"size\": \"16777216\", \"count\": 4}}}\n",
    "    data[\"lfs\"][\"setstripe\"][\"size\"] = int(hyperparameters[\"setstripe-size\"])\n",
    "    data[\"lfs\"][\"setstripe\"][\"count\"] = int(hyperparameters[\"setstripe-count\"])\n",
    "\n",
    "    data[\"mpi\"][\"romio_ds_read\"] = hyperparameters[\"romio_ds_read\"]\n",
    "    data[\"mpi\"][\"romio_ds_write\"] = hyperparameters[\"romio_ds_write\"]\n",
    "    data[\"mpi\"][\"romio_cb_read\"] = hyperparameters[\"romio_cb_read\"]\n",
    "    data[\"mpi\"][\"romio_cb_write\"] = hyperparameters[\"romio_cb_write\"]\n",
    "    data[\"mpi\"][\"cb_buffer_size\"] = str(int(hyperparameters[\"cb_buffer_size\"]))\n",
    "    with open(\"confex.json\",\"w\") as fp:\n",
    "        json.dump(data,fp)\n",
    "    print(data)\n"
   ]
  },
  {
   "cell_type": "code",
   "execution_count": 192,
   "metadata": {},
   "outputs": [],
   "source": [
    "def objective(hyperparameters):\n",
    "    global ITERATION\n",
    "    ITERATION += 1\n",
    "    start = timer()\n",
    "    result=0\n",
    "    while(result == 0):\n",
    "        result = runthebenchmark(hyperparameters)\n",
    "    run_time = timer() - start\n",
    "    print({'loss': result, 'hyperparameters': hyperparameters, 'iteration': ITERATION, 'iteration_time': run_time, 'status': STATUS_OK})\n",
    "    # Write to the csv file ('a' means append)\n",
    "    of_connection = open(out_file, 'a')\n",
    "    writer = csv.writer(of_connection)\n",
    "    writer.writerow([float(result), hyperparameters, ITERATION, run_time])\n",
    "    return {'loss': float(result), 'hyperparameters': hyperparameters, 'iteration': ITERATION, 'iteration_time': run_time, 'status': STATUS_OK}\n"
   ]
  },
  {
   "cell_type": "code",
   "execution_count": 193,
   "metadata": {},
   "outputs": [],
   "source": [
    "from hyperopt import hp\n",
    "from hyperopt.pyll.stochastic import sample\n",
    "\n",
    "space = {\n",
    "    'romio_ds_read' : hp.choice('romio_ds_read',['enable','disable']),\n",
    "    'romio_ds_write' : hp.choice('romio_ds_write',['enable','disable']),\n",
    "    'romio_cb_read' : hp.choice('romio_cb_read',['enable','disable']),\n",
    "    'romio_cb_write' : hp.choice('romio_cb_write',['enable','disable']),\n",
    "    'cb_buffer_size' : 1048576*hp.quniform('cb_buffer_size',1,512,1),\n",
    "    'setstripe-size' : 65536*(hp.qloguniform('setstripe-size',0,3,1)),\n",
    "    'setstripe-count' : hp.quniform('setstripe-count',0,20,1)\n",
    "    \n",
    "}"
   ]
  },
  {
   "cell_type": "code",
   "execution_count": 194,
   "metadata": {},
   "outputs": [
    {
     "name": "stdout",
     "output_type": "stream",
     "text": [
      "{'cb_buffer_size': 55574528.0, 'romio_cb_read': 'disable', 'romio_cb_write': 'disable', 'romio_ds_read': 'enable', 'romio_ds_write': 'disable', 'setstripe-count': 10.0, 'setstripe-size': 65536.0}\n"
     ]
    }
   ],
   "source": [
    "x = sample(space)\n",
    "params = x\n",
    "print(x)\n",
    "cb_buffer_size_dist = []\n",
    "for _ in range(30):\n",
    "    cb_buffer_size_dist.append(sample(space)['cb_buffer_size'])"
   ]
  },
  {
   "cell_type": "code",
   "execution_count": 195,
   "metadata": {},
   "outputs": [],
   "source": [
    "from hyperopt import tpe\n",
    "\n",
    "# Create the algorithm\n",
    "tpe_algorithm = tpe.suggest\n",
    "\n",
    "\n",
    "from hyperopt import Trials\n",
    "\n",
    "# Record results\n",
    "bayes_trials = Trials()"
   ]
  },
  {
   "cell_type": "code",
   "execution_count": 196,
   "metadata": {},
   "outputs": [
    {
     "name": "stdout",
     "output_type": "stream",
     "text": [
      "/home/meghaagr/project/progress\n"
     ]
    }
   ],
   "source": [
    "# File to save first results\n",
    "print(os.getcwd())\n",
    "out_file = '/home/meghaagr/project/progress/active/result/gbm_trials.csv'\n",
    "of_connection = open(out_file, 'w')\n",
    "writer = csv.writer(of_connection)\n",
    "writer.writerow(['loss', 'params', 'iteration', 'train_time'])\n",
    "of_connection.close()\n"
   ]
  },
  {
   "cell_type": "code",
   "execution_count": 197,
   "metadata": {},
   "outputs": [
    {
     "name": "stdout",
     "output_type": "stream",
     "text": [
      "\r",
      "  0%|          | 0/30 [00:00<?, ?it/s, best loss: ?]"
     ]
    },
    {
     "name": "stderr",
     "output_type": "stream",
     "text": [
      "INFO:hyperopt.tpe:tpe_transform took 0.009613 seconds\n",
      "INFO:hyperopt.tpe:TPE using 0 trials\n"
     ]
    },
    {
     "name": "stdout",
     "output_type": "stream",
     "text": [
      "{'mpi': {'romio_ds_read': 'disable', 'romio_ds_write': 'disable', 'romio_cb_read': 'enable', 'romio_cb_write': 'enable', 'cb_buffer_size': '3145728'}, 'lfs': {'setstripe': {'size': 1048576, 'count': 3}}}\n",
      "S3D-IO 50-100-100-2-2-4-1 104.23 0.06 0.59 224.32 0.30 1.36 0.05 0.02 1048576 3 disable disable enable enable 3145728 \n",
      "\n",
      "224.32                                              \n",
      "{'loss': 0.004457917261055635, 'hyperparameters': {'cb_buffer_size': 3145728.0, 'romio_cb_read': 'enable', 'romio_cb_write': 'enable', 'romio_ds_read': 'disable', 'romio_ds_write': 'disable', 'setstripe-count': 3.0, 'setstripe-size': 1048576.0}, 'iteration': 1, 'iteration_time': 6.191020569764078, 'status': 'ok'}\n",
      "  3%|▎         | 1/30 [00:06<03:00,  6.22s/it, best loss: 0.004457917261055635]"
     ]
    },
    {
     "name": "stderr",
     "output_type": "stream",
     "text": [
      "INFO:hyperopt.tpe:tpe_transform took 0.010175 seconds\n",
      "INFO:hyperopt.tpe:TPE using 1/1 trials with best loss 0.004458\n"
     ]
    },
    {
     "name": "stdout",
     "output_type": "stream",
     "text": [
      "{'mpi': {'romio_ds_read': 'disable', 'romio_ds_write': 'disable', 'romio_cb_read': 'disable', 'romio_cb_write': 'disable', 'cb_buffer_size': '246415360'}, 'lfs': {'setstripe': {'size': 524288, 'count': 14}}}\n",
      "S3D-IO 50-100-100-2-2-4-1 435.40 0.06 0.14 112.72 0.30 2.71 0.07 0.02 524288 14 disable disable disable disable 246415360 \n",
      "\n",
      "112.72                                                                         \n",
      "{'loss': 0.008871540099361249, 'hyperparameters': {'cb_buffer_size': 246415360.0, 'romio_cb_read': 'disable', 'romio_cb_write': 'disable', 'romio_ds_read': 'disable', 'romio_ds_write': 'disable', 'setstripe-count': 14.0, 'setstripe-size': 524288.0}, 'iteration': 2, 'iteration_time': 6.909402400255203, 'status': 'ok'}\n",
      "  7%|▋         | 2/30 [00:13<03:00,  6.44s/it, best loss: 0.004457917261055635]"
     ]
    },
    {
     "name": "stderr",
     "output_type": "stream",
     "text": [
      "INFO:hyperopt.tpe:tpe_transform took 0.009887 seconds\n",
      "INFO:hyperopt.tpe:TPE using 2/2 trials with best loss 0.004458\n"
     ]
    },
    {
     "name": "stdout",
     "output_type": "stream",
     "text": [
      "{'mpi': {'romio_ds_read': 'enable', 'romio_ds_write': 'enable', 'romio_cb_read': 'enable', 'romio_cb_write': 'enable', 'cb_buffer_size': '296747008'}, 'lfs': {'setstripe': {'size': 655360, 'count': 8}}}\n",
      "S3D-IO 50-100-100-2-2-4-1 334.96 0.06 0.18 224.73 0.30 1.36 0.07 0.02 655360 8 enable enable enable enable 296747008 \n",
      "\n",
      "224.73                                                                         \n",
      "{'loss': 0.004449784185467005, 'hyperparameters': {'cb_buffer_size': 296747008.0, 'romio_cb_read': 'enable', 'romio_cb_write': 'enable', 'romio_ds_read': 'enable', 'romio_ds_write': 'enable', 'setstripe-count': 8.0, 'setstripe-size': 655360.0}, 'iteration': 3, 'iteration_time': 5.505212417803705, 'status': 'ok'}\n",
      " 10%|█         | 3/30 [00:18<02:46,  6.17s/it, best loss: 0.004449784185467005]"
     ]
    },
    {
     "name": "stderr",
     "output_type": "stream",
     "text": [
      "INFO:hyperopt.tpe:tpe_transform took 0.010489 seconds\n",
      "INFO:hyperopt.tpe:TPE using 3/3 trials with best loss 0.004450\n"
     ]
    },
    {
     "name": "stdout",
     "output_type": "stream",
     "text": [
      "{'mpi': {'romio_ds_read': 'disable', 'romio_ds_write': 'enable', 'romio_cb_read': 'enable', 'romio_cb_write': 'disable', 'cb_buffer_size': '307232768'}, 'lfs': {'setstripe': {'size': 131072, 'count': 5}}}\n",
      "S3D-IO 50-100-100-2-2-4-1 95.29 0.06 0.64 233.40 0.30 1.31 0.05 0.03 131072 5 disable enable enable disable 307232768 \n",
      "\n",
      "233.4                                                                          \n",
      "{'loss': 0.004284490145672665, 'hyperparameters': {'cb_buffer_size': 307232768.0, 'romio_cb_read': 'enable', 'romio_cb_write': 'disable', 'romio_ds_read': 'disable', 'romio_ds_write': 'enable', 'setstripe-count': 5.0, 'setstripe-size': 131072.0}, 'iteration': 4, 'iteration_time': 6.069656312465668, 'status': 'ok'}\n",
      " 13%|█▎        | 4/30 [00:24<02:39,  6.15s/it, best loss: 0.004284490145672665]"
     ]
    },
    {
     "name": "stderr",
     "output_type": "stream",
     "text": [
      "INFO:hyperopt.tpe:tpe_transform took 0.009989 seconds\n",
      "INFO:hyperopt.tpe:TPE using 4/4 trials with best loss 0.004284\n"
     ]
    },
    {
     "name": "stdout",
     "output_type": "stream",
     "text": [
      "{'mpi': {'romio_ds_read': 'enable', 'romio_ds_write': 'enable', 'romio_cb_read': 'disable', 'romio_cb_write': 'disable', 'cb_buffer_size': '340787200'}, 'lfs': {'setstripe': {'size': 131072, 'count': 19}}}\n",
      "S3D-IO 50-100-100-2-2-4-1 289.87 0.06 0.21 71.02 0.30 4.30 0.05 0.02 131072 19 enable enable disable disable 340787200 \n",
      "\n",
      "71.02                                                                          \n",
      "{'loss': 0.014080540692762603, 'hyperparameters': {'cb_buffer_size': 340787200.0, 'romio_cb_read': 'disable', 'romio_cb_write': 'disable', 'romio_ds_read': 'enable', 'romio_ds_write': 'enable', 'setstripe-count': 19.0, 'setstripe-size': 131072.0}, 'iteration': 5, 'iteration_time': 8.530249319039285, 'status': 'ok'}\n",
      " 17%|█▋        | 5/30 [00:33<02:51,  6.87s/it, best loss: 0.004284490145672665]"
     ]
    },
    {
     "name": "stderr",
     "output_type": "stream",
     "text": [
      "INFO:hyperopt.tpe:tpe_transform took 0.006629 seconds\n",
      "INFO:hyperopt.tpe:TPE using 5/5 trials with best loss 0.004284\n"
     ]
    },
    {
     "name": "stdout",
     "output_type": "stream",
     "text": [
      "{'mpi': {'romio_ds_read': 'disable', 'romio_ds_write': 'enable', 'romio_cb_read': 'disable', 'romio_cb_write': 'enable', 'cb_buffer_size': '127926272'}, 'lfs': {'setstripe': {'size': 131072, 'count': 9}}}\n",
      "S3D-IO 50-100-100-2-2-4-1 244.85 0.06 0.25 138.20 0.30 2.21 0.07 0.02 131072 9 disable enable disable enable 127926272 \n",
      "\n",
      "138.2                                                                          \n",
      "{'loss': 0.007235890014471781, 'hyperparameters': {'cb_buffer_size': 127926272.0, 'romio_cb_read': 'disable', 'romio_cb_write': 'enable', 'romio_ds_read': 'disable', 'romio_ds_write': 'enable', 'setstripe-count': 9.0, 'setstripe-size': 131072.0}, 'iteration': 6, 'iteration_time': 6.475348972715437, 'status': 'ok'}\n",
      " 20%|██        | 6/30 [00:39<02:42,  6.76s/it, best loss: 0.004284490145672665]"
     ]
    },
    {
     "name": "stderr",
     "output_type": "stream",
     "text": [
      "INFO:hyperopt.tpe:tpe_transform took 0.014946 seconds\n",
      "INFO:hyperopt.tpe:TPE using 6/6 trials with best loss 0.004284\n"
     ]
    },
    {
     "name": "stdout",
     "output_type": "stream",
     "text": [
      "{'mpi': {'romio_ds_read': 'enable', 'romio_ds_write': 'enable', 'romio_cb_read': 'enable', 'romio_cb_write': 'disable', 'cb_buffer_size': '468713472'}, 'lfs': {'setstripe': {'size': 524288, 'count': 6}}}\n",
      "S3D-IO 50-100-100-2-2-4-1 226.06 0.06 0.27 204.53 0.30 1.49 0.07 0.03 524288 6 enable enable enable disable 468713472 \n",
      "\n",
      "204.53                                                                         \n",
      "{'loss': 0.004889258299515964, 'hyperparameters': {'cb_buffer_size': 468713472.0, 'romio_cb_read': 'enable', 'romio_cb_write': 'disable', 'romio_ds_read': 'enable', 'romio_ds_write': 'enable', 'setstripe-count': 6.0, 'setstripe-size': 524288.0}, 'iteration': 7, 'iteration_time': 5.777005371637642, 'status': 'ok'}\n",
      " 23%|██▎       | 7/30 [00:45<02:28,  6.48s/it, best loss: 0.004284490145672665]"
     ]
    },
    {
     "name": "stderr",
     "output_type": "stream",
     "text": [
      "INFO:hyperopt.tpe:tpe_transform took 0.013099 seconds\n",
      "INFO:hyperopt.tpe:TPE using 7/7 trials with best loss 0.004284\n"
     ]
    },
    {
     "name": "stdout",
     "output_type": "stream",
     "text": [
      "{'mpi': {'romio_ds_read': 'enable', 'romio_ds_write': 'enable', 'romio_cb_read': 'enable', 'romio_cb_write': 'disable', 'cb_buffer_size': '290455552'}, 'lfs': {'setstripe': {'size': 196608, 'count': 12}}}\n",
      "S3D-IO 50-100-100-2-2-4-1 297.56 0.06 0.21 66.88 0.30 4.56 0.06 0.03 196608 12 enable enable enable disable 290455552 \n",
      "\n",
      "66.88                                                                          \n",
      "{'loss': 0.014952153110047849, 'hyperparameters': {'cb_buffer_size': 290455552.0, 'romio_cb_read': 'enable', 'romio_cb_write': 'disable', 'romio_ds_read': 'enable', 'romio_ds_write': 'enable', 'setstripe-count': 12.0, 'setstripe-size': 196608.0}, 'iteration': 8, 'iteration_time': 8.773635063320398, 'status': 'ok'}\n",
      " 27%|██▋       | 8/30 [00:54<02:37,  7.18s/it, best loss: 0.004284490145672665]"
     ]
    },
    {
     "name": "stderr",
     "output_type": "stream",
     "text": [
      "INFO:hyperopt.tpe:tpe_transform took 0.010005 seconds\n",
      "INFO:hyperopt.tpe:TPE using 8/8 trials with best loss 0.004284\n"
     ]
    },
    {
     "name": "stdout",
     "output_type": "stream",
     "text": [
      "{'mpi': {'romio_ds_read': 'enable', 'romio_ds_write': 'enable', 'romio_cb_read': 'disable', 'romio_cb_write': 'enable', 'cb_buffer_size': '252706816'}, 'lfs': {'setstripe': {'size': 196608, 'count': 17}}}\n",
      "S3D-IO 50-100-100-2-2-4-1 104.83 0.06 0.58 58.04 0.30 5.26 0.08 0.02 196608 17 enable enable disable enable 252706816 \n",
      "\n",
      "58.04                                                                          \n",
      "{'loss': 0.01722949689869056, 'hyperparameters': {'cb_buffer_size': 252706816.0, 'romio_cb_read': 'disable', 'romio_cb_write': 'enable', 'romio_ds_read': 'enable', 'romio_ds_write': 'enable', 'setstripe-count': 17.0, 'setstripe-size': 196608.0}, 'iteration': 9, 'iteration_time': 9.8386559644714, 'status': 'ok'}\n",
      " 30%|███       | 9/30 [01:04<02:47,  7.98s/it, best loss: 0.004284490145672665]"
     ]
    },
    {
     "name": "stderr",
     "output_type": "stream",
     "text": [
      "INFO:hyperopt.tpe:tpe_transform took 0.010131 seconds\n",
      "INFO:hyperopt.tpe:TPE using 9/9 trials with best loss 0.004284\n"
     ]
    },
    {
     "name": "stdout",
     "output_type": "stream",
     "text": [
      "{'mpi': {'romio_ds_read': 'enable', 'romio_ds_write': 'disable', 'romio_cb_read': 'enable', 'romio_cb_write': 'disable', 'cb_buffer_size': '135266304'}, 'lfs': {'setstripe': {'size': 65536, 'count': 13}}}\n",
      "S3D-IO 50-100-100-2-2-4-1 328.60 0.06 0.19 31.20 0.30 9.78 0.07 0.03 65536 13 enable disable enable disable 135266304 \n",
      "\n",
      "31.2                                                                           \n",
      "{'loss': 0.032051282051282055, 'hyperparameters': {'cb_buffer_size': 135266304.0, 'romio_cb_read': 'enable', 'romio_cb_write': 'disable', 'romio_ds_read': 'enable', 'romio_ds_write': 'disable', 'setstripe-count': 13.0, 'setstripe-size': 65536.0}, 'iteration': 10, 'iteration_time': 13.983238934539258, 'status': 'ok'}\n",
      " 33%|███▎      | 10/30 [01:18<03:15,  9.79s/it, best loss: 0.004284490145672665]"
     ]
    },
    {
     "name": "stderr",
     "output_type": "stream",
     "text": [
      "INFO:hyperopt.tpe:tpe_transform took 0.010743 seconds\n",
      "INFO:hyperopt.tpe:TPE using 10/10 trials with best loss 0.004284\n"
     ]
    },
    {
     "name": "stdout",
     "output_type": "stream",
     "text": [
      "{'mpi': {'romio_ds_read': 'disable', 'romio_ds_write': 'disable', 'romio_cb_read': 'disable', 'romio_cb_write': 'enable', 'cb_buffer_size': '395313152'}, 'lfs': {'setstripe': {'size': 262144, 'count': 20}}}\n",
      "S3D-IO 50-100-100-2-2-4-1 541.52 0.06 0.11 87.67 0.30 3.48 0.06 0.03 262144 20 disable disable disable enable 395313152 \n",
      "\n",
      "87.67                                                                           \n",
      "{'loss': 0.011406410402646287, 'hyperparameters': {'cb_buffer_size': 395313152.0, 'romio_cb_read': 'disable', 'romio_cb_write': 'enable', 'romio_ds_read': 'disable', 'romio_ds_write': 'disable', 'setstripe-count': 20.0, 'setstripe-size': 262144.0}, 'iteration': 11, 'iteration_time': 7.548892511986196, 'status': 'ok'}\n",
      " 37%|███▋      | 11/30 [01:25<02:53,  9.13s/it, best loss: 0.004284490145672665]"
     ]
    },
    {
     "name": "stderr",
     "output_type": "stream",
     "text": [
      "INFO:hyperopt.tpe:tpe_transform took 0.013227 seconds\n",
      "INFO:hyperopt.tpe:TPE using 11/11 trials with best loss 0.004284\n"
     ]
    },
    {
     "name": "stdout",
     "output_type": "stream",
     "text": [
      "{'mpi': {'romio_ds_read': 'enable', 'romio_ds_write': 'enable', 'romio_cb_read': 'disable', 'romio_cb_write': 'disable', 'cb_buffer_size': '347078656'}, 'lfs': {'setstripe': {'size': 65536, 'count': 14}}}\n",
      "S3D-IO 50-100-100-2-2-4-1 285.62 0.06 0.21 37.53 0.30 8.13 0.07 0.02 65536 14 enable enable disable disable 347078656 \n",
      "\n",
      "37.53                                                                           \n",
      "{'loss': 0.02664535038635758, 'hyperparameters': {'cb_buffer_size': 347078656.0, 'romio_cb_read': 'disable', 'romio_cb_write': 'disable', 'romio_ds_read': 'enable', 'romio_ds_write': 'enable', 'setstripe-count': 14.0, 'setstripe-size': 65536.0}, 'iteration': 12, 'iteration_time': 12.36706867814064, 'status': 'ok'}\n",
      " 40%|████      | 12/30 [01:38<03:01, 10.11s/it, best loss: 0.004284490145672665]"
     ]
    },
    {
     "name": "stderr",
     "output_type": "stream",
     "text": [
      "INFO:hyperopt.tpe:tpe_transform took 0.010255 seconds\n",
      "INFO:hyperopt.tpe:TPE using 12/12 trials with best loss 0.004284\n"
     ]
    },
    {
     "name": "stdout",
     "output_type": "stream",
     "text": [
      "{'mpi': {'romio_ds_read': 'enable', 'romio_ds_write': 'disable', 'romio_cb_read': 'disable', 'romio_cb_write': 'enable', 'cb_buffer_size': '521142272'}, 'lfs': {'setstripe': {'size': 65536, 'count': 0}}}\n",
      "S3D-IO 50-100-100-2-2-4-1 373.88 0.06 0.16 348.51 0.30 0.88 0.12 0.05 65536 0 enable disable disable enable 521142272 \n",
      "\n",
      "348.51                                                                          \n",
      "{'loss': 0.0028693581245875298, 'hyperparameters': {'cb_buffer_size': 521142272.0, 'romio_cb_read': 'disable', 'romio_cb_write': 'enable', 'romio_ds_read': 'enable', 'romio_ds_write': 'disable', 'setstripe-count': 0.0, 'setstripe-size': 65536.0}, 'iteration': 13, 'iteration_time': 5.210991165600717, 'status': 'ok'}\n",
      " 43%|████▎     | 13/30 [01:43<02:27,  8.65s/it, best loss: 0.0028693581245875298]"
     ]
    },
    {
     "name": "stderr",
     "output_type": "stream",
     "text": [
      "INFO:hyperopt.tpe:tpe_transform took 0.010678 seconds\n",
      "INFO:hyperopt.tpe:TPE using 13/13 trials with best loss 0.002869\n"
     ]
    },
    {
     "name": "stdout",
     "output_type": "stream",
     "text": [
      "{'mpi': {'romio_ds_read': 'disable', 'romio_ds_write': 'enable', 'romio_cb_read': 'enable', 'romio_cb_write': 'enable', 'cb_buffer_size': '396361728'}, 'lfs': {'setstripe': {'size': 327680, 'count': 5}}}\n",
      "S3D-IO 50-100-100-2-2-4-1 108.02 0.06 0.57 163.71 0.30 1.86 0.07 0.03 327680 5 disable enable enable enable 396361728 \n",
      "\n",
      "163.71                                                                           \n",
      "{'loss': 0.006108362348054486, 'hyperparameters': {'cb_buffer_size': 396361728.0, 'romio_cb_read': 'enable', 'romio_cb_write': 'enable', 'romio_ds_read': 'disable', 'romio_ds_write': 'enable', 'setstripe-count': 5.0, 'setstripe-size': 327680.0}, 'iteration': 14, 'iteration_time': 6.498173527419567, 'status': 'ok'}\n",
      " 47%|████▋     | 14/30 [01:50<02:08,  8.02s/it, best loss: 0.0028693581245875298]"
     ]
    },
    {
     "name": "stderr",
     "output_type": "stream",
     "text": [
      "INFO:hyperopt.tpe:tpe_transform took 0.014433 seconds\n",
      "INFO:hyperopt.tpe:TPE using 14/14 trials with best loss 0.002869\n"
     ]
    },
    {
     "name": "stdout",
     "output_type": "stream",
     "text": [
      "{'mpi': {'romio_ds_read': 'enable', 'romio_ds_write': 'disable', 'romio_cb_read': 'enable', 'romio_cb_write': 'disable', 'cb_buffer_size': '285212672'}, 'lfs': {'setstripe': {'size': 65536, 'count': 3}}}\n",
      "S3D-IO 50-100-100-2-2-4-1 320.29 0.06 0.19 306.32 0.30 1.00 0.06 0.02 65536 3 enable disable enable disable 285212672 \n",
      "\n",
      "306.32                                                                           \n",
      "{'loss': 0.0032645599373204493, 'hyperparameters': {'cb_buffer_size': 285212672.0, 'romio_cb_read': 'enable', 'romio_cb_write': 'disable', 'romio_ds_read': 'enable', 'romio_ds_write': 'disable', 'setstripe-count': 3.0, 'setstripe-size': 65536.0}, 'iteration': 15, 'iteration_time': 5.235235403291881, 'status': 'ok'}\n",
      " 50%|█████     | 15/30 [01:55<01:47,  7.19s/it, best loss: 0.0028693581245875298]"
     ]
    },
    {
     "name": "stderr",
     "output_type": "stream",
     "text": [
      "INFO:hyperopt.tpe:tpe_transform took 0.009858 seconds\n",
      "INFO:hyperopt.tpe:TPE using 15/15 trials with best loss 0.002869\n"
     ]
    },
    {
     "name": "stdout",
     "output_type": "stream",
     "text": [
      "{'mpi': {'romio_ds_read': 'enable', 'romio_ds_write': 'disable', 'romio_cb_read': 'enable', 'romio_cb_write': 'enable', 'cb_buffer_size': '530579456'}, 'lfs': {'setstripe': {'size': 720896, 'count': 16}}}\n",
      "S3D-IO 50-100-100-2-2-4-1 401.19 0.06 0.15 132.55 0.30 2.30 0.06 0.02 720896 16 enable disable enable enable 530579456 \n",
      "\n",
      "132.55                                                                           \n",
      "{'loss': 0.007544322897019992, 'hyperparameters': {'cb_buffer_size': 530579456.0, 'romio_cb_read': 'enable', 'romio_cb_write': 'enable', 'romio_ds_read': 'enable', 'romio_ds_write': 'disable', 'setstripe-count': 16.0, 'setstripe-size': 720896.0}, 'iteration': 16, 'iteration_time': 6.507812900468707, 'status': 'ok'}\n",
      " 53%|█████▎    | 16/30 [02:01<01:37,  7.00s/it, best loss: 0.0028693581245875298]"
     ]
    },
    {
     "name": "stderr",
     "output_type": "stream",
     "text": [
      "INFO:hyperopt.tpe:tpe_transform took 0.010231 seconds\n",
      "INFO:hyperopt.tpe:TPE using 16/16 trials with best loss 0.002869\n"
     ]
    },
    {
     "name": "stdout",
     "output_type": "stream",
     "text": [
      "{'mpi': {'romio_ds_read': 'enable', 'romio_ds_write': 'disable', 'romio_cb_read': 'enable', 'romio_cb_write': 'disable', 'cb_buffer_size': '469762048'}, 'lfs': {'setstripe': {'size': 393216, 'count': 4}}}\n",
      "S3D-IO 50-100-100-2-2-4-1 244.41 0.06 0.25 253.07 0.30 1.21 0.06 0.03 393216 4 enable disable enable disable 469762048 \n",
      "\n",
      "253.07                                                                           \n",
      "{'loss': 0.0039514758762397755, 'hyperparameters': {'cb_buffer_size': 469762048.0, 'romio_cb_read': 'enable', 'romio_cb_write': 'disable', 'romio_ds_read': 'enable', 'romio_ds_write': 'disable', 'setstripe-count': 4.0, 'setstripe-size': 393216.0}, 'iteration': 17, 'iteration_time': 5.462051587179303, 'status': 'ok'}\n",
      " 57%|█████▋    | 17/30 [02:07<01:25,  6.54s/it, best loss: 0.0028693581245875298]"
     ]
    },
    {
     "name": "stderr",
     "output_type": "stream",
     "text": [
      "INFO:hyperopt.tpe:tpe_transform took 0.009998 seconds\n",
      "INFO:hyperopt.tpe:TPE using 17/17 trials with best loss 0.002869\n"
     ]
    },
    {
     "name": "stdout",
     "output_type": "stream",
     "text": [
      "{'mpi': {'romio_ds_read': 'enable', 'romio_ds_write': 'enable', 'romio_cb_read': 'disable', 'romio_cb_write': 'enable', 'cb_buffer_size': '213909504'}, 'lfs': {'setstripe': {'size': 786432, 'count': 4}}}\n",
      "S3D-IO 50-100-100-2-2-4-1 301.21 0.06 0.20 304.54 0.30 1.00 0.07 0.02 786432 4 enable enable disable enable 213909504 \n",
      "\n",
      "304.54                                                                           \n",
      "{'loss': 0.003283640901031063, 'hyperparameters': {'cb_buffer_size': 213909504.0, 'romio_cb_read': 'disable', 'romio_cb_write': 'enable', 'romio_ds_read': 'enable', 'romio_ds_write': 'enable', 'setstripe-count': 4.0, 'setstripe-size': 786432.0}, 'iteration': 18, 'iteration_time': 5.227029758505523, 'status': 'ok'}\n",
      " 60%|██████    | 18/30 [02:12<01:13,  6.16s/it, best loss: 0.0028693581245875298]"
     ]
    },
    {
     "name": "stderr",
     "output_type": "stream",
     "text": [
      "INFO:hyperopt.tpe:tpe_transform took 0.005180 seconds\n",
      "INFO:hyperopt.tpe:TPE using 18/18 trials with best loss 0.002869\n"
     ]
    },
    {
     "name": "stdout",
     "output_type": "stream",
     "text": [
      "{'mpi': {'romio_ds_read': 'disable', 'romio_ds_write': 'disable', 'romio_cb_read': 'enable', 'romio_cb_write': 'enable', 'cb_buffer_size': '47185920'}, 'lfs': {'setstripe': {'size': 131072, 'count': 6}}}\n",
      "S3D-IO 50-100-100-2-2-4-1 185.90 0.06 0.33 94.06 0.30 3.24 0.05 0.02 131072 6 disable disable enable enable 47185920 \n",
      "\n",
      "94.06                                                                            \n",
      "{'loss': 0.0106315118009781, 'hyperparameters': {'cb_buffer_size': 47185920.0, 'romio_cb_read': 'enable', 'romio_cb_write': 'enable', 'romio_ds_read': 'disable', 'romio_ds_write': 'disable', 'setstripe-count': 6.0, 'setstripe-size': 131072.0}, 'iteration': 19, 'iteration_time': 7.576150564476848, 'status': 'ok'}\n",
      " 63%|██████▎   | 19/30 [02:20<01:12,  6.59s/it, best loss: 0.0028693581245875298]"
     ]
    },
    {
     "name": "stderr",
     "output_type": "stream",
     "text": [
      "INFO:hyperopt.tpe:tpe_transform took 0.010121 seconds\n",
      "INFO:hyperopt.tpe:TPE using 19/19 trials with best loss 0.002869\n"
     ]
    },
    {
     "name": "stdout",
     "output_type": "stream",
     "text": [
      "{'mpi': {'romio_ds_read': 'enable', 'romio_ds_write': 'enable', 'romio_cb_read': 'disable', 'romio_cb_write': 'enable', 'cb_buffer_size': '264241152'}, 'lfs': {'setstripe': {'size': 131072, 'count': 9}}}\n",
      "S3D-IO 50-100-100-2-2-4-1 270.05 0.06 0.23 195.87 0.30 1.56 0.05 0.03 131072 9 enable enable disable enable 264241152 \n",
      "\n",
      "195.87                                                                           \n",
      "{'loss': 0.005105427068974319, 'hyperparameters': {'cb_buffer_size': 264241152.0, 'romio_cb_read': 'disable', 'romio_cb_write': 'enable', 'romio_ds_read': 'enable', 'romio_ds_write': 'enable', 'setstripe-count': 9.0, 'setstripe-size': 131072.0}, 'iteration': 20, 'iteration_time': 5.701894709840417, 'status': 'ok'}\n",
      " 67%|██████▋   | 20/30 [02:26<01:03,  6.33s/it, best loss: 0.0028693581245875298]"
     ]
    },
    {
     "name": "stderr",
     "output_type": "stream",
     "text": [
      "INFO:hyperopt.tpe:tpe_transform took 0.005147 seconds\n",
      "INFO:hyperopt.tpe:TPE using 20/20 trials with best loss 0.002869\n"
     ]
    },
    {
     "name": "stdout",
     "output_type": "stream",
     "text": [
      "{'mpi': {'romio_ds_read': 'enable', 'romio_ds_write': 'disable', 'romio_cb_read': 'disable', 'romio_cb_write': 'disable', 'cb_buffer_size': '519045120'}, 'lfs': {'setstripe': {'size': 65536, 'count': 0}}}\n",
      "S3D-IO 50-100-100-2-2-4-1 285.59 0.06 0.21 368.11 0.30 0.83 0.11 0.04 65536 0 enable disable disable disable 519045120 \n",
      "\n",
      "368.11                                                                           \n",
      "{'loss': 0.002716579283366385, 'hyperparameters': {'cb_buffer_size': 519045120.0, 'romio_cb_read': 'disable', 'romio_cb_write': 'disable', 'romio_ds_read': 'enable', 'romio_ds_write': 'disable', 'setstripe-count': 0.0, 'setstripe-size': 65536.0}, 'iteration': 21, 'iteration_time': 5.134054715745151, 'status': 'ok'}\n",
      " 70%|███████   | 21/30 [02:31<00:53,  5.98s/it, best loss: 0.002716579283366385] "
     ]
    },
    {
     "name": "stderr",
     "output_type": "stream",
     "text": [
      "INFO:hyperopt.tpe:tpe_transform took 0.005334 seconds\n",
      "INFO:hyperopt.tpe:TPE using 21/21 trials with best loss 0.002717\n"
     ]
    },
    {
     "name": "stdout",
     "output_type": "stream",
     "text": [
      "{'mpi': {'romio_ds_read': 'enable', 'romio_ds_write': 'disable', 'romio_cb_read': 'disable', 'romio_cb_write': 'disable', 'cb_buffer_size': '532676608'}, 'lfs': {'setstripe': {'size': 65536, 'count': 1}}}\n",
      "S3D-IO 50-100-100-2-2-4-1                                                       \n",
      "{'mpi': {'romio_ds_read': 'enable', 'romio_ds_write': 'disable', 'romio_cb_read': 'disable', 'romio_cb_write': 'disable', 'cb_buffer_size': '532676608'}, 'lfs': {'setstripe': {'size': 65536, 'count': 1}}}\n",
      "S3D-IO 50-100-100-2-2-4-1 623.82 0.06 0.10 364.22 0.30 0.84 0.09 0.02 65536 1 enable disable disable disable 532676608 \n",
      "\n",
      "364.22                                                                          \n",
      "{'loss': 0.002745593322717039, 'hyperparameters': {'cb_buffer_size': 532676608.0, 'romio_cb_read': 'disable', 'romio_cb_write': 'disable', 'romio_ds_read': 'enable', 'romio_ds_write': 'disable', 'setstripe-count': 1.0, 'setstripe-size': 65536.0}, 'iteration': 22, 'iteration_time': 9.994188911281526, 'status': 'ok'}\n",
      " 73%|███████▎  | 22/30 [02:41<00:57,  7.20s/it, best loss: 0.002716579283366385]"
     ]
    },
    {
     "name": "stderr",
     "output_type": "stream",
     "text": [
      "INFO:hyperopt.tpe:tpe_transform took 0.010020 seconds\n",
      "INFO:hyperopt.tpe:TPE using 22/22 trials with best loss 0.002717\n"
     ]
    },
    {
     "name": "stdout",
     "output_type": "stream",
     "text": [
      "{'mpi': {'romio_ds_read': 'enable', 'romio_ds_write': 'disable', 'romio_cb_read': 'disable', 'romio_cb_write': 'disable', 'cb_buffer_size': '473956352'}, 'lfs': {'setstripe': {'size': 65536, 'count': 0}}}\n",
      "S3D-IO 50-100-100-2-2-4-1 576.50 0.06 0.11 363.61 0.30 0.84 0.09 0.04 65536 0 enable disable disable disable 473956352 \n",
      "\n",
      "363.61                                                                          \n",
      "{'loss': 0.0027501993894557355, 'hyperparameters': {'cb_buffer_size': 473956352.0, 'romio_cb_read': 'disable', 'romio_cb_write': 'disable', 'romio_ds_read': 'enable', 'romio_ds_write': 'disable', 'setstripe-count': 0.0, 'setstripe-size': 65536.0}, 'iteration': 23, 'iteration_time': 4.955963845364749, 'status': 'ok'}\n",
      " 77%|███████▋  | 23/30 [02:46<00:45,  6.55s/it, best loss: 0.002716579283366385]"
     ]
    },
    {
     "name": "stderr",
     "output_type": "stream",
     "text": [
      "INFO:hyperopt.tpe:tpe_transform took 0.009940 seconds\n",
      "INFO:hyperopt.tpe:TPE using 23/23 trials with best loss 0.002717\n"
     ]
    },
    {
     "name": "stdout",
     "output_type": "stream",
     "text": [
      "{'mpi': {'romio_ds_read': 'enable', 'romio_ds_write': 'disable', 'romio_cb_read': 'disable', 'romio_cb_write': 'disable', 'cb_buffer_size': '422576128'}, 'lfs': {'setstripe': {'size': 65536, 'count': 1}}}\n",
      "S3D-IO 50-100-100-2-2-4-1 534.14 0.06 0.11 365.64 0.30 0.83 0.08 0.02 65536 1 enable disable disable disable 422576128 \n",
      "\n",
      "365.64                                                                          \n",
      "{'loss': 0.002734930532764468, 'hyperparameters': {'cb_buffer_size': 422576128.0, 'romio_cb_read': 'disable', 'romio_cb_write': 'disable', 'romio_ds_read': 'enable', 'romio_ds_write': 'disable', 'setstripe-count': 1.0, 'setstripe-size': 65536.0}, 'iteration': 24, 'iteration_time': 4.857151509262621, 'status': 'ok'}\n",
      " 80%|████████  | 24/30 [02:51<00:36,  6.06s/it, best loss: 0.002716579283366385]"
     ]
    },
    {
     "name": "stderr",
     "output_type": "stream",
     "text": [
      "INFO:hyperopt.tpe:tpe_transform took 0.005203 seconds\n",
      "INFO:hyperopt.tpe:TPE using 24/24 trials with best loss 0.002717\n"
     ]
    },
    {
     "name": "stdout",
     "output_type": "stream",
     "text": [
      "{'mpi': {'romio_ds_read': 'enable', 'romio_ds_write': 'disable', 'romio_cb_read': 'disable', 'romio_cb_write': 'disable', 'cb_buffer_size': '423624704'}, 'lfs': {'setstripe': {'size': 65536, 'count': 2}}}\n",
      "S3D-IO 50-100-100-2-2-4-1 571.48 0.06 0.11 362.77 0.30 0.84 0.07 0.02 65536 2 enable disable disable disable 423624704 \n",
      "\n",
      "362.77                                                                          \n",
      "{'loss': 0.0027565675221214547, 'hyperparameters': {'cb_buffer_size': 423624704.0, 'romio_cb_read': 'disable', 'romio_cb_write': 'disable', 'romio_ds_read': 'enable', 'romio_ds_write': 'disable', 'setstripe-count': 2.0, 'setstripe-size': 65536.0}, 'iteration': 25, 'iteration_time': 5.019745420664549, 'status': 'ok'}\n",
      " 83%|████████▎ | 25/30 [02:56<00:28,  5.76s/it, best loss: 0.002716579283366385]"
     ]
    },
    {
     "name": "stderr",
     "output_type": "stream",
     "text": [
      "INFO:hyperopt.tpe:tpe_transform took 0.009921 seconds\n",
      "INFO:hyperopt.tpe:TPE using 25/25 trials with best loss 0.002717\n"
     ]
    },
    {
     "name": "stdout",
     "output_type": "stream",
     "text": [
      "{'mpi': {'romio_ds_read': 'enable', 'romio_ds_write': 'disable', 'romio_cb_read': 'disable', 'romio_cb_write': 'disable', 'cb_buffer_size': '420478976'}, 'lfs': {'setstripe': {'size': 196608, 'count': 2}}}\n",
      "S3D-IO 50-100-100-2-2-4-1 254.11 0.06 0.24 393.48 0.30 0.78 0.06 0.02 196608 2 enable disable disable disable 420478976 \n",
      "\n",
      "393.48                                                                          \n",
      "{'loss': 0.002541425231269696, 'hyperparameters': {'cb_buffer_size': 420478976.0, 'romio_cb_read': 'disable', 'romio_cb_write': 'disable', 'romio_ds_read': 'enable', 'romio_ds_write': 'disable', 'setstripe-count': 2.0, 'setstripe-size': 196608.0}, 'iteration': 26, 'iteration_time': 4.973735558800399, 'status': 'ok'}\n",
      " 87%|████████▋ | 26/30 [03:01<00:22,  5.55s/it, best loss: 0.002541425231269696]"
     ]
    },
    {
     "name": "stderr",
     "output_type": "stream",
     "text": [
      "INFO:hyperopt.tpe:tpe_transform took 0.012655 seconds\n",
      "INFO:hyperopt.tpe:TPE using 26/26 trials with best loss 0.002541\n"
     ]
    },
    {
     "name": "stdout",
     "output_type": "stream",
     "text": [
      "{'mpi': {'romio_ds_read': 'enable', 'romio_ds_write': 'disable', 'romio_cb_read': 'disable', 'romio_cb_write': 'disable', 'cb_buffer_size': '491782144'}, 'lfs': {'setstripe': {'size': 196608, 'count': 7}}}\n",
      "S3D-IO 50-100-100-2-2-4-1 101.61 0.06 0.60 195.92 0.30 1.56 0.08 0.02 196608 7 enable disable disable disable 491782144 \n",
      "\n",
      "195.92                                                                          \n",
      "{'loss': 0.005104124132298898, 'hyperparameters': {'cb_buffer_size': 491782144.0, 'romio_cb_read': 'disable', 'romio_cb_write': 'disable', 'romio_ds_read': 'enable', 'romio_ds_write': 'disable', 'setstripe-count': 7.0, 'setstripe-size': 196608.0}, 'iteration': 27, 'iteration_time': 6.145184705033898, 'status': 'ok'}\n",
      " 90%|█████████ | 27/30 [03:07<00:17,  5.75s/it, best loss: 0.002541425231269696]"
     ]
    },
    {
     "name": "stderr",
     "output_type": "stream",
     "text": [
      "INFO:hyperopt.tpe:tpe_transform took 0.009930 seconds\n",
      "INFO:hyperopt.tpe:TPE using 27/27 trials with best loss 0.002541\n"
     ]
    },
    {
     "name": "stdout",
     "output_type": "stream",
     "text": [
      "{'mpi': {'romio_ds_read': 'enable', 'romio_ds_write': 'disable', 'romio_cb_read': 'disable', 'romio_cb_write': 'disable', 'cb_buffer_size': '351272960'}, 'lfs': {'setstripe': {'size': 262144, 'count': 11}}}\n",
      "S3D-IO 50-100-100-2-2-4-1 376.77 0.06 0.16 180.28 0.30 1.69 0.07 0.03 262144 11 enable disable disable disable 351272960 \n",
      "\n",
      "180.28                                                                          \n",
      "{'loss': 0.005546927002440648, 'hyperparameters': {'cb_buffer_size': 351272960.0, 'romio_cb_read': 'disable', 'romio_cb_write': 'disable', 'romio_ds_read': 'enable', 'romio_ds_write': 'disable', 'setstripe-count': 11.0, 'setstripe-size': 262144.0}, 'iteration': 28, 'iteration_time': 5.781206252984703, 'status': 'ok'}\n",
      " 93%|█████████▎| 28/30 [03:13<00:11,  5.78s/it, best loss: 0.002541425231269696]"
     ]
    },
    {
     "name": "stderr",
     "output_type": "stream",
     "text": [
      "INFO:hyperopt.tpe:tpe_transform took 0.009912 seconds\n",
      "INFO:hyperopt.tpe:TPE using 28/28 trials with best loss 0.002541\n"
     ]
    },
    {
     "name": "stdout",
     "output_type": "stream",
     "text": [
      "{'mpi': {'romio_ds_read': 'enable', 'romio_ds_write': 'disable', 'romio_cb_read': 'disable', 'romio_cb_write': 'disable', 'cb_buffer_size': '439353344'}, 'lfs': {'setstripe': {'size': 983040, 'count': 2}}}\n",
      "S3D-IO 50-100-100-2-2-4-1 244.52 0.06 0.25 240.05 0.30 1.27 0.06 0.03 983040 2 enable disable disable disable 439353344 \n",
      "\n",
      "240.05                                                                          \n",
      "{'loss': 0.00416579879191835, 'hyperparameters': {'cb_buffer_size': 439353344.0, 'romio_cb_read': 'disable', 'romio_cb_write': 'disable', 'romio_ds_read': 'enable', 'romio_ds_write': 'disable', 'setstripe-count': 2.0, 'setstripe-size': 983040.0}, 'iteration': 29, 'iteration_time': 5.542620090767741, 'status': 'ok'}\n",
      " 97%|█████████▋| 29/30 [03:18<00:05,  5.73s/it, best loss: 0.002541425231269696]"
     ]
    },
    {
     "name": "stderr",
     "output_type": "stream",
     "text": [
      "INFO:hyperopt.tpe:tpe_transform took 0.009818 seconds\n",
      "INFO:hyperopt.tpe:TPE using 29/29 trials with best loss 0.002541\n"
     ]
    },
    {
     "name": "stdout",
     "output_type": "stream",
     "text": [
      "{'mpi': {'romio_ds_read': 'enable', 'romio_ds_write': 'disable', 'romio_cb_read': 'disable', 'romio_cb_write': 'disable', 'cb_buffer_size': '382730240'}, 'lfs': {'setstripe': {'size': 1245184, 'count': 0}}}\n",
      "S3D-IO 50-100-100-2-2-4-1 424.62 0.06 0.14 365.72 0.30 0.83 0.09 0.02 1245184 0 enable disable disable disable 382730240 \n",
      "\n",
      "365.72                                                                          \n",
      "{'loss': 0.002734332276058186, 'hyperparameters': {'cb_buffer_size': 382730240.0, 'romio_cb_read': 'disable', 'romio_cb_write': 'disable', 'romio_ds_read': 'enable', 'romio_ds_write': 'disable', 'setstripe-count': 0.0, 'setstripe-size': 1245184.0}, 'iteration': 30, 'iteration_time': 4.943730584345758, 'status': 'ok'}\n",
      "100%|██████████| 30/30 [03:23<00:00,  5.52s/it, best loss: 0.002541425231269696]\n"
     ]
    }
   ],
   "source": [
    "from hyperopt import fmin\n",
    "\n",
    "\n",
    "ITERATION = 0\n",
    "\n",
    "best = fmin(fn = objective, space = space, algo = tpe.suggest, trials = bayes_trials, max_evals = MAX_EVALS)"
   ]
  },
  {
   "cell_type": "code",
   "execution_count": 198,
   "metadata": {},
   "outputs": [
    {
     "name": "stdout",
     "output_type": "stream",
     "text": [
      "{'cb_buffer_size': 401.0, 'romio_cb_read': 1, 'romio_cb_write': 1, 'romio_ds_read': 0, 'romio_ds_write': 1, 'setstripe-count': 2.0, 'setstripe-size': 3.0}\n",
      "[{'loss': 0.004457917261055635, 'hyperparameters': {'cb_buffer_size': 3145728.0, 'romio_cb_read': 'enable', 'romio_cb_write': 'enable', 'romio_ds_read': 'disable', 'romio_ds_write': 'disable', 'setstripe-count': 3.0, 'setstripe-size': 1048576.0}, 'iteration': 1, 'iteration_time': 6.191020569764078, 'status': 'ok'}, {'loss': 0.008871540099361249, 'hyperparameters': {'cb_buffer_size': 246415360.0, 'romio_cb_read': 'disable', 'romio_cb_write': 'disable', 'romio_ds_read': 'disable', 'romio_ds_write': 'disable', 'setstripe-count': 14.0, 'setstripe-size': 524288.0}, 'iteration': 2, 'iteration_time': 6.909402400255203, 'status': 'ok'}, {'loss': 0.004449784185467005, 'hyperparameters': {'cb_buffer_size': 296747008.0, 'romio_cb_read': 'enable', 'romio_cb_write': 'enable', 'romio_ds_read': 'enable', 'romio_ds_write': 'enable', 'setstripe-count': 8.0, 'setstripe-size': 655360.0}, 'iteration': 3, 'iteration_time': 5.505212417803705, 'status': 'ok'}, {'loss': 0.004284490145672665, 'hyperparameters': {'cb_buffer_size': 307232768.0, 'romio_cb_read': 'enable', 'romio_cb_write': 'disable', 'romio_ds_read': 'disable', 'romio_ds_write': 'enable', 'setstripe-count': 5.0, 'setstripe-size': 131072.0}, 'iteration': 4, 'iteration_time': 6.069656312465668, 'status': 'ok'}, {'loss': 0.014080540692762603, 'hyperparameters': {'cb_buffer_size': 340787200.0, 'romio_cb_read': 'disable', 'romio_cb_write': 'disable', 'romio_ds_read': 'enable', 'romio_ds_write': 'enable', 'setstripe-count': 19.0, 'setstripe-size': 131072.0}, 'iteration': 5, 'iteration_time': 8.530249319039285, 'status': 'ok'}, {'loss': 0.007235890014471781, 'hyperparameters': {'cb_buffer_size': 127926272.0, 'romio_cb_read': 'disable', 'romio_cb_write': 'enable', 'romio_ds_read': 'disable', 'romio_ds_write': 'enable', 'setstripe-count': 9.0, 'setstripe-size': 131072.0}, 'iteration': 6, 'iteration_time': 6.475348972715437, 'status': 'ok'}, {'loss': 0.004889258299515964, 'hyperparameters': {'cb_buffer_size': 468713472.0, 'romio_cb_read': 'enable', 'romio_cb_write': 'disable', 'romio_ds_read': 'enable', 'romio_ds_write': 'enable', 'setstripe-count': 6.0, 'setstripe-size': 524288.0}, 'iteration': 7, 'iteration_time': 5.777005371637642, 'status': 'ok'}, {'loss': 0.014952153110047849, 'hyperparameters': {'cb_buffer_size': 290455552.0, 'romio_cb_read': 'enable', 'romio_cb_write': 'disable', 'romio_ds_read': 'enable', 'romio_ds_write': 'enable', 'setstripe-count': 12.0, 'setstripe-size': 196608.0}, 'iteration': 8, 'iteration_time': 8.773635063320398, 'status': 'ok'}, {'loss': 0.01722949689869056, 'hyperparameters': {'cb_buffer_size': 252706816.0, 'romio_cb_read': 'disable', 'romio_cb_write': 'enable', 'romio_ds_read': 'enable', 'romio_ds_write': 'enable', 'setstripe-count': 17.0, 'setstripe-size': 196608.0}, 'iteration': 9, 'iteration_time': 9.8386559644714, 'status': 'ok'}, {'loss': 0.032051282051282055, 'hyperparameters': {'cb_buffer_size': 135266304.0, 'romio_cb_read': 'enable', 'romio_cb_write': 'disable', 'romio_ds_read': 'enable', 'romio_ds_write': 'disable', 'setstripe-count': 13.0, 'setstripe-size': 65536.0}, 'iteration': 10, 'iteration_time': 13.983238934539258, 'status': 'ok'}, {'loss': 0.011406410402646287, 'hyperparameters': {'cb_buffer_size': 395313152.0, 'romio_cb_read': 'disable', 'romio_cb_write': 'enable', 'romio_ds_read': 'disable', 'romio_ds_write': 'disable', 'setstripe-count': 20.0, 'setstripe-size': 262144.0}, 'iteration': 11, 'iteration_time': 7.548892511986196, 'status': 'ok'}, {'loss': 0.02664535038635758, 'hyperparameters': {'cb_buffer_size': 347078656.0, 'romio_cb_read': 'disable', 'romio_cb_write': 'disable', 'romio_ds_read': 'enable', 'romio_ds_write': 'enable', 'setstripe-count': 14.0, 'setstripe-size': 65536.0}, 'iteration': 12, 'iteration_time': 12.36706867814064, 'status': 'ok'}, {'loss': 0.0028693581245875298, 'hyperparameters': {'cb_buffer_size': 521142272.0, 'romio_cb_read': 'disable', 'romio_cb_write': 'enable', 'romio_ds_read': 'enable', 'romio_ds_write': 'disable', 'setstripe-count': 0.0, 'setstripe-size': 65536.0}, 'iteration': 13, 'iteration_time': 5.210991165600717, 'status': 'ok'}, {'loss': 0.006108362348054486, 'hyperparameters': {'cb_buffer_size': 396361728.0, 'romio_cb_read': 'enable', 'romio_cb_write': 'enable', 'romio_ds_read': 'disable', 'romio_ds_write': 'enable', 'setstripe-count': 5.0, 'setstripe-size': 327680.0}, 'iteration': 14, 'iteration_time': 6.498173527419567, 'status': 'ok'}, {'loss': 0.0032645599373204493, 'hyperparameters': {'cb_buffer_size': 285212672.0, 'romio_cb_read': 'enable', 'romio_cb_write': 'disable', 'romio_ds_read': 'enable', 'romio_ds_write': 'disable', 'setstripe-count': 3.0, 'setstripe-size': 65536.0}, 'iteration': 15, 'iteration_time': 5.235235403291881, 'status': 'ok'}, {'loss': 0.007544322897019992, 'hyperparameters': {'cb_buffer_size': 530579456.0, 'romio_cb_read': 'enable', 'romio_cb_write': 'enable', 'romio_ds_read': 'enable', 'romio_ds_write': 'disable', 'setstripe-count': 16.0, 'setstripe-size': 720896.0}, 'iteration': 16, 'iteration_time': 6.507812900468707, 'status': 'ok'}, {'loss': 0.0039514758762397755, 'hyperparameters': {'cb_buffer_size': 469762048.0, 'romio_cb_read': 'enable', 'romio_cb_write': 'disable', 'romio_ds_read': 'enable', 'romio_ds_write': 'disable', 'setstripe-count': 4.0, 'setstripe-size': 393216.0}, 'iteration': 17, 'iteration_time': 5.462051587179303, 'status': 'ok'}, {'loss': 0.003283640901031063, 'hyperparameters': {'cb_buffer_size': 213909504.0, 'romio_cb_read': 'disable', 'romio_cb_write': 'enable', 'romio_ds_read': 'enable', 'romio_ds_write': 'enable', 'setstripe-count': 4.0, 'setstripe-size': 786432.0}, 'iteration': 18, 'iteration_time': 5.227029758505523, 'status': 'ok'}, {'loss': 0.0106315118009781, 'hyperparameters': {'cb_buffer_size': 47185920.0, 'romio_cb_read': 'enable', 'romio_cb_write': 'enable', 'romio_ds_read': 'disable', 'romio_ds_write': 'disable', 'setstripe-count': 6.0, 'setstripe-size': 131072.0}, 'iteration': 19, 'iteration_time': 7.576150564476848, 'status': 'ok'}, {'loss': 0.005105427068974319, 'hyperparameters': {'cb_buffer_size': 264241152.0, 'romio_cb_read': 'disable', 'romio_cb_write': 'enable', 'romio_ds_read': 'enable', 'romio_ds_write': 'enable', 'setstripe-count': 9.0, 'setstripe-size': 131072.0}, 'iteration': 20, 'iteration_time': 5.701894709840417, 'status': 'ok'}, {'loss': 0.002716579283366385, 'hyperparameters': {'cb_buffer_size': 519045120.0, 'romio_cb_read': 'disable', 'romio_cb_write': 'disable', 'romio_ds_read': 'enable', 'romio_ds_write': 'disable', 'setstripe-count': 0.0, 'setstripe-size': 65536.0}, 'iteration': 21, 'iteration_time': 5.134054715745151, 'status': 'ok'}, {'loss': 0.002745593322717039, 'hyperparameters': {'cb_buffer_size': 532676608.0, 'romio_cb_read': 'disable', 'romio_cb_write': 'disable', 'romio_ds_read': 'enable', 'romio_ds_write': 'disable', 'setstripe-count': 1.0, 'setstripe-size': 65536.0}, 'iteration': 22, 'iteration_time': 9.994188911281526, 'status': 'ok'}, {'loss': 0.0027501993894557355, 'hyperparameters': {'cb_buffer_size': 473956352.0, 'romio_cb_read': 'disable', 'romio_cb_write': 'disable', 'romio_ds_read': 'enable', 'romio_ds_write': 'disable', 'setstripe-count': 0.0, 'setstripe-size': 65536.0}, 'iteration': 23, 'iteration_time': 4.955963845364749, 'status': 'ok'}, {'loss': 0.002734930532764468, 'hyperparameters': {'cb_buffer_size': 422576128.0, 'romio_cb_read': 'disable', 'romio_cb_write': 'disable', 'romio_ds_read': 'enable', 'romio_ds_write': 'disable', 'setstripe-count': 1.0, 'setstripe-size': 65536.0}, 'iteration': 24, 'iteration_time': 4.857151509262621, 'status': 'ok'}, {'loss': 0.0027565675221214547, 'hyperparameters': {'cb_buffer_size': 423624704.0, 'romio_cb_read': 'disable', 'romio_cb_write': 'disable', 'romio_ds_read': 'enable', 'romio_ds_write': 'disable', 'setstripe-count': 2.0, 'setstripe-size': 65536.0}, 'iteration': 25, 'iteration_time': 5.019745420664549, 'status': 'ok'}, {'loss': 0.002541425231269696, 'hyperparameters': {'cb_buffer_size': 420478976.0, 'romio_cb_read': 'disable', 'romio_cb_write': 'disable', 'romio_ds_read': 'enable', 'romio_ds_write': 'disable', 'setstripe-count': 2.0, 'setstripe-size': 196608.0}, 'iteration': 26, 'iteration_time': 4.973735558800399, 'status': 'ok'}, {'loss': 0.005104124132298898, 'hyperparameters': {'cb_buffer_size': 491782144.0, 'romio_cb_read': 'disable', 'romio_cb_write': 'disable', 'romio_ds_read': 'enable', 'romio_ds_write': 'disable', 'setstripe-count': 7.0, 'setstripe-size': 196608.0}, 'iteration': 27, 'iteration_time': 6.145184705033898, 'status': 'ok'}, {'loss': 0.005546927002440648, 'hyperparameters': {'cb_buffer_size': 351272960.0, 'romio_cb_read': 'disable', 'romio_cb_write': 'disable', 'romio_ds_read': 'enable', 'romio_ds_write': 'disable', 'setstripe-count': 11.0, 'setstripe-size': 262144.0}, 'iteration': 28, 'iteration_time': 5.781206252984703, 'status': 'ok'}, {'loss': 0.00416579879191835, 'hyperparameters': {'cb_buffer_size': 439353344.0, 'romio_cb_read': 'disable', 'romio_cb_write': 'disable', 'romio_ds_read': 'enable', 'romio_ds_write': 'disable', 'setstripe-count': 2.0, 'setstripe-size': 983040.0}, 'iteration': 29, 'iteration_time': 5.542620090767741, 'status': 'ok'}, {'loss': 0.002734332276058186, 'hyperparameters': {'cb_buffer_size': 382730240.0, 'romio_cb_read': 'disable', 'romio_cb_write': 'disable', 'romio_ds_read': 'enable', 'romio_ds_write': 'disable', 'setstripe-count': 0.0, 'setstripe-size': 1245184.0}, 'iteration': 30, 'iteration_time': 4.943730584345758, 'status': 'ok'}]\n"
     ]
    },
    {
     "data": {
      "text/plain": [
       "[{'loss': 0.002541425231269696,\n",
       "  'hyperparameters': {'cb_buffer_size': 420478976.0,\n",
       "   'romio_cb_read': 'disable',\n",
       "   'romio_cb_write': 'disable',\n",
       "   'romio_ds_read': 'enable',\n",
       "   'romio_ds_write': 'disable',\n",
       "   'setstripe-count': 2.0,\n",
       "   'setstripe-size': 196608.0},\n",
       "  'iteration': 26,\n",
       "  'iteration_time': 4.973735558800399,\n",
       "  'status': 'ok'}]"
      ]
     },
     "execution_count": 198,
     "metadata": {},
     "output_type": "execute_result"
    }
   ],
   "source": [
    "print(best)\n",
    "d=  best\n",
    "print(bayes_trials.results)\n",
    "bayes_trials_results = sorted(bayes_trials.results, key = lambda x: x['loss'])\n",
    "bayes_trials_results[:1]"
   ]
  },
  {
   "cell_type": "code",
   "execution_count": 199,
   "metadata": {},
   "outputs": [
    {
     "data": {
      "text/html": [
       "<div>\n",
       "<style scoped>\n",
       "    .dataframe tbody tr th:only-of-type {\n",
       "        vertical-align: middle;\n",
       "    }\n",
       "\n",
       "    .dataframe tbody tr th {\n",
       "        vertical-align: top;\n",
       "    }\n",
       "\n",
       "    .dataframe thead th {\n",
       "        text-align: right;\n",
       "    }\n",
       "</style>\n",
       "<table border=\"1\" class=\"dataframe\">\n",
       "  <thead>\n",
       "    <tr style=\"text-align: right;\">\n",
       "      <th></th>\n",
       "      <th>loss</th>\n",
       "      <th>params</th>\n",
       "      <th>iteration</th>\n",
       "      <th>train_time</th>\n",
       "    </tr>\n",
       "  </thead>\n",
       "  <tbody>\n",
       "    <tr>\n",
       "      <th>0</th>\n",
       "      <td>0.002735</td>\n",
       "      <td>{'cb_buffer_size': 422576128.0, 'romio_cb_read...</td>\n",
       "      <td>24</td>\n",
       "      <td>4.857152</td>\n",
       "    </tr>\n",
       "    <tr>\n",
       "      <th>1</th>\n",
       "      <td>0.002734</td>\n",
       "      <td>{'cb_buffer_size': 382730240.0, 'romio_cb_read...</td>\n",
       "      <td>30</td>\n",
       "      <td>4.943731</td>\n",
       "    </tr>\n",
       "    <tr>\n",
       "      <th>2</th>\n",
       "      <td>0.002750</td>\n",
       "      <td>{'cb_buffer_size': 473956352.0, 'romio_cb_read...</td>\n",
       "      <td>23</td>\n",
       "      <td>4.955964</td>\n",
       "    </tr>\n",
       "    <tr>\n",
       "      <th>3</th>\n",
       "      <td>0.002541</td>\n",
       "      <td>{'cb_buffer_size': 420478976.0, 'romio_cb_read...</td>\n",
       "      <td>26</td>\n",
       "      <td>4.973736</td>\n",
       "    </tr>\n",
       "    <tr>\n",
       "      <th>4</th>\n",
       "      <td>0.002757</td>\n",
       "      <td>{'cb_buffer_size': 423624704.0, 'romio_cb_read...</td>\n",
       "      <td>25</td>\n",
       "      <td>5.019745</td>\n",
       "    </tr>\n",
       "  </tbody>\n",
       "</table>\n",
       "</div>"
      ],
      "text/plain": [
       "       loss                                             params  iteration  \\\n",
       "0  0.002735  {'cb_buffer_size': 422576128.0, 'romio_cb_read...         24   \n",
       "1  0.002734  {'cb_buffer_size': 382730240.0, 'romio_cb_read...         30   \n",
       "2  0.002750  {'cb_buffer_size': 473956352.0, 'romio_cb_read...         23   \n",
       "3  0.002541  {'cb_buffer_size': 420478976.0, 'romio_cb_read...         26   \n",
       "4  0.002757  {'cb_buffer_size': 423624704.0, 'romio_cb_read...         25   \n",
       "\n",
       "   train_time  \n",
       "0    4.857152  \n",
       "1    4.943731  \n",
       "2    4.955964  \n",
       "3    4.973736  \n",
       "4    5.019745  "
      ]
     },
     "execution_count": 199,
     "metadata": {},
     "output_type": "execute_result"
    }
   ],
   "source": [
    "results = pd.read_csv(out_file)\n",
    "\n",
    "# Sort with best scores on top and reset index for slicing\n",
    "results.sort_values('train_time', ascending = True, inplace = True)\n",
    "results.reset_index(inplace = True, drop = True)\n",
    "results.head()\n"
   ]
  },
  {
   "cell_type": "code",
   "execution_count": 200,
   "metadata": {},
   "outputs": [
    {
     "name": "stdout",
     "output_type": "stream",
     "text": [
      "{'cb_buffer_size': 422576128.0, 'romio_cb_read': 'disable', 'romio_cb_write': 'disable', 'romio_ds_read': 'enable', 'romio_ds_write': 'disable', 'setstripe-count': 1.0, 'setstripe-size': 65536.0}\n"
     ]
    }
   ],
   "source": [
    "import ast\n",
    "\n",
    "# Convert from a string to a dictionary\n",
    "ast.literal_eval(results.loc[0, 'params'])\n",
    "best_bayes_params = ast.literal_eval(results.loc[0, 'params']).copy()\n",
    "print(best_bayes_params)"
   ]
  },
  {
   "cell_type": "code",
   "execution_count": 201,
   "metadata": {},
   "outputs": [
    {
     "data": {
      "text/html": [
       "<div>\n",
       "<style scoped>\n",
       "    .dataframe tbody tr th:only-of-type {\n",
       "        vertical-align: middle;\n",
       "    }\n",
       "\n",
       "    .dataframe tbody tr th {\n",
       "        vertical-align: top;\n",
       "    }\n",
       "\n",
       "    .dataframe thead th {\n",
       "        text-align: right;\n",
       "    }\n",
       "</style>\n",
       "<table border=\"1\" class=\"dataframe\">\n",
       "  <thead>\n",
       "    <tr style=\"text-align: right;\">\n",
       "      <th></th>\n",
       "      <th>cb_buffer_size</th>\n",
       "      <th>romio_cb_read</th>\n",
       "      <th>romio_cb_write</th>\n",
       "      <th>romio_ds_read</th>\n",
       "      <th>romio_ds_write</th>\n",
       "      <th>setstripe-count</th>\n",
       "      <th>setstripe-size</th>\n",
       "      <th>train_time</th>\n",
       "      <th>loss</th>\n",
       "      <th>iteration</th>\n",
       "    </tr>\n",
       "  </thead>\n",
       "  <tbody>\n",
       "    <tr>\n",
       "      <th>0</th>\n",
       "      <td>4.22576e+08</td>\n",
       "      <td>disable</td>\n",
       "      <td>disable</td>\n",
       "      <td>enable</td>\n",
       "      <td>disable</td>\n",
       "      <td>1</td>\n",
       "      <td>65536</td>\n",
       "      <td>4.857152</td>\n",
       "      <td>0.002735</td>\n",
       "      <td>24</td>\n",
       "    </tr>\n",
       "    <tr>\n",
       "      <th>1</th>\n",
       "      <td>3.8273e+08</td>\n",
       "      <td>disable</td>\n",
       "      <td>disable</td>\n",
       "      <td>enable</td>\n",
       "      <td>disable</td>\n",
       "      <td>0</td>\n",
       "      <td>1.24518e+06</td>\n",
       "      <td>4.943731</td>\n",
       "      <td>0.002734</td>\n",
       "      <td>30</td>\n",
       "    </tr>\n",
       "    <tr>\n",
       "      <th>2</th>\n",
       "      <td>4.73956e+08</td>\n",
       "      <td>disable</td>\n",
       "      <td>disable</td>\n",
       "      <td>enable</td>\n",
       "      <td>disable</td>\n",
       "      <td>0</td>\n",
       "      <td>65536</td>\n",
       "      <td>4.955964</td>\n",
       "      <td>0.002750</td>\n",
       "      <td>23</td>\n",
       "    </tr>\n",
       "    <tr>\n",
       "      <th>3</th>\n",
       "      <td>4.20479e+08</td>\n",
       "      <td>disable</td>\n",
       "      <td>disable</td>\n",
       "      <td>enable</td>\n",
       "      <td>disable</td>\n",
       "      <td>2</td>\n",
       "      <td>196608</td>\n",
       "      <td>4.973736</td>\n",
       "      <td>0.002541</td>\n",
       "      <td>26</td>\n",
       "    </tr>\n",
       "    <tr>\n",
       "      <th>4</th>\n",
       "      <td>4.23625e+08</td>\n",
       "      <td>disable</td>\n",
       "      <td>disable</td>\n",
       "      <td>enable</td>\n",
       "      <td>disable</td>\n",
       "      <td>2</td>\n",
       "      <td>65536</td>\n",
       "      <td>5.019745</td>\n",
       "      <td>0.002757</td>\n",
       "      <td>25</td>\n",
       "    </tr>\n",
       "  </tbody>\n",
       "</table>\n",
       "</div>"
      ],
      "text/plain": [
       "  cb_buffer_size romio_cb_read romio_cb_write romio_ds_read romio_ds_write  \\\n",
       "0    4.22576e+08       disable        disable        enable        disable   \n",
       "1     3.8273e+08       disable        disable        enable        disable   \n",
       "2    4.73956e+08       disable        disable        enable        disable   \n",
       "3    4.20479e+08       disable        disable        enable        disable   \n",
       "4    4.23625e+08       disable        disable        enable        disable   \n",
       "\n",
       "  setstripe-count setstripe-size  train_time      loss  iteration  \n",
       "0               1          65536    4.857152  0.002735         24  \n",
       "1               0    1.24518e+06    4.943731  0.002734         30  \n",
       "2               0          65536    4.955964  0.002750         23  \n",
       "3               2         196608    4.973736  0.002541         26  \n",
       "4               2          65536    5.019745  0.002757         25  "
      ]
     },
     "execution_count": 201,
     "metadata": {},
     "output_type": "execute_result"
    }
   ],
   "source": [
    "bayes_params = pd.DataFrame(columns = list(ast.literal_eval(results.loc[0, 'params']).keys()),\n",
    "                            index = list(range(len(results))))\n",
    "\n",
    "# Add the results with each parameter a different column\n",
    "for i, params in enumerate(results['params']):\n",
    "    bayes_params.loc[i, :] = list(ast.literal_eval(params).values())\n",
    "bayes_params['train_time'] = results['train_time']    \n",
    "bayes_params['loss'] = results['loss']\n",
    "bayes_params['iteration'] = results['iteration']\n",
    "\n",
    "bayes_params.head()"
   ]
  },
  {
   "cell_type": "code",
   "execution_count": 202,
   "metadata": {},
   "outputs": [
    {
     "name": "stderr",
     "output_type": "stream",
     "text": [
      "DEBUG:matplotlib.axes._base:update_title_pos\n",
      "DEBUG:matplotlib.axes._base:update_title_pos\n",
      "DEBUG:matplotlib.axes._base:update_title_pos\n",
      "DEBUG:matplotlib.axes._base:update_title_pos\n",
      "DEBUG:matplotlib.axes._base:update_title_pos\n"
     ]
    },
    {
     "data": {
      "image/png": "[encoded data removed]",
      "text/plain": [
       "<Figure size 1440x576 with 1 Axes>"
      ]
     },
     "metadata": {
      "needs_background": "light"
     },
     "output_type": "display_data"
    }
   ],
   "source": [
    "plt.figure(figsize = (20, 8))\n",
    "plt.rcParams['font.size'] = 18\n",
    "\n",
    "# Density plots of the learning rate distributions \n",
    "sns.kdeplot(bayes_params['loss'], label = 'Loss Variation', linewidth = 2)\n",
    "plt.legend()\n",
    "plt.xlabel('Loss'); plt.ylabel('Density'); plt.title('Loss Distribution');\n"
   ]
  },
  {
   "cell_type": "code",
   "execution_count": 203,
   "metadata": {},
   "outputs": [
    {
     "name": "stderr",
     "output_type": "stream",
     "text": [
      "DEBUG:matplotlib.axes._base:update_title_pos\n",
      "DEBUG:matplotlib.axes._base:update_title_pos\n",
      "DEBUG:matplotlib.axes._base:update_title_pos\n",
      "DEBUG:matplotlib.axes._base:update_title_pos\n",
      "DEBUG:matplotlib.axes._base:update_title_pos\n"
     ]
    },
    {
     "data": {
      "image/png": "[encoded data removed]",
      "text/plain": [
       "<Figure size 1440x576 with 1 Axes>"
      ]
     },
     "metadata": {
      "needs_background": "light"
     },
     "output_type": "display_data"
    }
   ],
   "source": [
    "plt.figure(figsize = (20, 8))\n",
    "plt.rcParams['font.size'] = 18\n",
    "cb_buffer_size_dist_now = []\n",
    "for _ in range(30):\n",
    "    cb_buffer_size_dist_now.append(sample(space)['cb_buffer_size'])\n",
    "# Density plots of the learning rate distributions \n",
    "sns.kdeplot(bayes_params['cb_buffer_size'], label = 'cb_buffer_size', linewidth = 2)\n",
    "sns.kdeplot(cb_buffer_size_dist,color=\"red\",linewidth=2)\n",
    "sns.kdeplot(cb_buffer_size_dist_now,color=\"green\",linewidth=2)\n",
    "plt.legend()\n",
    "plt.xlabel('cb_buffer_size'); plt.ylabel('Density'); plt.title('cb_buffer_size Distribution');\n"
   ]
  },
  {
   "cell_type": "code",
   "execution_count": 204,
   "metadata": {},
   "outputs": [],
   "source": [
    "import random\n",
    "import numpy as np\n",
    "\n",
    "def random_objective(hyperparameters):\n",
    "    global ITERATION\n",
    "    ITERATION += 1\n",
    "    start = timer()\n",
    "    result = runthebenchmark(hyperparameters)\n",
    "    run_time = timer() - start\n",
    "    print({'loss': result, 'hyperparameters': hyperparameters, 'iteration': ITERATION, 'iteration_time': run_time, 'status': STATUS_OK})\n",
    "    # Write to the csv file ('a' means append)\n",
    "    of_connection = open(out_file, 'a')\n",
    "    writer = csv.writer(of_connection)\n",
    "    writer.writerow([float(result), hyperparameters, ITERATION, run_time])\n",
    "    return [ float(result), hyperparameters, ITERATION, run_time]\n"
   ]
  },
  {
   "cell_type": "code",
   "execution_count": 205,
   "metadata": {},
   "outputs": [
    {
     "name": "stdout",
     "output_type": "stream",
     "text": [
      "{'romio_ds_read': 'disable', 'romio_ds_write': 'disable', 'romio_cb_read': 'disable', 'romio_cb_write': 'enable', 'cb_buffer_size': 1015021568, 'setstripe-size': 65536, 'setstripe-count': 2}\n",
      "{'mpi': {'romio_ds_read': 'disable', 'romio_ds_write': 'disable', 'romio_cb_read': 'disable', 'romio_cb_write': 'enable', 'cb_buffer_size': '1015021568'}, 'lfs': {'setstripe': {'size': 65536, 'count': 2}}}\n",
      "S3D-IO 50-100-100-2-2-4-1 107.57 0.06 0.57 378.49 0.30 0.81 0.07 0.02 65536 2 disable disable disable enable 1015021568 \n",
      "\n",
      "378.49\n",
      "{'loss': 0.0026420777299268144, 'hyperparameters': {'romio_ds_read': 'disable', 'romio_ds_write': 'disable', 'romio_cb_read': 'disable', 'romio_cb_write': 'enable', 'cb_buffer_size': 1015021568, 'setstripe-size': 65536, 'setstripe-count': 2}, 'iteration': 31, 'iteration_time': 5.610302967019379, 'status': 'ok'}\n",
      "{'romio_ds_read': 'disable', 'romio_ds_write': 'enable', 'romio_cb_read': 'enable', 'romio_cb_write': 'enable', 'cb_buffer_size': 742391808, 'setstripe-size': 0, 'setstripe-count': 11}\n",
      "{'mpi': {'romio_ds_read': 'disable', 'romio_ds_write': 'enable', 'romio_cb_read': 'enable', 'romio_cb_write': 'enable', 'cb_buffer_size': '742391808'}, 'lfs': {'setstripe': {'size': 0, 'count': 11}}}\n",
      "S3D-IO 50-100-100-2-2-4-1 400.54 0.06 0.15 352.74 0.30 0.87 0.05 0.02 0 11 disable enable enable enable 742391808 \n",
      "\n",
      "352.74\n",
      "{'loss': 0.002834949254408346, 'hyperparameters': {'romio_ds_read': 'disable', 'romio_ds_write': 'enable', 'romio_cb_read': 'enable', 'romio_cb_write': 'enable', 'cb_buffer_size': 742391808, 'setstripe-size': 0, 'setstripe-count': 11}, 'iteration': 32, 'iteration_time': 5.017427081242204, 'status': 'ok'}\n",
      "{'romio_ds_read': 'disable', 'romio_ds_write': 'enable', 'romio_cb_read': 'enable', 'romio_cb_write': 'enable', 'cb_buffer_size': 704643072, 'setstripe-size': 131072, 'setstripe-count': 19}\n",
      "{'mpi': {'romio_ds_read': 'disable', 'romio_ds_write': 'enable', 'romio_cb_read': 'enable', 'romio_cb_write': 'enable', 'cb_buffer_size': '704643072'}, 'lfs': {'setstripe': {'size': 131072, 'count': 19}}}\n",
      "S3D-IO 50-100-100-2-2-4-1 408.27 0.06 0.15 55.80 0.30 5.47 0.06 0.04 131072 19 disable enable enable enable 704643072 \n",
      "\n",
      "55.8\n",
      "{'loss': 0.01792114695340502, 'hyperparameters': {'romio_ds_read': 'disable', 'romio_ds_write': 'enable', 'romio_cb_read': 'enable', 'romio_cb_write': 'enable', 'cb_buffer_size': 704643072, 'setstripe-size': 131072, 'setstripe-count': 19}, 'iteration': 33, 'iteration_time': 9.619004640728235, 'status': 'ok'}\n",
      "{'romio_ds_read': 'disable', 'romio_ds_write': 'enable', 'romio_cb_read': 'enable', 'romio_cb_write': 'disable', 'cb_buffer_size': 922746880, 'setstripe-size': 0, 'setstripe-count': 7}\n",
      "{'mpi': {'romio_ds_read': 'disable', 'romio_ds_write': 'enable', 'romio_cb_read': 'enable', 'romio_cb_write': 'disable', 'cb_buffer_size': '922746880'}, 'lfs': {'setstripe': {'size': 0, 'count': 7}}}\n",
      "S3D-IO 50-100-100-2-2-4-1 241.48 0.06 0.25 317.26 0.30 0.96 0.05 0.02 0 7 disable enable enable disable 922746880 \n",
      "\n",
      "317.26\n",
      "{'loss': 0.0031519889049990545, 'hyperparameters': {'romio_ds_read': 'disable', 'romio_ds_write': 'enable', 'romio_cb_read': 'enable', 'romio_cb_write': 'disable', 'cb_buffer_size': 922746880, 'setstripe-size': 0, 'setstripe-count': 7}, 'iteration': 34, 'iteration_time': 5.213172106072307, 'status': 'ok'}\n",
      "{'romio_ds_read': 'disable', 'romio_ds_write': 'disable', 'romio_cb_read': 'disable', 'romio_cb_write': 'enable', 'cb_buffer_size': 427819008, 'setstripe-size': 65536, 'setstripe-count': 8}\n",
      "{'mpi': {'romio_ds_read': 'disable', 'romio_ds_write': 'disable', 'romio_cb_read': 'disable', 'romio_cb_write': 'enable', 'cb_buffer_size': '427819008'}, 'lfs': {'setstripe': {'size': 65536, 'count': 8}}}\n",
      "S3D-IO 50-100-100-2-2-4-1 103.96 0.06 0.59 202.16 0.30 1.51 0.06 0.03 65536 8 disable disable disable enable 427819008 \n",
      "\n",
      "202.16\n",
      "{'loss': 0.004946576968737634, 'hyperparameters': {'romio_ds_read': 'disable', 'romio_ds_write': 'disable', 'romio_cb_read': 'disable', 'romio_cb_write': 'enable', 'cb_buffer_size': 427819008, 'setstripe-size': 65536, 'setstripe-count': 8}, 'iteration': 35, 'iteration_time': 6.142341376282275, 'status': 'ok'}\n",
      "{'romio_ds_read': 'disable', 'romio_ds_write': 'enable', 'romio_cb_read': 'disable', 'romio_cb_write': 'enable', 'cb_buffer_size': 260046848, 'setstripe-size': 65536, 'setstripe-count': 19}\n",
      "{'mpi': {'romio_ds_read': 'disable', 'romio_ds_write': 'enable', 'romio_cb_read': 'disable', 'romio_cb_write': 'enable', 'cb_buffer_size': '260046848'}, 'lfs': {'setstripe': {'size': 65536, 'count': 19}}}\n",
      "S3D-IO 50-100-100-2-2-4-1 230.07 0.06 0.27 34.46 0.30 8.86 0.05 0.02 65536 19 disable enable disable enable 260046848 \n",
      "\n",
      "34.46\n",
      "{'loss': 0.02901915264074289, 'hyperparameters': {'romio_ds_read': 'disable', 'romio_ds_write': 'enable', 'romio_cb_read': 'disable', 'romio_cb_write': 'enable', 'cb_buffer_size': 260046848, 'setstripe-size': 65536, 'setstripe-count': 19}, 'iteration': 36, 'iteration_time': 13.135772212408483, 'status': 'ok'}\n",
      "{'romio_ds_read': 'enable', 'romio_ds_write': 'disable', 'romio_cb_read': 'disable', 'romio_cb_write': 'enable', 'cb_buffer_size': 1069547520, 'setstripe-size': 131072, 'setstripe-count': 16}\n",
      "{'mpi': {'romio_ds_read': 'enable', 'romio_ds_write': 'disable', 'romio_cb_read': 'disable', 'romio_cb_write': 'enable', 'cb_buffer_size': '1069547520'}, 'lfs': {'setstripe': {'size': 131072, 'count': 16}}}\n",
      "S3D-IO 50-100-100-2-2-4-1 484.97 0.06 0.13 50.48 0.30 6.05 0.07 0.03 131072 16 enable disable disable enable 1069547520 \n",
      "\n",
      "50.48\n",
      "{'loss': 0.019809825673534075, 'hyperparameters': {'romio_ds_read': 'enable', 'romio_ds_write': 'disable', 'romio_cb_read': 'disable', 'romio_cb_write': 'enable', 'cb_buffer_size': 1069547520, 'setstripe-size': 131072, 'setstripe-count': 16}, 'iteration': 37, 'iteration_time': 10.254338064230978, 'status': 'ok'}\n",
      "{'romio_ds_read': 'disable', 'romio_ds_write': 'enable', 'romio_cb_read': 'disable', 'romio_cb_write': 'enable', 'cb_buffer_size': 12582912, 'setstripe-size': 65536, 'setstripe-count': 0}\n",
      "{'mpi': {'romio_ds_read': 'disable', 'romio_ds_write': 'enable', 'romio_cb_read': 'disable', 'romio_cb_write': 'enable', 'cb_buffer_size': '12582912'}, 'lfs': {'setstripe': {'size': 65536, 'count': 0}}}\n",
      "S3D-IO 50-100-100-2-2-4-1 78.89 0.06 0.78 320.45 0.30 0.95 0.07 0.03 65536 0 disable enable disable enable 12582912 \n",
      "\n",
      "320.45\n",
      "{'loss': 0.003120611639881417, 'hyperparameters': {'romio_ds_read': 'disable', 'romio_ds_write': 'enable', 'romio_cb_read': 'disable', 'romio_cb_write': 'enable', 'cb_buffer_size': 12582912, 'setstripe-size': 65536, 'setstripe-count': 0}, 'iteration': 38, 'iteration_time': 5.768693437799811, 'status': 'ok'}\n",
      "{'romio_ds_read': 'disable', 'romio_ds_write': 'disable', 'romio_cb_read': 'enable', 'romio_cb_write': 'enable', 'cb_buffer_size': 209715200, 'setstripe-size': 0, 'setstripe-count': 8}\n",
      "{'mpi': {'romio_ds_read': 'disable', 'romio_ds_write': 'disable', 'romio_cb_read': 'enable', 'romio_cb_write': 'enable', 'cb_buffer_size': '209715200'}, 'lfs': {'setstripe': {'size': 0, 'count': 8}}}\n",
      "S3D-IO 50-100-100-2-2-4-1 473.04 0.06 0.13 354.75 0.30 0.86 0.05 0.02 0 8 disable disable enable enable 209715200 \n",
      "\n",
      "354.75\n",
      "{'loss': 0.0028188865398167725, 'hyperparameters': {'romio_ds_read': 'disable', 'romio_ds_write': 'disable', 'romio_cb_read': 'enable', 'romio_cb_write': 'enable', 'cb_buffer_size': 209715200, 'setstripe-size': 0, 'setstripe-count': 8}, 'iteration': 39, 'iteration_time': 5.024599777534604, 'status': 'ok'}\n",
      "{'romio_ds_read': 'disable', 'romio_ds_write': 'enable', 'romio_cb_read': 'disable', 'romio_cb_write': 'enable', 'cb_buffer_size': 100663296, 'setstripe-size': 0, 'setstripe-count': 7}\n",
      "{'mpi': {'romio_ds_read': 'disable', 'romio_ds_write': 'enable', 'romio_cb_read': 'disable', 'romio_cb_write': 'enable', 'cb_buffer_size': '100663296'}, 'lfs': {'setstripe': {'size': 0, 'count': 7}}}\n",
      "S3D-IO 50-100-100-2-2-4-1 105.23 0.06 0.58 347.76 0.30 0.88 0.05 0.02 0 7 disable enable disable enable 100663296 \n",
      "\n",
      "347.76\n",
      "{'loss': 0.0028755463538072236, 'hyperparameters': {'romio_ds_read': 'disable', 'romio_ds_write': 'enable', 'romio_cb_read': 'disable', 'romio_cb_write': 'enable', 'cb_buffer_size': 100663296, 'setstripe-size': 0, 'setstripe-count': 7}, 'iteration': 40, 'iteration_time': 5.435192578472197, 'status': 'ok'}\n",
      "{'romio_ds_read': 'disable', 'romio_ds_write': 'disable', 'romio_cb_read': 'disable', 'romio_cb_write': 'disable', 'cb_buffer_size': 838860800, 'setstripe-size': 65536, 'setstripe-count': 2}\n",
      "{'mpi': {'romio_ds_read': 'disable', 'romio_ds_write': 'disable', 'romio_cb_read': 'disable', 'romio_cb_write': 'disable', 'cb_buffer_size': '838860800'}, 'lfs': {'setstripe': {'size': 65536, 'count': 2}}}\n"
     ]
    },
    {
     "name": "stdout",
     "output_type": "stream",
     "text": [
      "S3D-IO 50-100-100-2-2-4-1 487.12 0.06 0.13 401.02 0.30 0.76 0.06 0.02 65536 2 disable disable disable disable 838860800 \n",
      "\n",
      "401.02\n",
      "{'loss': 0.002493641214902, 'hyperparameters': {'romio_ds_read': 'disable', 'romio_ds_write': 'disable', 'romio_cb_read': 'disable', 'romio_cb_write': 'disable', 'cb_buffer_size': 838860800, 'setstripe-size': 65536, 'setstripe-count': 2}, 'iteration': 41, 'iteration_time': 4.922965033911169, 'status': 'ok'}\n",
      "{'romio_ds_read': 'disable', 'romio_ds_write': 'enable', 'romio_cb_read': 'disable', 'romio_cb_write': 'enable', 'cb_buffer_size': 37748736, 'setstripe-size': 0, 'setstripe-count': 14}\n",
      "{'mpi': {'romio_ds_read': 'disable', 'romio_ds_write': 'enable', 'romio_cb_read': 'disable', 'romio_cb_write': 'enable', 'cb_buffer_size': '37748736'}, 'lfs': {'setstripe': {'size': 0, 'count': 14}}}\n",
      "S3D-IO 50-100-100-2-2-4-1 317.72 0.06 0.19 364.82 0.30 0.84 0.06 0.02 0 14 disable enable disable enable 37748736 \n",
      "\n",
      "364.82\n",
      "{'loss': 0.002741077791787731, 'hyperparameters': {'romio_ds_read': 'disable', 'romio_ds_write': 'enable', 'romio_cb_read': 'disable', 'romio_cb_write': 'enable', 'cb_buffer_size': 37748736, 'setstripe-size': 0, 'setstripe-count': 14}, 'iteration': 42, 'iteration_time': 5.074257090687752, 'status': 'ok'}\n",
      "{'romio_ds_read': 'enable', 'romio_ds_write': 'disable', 'romio_cb_read': 'disable', 'romio_cb_write': 'disable', 'cb_buffer_size': 1065353216, 'setstripe-size': 0, 'setstripe-count': 9}\n",
      "{'mpi': {'romio_ds_read': 'enable', 'romio_ds_write': 'disable', 'romio_cb_read': 'disable', 'romio_cb_write': 'disable', 'cb_buffer_size': '1065353216'}, 'lfs': {'setstripe': {'size': 0, 'count': 9}}}\n",
      "S3D-IO 50-100-100-2-2-4-1 358.27 0.06 0.17 335.24 0.30 0.91 0.05 0.02 0 9 enable disable disable disable 1065353216 \n",
      "\n",
      "335.24\n",
      "{'loss': 0.002982937596945472, 'hyperparameters': {'romio_ds_read': 'enable', 'romio_ds_write': 'disable', 'romio_cb_read': 'disable', 'romio_cb_write': 'disable', 'cb_buffer_size': 1065353216, 'setstripe-size': 0, 'setstripe-count': 9}, 'iteration': 43, 'iteration_time': 5.142257131636143, 'status': 'ok'}\n",
      "{'romio_ds_read': 'enable', 'romio_ds_write': 'disable', 'romio_cb_read': 'enable', 'romio_cb_write': 'enable', 'cb_buffer_size': 188743680, 'setstripe-size': 0, 'setstripe-count': 5}\n",
      "{'mpi': {'romio_ds_read': 'enable', 'romio_ds_write': 'disable', 'romio_cb_read': 'enable', 'romio_cb_write': 'enable', 'cb_buffer_size': '188743680'}, 'lfs': {'setstripe': {'size': 0, 'count': 5}}}\n",
      "S3D-IO 50-100-100-2-2-4-1 451.92 0.06 0.14 295.88 0.30 1.03 0.05 0.02 0 5 enable disable enable enable 188743680 \n",
      "\n",
      "295.88\n",
      "{'loss': 0.003379748546708125, 'hyperparameters': {'romio_ds_read': 'enable', 'romio_ds_write': 'disable', 'romio_cb_read': 'enable', 'romio_cb_write': 'enable', 'cb_buffer_size': 188743680, 'setstripe-size': 0, 'setstripe-count': 5}, 'iteration': 44, 'iteration_time': 5.1505771251395345, 'status': 'ok'}\n",
      "{'romio_ds_read': 'enable', 'romio_ds_write': 'enable', 'romio_cb_read': 'enable', 'romio_cb_write': 'enable', 'cb_buffer_size': 666894336, 'setstripe-size': 131072, 'setstripe-count': 11}\n",
      "{'mpi': {'romio_ds_read': 'enable', 'romio_ds_write': 'enable', 'romio_cb_read': 'enable', 'romio_cb_write': 'enable', 'cb_buffer_size': '666894336'}, 'lfs': {'setstripe': {'size': 131072, 'count': 11}}}\n",
      "S3D-IO 50-100-100-2-2-4-1 506.25 0.06 0.12 177.56 0.30 1.72 0.05 0.03 131072 11 enable enable enable enable 666894336 \n",
      "\n",
      "177.56\n",
      "{'loss': 0.005631899076368551, 'hyperparameters': {'romio_ds_read': 'enable', 'romio_ds_write': 'enable', 'romio_cb_read': 'enable', 'romio_cb_write': 'enable', 'cb_buffer_size': 666894336, 'setstripe-size': 131072, 'setstripe-count': 11}, 'iteration': 45, 'iteration_time': 5.87307917419821, 'status': 'ok'}\n",
      "{'romio_ds_read': 'enable', 'romio_ds_write': 'enable', 'romio_cb_read': 'enable', 'romio_cb_write': 'enable', 'cb_buffer_size': 658505728, 'setstripe-size': 131072, 'setstripe-count': 18}\n",
      "{'mpi': {'romio_ds_read': 'enable', 'romio_ds_write': 'enable', 'romio_cb_read': 'enable', 'romio_cb_write': 'enable', 'cb_buffer_size': '658505728'}, 'lfs': {'setstripe': {'size': 131072, 'count': 18}}}\n",
      "S3D-IO 50-100-100-2-2-4-1 240.04 0.06 0.26 42.23 0.30 7.23 0.06 0.02 131072 18 enable enable enable enable 658505728 \n",
      "\n",
      "42.23\n",
      "{'loss': 0.023679848448969927, 'hyperparameters': {'romio_ds_read': 'enable', 'romio_ds_write': 'enable', 'romio_cb_read': 'enable', 'romio_cb_write': 'enable', 'cb_buffer_size': 658505728, 'setstripe-size': 131072, 'setstripe-count': 18}, 'iteration': 46, 'iteration_time': 11.60720357298851, 'status': 'ok'}\n",
      "{'romio_ds_read': 'enable', 'romio_ds_write': 'enable', 'romio_cb_read': 'disable', 'romio_cb_write': 'disable', 'cb_buffer_size': 926941184, 'setstripe-size': 65536, 'setstripe-count': 17}\n",
      "{'mpi': {'romio_ds_read': 'enable', 'romio_ds_write': 'enable', 'romio_cb_read': 'disable', 'romio_cb_write': 'disable', 'cb_buffer_size': '926941184'}, 'lfs': {'setstripe': {'size': 65536, 'count': 17}}}\n",
      "S3D-IO 50-100-100-2-2-4-1 357.96 0.06 0.17 40.12 0.30 7.61 0.07 0.02 65536 17 enable enable disable disable 926941184 \n",
      "\n",
      "40.12\n",
      "{'loss': 0.024925224327018946, 'hyperparameters': {'romio_ds_read': 'enable', 'romio_ds_write': 'enable', 'romio_cb_read': 'disable', 'romio_cb_write': 'disable', 'cb_buffer_size': 926941184, 'setstripe-size': 65536, 'setstripe-count': 17}, 'iteration': 47, 'iteration_time': 11.755271971225739, 'status': 'ok'}\n",
      "{'romio_ds_read': 'enable', 'romio_ds_write': 'enable', 'romio_cb_read': 'enable', 'romio_cb_write': 'disable', 'cb_buffer_size': 717225984, 'setstripe-size': 65536, 'setstripe-count': 10}\n",
      "{'mpi': {'romio_ds_read': 'enable', 'romio_ds_write': 'enable', 'romio_cb_read': 'enable', 'romio_cb_write': 'disable', 'cb_buffer_size': '717225984'}, 'lfs': {'setstripe': {'size': 65536, 'count': 10}}}\n",
      "S3D-IO 50-100-100-2-2-4-1 386.07 0.06 0.16 52.24 0.30 5.84 0.08 0.02 65536 10 enable enable enable disable 717225984 \n",
      "\n",
      "52.24\n",
      "{'loss': 0.01914241960183767, 'hyperparameters': {'romio_ds_read': 'enable', 'romio_ds_write': 'enable', 'romio_cb_read': 'enable', 'romio_cb_write': 'disable', 'cb_buffer_size': 717225984, 'setstripe-size': 65536, 'setstripe-count': 10}, 'iteration': 48, 'iteration_time': 10.026866224594414, 'status': 'ok'}\n",
      "{'romio_ds_read': 'enable', 'romio_ds_write': 'enable', 'romio_cb_read': 'disable', 'romio_cb_write': 'disable', 'cb_buffer_size': 268435456, 'setstripe-size': 0, 'setstripe-count': 10}\n",
      "{'mpi': {'romio_ds_read': 'enable', 'romio_ds_write': 'enable', 'romio_cb_read': 'disable', 'romio_cb_write': 'disable', 'cb_buffer_size': '268435456'}, 'lfs': {'setstripe': {'size': 0, 'count': 10}}}\n",
      "S3D-IO 50-100-100-2-2-4-1 444.82 0.06 0.14 333.86 0.30 0.91 0.08 0.02 0 10 enable enable disable disable 268435456 \n",
      "\n",
      "333.86\n",
      "{'loss': 0.0029952674773857306, 'hyperparameters': {'romio_ds_read': 'enable', 'romio_ds_write': 'enable', 'romio_cb_read': 'disable', 'romio_cb_write': 'disable', 'cb_buffer_size': 268435456, 'setstripe-size': 0, 'setstripe-count': 10}, 'iteration': 49, 'iteration_time': 5.083145764656365, 'status': 'ok'}\n",
      "{'romio_ds_read': 'disable', 'romio_ds_write': 'disable', 'romio_cb_read': 'enable', 'romio_cb_write': 'enable', 'cb_buffer_size': 142606336, 'setstripe-size': 0, 'setstripe-count': 3}\n",
      "{'mpi': {'romio_ds_read': 'disable', 'romio_ds_write': 'disable', 'romio_cb_read': 'enable', 'romio_cb_write': 'enable', 'cb_buffer_size': '142606336'}, 'lfs': {'setstripe': {'size': 0, 'count': 3}}}\n",
      "S3D-IO 50-100-100-2-2-4-1 422.58 0.06 0.15 297.62 0.30 1.03 0.05 0.03 0 3 disable disable enable enable 142606336 \n",
      "\n",
      "297.62\n",
      "{'loss': 0.0033599892480344062, 'hyperparameters': {'romio_ds_read': 'disable', 'romio_ds_write': 'disable', 'romio_cb_read': 'enable', 'romio_cb_write': 'enable', 'cb_buffer_size': 142606336, 'setstripe-size': 0, 'setstripe-count': 3}, 'iteration': 50, 'iteration_time': 5.167074684053659, 'status': 'ok'}\n",
      "{'romio_ds_read': 'disable', 'romio_ds_write': 'disable', 'romio_cb_read': 'disable', 'romio_cb_write': 'disable', 'cb_buffer_size': 629145600, 'setstripe-size': 131072, 'setstripe-count': 19}\n",
      "{'mpi': {'romio_ds_read': 'disable', 'romio_ds_write': 'disable', 'romio_cb_read': 'disable', 'romio_cb_write': 'disable', 'cb_buffer_size': '629145600'}, 'lfs': {'setstripe': {'size': 131072, 'count': 19}}}\n"
     ]
    },
    {
     "name": "stdout",
     "output_type": "stream",
     "text": [
      "S3D-IO 50-100-100-2-2-4-1 106.48 0.06 0.58 58.60 0.30 5.21 0.06 0.03 131072 19 disable disable disable disable 629145600 \n",
      "\n",
      "58.6\n",
      "{'loss': 0.017064846416382253, 'hyperparameters': {'romio_ds_read': 'disable', 'romio_ds_write': 'disable', 'romio_cb_read': 'disable', 'romio_cb_write': 'disable', 'cb_buffer_size': 629145600, 'setstripe-size': 131072, 'setstripe-count': 19}, 'iteration': 51, 'iteration_time': 9.805003799498081, 'status': 'ok'}\n",
      "{'romio_ds_read': 'enable', 'romio_ds_write': 'disable', 'romio_cb_read': 'enable', 'romio_cb_write': 'enable', 'cb_buffer_size': 532676608, 'setstripe-size': 65536, 'setstripe-count': 7}\n",
      "{'mpi': {'romio_ds_read': 'enable', 'romio_ds_write': 'disable', 'romio_cb_read': 'enable', 'romio_cb_write': 'enable', 'cb_buffer_size': '532676608'}, 'lfs': {'setstripe': {'size': 65536, 'count': 7}}}\n",
      "S3D-IO 50-100-100-2-2-4-1 290.68 0.06 0.21 69.48 0.30 4.39 0.07 0.02 65536 7 enable disable enable enable 532676608 \n",
      "\n",
      "69.48\n",
      "{'loss': 0.014392630972941852, 'hyperparameters': {'romio_ds_read': 'enable', 'romio_ds_write': 'disable', 'romio_cb_read': 'enable', 'romio_cb_write': 'enable', 'cb_buffer_size': 532676608, 'setstripe-size': 65536, 'setstripe-count': 7}, 'iteration': 52, 'iteration_time': 8.565229495055974, 'status': 'ok'}\n",
      "{'romio_ds_read': 'enable', 'romio_ds_write': 'disable', 'romio_cb_read': 'enable', 'romio_cb_write': 'enable', 'cb_buffer_size': 243269632, 'setstripe-size': 131072, 'setstripe-count': 8}\n",
      "{'mpi': {'romio_ds_read': 'enable', 'romio_ds_write': 'disable', 'romio_cb_read': 'enable', 'romio_cb_write': 'enable', 'cb_buffer_size': '243269632'}, 'lfs': {'setstripe': {'size': 131072, 'count': 8}}}\n",
      "S3D-IO 50-100-100-2-2-4-1 162.61 0.06 0.38 102.71 0.30 2.97 0.06 0.03 131072 8 enable disable enable enable 243269632 \n",
      "\n",
      "102.71\n",
      "{'loss': 0.009736150326161036, 'hyperparameters': {'romio_ds_read': 'enable', 'romio_ds_write': 'disable', 'romio_cb_read': 'enable', 'romio_cb_write': 'enable', 'cb_buffer_size': 243269632, 'setstripe-size': 131072, 'setstripe-count': 8}, 'iteration': 53, 'iteration_time': 7.37370643671602, 'status': 'ok'}\n",
      "{'romio_ds_read': 'disable', 'romio_ds_write': 'enable', 'romio_cb_read': 'disable', 'romio_cb_write': 'enable', 'cb_buffer_size': 335544320, 'setstripe-size': 131072, 'setstripe-count': 13}\n",
      "{'mpi': {'romio_ds_read': 'disable', 'romio_ds_write': 'enable', 'romio_cb_read': 'disable', 'romio_cb_write': 'enable', 'cb_buffer_size': '335544320'}, 'lfs': {'setstripe': {'size': 131072, 'count': 13}}}\n",
      "S3D-IO 50-100-100-2-2-4-1 309.61 0.06 0.20 57.16 0.30 5.34 0.08 0.03 131072 13 disable enable disable enable 335544320 \n",
      "\n",
      "57.16\n",
      "{'loss': 0.017494751574527644, 'hyperparameters': {'romio_ds_read': 'disable', 'romio_ds_write': 'enable', 'romio_cb_read': 'disable', 'romio_cb_write': 'enable', 'cb_buffer_size': 335544320, 'setstripe-size': 131072, 'setstripe-count': 13}, 'iteration': 54, 'iteration_time': 9.642249492928386, 'status': 'ok'}\n",
      "{'romio_ds_read': 'enable', 'romio_ds_write': 'disable', 'romio_cb_read': 'disable', 'romio_cb_write': 'enable', 'cb_buffer_size': 654311424, 'setstripe-size': 65536, 'setstripe-count': 3}\n",
      "{'mpi': {'romio_ds_read': 'enable', 'romio_ds_write': 'disable', 'romio_cb_read': 'disable', 'romio_cb_write': 'enable', 'cb_buffer_size': '654311424'}, 'lfs': {'setstripe': {'size': 65536, 'count': 3}}}\n",
      "S3D-IO 50-100-100-2-2-4-1 270.02 0.06 0.23 299.85 0.30 1.02 0.06 0.02 65536 3 enable disable disable enable 654311424 \n",
      "\n",
      "299.85\n",
      "{'loss': 0.003335000833750208, 'hyperparameters': {'romio_ds_read': 'enable', 'romio_ds_write': 'disable', 'romio_cb_read': 'disable', 'romio_cb_write': 'enable', 'cb_buffer_size': 654311424, 'setstripe-size': 65536, 'setstripe-count': 3}, 'iteration': 55, 'iteration_time': 5.349806662648916, 'status': 'ok'}\n",
      "{'romio_ds_read': 'enable', 'romio_ds_write': 'enable', 'romio_cb_read': 'disable', 'romio_cb_write': 'enable', 'cb_buffer_size': 62914560, 'setstripe-size': 0, 'setstripe-count': 6}\n",
      "{'mpi': {'romio_ds_read': 'enable', 'romio_ds_write': 'enable', 'romio_cb_read': 'disable', 'romio_cb_write': 'enable', 'cb_buffer_size': '62914560'}, 'lfs': {'setstripe': {'size': 0, 'count': 6}}}\n",
      "S3D-IO 50-100-100-2-2-4-1 397.95 0.06 0.15 323.96 0.30 0.94 0.06 0.02 0 6 enable enable disable enable 62914560 \n",
      "\n",
      "323.96\n",
      "{'loss': 0.0030868008396098285, 'hyperparameters': {'romio_ds_read': 'enable', 'romio_ds_write': 'enable', 'romio_cb_read': 'disable', 'romio_cb_write': 'enable', 'cb_buffer_size': 62914560, 'setstripe-size': 0, 'setstripe-count': 6}, 'iteration': 56, 'iteration_time': 5.13616709690541, 'status': 'ok'}\n",
      "{'romio_ds_read': 'disable', 'romio_ds_write': 'disable', 'romio_cb_read': 'disable', 'romio_cb_write': 'enable', 'cb_buffer_size': 461373440, 'setstripe-size': 0, 'setstripe-count': 11}\n",
      "{'mpi': {'romio_ds_read': 'disable', 'romio_ds_write': 'disable', 'romio_cb_read': 'disable', 'romio_cb_write': 'enable', 'cb_buffer_size': '461373440'}, 'lfs': {'setstripe': {'size': 0, 'count': 11}}}\n",
      "S3D-IO 50-100-100-2-2-4-1 446.71 0.06 0.14 350.06 0.30 0.87 0.05 0.02 0 11 disable disable disable enable 461373440 \n",
      "\n",
      "350.06\n",
      "{'loss': 0.0028566531451751126, 'hyperparameters': {'romio_ds_read': 'disable', 'romio_ds_write': 'disable', 'romio_cb_read': 'disable', 'romio_cb_write': 'enable', 'cb_buffer_size': 461373440, 'setstripe-size': 0, 'setstripe-count': 11}, 'iteration': 57, 'iteration_time': 5.022788871079683, 'status': 'ok'}\n",
      "{'romio_ds_read': 'enable', 'romio_ds_write': 'enable', 'romio_cb_read': 'enable', 'romio_cb_write': 'enable', 'cb_buffer_size': 310378496, 'setstripe-size': 0, 'setstripe-count': 14}\n",
      "{'mpi': {'romio_ds_read': 'enable', 'romio_ds_write': 'enable', 'romio_cb_read': 'enable', 'romio_cb_write': 'enable', 'cb_buffer_size': '310378496'}, 'lfs': {'setstripe': {'size': 0, 'count': 14}}}\n",
      "S3D-IO 50-100-100-2-2-4-1 466.46 0.06 0.13 350.72 0.30 0.87 0.06 0.02 0 14 enable enable enable enable 310378496 \n",
      "\n",
      "350.72\n",
      "{'loss': 0.0028512773722627737, 'hyperparameters': {'romio_ds_read': 'enable', 'romio_ds_write': 'enable', 'romio_cb_read': 'enable', 'romio_cb_write': 'enable', 'cb_buffer_size': 310378496, 'setstripe-size': 0, 'setstripe-count': 14}, 'iteration': 58, 'iteration_time': 4.955411027185619, 'status': 'ok'}\n",
      "{'romio_ds_read': 'enable', 'romio_ds_write': 'disable', 'romio_cb_read': 'disable', 'romio_cb_write': 'enable', 'cb_buffer_size': 364904448, 'setstripe-size': 65536, 'setstripe-count': 12}\n",
      "{'mpi': {'romio_ds_read': 'enable', 'romio_ds_write': 'disable', 'romio_cb_read': 'disable', 'romio_cb_write': 'enable', 'cb_buffer_size': '364904448'}, 'lfs': {'setstripe': {'size': 65536, 'count': 12}}}\n",
      "S3D-IO 50-100-100-2-2-4-1 99.49 0.06 0.62 37.29 0.30 8.18 0.05 0.02 65536 12 enable disable disable enable 364904448 \n",
      "\n",
      "37.29\n",
      "{'loss': 0.026816840976133013, 'hyperparameters': {'romio_ds_read': 'enable', 'romio_ds_write': 'disable', 'romio_cb_read': 'disable', 'romio_cb_write': 'enable', 'cb_buffer_size': 364904448, 'setstripe-size': 65536, 'setstripe-count': 12}, 'iteration': 59, 'iteration_time': 25.01274506468326, 'status': 'ok'}\n",
      "{'romio_ds_read': 'enable', 'romio_ds_write': 'enable', 'romio_cb_read': 'enable', 'romio_cb_write': 'disable', 'cb_buffer_size': 868220928, 'setstripe-size': 131072, 'setstripe-count': 0}\n",
      "{'mpi': {'romio_ds_read': 'enable', 'romio_ds_write': 'enable', 'romio_cb_read': 'enable', 'romio_cb_write': 'disable', 'cb_buffer_size': '868220928'}, 'lfs': {'setstripe': {'size': 131072, 'count': 0}}}\n",
      "S3D-IO 50-100-100-2-2-4-1 460.57 0.06 0.13 351.64 0.30 0.87 0.09 0.05 131072 0 enable enable enable disable 868220928 \n",
      "\n",
      "351.64\n",
      "{'loss': 0.002843817540666591, 'hyperparameters': {'romio_ds_read': 'enable', 'romio_ds_write': 'enable', 'romio_cb_read': 'enable', 'romio_cb_write': 'disable', 'cb_buffer_size': 868220928, 'setstripe-size': 131072, 'setstripe-count': 0}, 'iteration': 60, 'iteration_time': 5.152488091960549, 'status': 'ok'}\n"
     ]
    }
   ],
   "source": [
    "\n",
    "random_space = {\n",
    "    'romio_ds_read' : ['enable','disable'],\n",
    "    'romio_ds_write' : ['enable','disable'],\n",
    "    'romio_cb_read' : ['enable','disable'],\n",
    "    'romio_cb_write' : ['enable','disable'],\n",
    "    'cb_buffer_size' : [1048576*x for x in list(range(0,1024,4))],\n",
    "    'setstripe-size' : [65536*x for x in list(range(0,3,1))],\n",
    "    'setstripe-count' : list(range(0,20,1))\n",
    "    \n",
    "}\n",
    "random.seed(50)\n",
    "\n",
    "random_results = pd.DataFrame(columns = ['loss', 'params', 'iteration', 'time'],\n",
    "                       index = list(range(MAX_EVALS)))\n",
    "\n",
    "# Iterate through the specified number of evaluations\n",
    "for i in range(MAX_EVALS):\n",
    "    \n",
    "    # Randomly sample parameters for gbm\n",
    "    params = {key: random.sample(value, 1)[0] for key, value in random_space.items()}\n",
    "    print(params)\n",
    "    results_list = random_objective(params)\n",
    "    random_results.loc[i, :] = results_list\n"
   ]
  },
  {
   "cell_type": "code",
   "execution_count": 133,
   "metadata": {},
   "outputs": [
    {
     "data": {
      "text/html": [
       "<div>\n",
       "<style scoped>\n",
       "    .dataframe tbody tr th:only-of-type {\n",
       "        vertical-align: middle;\n",
       "    }\n",
       "\n",
       "    .dataframe tbody tr th {\n",
       "        vertical-align: top;\n",
       "    }\n",
       "\n",
       "    .dataframe thead th {\n",
       "        text-align: right;\n",
       "    }\n",
       "</style>\n",
       "<table border=\"1\" class=\"dataframe\">\n",
       "  <thead>\n",
       "    <tr style=\"text-align: right;\">\n",
       "      <th></th>\n",
       "      <th>loss</th>\n",
       "      <th>params</th>\n",
       "      <th>iteration</th>\n",
       "      <th>time</th>\n",
       "    </tr>\n",
       "  </thead>\n",
       "  <tbody>\n",
       "    <tr>\n",
       "      <th>0</th>\n",
       "      <td>0.00252532</td>\n",
       "      <td>{'romio_ds_read': 'disable', 'romio_ds_write':...</td>\n",
       "      <td>24</td>\n",
       "      <td>5.28523</td>\n",
       "    </tr>\n",
       "    <tr>\n",
       "      <th>1</th>\n",
       "      <td>0.00259902</td>\n",
       "      <td>{'romio_ds_read': 'disable', 'romio_ds_write':...</td>\n",
       "      <td>50</td>\n",
       "      <td>4.96524</td>\n",
       "    </tr>\n",
       "    <tr>\n",
       "      <th>2</th>\n",
       "      <td>0.0026094</td>\n",
       "      <td>{'romio_ds_read': 'enable', 'romio_ds_write': ...</td>\n",
       "      <td>53</td>\n",
       "      <td>5.65222</td>\n",
       "    </tr>\n",
       "    <tr>\n",
       "      <th>3</th>\n",
       "      <td>0.0026275</td>\n",
       "      <td>{'romio_ds_read': 'disable', 'romio_ds_write':...</td>\n",
       "      <td>34</td>\n",
       "      <td>5.04684</td>\n",
       "    </tr>\n",
       "    <tr>\n",
       "      <th>4</th>\n",
       "      <td>0.00268991</td>\n",
       "      <td>{'romio_ds_read': 'disable', 'romio_ds_write':...</td>\n",
       "      <td>35</td>\n",
       "      <td>5.13629</td>\n",
       "    </tr>\n",
       "  </tbody>\n",
       "</table>\n",
       "</div>"
      ],
      "text/plain": [
       "         loss                                             params iteration  \\\n",
       "0  0.00252532  {'romio_ds_read': 'disable', 'romio_ds_write':...        24   \n",
       "1  0.00259902  {'romio_ds_read': 'disable', 'romio_ds_write':...        50   \n",
       "2   0.0026094  {'romio_ds_read': 'enable', 'romio_ds_write': ...        53   \n",
       "3   0.0026275  {'romio_ds_read': 'disable', 'romio_ds_write':...        34   \n",
       "4  0.00268991  {'romio_ds_read': 'disable', 'romio_ds_write':...        35   \n",
       "\n",
       "      time  \n",
       "0  5.28523  \n",
       "1  4.96524  \n",
       "2  5.65222  \n",
       "3  5.04684  \n",
       "4  5.13629  "
      ]
     },
     "execution_count": 133,
     "metadata": {},
     "output_type": "execute_result"
    }
   ],
   "source": [
    "random_results.sort_values('loss', ascending = True, inplace = True)\n",
    "random_results.reset_index(inplace = True, drop = True)\n",
    "random_results.head()\n"
   ]
  },
  {
   "cell_type": "code",
   "execution_count": 164,
   "metadata": {},
   "outputs": [
    {
     "name": "stdout",
     "output_type": "stream",
     "text": [
      "20\n"
     ]
    },
    {
     "data": {
      "text/html": [
       "<div>\n",
       "<style scoped>\n",
       "    .dataframe tbody tr th:only-of-type {\n",
       "        vertical-align: middle;\n",
       "    }\n",
       "\n",
       "    .dataframe tbody tr th {\n",
       "        vertical-align: top;\n",
       "    }\n",
       "\n",
       "    .dataframe thead th {\n",
       "        text-align: right;\n",
       "    }\n",
       "</style>\n",
       "<table border=\"1\" class=\"dataframe\">\n",
       "  <thead>\n",
       "    <tr style=\"text-align: right;\">\n",
       "      <th></th>\n",
       "      <th>romio_ds_read</th>\n",
       "      <th>romio_ds_write</th>\n",
       "      <th>romio_cb_read</th>\n",
       "      <th>romio_cb_write</th>\n",
       "      <th>cb_buffer_size</th>\n",
       "      <th>setstripe-size</th>\n",
       "      <th>setstripe-count</th>\n",
       "      <th>loss</th>\n",
       "      <th>iteration</th>\n",
       "      <th>time</th>\n",
       "    </tr>\n",
       "  </thead>\n",
       "  <tbody>\n",
       "    <tr>\n",
       "      <th>0</th>\n",
       "      <td>disable</td>\n",
       "      <td>disable</td>\n",
       "      <td>disable</td>\n",
       "      <td>enable</td>\n",
       "      <td>1015021568</td>\n",
       "      <td>65536</td>\n",
       "      <td>2</td>\n",
       "      <td>0.00252532</td>\n",
       "      <td>24</td>\n",
       "      <td>5.28523</td>\n",
       "    </tr>\n",
       "    <tr>\n",
       "      <th>1</th>\n",
       "      <td>disable</td>\n",
       "      <td>disable</td>\n",
       "      <td>disable</td>\n",
       "      <td>enable</td>\n",
       "      <td>461373440</td>\n",
       "      <td>0</td>\n",
       "      <td>11</td>\n",
       "      <td>0.00259902</td>\n",
       "      <td>50</td>\n",
       "      <td>4.96524</td>\n",
       "    </tr>\n",
       "    <tr>\n",
       "      <th>2</th>\n",
       "      <td>enable</td>\n",
       "      <td>enable</td>\n",
       "      <td>enable</td>\n",
       "      <td>disable</td>\n",
       "      <td>868220928</td>\n",
       "      <td>131072</td>\n",
       "      <td>0</td>\n",
       "      <td>0.0026094</td>\n",
       "      <td>53</td>\n",
       "      <td>5.65222</td>\n",
       "    </tr>\n",
       "    <tr>\n",
       "      <th>3</th>\n",
       "      <td>disable</td>\n",
       "      <td>disable</td>\n",
       "      <td>disable</td>\n",
       "      <td>disable</td>\n",
       "      <td>838860800</td>\n",
       "      <td>65536</td>\n",
       "      <td>2</td>\n",
       "      <td>0.0026275</td>\n",
       "      <td>34</td>\n",
       "      <td>5.04684</td>\n",
       "    </tr>\n",
       "    <tr>\n",
       "      <th>4</th>\n",
       "      <td>disable</td>\n",
       "      <td>enable</td>\n",
       "      <td>disable</td>\n",
       "      <td>enable</td>\n",
       "      <td>37748736</td>\n",
       "      <td>0</td>\n",
       "      <td>14</td>\n",
       "      <td>0.00268991</td>\n",
       "      <td>35</td>\n",
       "      <td>5.13629</td>\n",
       "    </tr>\n",
       "  </tbody>\n",
       "</table>\n",
       "</div>"
      ],
      "text/plain": [
       "  romio_ds_read romio_ds_write romio_cb_read romio_cb_write cb_buffer_size  \\\n",
       "0       disable        disable       disable         enable     1015021568   \n",
       "1       disable        disable       disable         enable      461373440   \n",
       "2        enable         enable        enable        disable      868220928   \n",
       "3       disable        disable       disable        disable      838860800   \n",
       "4       disable         enable       disable         enable       37748736   \n",
       "\n",
       "  setstripe-size setstripe-count        loss iteration     time  \n",
       "0          65536               2  0.00252532        24  5.28523  \n",
       "1              0              11  0.00259902        50  4.96524  \n",
       "2         131072               0   0.0026094        53  5.65222  \n",
       "3          65536               2   0.0026275        34  5.04684  \n",
       "4              0              14  0.00268991        35  5.13629  "
      ]
     },
     "execution_count": 164,
     "metadata": {},
     "output_type": "execute_result"
    }
   ],
   "source": [
    "best_random_params = random_results.loc[0, 'params'].copy()\n",
    "random_params = pd.DataFrame(columns = list(random_results.loc[0, 'params'].keys()),\n",
    "                            index = list(range(len(random_results))))\n",
    "\n",
    "# Add the results with each parameter a different column\n",
    "random_results = random_results[:20]\n",
    "print(len(random_results))\n",
    "for i, params in enumerate(random_results['params']):\n",
    "    random_params.loc[i, :] = list(params.values())\n",
    "random_params['loss'] = random_results['loss']\n",
    "random_params['iteration'] = random_results['iteration']\n",
    "random_params['time'] = random_results['time']\n",
    "\n",
    "random_params.head()"
   ]
  },
  {
   "cell_type": "code",
   "execution_count": 177,
   "metadata": {},
   "outputs": [
    {
     "ename": "ValueError",
     "evalue": "color kwarg must have one color per data set. 20 data sets and 1 colors were provided",
     "output_type": "error",
     "traceback": [
      "\u001b[0;31m---------------------------------------------------------------------------\u001b[0m",
      "\u001b[0;31mValueError\u001b[0m                                Traceback (most recent call last)",
      "\u001b[0;32m<ipython-input-177-dd19140d5fad>\u001b[0m in \u001b[0;36m<module>\u001b[0;34m\u001b[0m\n\u001b[1;32m      3\u001b[0m \u001b[0;34m\u001b[0m\u001b[0m\n\u001b[1;32m      4\u001b[0m \u001b[0;31m# Density plots of the learning rate distributions\u001b[0m\u001b[0;34m\u001b[0m\u001b[0;34m\u001b[0m\u001b[0;34m\u001b[0m\u001b[0m\n\u001b[0;32m----> 5\u001b[0;31m \u001b[0msns\u001b[0m\u001b[0;34m.\u001b[0m\u001b[0mdistplot\u001b[0m\u001b[0;34m(\u001b[0m\u001b[0mrandom_params\u001b[0m\u001b[0;34m[\u001b[0m\u001b[0;34m'time'\u001b[0m\u001b[0;34m]\u001b[0m\u001b[0;34m,\u001b[0m \u001b[0mlabel\u001b[0m \u001b[0;34m=\u001b[0m \u001b[0;34m'Random Search'\u001b[0m\u001b[0;34m)\u001b[0m\u001b[0;31m#, linewidth = 2)\u001b[0m\u001b[0;34m\u001b[0m\u001b[0;34m\u001b[0m\u001b[0m\n\u001b[0m\u001b[1;32m      6\u001b[0m \u001b[0;31m#sns.distplot(bayes_params['train_time'], label = 'Bayes Optimization')#, linewidth = 2\u001b[0m\u001b[0;34m\u001b[0m\u001b[0;34m\u001b[0m\u001b[0;34m\u001b[0m\u001b[0m\n\u001b[1;32m      7\u001b[0m \u001b[0mplt\u001b[0m\u001b[0;34m.\u001b[0m\u001b[0mlegend\u001b[0m\u001b[0;34m(\u001b[0m\u001b[0;34m)\u001b[0m\u001b[0;34m\u001b[0m\u001b[0;34m\u001b[0m\u001b[0m\n",
      "\u001b[0;32m~/env/lib/python3.6/site-packages/seaborn/distributions.py\u001b[0m in \u001b[0;36mdistplot\u001b[0;34m(a, bins, hist, kde, rug, fit, hist_kws, kde_kws, rug_kws, fit_kws, color, vertical, norm_hist, axlabel, label, ax)\u001b[0m\n\u001b[1;32m    223\u001b[0m         \u001b[0mhist_color\u001b[0m \u001b[0;34m=\u001b[0m \u001b[0mhist_kws\u001b[0m\u001b[0;34m.\u001b[0m\u001b[0mpop\u001b[0m\u001b[0;34m(\u001b[0m\u001b[0;34m\"color\"\u001b[0m\u001b[0;34m,\u001b[0m \u001b[0mcolor\u001b[0m\u001b[0;34m)\u001b[0m\u001b[0;34m\u001b[0m\u001b[0;34m\u001b[0m\u001b[0m\n\u001b[1;32m    224\u001b[0m         ax.hist(a, bins, orientation=orientation,\n\u001b[0;32m--> 225\u001b[0;31m                 color=hist_color, **hist_kws)\n\u001b[0m\u001b[1;32m    226\u001b[0m         \u001b[0;32mif\u001b[0m \u001b[0mhist_color\u001b[0m \u001b[0;34m!=\u001b[0m \u001b[0mcolor\u001b[0m\u001b[0;34m:\u001b[0m\u001b[0;34m\u001b[0m\u001b[0;34m\u001b[0m\u001b[0m\n\u001b[1;32m    227\u001b[0m             \u001b[0mhist_kws\u001b[0m\u001b[0;34m[\u001b[0m\u001b[0;34m\"color\"\u001b[0m\u001b[0;34m]\u001b[0m \u001b[0;34m=\u001b[0m \u001b[0mhist_color\u001b[0m\u001b[0;34m\u001b[0m\u001b[0;34m\u001b[0m\u001b[0m\n",
      "\u001b[0;32m~/env/lib/python3.6/site-packages/matplotlib/__init__.py\u001b[0m in \u001b[0;36minner\u001b[0;34m(ax, data, *args, **kwargs)\u001b[0m\n\u001b[1;32m   1808\u001b[0m                         \u001b[0;34m\"the Matplotlib list!)\"\u001b[0m \u001b[0;34m%\u001b[0m \u001b[0;34m(\u001b[0m\u001b[0mlabel_namer\u001b[0m\u001b[0;34m,\u001b[0m \u001b[0mfunc\u001b[0m\u001b[0;34m.\u001b[0m\u001b[0m__name__\u001b[0m\u001b[0;34m)\u001b[0m\u001b[0;34m,\u001b[0m\u001b[0;34m\u001b[0m\u001b[0;34m\u001b[0m\u001b[0m\n\u001b[1;32m   1809\u001b[0m                         RuntimeWarning, stacklevel=2)\n\u001b[0;32m-> 1810\u001b[0;31m             \u001b[0;32mreturn\u001b[0m \u001b[0mfunc\u001b[0m\u001b[0;34m(\u001b[0m\u001b[0max\u001b[0m\u001b[0;34m,\u001b[0m \u001b[0;34m*\u001b[0m\u001b[0margs\u001b[0m\u001b[0;34m,\u001b[0m \u001b[0;34m**\u001b[0m\u001b[0mkwargs\u001b[0m\u001b[0;34m)\u001b[0m\u001b[0;34m\u001b[0m\u001b[0;34m\u001b[0m\u001b[0m\n\u001b[0m\u001b[1;32m   1811\u001b[0m \u001b[0;34m\u001b[0m\u001b[0m\n\u001b[1;32m   1812\u001b[0m         inner.__doc__ = _add_data_doc(inner.__doc__,\n",
      "\u001b[0;32m~/env/lib/python3.6/site-packages/matplotlib/axes/_axes.py\u001b[0m in \u001b[0;36mhist\u001b[0;34m(self, x, bins, range, density, weights, cumulative, bottom, histtype, align, orientation, rwidth, log, color, label, stacked, normed, **kwargs)\u001b[0m\n\u001b[1;32m   6563\u001b[0m                     \u001b[0;34m\"color kwarg must have one color per data set. %d data \"\u001b[0m\u001b[0;34m\u001b[0m\u001b[0;34m\u001b[0m\u001b[0m\n\u001b[1;32m   6564\u001b[0m                     \"sets and %d colors were provided\" % (nx, len(color)))\n\u001b[0;32m-> 6565\u001b[0;31m                 \u001b[0;32mraise\u001b[0m \u001b[0mValueError\u001b[0m\u001b[0;34m(\u001b[0m\u001b[0merror_message\u001b[0m\u001b[0;34m)\u001b[0m\u001b[0;34m\u001b[0m\u001b[0;34m\u001b[0m\u001b[0m\n\u001b[0m\u001b[1;32m   6566\u001b[0m \u001b[0;34m\u001b[0m\u001b[0m\n\u001b[1;32m   6567\u001b[0m         \u001b[0;31m# If bins are not specified either explicitly or via range,\u001b[0m\u001b[0;34m\u001b[0m\u001b[0;34m\u001b[0m\u001b[0;34m\u001b[0m\u001b[0m\n",
      "\u001b[0;31mValueError\u001b[0m: color kwarg must have one color per data set. 20 data sets and 1 colors were provided"
     ]
    },
    {
     "name": "stderr",
     "output_type": "stream",
     "text": [
      "DEBUG:matplotlib.axes._base:update_title_pos\n",
      "DEBUG:matplotlib.axes._base:update_title_pos\n",
      "DEBUG:matplotlib.axes._base:update_title_pos\n",
      "DEBUG:matplotlib.axes._base:update_title_pos\n",
      "DEBUG:matplotlib.axes._base:update_title_pos\n"
     ]
    },
    {
     "data": {
      "image/png": "[encoded data removed]",
      "text/plain": [
       "<Figure size 1440x576 with 1 Axes>"
      ]
     },
     "metadata": {
      "needs_background": "light"
     },
     "output_type": "display_data"
    }
   ],
   "source": [
    "plt.figure(figsize = (20, 8))\n",
    "plt.rcParams['font.size'] = 18\n",
    "\n",
    "# Density plots of the learning rate distributions \n",
    "sns.distplot(random_params['time'], label = 'Random Search')#, linewidth = 2)\n",
    "#sns.distplot(bayes_params['train_time'], label = 'Bayes Optimization')#, linewidth = 2\n",
    "plt.legend()\n",
    "plt.xlabel('Loss'); plt.ylabel('Density'); plt.title('Learning Rate Distribution');"
   ]
  },
  {
   "cell_type": "code",
   "execution_count": null,
   "metadata": {},
   "outputs": [],
   "source": []
  },
  {
   "cell_type": "code",
   "execution_count": null,
   "metadata": {},
   "outputs": [],
   "source": []
  }
 ],
 "metadata": {
  "kernelspec": {
   "display_name": "Python 3",
   "language": "python",
   "name": "python3"
  },
  "language_info": {
   "codemirror_mode": {
    "name": "ipython",
    "version": 3
   },
   "file_extension": ".py",
   "mimetype": "text/x-python",
   "name": "python",
   "nbconvert_exporter": "python",
   "pygments_lexer": "ipython3",
   "version": "3.6.7"
  }
 },
 "nbformat": 4,
 "nbformat_minor": 2
}
