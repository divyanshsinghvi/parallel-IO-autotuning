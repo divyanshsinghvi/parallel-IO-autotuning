{
 "cells": [
  {
   "cell_type": "code",
   "execution_count": 102,
   "metadata": {},
   "outputs": [
    {
     "name": "stderr",
     "output_type": "stream",
     "text": [
      "DEBUG:matplotlib.pyplot:Loaded backend module://ipykernel.pylab.backend_inline version unknown.\n"
     ]
    }
   ],
   "source": [
    "# Data manipulation\n",
    "import pandas as pd\n",
    "import numpy as np\n",
    "# Evaluation of the model\n",
    "from sklearn.model_selection import KFold, train_test_split\n",
    "from sklearn.metrics import roc_auc_score\n",
    "\n",
    "# Visualization\n",
    "import matplotlib.pyplot as plt\n",
    "import seaborn as sns\n",
    "plt.rcParams['font.size'] = 18\n",
    "%matplotlib inline\n",
    "\n",
    "MAX_EVALS = 30\n",
    "import csv\n",
    "from hyperopt import STATUS_OK\n",
    "from timeit import default_timer as timer\n",
    "\n"
   ]
  },
  {
   "cell_type": "code",
   "execution_count": 103,
   "metadata": {},
   "outputs": [],
   "source": [
    "import json\n",
    "import shlex\n",
    "import subprocess\n",
    "import logging\n",
    "from pprint import pprint\n",
    "import re\n",
    "import os\n"
   ]
  },
  {
   "cell_type": "code",
   "execution_count": 104,
   "metadata": {},
   "outputs": [],
   "source": [
    "def runthebenchmark(hyperparameters):\n",
    "    os.chdir('/home/meghaagr/project/progress/active/../')\n",
    "    storeinfile(hyperparameters)\n",
    "    out=subprocess.Popen([\"python3\",\"read_config.py\"], shell=False, stdout=subprocess.PIPE)\n",
    "    logging.basicConfig(level=logging.DEBUG)\n",
    "    output=out.stdout.read().decode('utf-8')\n",
    "    print(output)\n",
    "    value = output.split(\" \")[5]\n",
    "    value = float(value)\n",
    "    print(value)\n",
    "    return float(1/value)\n",
    "    #logging.basicConfig(filename='app.log', filemode='a', format='%(name)s - %(levelname)s - %(message)s',level=logging.DEBUG)\n"
   ]
  },
  {
   "cell_type": "code",
   "execution_count": 105,
   "metadata": {},
   "outputs": [],
   "source": [
    "def storeinfile(hyperparameters):\n",
    "    data={\"mpi\": {\"romio_ds_read\": \"enable\", \"romio_ds_write\": \"disable\"}, \"lfs\": {\"setstripe\": {\"size\": \"16777216\", \"count\": 4}}}\n",
    "    data[\"lfs\"][\"setstripe\"][\"size\"] = int(hyperparameters[\"setstripe-size\"])\n",
    "    data[\"lfs\"][\"setstripe\"][\"count\"] = int(hyperparameters[\"setstripe-count\"])\n",
    "\n",
    "    data[\"mpi\"][\"romio_ds_read\"] = hyperparameters[\"romio_ds_read\"]\n",
    "    data[\"mpi\"][\"romio_ds_write\"] = hyperparameters[\"romio_ds_write\"]\n",
    "    data[\"mpi\"][\"romio_cb_read\"] = hyperparameters[\"romio_cb_read\"]\n",
    "    data[\"mpi\"][\"romio_cb_write\"] = hyperparameters[\"romio_cb_write\"]\n",
    "    data[\"mpi\"][\"cb_buffer_size\"] = str(int(hyperparameters[\"cb_buffer_size\"]))\n",
    "    with open(\"confex.json\",\"w\") as fp:\n",
    "        json.dump(data,fp)\n",
    "    print(data)\n"
   ]
  },
  {
   "cell_type": "code",
   "execution_count": 106,
   "metadata": {},
   "outputs": [],
   "source": [
    "def objective(hyperparameters):\n",
    "    global ITERATION\n",
    "    ITERATION += 1\n",
    "    start = timer()\n",
    "    result=0\n",
    "    while(result == 0):\n",
    "        result = runthebenchmark(hyperparameters)\n",
    "    run_time = timer() - start\n",
    "    print({'loss': result, 'hyperparameters': hyperparameters, 'iteration': ITERATION, 'iteration_time': run_time, 'status': STATUS_OK})\n",
    "    # Write to the csv file ('a' means append)\n",
    "    of_connection = open(out_file, 'a')\n",
    "    writer = csv.writer(of_connection)\n",
    "    writer.writerow([float(result), hyperparameters, ITERATION, run_time])\n",
    "    return {'loss': float(result), 'hyperparameters': hyperparameters, 'iteration': ITERATION, 'iteration_time': run_time, 'status': STATUS_OK}\n"
   ]
  },
  {
   "cell_type": "code",
   "execution_count": 107,
   "metadata": {},
   "outputs": [],
   "source": [
    "from hyperopt import hp\n",
    "from hyperopt.pyll.stochastic import sample\n",
    "\n",
    "space = {\n",
    "    'romio_ds_read' : hp.choice('romio_ds_read',['enable','disable']),\n",
    "    'romio_ds_write' : hp.choice('romio_ds_write',['enable','disable']),\n",
    "    'romio_cb_read' : hp.choice('romio_cb_read',['enable','disable']),\n",
    "    'romio_cb_write' : hp.choice('romio_cb_write',['enable','disable']),\n",
    "    'cb_buffer_size' : 1048576*hp.qnormal('cb_buffer_size',512,128,4),\n",
    "    'setstripe-size' : 65536*(hp.qloguniform('setstripe-size',0,3,1)),\n",
    "    'setstripe-count' : hp.quniform('setstripe-count',0,20,1)\n",
    "    \n",
    "}"
   ]
  },
  {
   "cell_type": "code",
   "execution_count": 108,
   "metadata": {},
   "outputs": [
    {
     "name": "stdout",
     "output_type": "stream",
     "text": [
      "{'cb_buffer_size': 196083712.0, 'romio_cb_read': 'disable', 'romio_cb_write': 'disable', 'romio_ds_read': 'disable', 'romio_ds_write': 'enable', 'setstripe-count': 12.0, 'setstripe-size': 1114112.0}\n"
     ]
    }
   ],
   "source": [
    "x = sample(space)\n",
    "params = x\n",
    "print(x)"
   ]
  },
  {
   "cell_type": "code",
   "execution_count": 109,
   "metadata": {},
   "outputs": [],
   "source": [
    "from hyperopt import tpe\n",
    "\n",
    "# Create the algorithm\n",
    "tpe_algorithm = tpe.suggest\n",
    "\n",
    "\n",
    "from hyperopt import Trials\n",
    "\n",
    "# Record results\n",
    "bayes_trials = Trials()"
   ]
  },
  {
   "cell_type": "code",
   "execution_count": 110,
   "metadata": {},
   "outputs": [
    {
     "name": "stdout",
     "output_type": "stream",
     "text": [
      "/home/meghaagr/project/progress\n"
     ]
    }
   ],
   "source": [
    "# File to save first results\n",
    "print(os.getcwd())\n",
    "out_file = '/home/meghaagr/project/progress/active/result/gbm_trials.csv'\n",
    "of_connection = open(out_file, 'w')\n",
    "writer = csv.writer(of_connection)\n",
    "writer.writerow(['loss', 'params', 'iteration', 'train_time'])\n",
    "of_connection.close()\n"
   ]
  },
  {
   "cell_type": "code",
   "execution_count": 111,
   "metadata": {},
   "outputs": [
    {
     "name": "stdout",
     "output_type": "stream",
     "text": [
      "\r",
      "  0%|          | 0/30 [00:00<?, ?it/s, best loss: ?]"
     ]
    },
    {
     "name": "stderr",
     "output_type": "stream",
     "text": [
      "INFO:hyperopt.tpe:tpe_transform took 0.009712 seconds\n",
      "INFO:hyperopt.tpe:TPE using 0 trials\n"
     ]
    },
    {
     "name": "stdout",
     "output_type": "stream",
     "text": [
      "{'mpi': {'romio_ds_read': 'enable', 'romio_ds_write': 'disable', 'romio_cb_read': 'disable', 'romio_cb_write': 'disable', 'cb_buffer_size': '473956352'}, 'lfs': {'setstripe': {'size': 327680, 'count': 15}}}\n",
      "S3D-IO 50-100-100-2-2-4-1 522.22 0.06 0.12 83.90 0.30 3.64 0.06 0.02 327680 15 enable disable disable disable 473956352 \n",
      "\n",
      "83.9                                                \n",
      "{'loss': 0.011918951132300357, 'hyperparameters': {'cb_buffer_size': 473956352.0, 'romio_cb_read': 'disable', 'romio_cb_write': 'disable', 'romio_ds_read': 'enable', 'romio_ds_write': 'disable', 'setstripe-count': 15.0, 'setstripe-size': 327680.0}, 'iteration': 1, 'iteration_time': 8.008869950659573, 'status': 'ok'}\n",
      "  3%|▎         | 1/30 [00:08<03:53,  8.04s/it, best loss: 0.011918951132300357]"
     ]
    },
    {
     "name": "stderr",
     "output_type": "stream",
     "text": [
      "INFO:hyperopt.tpe:tpe_transform took 0.012652 seconds\n",
      "INFO:hyperopt.tpe:TPE using 1/1 trials with best loss 0.011919\n"
     ]
    },
    {
     "name": "stdout",
     "output_type": "stream",
     "text": [
      "{'mpi': {'romio_ds_read': 'enable', 'romio_ds_write': 'enable', 'romio_cb_read': 'disable', 'romio_cb_write': 'disable', 'cb_buffer_size': '415236096'}, 'lfs': {'setstripe': {'size': 196608, 'count': 13}}}\n",
      "S3D-IO 50-100-100-2-2-4-1 328.05 0.06 0.19 61.20 0.30 4.99 0.06 0.03 196608 13 enable enable disable disable 415236096 \n",
      "\n",
      "61.2                                                                           \n",
      "{'loss': 0.016339869281045753, 'hyperparameters': {'cb_buffer_size': 415236096.0, 'romio_cb_read': 'disable', 'romio_cb_write': 'disable', 'romio_ds_read': 'enable', 'romio_ds_write': 'enable', 'setstripe-count': 13.0, 'setstripe-size': 196608.0}, 'iteration': 2, 'iteration_time': 9.119695807807148, 'status': 'ok'}\n",
      "  7%|▋         | 2/30 [00:17<03:54,  8.37s/it, best loss: 0.011918951132300357]"
     ]
    },
    {
     "name": "stderr",
     "output_type": "stream",
     "text": [
      "INFO:hyperopt.tpe:tpe_transform took 0.011612 seconds\n",
      "INFO:hyperopt.tpe:TPE using 2/2 trials with best loss 0.011919\n"
     ]
    },
    {
     "name": "stdout",
     "output_type": "stream",
     "text": [
      "{'mpi': {'romio_ds_read': 'enable', 'romio_ds_write': 'enable', 'romio_cb_read': 'disable', 'romio_cb_write': 'disable', 'cb_buffer_size': '246415360'}, 'lfs': {'setstripe': {'size': 262144, 'count': 11}}}\n",
      "S3D-IO 50-100-100-2-2-4-1 363.19 0.06 0.17 137.43 0.30 2.22 0.07 0.02 262144 11 enable enable disable disable 246415360 \n",
      "\n",
      "137.43                                                                         \n",
      "{'loss': 0.0072764316379247615, 'hyperparameters': {'cb_buffer_size': 246415360.0, 'romio_cb_read': 'disable', 'romio_cb_write': 'disable', 'romio_ds_read': 'enable', 'romio_ds_write': 'enable', 'setstripe-count': 11.0, 'setstripe-size': 262144.0}, 'iteration': 3, 'iteration_time': 6.597938623279333, 'status': 'ok'}\n",
      " 10%|█         | 3/30 [00:23<03:31,  7.85s/it, best loss: 0.0072764316379247615]"
     ]
    },
    {
     "name": "stderr",
     "output_type": "stream",
     "text": [
      "INFO:hyperopt.tpe:tpe_transform took 0.010792 seconds\n",
      "INFO:hyperopt.tpe:TPE using 3/3 trials with best loss 0.007276\n"
     ]
    },
    {
     "name": "stdout",
     "output_type": "stream",
     "text": [
      "{'mpi': {'romio_ds_read': 'disable', 'romio_ds_write': 'disable', 'romio_cb_read': 'disable', 'romio_cb_write': 'disable', 'cb_buffer_size': '197132288'}, 'lfs': {'setstripe': {'size': 589824, 'count': 7}}}\n",
      "S3D-IO 50-100-100-2-2-4-1 241.78 0.06 0.25 130.10 0.30 2.35 0.06 0.03 589824 7 disable disable disable disable 197132288 \n",
      "\n",
      "130.1                                                                           \n",
      "{'loss': 0.007686395080707149, 'hyperparameters': {'cb_buffer_size': 197132288.0, 'romio_cb_read': 'disable', 'romio_cb_write': 'disable', 'romio_ds_read': 'disable', 'romio_ds_write': 'disable', 'setstripe-count': 7.0, 'setstripe-size': 589824.0}, 'iteration': 4, 'iteration_time': 6.778782400302589, 'status': 'ok'}\n",
      " 13%|█▎        | 4/30 [00:30<03:16,  7.54s/it, best loss: 0.0072764316379247615]"
     ]
    },
    {
     "name": "stderr",
     "output_type": "stream",
     "text": [
      "INFO:hyperopt.tpe:tpe_transform took 0.017121 seconds\n",
      "INFO:hyperopt.tpe:TPE using 4/4 trials with best loss 0.007276\n"
     ]
    },
    {
     "name": "stdout",
     "output_type": "stream",
     "text": [
      "{'mpi': {'romio_ds_read': 'enable', 'romio_ds_write': 'disable', 'romio_cb_read': 'disable', 'romio_cb_write': 'disable', 'cb_buffer_size': '332398592'}, 'lfs': {'setstripe': {'size': 65536, 'count': 15}}}\n",
      "S3D-IO 50-100-100-2-2-4-1 102.30 0.06 0.60 30.13 0.30 10.13 0.07 0.02 65536 15 enable disable disable disable 332398592 \n",
      "\n",
      "30.13                                                                           \n",
      "{'loss': 0.03318951211417192, 'hyperparameters': {'cb_buffer_size': 332398592.0, 'romio_cb_read': 'disable', 'romio_cb_write': 'disable', 'romio_ds_read': 'enable', 'romio_ds_write': 'disable', 'setstripe-count': 15.0, 'setstripe-size': 65536.0}, 'iteration': 5, 'iteration_time': 14.77739130705595, 'status': 'ok'}\n",
      " 17%|█▋        | 5/30 [00:45<04:03,  9.72s/it, best loss: 0.0072764316379247615]"
     ]
    },
    {
     "name": "stderr",
     "output_type": "stream",
     "text": [
      "INFO:hyperopt.tpe:tpe_transform took 0.009746 seconds\n",
      "INFO:hyperopt.tpe:TPE using 5/5 trials with best loss 0.007276\n"
     ]
    },
    {
     "name": "stdout",
     "output_type": "stream",
     "text": [
      "{'mpi': {'romio_ds_read': 'enable', 'romio_ds_write': 'disable', 'romio_cb_read': 'disable', 'romio_cb_write': 'disable', 'cb_buffer_size': '521142272'}, 'lfs': {'setstripe': {'size': 65536, 'count': 15}}}\n",
      "S3D-IO 50-100-100-2-2-4-1 106.75 0.06 0.57 46.97 0.30 6.50 0.07 0.02 65536 15 enable disable disable disable 521142272 \n",
      "\n",
      "46.97                                                                           \n",
      "{'loss': 0.021290185224611454, 'hyperparameters': {'cb_buffer_size': 521142272.0, 'romio_cb_read': 'disable', 'romio_cb_write': 'disable', 'romio_ds_read': 'enable', 'romio_ds_write': 'disable', 'setstripe-count': 15.0, 'setstripe-size': 65536.0}, 'iteration': 6, 'iteration_time': 11.109270595945418, 'status': 'ok'}\n",
      " 20%|██        | 6/30 [00:56<04:03, 10.15s/it, best loss: 0.0072764316379247615]"
     ]
    },
    {
     "name": "stderr",
     "output_type": "stream",
     "text": [
      "INFO:hyperopt.tpe:tpe_transform took 0.009711 seconds\n",
      "INFO:hyperopt.tpe:TPE using 6/6 trials with best loss 0.007276\n"
     ]
    },
    {
     "name": "stdout",
     "output_type": "stream",
     "text": [
      "{'mpi': {'romio_ds_read': 'enable', 'romio_ds_write': 'disable', 'romio_cb_read': 'disable', 'romio_cb_write': 'disable', 'cb_buffer_size': '247463936'}, 'lfs': {'setstripe': {'size': 327680, 'count': 5}}}\n",
      "S3D-IO 50-100-100-2-2-4-1 300.91 0.06 0.20 107.39 0.30 2.84 0.06 0.02 327680 5 enable disable disable disable 247463936 \n",
      "\n",
      "107.39                                                                          \n",
      "{'loss': 0.009311853990129435, 'hyperparameters': {'cb_buffer_size': 247463936.0, 'romio_cb_read': 'disable', 'romio_cb_write': 'disable', 'romio_ds_read': 'enable', 'romio_ds_write': 'disable', 'setstripe-count': 5.0, 'setstripe-size': 327680.0}, 'iteration': 7, 'iteration_time': 7.083424288779497, 'status': 'ok'}\n",
      " 23%|██▎       | 7/30 [01:03<03:32,  9.24s/it, best loss: 0.0072764316379247615]"
     ]
    },
    {
     "name": "stderr",
     "output_type": "stream",
     "text": [
      "INFO:hyperopt.tpe:tpe_transform took 0.010107 seconds\n",
      "INFO:hyperopt.tpe:TPE using 7/7 trials with best loss 0.007276\n"
     ]
    },
    {
     "name": "stdout",
     "output_type": "stream",
     "text": [
      "{'mpi': {'romio_ds_read': 'disable', 'romio_ds_write': 'enable', 'romio_cb_read': 'disable', 'romio_cb_write': 'disable', 'cb_buffer_size': '515899392'}, 'lfs': {'setstripe': {'size': 393216, 'count': 15}}}\n",
      "S3D-IO 50-100-100-2-2-4-1 334.70 0.06 0.18 95.96 0.30 3.18 0.05 0.02 393216 15 disable enable disable disable 515899392 \n",
      "\n",
      "95.96                                                                           \n",
      "{'loss': 0.010421008753647354, 'hyperparameters': {'cb_buffer_size': 515899392.0, 'romio_cb_read': 'disable', 'romio_cb_write': 'disable', 'romio_ds_read': 'disable', 'romio_ds_write': 'enable', 'setstripe-count': 15.0, 'setstripe-size': 393216.0}, 'iteration': 8, 'iteration_time': 7.335120310075581, 'status': 'ok'}\n",
      " 27%|██▋       | 8/30 [01:11<03:10,  8.68s/it, best loss: 0.0072764316379247615]"
     ]
    },
    {
     "name": "stderr",
     "output_type": "stream",
     "text": [
      "INFO:hyperopt.tpe:tpe_transform took 0.005325 seconds\n",
      "INFO:hyperopt.tpe:TPE using 8/8 trials with best loss 0.007276\n"
     ]
    },
    {
     "name": "stdout",
     "output_type": "stream",
     "text": [
      "{'mpi': {'romio_ds_read': 'enable', 'romio_ds_write': 'disable', 'romio_cb_read': 'disable', 'romio_cb_write': 'disable', 'cb_buffer_size': '70254592'}, 'lfs': {'setstripe': {'size': 131072, 'count': 4}}}\n",
      "S3D-IO 50-100-100-2-2-4-1 306.03 0.06 0.20 295.57 0.30 1.03 0.06 0.02 131072 4 enable disable disable disable 70254592 \n",
      "\n",
      "295.57                                                                          \n",
      "{'loss': 0.003383293297695977, 'hyperparameters': {'cb_buffer_size': 70254592.0, 'romio_cb_read': 'disable', 'romio_cb_write': 'disable', 'romio_ds_read': 'enable', 'romio_ds_write': 'disable', 'setstripe-count': 4.0, 'setstripe-size': 131072.0}, 'iteration': 9, 'iteration_time': 5.300486262887716, 'status': 'ok'}\n",
      " 30%|███       | 9/30 [01:16<02:41,  7.67s/it, best loss: 0.003383293297695977] "
     ]
    },
    {
     "name": "stderr",
     "output_type": "stream",
     "text": [
      "INFO:hyperopt.tpe:tpe_transform took 0.005177 seconds\n",
      "INFO:hyperopt.tpe:TPE using 9/9 trials with best loss 0.003383\n"
     ]
    },
    {
     "name": "stdout",
     "output_type": "stream",
     "text": [
      "{'mpi': {'romio_ds_read': 'enable', 'romio_ds_write': 'disable', 'romio_cb_read': 'enable', 'romio_cb_write': 'disable', 'cb_buffer_size': '77594624'}, 'lfs': {'setstripe': {'size': 262144, 'count': 13}}}\n",
      "S3D-IO 50-100-100-2-2-4-1 100.59 0.06 0.61 74.60 0.30 4.09 0.06 0.03 262144 13 enable disable enable disable 77594624 \n",
      "\n",
      "74.6                                                                           \n",
      "{'loss': 0.013404825737265416, 'hyperparameters': {'cb_buffer_size': 77594624.0, 'romio_cb_read': 'enable', 'romio_cb_write': 'disable', 'romio_ds_read': 'enable', 'romio_ds_write': 'disable', 'setstripe-count': 13.0, 'setstripe-size': 262144.0}, 'iteration': 10, 'iteration_time': 8.676983534358442, 'status': 'ok'}\n",
      " 33%|███▎      | 10/30 [01:25<02:39,  7.98s/it, best loss: 0.003383293297695977]"
     ]
    },
    {
     "name": "stderr",
     "output_type": "stream",
     "text": [
      "INFO:hyperopt.tpe:tpe_transform took 0.007826 seconds\n",
      "INFO:hyperopt.tpe:TPE using 10/10 trials with best loss 0.003383\n"
     ]
    },
    {
     "name": "stdout",
     "output_type": "stream",
     "text": [
      "{'mpi': {'romio_ds_read': 'enable', 'romio_ds_write': 'enable', 'romio_cb_read': 'enable', 'romio_cb_write': 'disable', 'cb_buffer_size': '487587840'}, 'lfs': {'setstripe': {'size': 65536, 'count': 1}}}\n",
      "S3D-IO 50-100-100-2-2-4-1 311.01 0.06 0.20 367.68 0.30 0.83 0.10 0.02 65536 1 enable enable enable disable 487587840 \n",
      "\n",
      "367.68                                                                          \n",
      "{'loss': 0.0027197563098346387, 'hyperparameters': {'cb_buffer_size': 487587840.0, 'romio_cb_read': 'enable', 'romio_cb_write': 'disable', 'romio_ds_read': 'enable', 'romio_ds_write': 'enable', 'setstripe-count': 1.0, 'setstripe-size': 65536.0}, 'iteration': 11, 'iteration_time': 5.078562791459262, 'status': 'ok'}\n",
      " 37%|███▋      | 11/30 [01:30<02:15,  7.12s/it, best loss: 0.0027197563098346387]"
     ]
    },
    {
     "name": "stderr",
     "output_type": "stream",
     "text": [
      "INFO:hyperopt.tpe:tpe_transform took 0.010080 seconds\n",
      "INFO:hyperopt.tpe:TPE using 11/11 trials with best loss 0.002720\n"
     ]
    },
    {
     "name": "stdout",
     "output_type": "stream",
     "text": [
      "{'mpi': {'romio_ds_read': 'disable', 'romio_ds_write': 'disable', 'romio_cb_read': 'enable', 'romio_cb_write': 'enable', 'cb_buffer_size': '402653184'}, 'lfs': {'setstripe': {'size': 131072, 'count': 14}}}\n",
      "S3D-IO 50-100-100-2-2-4-1 567.63 0.06 0.11 41.08 0.30 7.43 0.09 0.03 131072 14 disable disable enable enable 402653184 \n",
      "\n",
      "41.08                                                                            \n",
      "{'loss': 0.024342745861733205, 'hyperparameters': {'cb_buffer_size': 402653184.0, 'romio_cb_read': 'enable', 'romio_cb_write': 'enable', 'romio_ds_read': 'disable', 'romio_ds_write': 'disable', 'setstripe-count': 14.0, 'setstripe-size': 131072.0}, 'iteration': 12, 'iteration_time': 15.590624994598329, 'status': 'ok'}\n",
      " 40%|████      | 12/30 [01:45<02:54,  9.67s/it, best loss: 0.0027197563098346387]"
     ]
    },
    {
     "name": "stderr",
     "output_type": "stream",
     "text": [
      "INFO:hyperopt.tpe:tpe_transform took 0.010081 seconds\n",
      "INFO:hyperopt.tpe:TPE using 12/12 trials with best loss 0.002720\n"
     ]
    },
    {
     "name": "stdout",
     "output_type": "stream",
     "text": [
      "{'mpi': {'romio_ds_read': 'disable', 'romio_ds_write': 'disable', 'romio_cb_read': 'disable', 'romio_cb_write': 'disable', 'cb_buffer_size': '34603008'}, 'lfs': {'setstripe': {'size': 196608, 'count': 9}}}\n",
      "S3D-IO 50-100-100-2-2-4-1 577.45 0.06 0.11 215.05 0.30 1.42 0.06 0.02 196608 9 disable disable disable disable 34603008 \n",
      "\n",
      "215.05                                                                           \n",
      "{'loss': 0.0046500813764240876, 'hyperparameters': {'cb_buffer_size': 34603008.0, 'romio_cb_read': 'disable', 'romio_cb_write': 'disable', 'romio_ds_read': 'disable', 'romio_ds_write': 'disable', 'setstripe-count': 9.0, 'setstripe-size': 196608.0}, 'iteration': 13, 'iteration_time': 5.589441830292344, 'status': 'ok'}\n",
      " 43%|████▎     | 13/30 [01:51<02:23,  8.46s/it, best loss: 0.0027197563098346387]"
     ]
    },
    {
     "name": "stderr",
     "output_type": "stream",
     "text": [
      "INFO:hyperopt.tpe:tpe_transform took 0.010096 seconds\n",
      "INFO:hyperopt.tpe:TPE using 13/13 trials with best loss 0.002720\n"
     ]
    },
    {
     "name": "stdout",
     "output_type": "stream",
     "text": [
      "{'mpi': {'romio_ds_read': 'enable', 'romio_ds_write': 'disable', 'romio_cb_read': 'enable', 'romio_cb_write': 'disable', 'cb_buffer_size': '509607936'}, 'lfs': {'setstripe': {'size': 262144, 'count': 16}}}\n",
      "S3D-IO 50-100-100-2-2-4-1 90.90 0.06 0.67 70.46 0.30 4.33 0.06 0.02 262144 16 enable disable enable disable 509607936 \n",
      "\n",
      "70.46                                                                            \n",
      "{'loss': 0.01419244961680386, 'hyperparameters': {'cb_buffer_size': 509607936.0, 'romio_cb_read': 'enable', 'romio_cb_write': 'disable', 'romio_ds_read': 'enable', 'romio_ds_write': 'disable', 'setstripe-count': 16.0, 'setstripe-size': 262144.0}, 'iteration': 14, 'iteration_time': 8.945327994413674, 'status': 'ok'}\n",
      " 47%|████▋     | 14/30 [02:00<02:17,  8.61s/it, best loss: 0.0027197563098346387]"
     ]
    },
    {
     "name": "stderr",
     "output_type": "stream",
     "text": [
      "INFO:hyperopt.tpe:tpe_transform took 0.013485 seconds\n",
      "INFO:hyperopt.tpe:TPE using 14/14 trials with best loss 0.002720\n"
     ]
    },
    {
     "name": "stdout",
     "output_type": "stream",
     "text": [
      "{'mpi': {'romio_ds_read': 'enable', 'romio_ds_write': 'enable', 'romio_cb_read': 'disable', 'romio_cb_write': 'disable', 'cb_buffer_size': '262144000'}, 'lfs': {'setstripe': {'size': 262144, 'count': 14}}}\n",
      "S3D-IO 50-100-100-2-2-4-1 501.79 0.06 0.12 73.79 0.30 4.14 0.06 0.02 262144 14 enable enable disable disable 262144000 \n",
      "\n",
      "73.79                                                                            \n",
      "{'loss': 0.01355197181189863, 'hyperparameters': {'cb_buffer_size': 262144000.0, 'romio_cb_read': 'disable', 'romio_cb_write': 'disable', 'romio_ds_read': 'enable', 'romio_ds_write': 'enable', 'setstripe-count': 14.0, 'setstripe-size': 262144.0}, 'iteration': 15, 'iteration_time': 14.742593998089433, 'status': 'ok'}\n",
      " 50%|█████     | 15/30 [02:15<02:36, 10.47s/it, best loss: 0.0027197563098346387]"
     ]
    },
    {
     "name": "stderr",
     "output_type": "stream",
     "text": [
      "INFO:hyperopt.tpe:tpe_transform took 0.137024 seconds\n",
      "INFO:hyperopt.tpe:TPE using 15/15 trials with best loss 0.002720\n"
     ]
    },
    {
     "name": "stdout",
     "output_type": "stream",
     "text": [
      "{'mpi': {'romio_ds_read': 'disable', 'romio_ds_write': 'enable', 'romio_cb_read': 'disable', 'romio_cb_write': 'disable', 'cb_buffer_size': '434110464'}, 'lfs': {'setstripe': {'size': 720896, 'count': 3}}}\n",
      "S3D-IO 50-100-100-2-2-4-1 345.02 0.06 0.18 285.27 0.30 1.07 0.06 0.03 720896 3 disable enable disable disable 434110464 \n",
      "\n",
      "285.27                                                                           \n",
      "{'loss': 0.003505450976268097, 'hyperparameters': {'cb_buffer_size': 434110464.0, 'romio_cb_read': 'disable', 'romio_cb_write': 'disable', 'romio_ds_read': 'disable', 'romio_ds_write': 'enable', 'setstripe-count': 3.0, 'setstripe-size': 720896.0}, 'iteration': 16, 'iteration_time': 5.165397219359875, 'status': 'ok'}\n",
      " 53%|█████▎    | 16/30 [02:20<02:04,  8.92s/it, best loss: 0.0027197563098346387]"
     ]
    },
    {
     "name": "stderr",
     "output_type": "stream",
     "text": [
      "INFO:hyperopt.tpe:tpe_transform took 0.010007 seconds\n",
      "INFO:hyperopt.tpe:TPE using 16/16 trials with best loss 0.002720\n"
     ]
    },
    {
     "name": "stdout",
     "output_type": "stream",
     "text": [
      "{'mpi': {'romio_ds_read': 'disable', 'romio_ds_write': 'disable', 'romio_cb_read': 'disable', 'romio_cb_write': 'enable', 'cb_buffer_size': '47185920'}, 'lfs': {'setstripe': {'size': 196608, 'count': 4}}}\n",
      "S3D-IO 50-100-100-2-2-4-1 322.38 0.06 0.19 190.19 0.30 1.60 0.05 0.02 196608 4 disable disable disable enable 47185920 \n",
      "\n",
      "190.19                                                                           \n",
      "{'loss': 0.0052578999947421, 'hyperparameters': {'cb_buffer_size': 47185920.0, 'romio_cb_read': 'disable', 'romio_cb_write': 'enable', 'romio_ds_read': 'disable', 'romio_ds_write': 'disable', 'setstripe-count': 4.0, 'setstripe-size': 196608.0}, 'iteration': 17, 'iteration_time': 5.717796185985208, 'status': 'ok'}\n",
      " 57%|█████▋    | 17/30 [02:26<01:43,  7.97s/it, best loss: 0.0027197563098346387]"
     ]
    },
    {
     "name": "stderr",
     "output_type": "stream",
     "text": [
      "INFO:hyperopt.tpe:tpe_transform took 0.009719 seconds\n",
      "INFO:hyperopt.tpe:TPE using 17/17 trials with best loss 0.002720\n"
     ]
    },
    {
     "name": "stdout",
     "output_type": "stream",
     "text": [
      "{'mpi': {'romio_ds_read': 'enable', 'romio_ds_write': 'disable', 'romio_cb_read': 'enable', 'romio_cb_write': 'disable', 'cb_buffer_size': '480247808'}, 'lfs': {'setstripe': {'size': 131072, 'count': 12}}}\n",
      "S3D-IO 50-100-100-2-2-4-1 284.83 0.06 0.22 47.25 0.30 6.46 0.06 0.04 131072 12 enable disable enable disable 480247808 \n",
      "\n",
      "47.25                                                                            \n",
      "{'loss': 0.021164021164021163, 'hyperparameters': {'cb_buffer_size': 480247808.0, 'romio_cb_read': 'enable', 'romio_cb_write': 'disable', 'romio_ds_read': 'enable', 'romio_ds_write': 'disable', 'setstripe-count': 12.0, 'setstripe-size': 131072.0}, 'iteration': 18, 'iteration_time': 10.646612890996039, 'status': 'ok'}\n",
      " 60%|██████    | 18/30 [02:36<01:45,  8.78s/it, best loss: 0.0027197563098346387]"
     ]
    },
    {
     "name": "stderr",
     "output_type": "stream",
     "text": [
      "INFO:hyperopt.tpe:tpe_transform took 0.010143 seconds\n",
      "INFO:hyperopt.tpe:TPE using 18/18 trials with best loss 0.002720\n"
     ]
    },
    {
     "name": "stdout",
     "output_type": "stream",
     "text": [
      "{'mpi': {'romio_ds_read': 'enable', 'romio_ds_write': 'disable', 'romio_cb_read': 'disable', 'romio_cb_write': 'enable', 'cb_buffer_size': '197132288'}, 'lfs': {'setstripe': {'size': 262144, 'count': 5}}}\n",
      "S3D-IO 50-100-100-2-2-4-1 358.94 0.06 0.17 127.38 0.30 2.40 0.07 0.03 262144 5 enable disable disable enable 197132288 \n",
      "\n",
      "127.38                                                                           \n",
      "{'loss': 0.00785052598524101, 'hyperparameters': {'cb_buffer_size': 197132288.0, 'romio_cb_read': 'disable', 'romio_cb_write': 'enable', 'romio_ds_read': 'enable', 'romio_ds_write': 'disable', 'setstripe-count': 5.0, 'setstripe-size': 262144.0}, 'iteration': 19, 'iteration_time': 6.570222004316747, 'status': 'ok'}\n",
      " 63%|██████▎   | 19/30 [02:43<01:29,  8.13s/it, best loss: 0.0027197563098346387]"
     ]
    },
    {
     "name": "stderr",
     "output_type": "stream",
     "text": [
      "INFO:hyperopt.tpe:tpe_transform took 0.010019 seconds\n",
      "INFO:hyperopt.tpe:TPE using 19/19 trials with best loss 0.002720\n"
     ]
    },
    {
     "name": "stdout",
     "output_type": "stream",
     "text": [
      "{'mpi': {'romio_ds_read': 'disable', 'romio_ds_write': 'enable', 'romio_cb_read': 'disable', 'romio_cb_write': 'disable', 'cb_buffer_size': '403701760'}, 'lfs': {'setstripe': {'size': 65536, 'count': 16}}}\n",
      "S3D-IO 50-100-100-2-2-4-1 377.20 0.06 0.16 35.38 0.30 8.63 0.06 0.03 65536 16 disable enable disable disable 403701760 \n",
      "\n",
      "35.38                                                                            \n",
      "{'loss': 0.02826455624646693, 'hyperparameters': {'cb_buffer_size': 403701760.0, 'romio_cb_read': 'disable', 'romio_cb_write': 'disable', 'romio_ds_read': 'disable', 'romio_ds_write': 'enable', 'setstripe-count': 16.0, 'setstripe-size': 65536.0}, 'iteration': 20, 'iteration_time': 12.870933600701392, 'status': 'ok'}\n",
      " 67%|██████▋   | 20/30 [02:56<01:35,  9.56s/it, best loss: 0.0027197563098346387]"
     ]
    },
    {
     "name": "stderr",
     "output_type": "stream",
     "text": [
      "INFO:hyperopt.tpe:tpe_transform took 0.005250 seconds\n",
      "INFO:hyperopt.tpe:TPE using 20/20 trials with best loss 0.002720\n"
     ]
    },
    {
     "name": "stdout",
     "output_type": "stream",
     "text": [
      "\n"
     ]
    },
    {
     "ename": "AssertionError",
     "evalue": "",
     "output_type": "error",
     "traceback": [
      "\u001b[0;31m--------------------------------------------------------------\u001b[0m",
      "\u001b[0;31mAssertionError\u001b[0m               Traceback (most recent call last)",
      "\u001b[0;32m<ipython-input-111-0ff84ac115bd>\u001b[0m in \u001b[0;36m<module>\u001b[0;34m\u001b[0m\n\u001b[1;32m      4\u001b[0m \u001b[0mITERATION\u001b[0m \u001b[0;34m=\u001b[0m \u001b[0;36m0\u001b[0m\u001b[0;34m\u001b[0m\u001b[0;34m\u001b[0m\u001b[0m\n\u001b[1;32m      5\u001b[0m \u001b[0;34m\u001b[0m\u001b[0m\n\u001b[0;32m----> 6\u001b[0;31m \u001b[0mbest\u001b[0m \u001b[0;34m=\u001b[0m \u001b[0mfmin\u001b[0m\u001b[0;34m(\u001b[0m\u001b[0mfn\u001b[0m \u001b[0;34m=\u001b[0m \u001b[0mobjective\u001b[0m\u001b[0;34m,\u001b[0m \u001b[0mspace\u001b[0m \u001b[0;34m=\u001b[0m \u001b[0mspace\u001b[0m\u001b[0;34m,\u001b[0m \u001b[0malgo\u001b[0m \u001b[0;34m=\u001b[0m \u001b[0mtpe\u001b[0m\u001b[0;34m.\u001b[0m\u001b[0msuggest\u001b[0m\u001b[0;34m,\u001b[0m \u001b[0mtrials\u001b[0m \u001b[0;34m=\u001b[0m \u001b[0mbayes_trials\u001b[0m\u001b[0;34m,\u001b[0m \u001b[0mmax_evals\u001b[0m \u001b[0;34m=\u001b[0m \u001b[0mMAX_EVALS\u001b[0m\u001b[0;34m)\u001b[0m\u001b[0;34m\u001b[0m\u001b[0;34m\u001b[0m\u001b[0m\n\u001b[0m",
      "\u001b[0;32m~/env/lib/python3.6/site-packages/hyperopt/fmin.py\u001b[0m in \u001b[0;36mfmin\u001b[0;34m(fn, space, algo, max_evals, trials, rstate, allow_trials_fmin, pass_expr_memo_ctrl, catch_eval_exceptions, verbose, return_argmin, points_to_evaluate, max_queue_len, show_progressbar)\u001b[0m\n\u001b[1;32m    386\u001b[0m             \u001b[0mcatch_eval_exceptions\u001b[0m\u001b[0;34m=\u001b[0m\u001b[0mcatch_eval_exceptions\u001b[0m\u001b[0;34m,\u001b[0m\u001b[0;34m\u001b[0m\u001b[0;34m\u001b[0m\u001b[0m\n\u001b[1;32m    387\u001b[0m             \u001b[0mreturn_argmin\u001b[0m\u001b[0;34m=\u001b[0m\u001b[0mreturn_argmin\u001b[0m\u001b[0;34m,\u001b[0m\u001b[0;34m\u001b[0m\u001b[0;34m\u001b[0m\u001b[0m\n\u001b[0;32m--> 388\u001b[0;31m             \u001b[0mshow_progressbar\u001b[0m\u001b[0;34m=\u001b[0m\u001b[0mshow_progressbar\u001b[0m\u001b[0;34m,\u001b[0m\u001b[0;34m\u001b[0m\u001b[0;34m\u001b[0m\u001b[0m\n\u001b[0m\u001b[1;32m    389\u001b[0m         )\n\u001b[1;32m    390\u001b[0m \u001b[0;34m\u001b[0m\u001b[0m\n",
      "\u001b[0;32m~/env/lib/python3.6/site-packages/hyperopt/base.py\u001b[0m in \u001b[0;36mfmin\u001b[0;34m(self, fn, space, algo, max_evals, rstate, verbose, pass_expr_memo_ctrl, catch_eval_exceptions, return_argmin, show_progressbar)\u001b[0m\n\u001b[1;32m    637\u001b[0m             \u001b[0mcatch_eval_exceptions\u001b[0m\u001b[0;34m=\u001b[0m\u001b[0mcatch_eval_exceptions\u001b[0m\u001b[0;34m,\u001b[0m\u001b[0;34m\u001b[0m\u001b[0;34m\u001b[0m\u001b[0m\n\u001b[1;32m    638\u001b[0m             \u001b[0mreturn_argmin\u001b[0m\u001b[0;34m=\u001b[0m\u001b[0mreturn_argmin\u001b[0m\u001b[0;34m,\u001b[0m\u001b[0;34m\u001b[0m\u001b[0;34m\u001b[0m\u001b[0m\n\u001b[0;32m--> 639\u001b[0;31m             show_progressbar=show_progressbar)\n\u001b[0m\u001b[1;32m    640\u001b[0m \u001b[0;34m\u001b[0m\u001b[0m\n\u001b[1;32m    641\u001b[0m \u001b[0;34m\u001b[0m\u001b[0m\n",
      "\u001b[0;32m~/env/lib/python3.6/site-packages/hyperopt/fmin.py\u001b[0m in \u001b[0;36mfmin\u001b[0;34m(fn, space, algo, max_evals, trials, rstate, allow_trials_fmin, pass_expr_memo_ctrl, catch_eval_exceptions, verbose, return_argmin, points_to_evaluate, max_queue_len, show_progressbar)\u001b[0m\n\u001b[1;32m    405\u001b[0m                     show_progressbar=show_progressbar)\n\u001b[1;32m    406\u001b[0m     \u001b[0mrval\u001b[0m\u001b[0;34m.\u001b[0m\u001b[0mcatch_eval_exceptions\u001b[0m \u001b[0;34m=\u001b[0m \u001b[0mcatch_eval_exceptions\u001b[0m\u001b[0;34m\u001b[0m\u001b[0;34m\u001b[0m\u001b[0m\n\u001b[0;32m--> 407\u001b[0;31m     \u001b[0mrval\u001b[0m\u001b[0;34m.\u001b[0m\u001b[0mexhaust\u001b[0m\u001b[0;34m(\u001b[0m\u001b[0;34m)\u001b[0m\u001b[0;34m\u001b[0m\u001b[0;34m\u001b[0m\u001b[0m\n\u001b[0m\u001b[1;32m    408\u001b[0m     \u001b[0;32mif\u001b[0m \u001b[0mreturn_argmin\u001b[0m\u001b[0;34m:\u001b[0m\u001b[0;34m\u001b[0m\u001b[0;34m\u001b[0m\u001b[0m\n\u001b[1;32m    409\u001b[0m         \u001b[0;32mreturn\u001b[0m \u001b[0mtrials\u001b[0m\u001b[0;34m.\u001b[0m\u001b[0margmin\u001b[0m\u001b[0;34m\u001b[0m\u001b[0;34m\u001b[0m\u001b[0m\n",
      "\u001b[0;32m~/env/lib/python3.6/site-packages/hyperopt/fmin.py\u001b[0m in \u001b[0;36mexhaust\u001b[0;34m(self)\u001b[0m\n\u001b[1;32m    260\u001b[0m     \u001b[0;32mdef\u001b[0m \u001b[0mexhaust\u001b[0m\u001b[0;34m(\u001b[0m\u001b[0mself\u001b[0m\u001b[0;34m)\u001b[0m\u001b[0;34m:\u001b[0m\u001b[0;34m\u001b[0m\u001b[0;34m\u001b[0m\u001b[0m\n\u001b[1;32m    261\u001b[0m         \u001b[0mn_done\u001b[0m \u001b[0;34m=\u001b[0m \u001b[0mlen\u001b[0m\u001b[0;34m(\u001b[0m\u001b[0mself\u001b[0m\u001b[0;34m.\u001b[0m\u001b[0mtrials\u001b[0m\u001b[0;34m)\u001b[0m\u001b[0;34m\u001b[0m\u001b[0;34m\u001b[0m\u001b[0m\n\u001b[0;32m--> 262\u001b[0;31m         \u001b[0mself\u001b[0m\u001b[0;34m.\u001b[0m\u001b[0mrun\u001b[0m\u001b[0;34m(\u001b[0m\u001b[0mself\u001b[0m\u001b[0;34m.\u001b[0m\u001b[0mmax_evals\u001b[0m \u001b[0;34m-\u001b[0m \u001b[0mn_done\u001b[0m\u001b[0;34m,\u001b[0m \u001b[0mblock_until_done\u001b[0m\u001b[0;34m=\u001b[0m\u001b[0mself\u001b[0m\u001b[0;34m.\u001b[0m\u001b[0masynchronous\u001b[0m\u001b[0;34m)\u001b[0m\u001b[0;34m\u001b[0m\u001b[0;34m\u001b[0m\u001b[0m\n\u001b[0m\u001b[1;32m    263\u001b[0m         \u001b[0mself\u001b[0m\u001b[0;34m.\u001b[0m\u001b[0mtrials\u001b[0m\u001b[0;34m.\u001b[0m\u001b[0mrefresh\u001b[0m\u001b[0;34m(\u001b[0m\u001b[0;34m)\u001b[0m\u001b[0;34m\u001b[0m\u001b[0;34m\u001b[0m\u001b[0m\n\u001b[1;32m    264\u001b[0m         \u001b[0;32mreturn\u001b[0m \u001b[0mself\u001b[0m\u001b[0;34m\u001b[0m\u001b[0;34m\u001b[0m\u001b[0m\n",
      "\u001b[0;32m~/env/lib/python3.6/site-packages/hyperopt/fmin.py\u001b[0m in \u001b[0;36mrun\u001b[0;34m(self, N, block_until_done)\u001b[0m\n\u001b[1;32m    209\u001b[0m                                                           d['result'].get('status')))\n\u001b[1;32m    210\u001b[0m                         new_trials = algo(new_ids, self.domain, trials,\n\u001b[0;32m--> 211\u001b[0;31m                                           self.rstate.randint(2 ** 31 - 1))\n\u001b[0m\u001b[1;32m    212\u001b[0m                         \u001b[0;32massert\u001b[0m \u001b[0mlen\u001b[0m\u001b[0;34m(\u001b[0m\u001b[0mnew_ids\u001b[0m\u001b[0;34m)\u001b[0m \u001b[0;34m>=\u001b[0m \u001b[0mlen\u001b[0m\u001b[0;34m(\u001b[0m\u001b[0mnew_trials\u001b[0m\u001b[0;34m)\u001b[0m\u001b[0;34m\u001b[0m\u001b[0;34m\u001b[0m\u001b[0m\n\u001b[1;32m    213\u001b[0m                         \u001b[0;32mif\u001b[0m \u001b[0mlen\u001b[0m\u001b[0;34m(\u001b[0m\u001b[0mnew_trials\u001b[0m\u001b[0;34m)\u001b[0m\u001b[0;34m:\u001b[0m\u001b[0;34m\u001b[0m\u001b[0;34m\u001b[0m\u001b[0m\n",
      "\u001b[0;32m~/env/lib/python3.6/site-packages/hyperopt/tpe.py\u001b[0m in \u001b[0;36msuggest\u001b[0;34m(new_ids, domain, trials, seed, prior_weight, n_startup_jobs, n_EI_candidates, gamma, linear_forgetting)\u001b[0m\n\u001b[1;32m    898\u001b[0m \u001b[0;34m\u001b[0m\u001b[0m\n\u001b[1;32m    899\u001b[0m     idxs, vals = pyll.rec_eval([opt_idxs, opt_vals], memo=memo,\n\u001b[0;32m--> 900\u001b[0;31m                                print_node_on_error=False)\n\u001b[0m\u001b[1;32m    901\u001b[0m \u001b[0;34m\u001b[0m\u001b[0m\n\u001b[1;32m    902\u001b[0m     \u001b[0;31m# -- retrieve the best of the samples and form the return tuple\u001b[0m\u001b[0;34m\u001b[0m\u001b[0;34m\u001b[0m\u001b[0;34m\u001b[0m\u001b[0m\n",
      "\u001b[0;32m~/env/lib/python3.6/site-packages/hyperopt/pyll/base.py\u001b[0m in \u001b[0;36mrec_eval\u001b[0;34m(expr, deepcopy_inputs, memo, max_program_len, memo_gc, print_trace, print_node_on_error)\u001b[0m\n\u001b[1;32m    911\u001b[0m \u001b[0;34m\u001b[0m\u001b[0m\n\u001b[1;32m    912\u001b[0m             \u001b[0;32mtry\u001b[0m\u001b[0;34m:\u001b[0m\u001b[0;34m\u001b[0m\u001b[0;34m\u001b[0m\u001b[0m\n\u001b[0;32m--> 913\u001b[0;31m                 \u001b[0mrval\u001b[0m \u001b[0;34m=\u001b[0m \u001b[0mscope\u001b[0m\u001b[0;34m.\u001b[0m\u001b[0m_impls\u001b[0m\u001b[0;34m[\u001b[0m\u001b[0mnode\u001b[0m\u001b[0;34m.\u001b[0m\u001b[0mname\u001b[0m\u001b[0;34m]\u001b[0m\u001b[0;34m(\u001b[0m\u001b[0;34m*\u001b[0m\u001b[0margs\u001b[0m\u001b[0;34m,\u001b[0m \u001b[0;34m**\u001b[0m\u001b[0mkwargs\u001b[0m\u001b[0;34m)\u001b[0m\u001b[0;34m\u001b[0m\u001b[0;34m\u001b[0m\u001b[0m\n\u001b[0m\u001b[1;32m    914\u001b[0m \u001b[0;34m\u001b[0m\u001b[0m\n\u001b[1;32m    915\u001b[0m             \u001b[0;32mexcept\u001b[0m \u001b[0mException\u001b[0m \u001b[0;32mas\u001b[0m \u001b[0me\u001b[0m\u001b[0;34m:\u001b[0m\u001b[0;34m\u001b[0m\u001b[0;34m\u001b[0m\u001b[0m\n",
      "\u001b[0;32m~/env/lib/python3.6/site-packages/hyperopt/tpe.py\u001b[0m in \u001b[0;36madaptive_parzen_normal\u001b[0;34m(mus, prior_weight, prior_mu, prior_sigma, LF)\u001b[0m\n\u001b[1;32m    463\u001b[0m \u001b[0;34m\u001b[0m\u001b[0m\n\u001b[1;32m    464\u001b[0m     \u001b[0msigma\u001b[0m\u001b[0;34m[\u001b[0m\u001b[0mprior_pos\u001b[0m\u001b[0;34m]\u001b[0m \u001b[0;34m=\u001b[0m \u001b[0mprior_sigma\u001b[0m\u001b[0;34m\u001b[0m\u001b[0;34m\u001b[0m\u001b[0m\n\u001b[0;32m--> 465\u001b[0;31m     \u001b[0;32massert\u001b[0m \u001b[0mprior_sigma\u001b[0m \u001b[0;34m>\u001b[0m \u001b[0;36m0\u001b[0m\u001b[0;34m\u001b[0m\u001b[0;34m\u001b[0m\u001b[0m\n\u001b[0m\u001b[1;32m    466\u001b[0m     \u001b[0;32massert\u001b[0m \u001b[0mmaxsigma\u001b[0m \u001b[0;34m>\u001b[0m \u001b[0;36m0\u001b[0m\u001b[0;34m\u001b[0m\u001b[0;34m\u001b[0m\u001b[0m\n\u001b[1;32m    467\u001b[0m     \u001b[0;32massert\u001b[0m \u001b[0mminsigma\u001b[0m \u001b[0;34m>\u001b[0m \u001b[0;36m0\u001b[0m\u001b[0;34m\u001b[0m\u001b[0;34m\u001b[0m\u001b[0m\n",
      "\u001b[0;31mAssertionError\u001b[0m: "
     ]
    }
   ],
   "source": [
    "from hyperopt import fmin\n",
    "\n",
    "\n",
    "ITERATION = 0\n",
    "\n",
    "best = fmin(fn = objective, space = space, algo = tpe.suggest, trials = bayes_trials, max_evals = MAX_EVALS)"
   ]
  },
  {
   "cell_type": "code",
   "execution_count": 89,
   "metadata": {},
   "outputs": [
    {
     "name": "stdout",
     "output_type": "stream",
     "text": [
      "{'cb_buffer_size': 364.0, 'romio_cb_read': 0, 'romio_cb_write': 0, 'romio_ds_read': 1, 'romio_ds_write': 0, 'setstripe-count': 13.0, 'setstripe-size': 17.0}\n",
      "[{'loss': 0.004833486393735802, 'hyperparameters': {'cb_buffer_size': 239075328.0, 'romio_cb_read': 'disable', 'romio_cb_write': 'disable', 'romio_ds_read': 'enable', 'romio_ds_write': 'enable', 'setstripe-count': 5.0, 'setstripe-size': 131072.0}, 'iteration': 1, 'iteration_time': 5.770821996964514, 'status': 'ok'}, {'loss': 0.017674089784376106, 'hyperparameters': {'cb_buffer_size': 124780544.0, 'romio_cb_read': 'enable', 'romio_cb_write': 'enable', 'romio_ds_read': 'disable', 'romio_ds_write': 'enable', 'setstripe-count': 10.0, 'setstripe-size': 65536.0}, 'iteration': 2, 'iteration_time': 10.064881443046033, 'status': 'ok'}, {'loss': 0.010179153094462542, 'hyperparameters': {'cb_buffer_size': 288358400.0, 'romio_cb_read': 'disable', 'romio_cb_write': 'enable', 'romio_ds_read': 'disable', 'romio_ds_write': 'disable', 'setstripe-count': 5.0, 'setstripe-size': 327680.0}, 'iteration': 3, 'iteration_time': 7.235276983119547, 'status': 'ok'}, {'loss': 0.002869028833739779, 'hyperparameters': {'cb_buffer_size': 57671680.0, 'romio_cb_read': 'enable', 'romio_cb_write': 'disable', 'romio_ds_read': 'disable', 'romio_ds_write': 'enable', 'setstripe-count': 14.0, 'setstripe-size': 1048576.0}, 'iteration': 4, 'iteration_time': 4.998127969913185, 'status': 'ok'}, {'loss': 0.004581271761040865, 'hyperparameters': {'cb_buffer_size': 488636416.0, 'romio_cb_read': 'disable', 'romio_cb_write': 'disable', 'romio_ds_read': 'enable', 'romio_ds_write': 'disable', 'setstripe-count': 8.0, 'setstripe-size': 786432.0}, 'iteration': 5, 'iteration_time': 5.57358518242836, 'status': 'ok'}, {'loss': 0.0037384575124303713, 'hyperparameters': {'cb_buffer_size': 170917888.0, 'romio_cb_read': 'enable', 'romio_cb_write': 'disable', 'romio_ds_read': 'enable', 'romio_ds_write': 'disable', 'setstripe-count': 4.0, 'setstripe-size': 655360.0}, 'iteration': 6, 'iteration_time': 5.4303767597302794, 'status': 'ok'}, {'loss': 0.0036324010170722845, 'hyperparameters': {'cb_buffer_size': 478150656.0, 'romio_cb_read': 'disable', 'romio_cb_write': 'disable', 'romio_ds_read': 'enable', 'romio_ds_write': 'enable', 'setstripe-count': 4.0, 'setstripe-size': 131072.0}, 'iteration': 7, 'iteration_time': 5.716477302834392, 'status': 'ok'}, {'loss': 0.0072098053352559486, 'hyperparameters': {'cb_buffer_size': 452984832.0, 'romio_cb_read': 'disable', 'romio_cb_write': 'enable', 'romio_ds_read': 'disable', 'romio_ds_write': 'disable', 'setstripe-count': 4.0, 'setstripe-size': 524288.0}, 'iteration': 8, 'iteration_time': 6.406039200723171, 'status': 'ok'}, {'loss': 0.002987482448540615, 'hyperparameters': {'cb_buffer_size': 14680064.0, 'romio_cb_read': 'disable', 'romio_cb_write': 'disable', 'romio_ds_read': 'enable', 'romio_ds_write': 'disable', 'setstripe-count': 3.0, 'setstripe-size': 196608.0}, 'iteration': 9, 'iteration_time': 5.02883829921484, 'status': 'ok'}, {'loss': 0.011001100110011, 'hyperparameters': {'cb_buffer_size': 417333248.0, 'romio_cb_read': 'enable', 'romio_cb_write': 'enable', 'romio_ds_read': 'enable', 'romio_ds_write': 'enable', 'setstripe-count': 15.0, 'setstripe-size': 393216.0}, 'iteration': 10, 'iteration_time': 7.540654982440174, 'status': 'ok'}, {'loss': 0.00488615264340858, 'hyperparameters': {'cb_buffer_size': 105906176.0, 'romio_cb_read': 'enable', 'romio_cb_write': 'enable', 'romio_ds_read': 'enable', 'romio_ds_write': 'disable', 'setstripe-count': 2.0, 'setstripe-size': 1048576.0}, 'iteration': 11, 'iteration_time': 5.73360531590879, 'status': 'ok'}, {'loss': 0.008784258608573436, 'hyperparameters': {'cb_buffer_size': 267386880.0, 'romio_cb_read': 'disable', 'romio_cb_write': 'disable', 'romio_ds_read': 'enable', 'romio_ds_write': 'enable', 'setstripe-count': 20.0, 'setstripe-size': 262144.0}, 'iteration': 12, 'iteration_time': 7.344236105680466, 'status': 'ok'}, {'loss': 0.011337868480725623, 'hyperparameters': {'cb_buffer_size': 272629760.0, 'romio_cb_read': 'disable', 'romio_cb_write': 'enable', 'romio_ds_read': 'disable', 'romio_ds_write': 'enable', 'setstripe-count': 19.0, 'setstripe-size': 327680.0}, 'iteration': 13, 'iteration_time': 10.7148379040882, 'status': 'ok'}, {'loss': 0.002681324574339724, 'hyperparameters': {'cb_buffer_size': 189792256.0, 'romio_cb_read': 'disable', 'romio_cb_write': 'enable', 'romio_ds_read': 'disable', 'romio_ds_write': 'enable', 'setstripe-count': 0.0, 'setstripe-size': 131072.0}, 'iteration': 14, 'iteration_time': 5.100869610905647, 'status': 'ok'}, {'loss': 0.01697792869269949, 'hyperparameters': {'cb_buffer_size': 13631488.0, 'romio_cb_read': 'enable', 'romio_cb_write': 'disable', 'romio_ds_read': 'disable', 'romio_ds_write': 'enable', 'setstripe-count': 17.0, 'setstripe-size': 196608.0}, 'iteration': 15, 'iteration_time': 9.292983614839613, 'status': 'ok'}, {'loss': 0.003207081235367692, 'hyperparameters': {'cb_buffer_size': 26214400.0, 'romio_cb_read': 'enable', 'romio_cb_write': 'enable', 'romio_ds_read': 'enable', 'romio_ds_write': 'enable', 'setstripe-count': 0.0, 'setstripe-size': 524288.0}, 'iteration': 16, 'iteration_time': 5.6274564899504185, 'status': 'ok'}, {'loss': 0.007734550235903782, 'hyperparameters': {'cb_buffer_size': 266338304.0, 'romio_cb_read': 'enable', 'romio_cb_write': 'disable', 'romio_ds_read': 'enable', 'romio_ds_write': 'enable', 'setstripe-count': 5.0, 'setstripe-size': 655360.0}, 'iteration': 17, 'iteration_time': 6.441420775838196, 'status': 'ok'}, {'loss': 0.03913894324853229, 'hyperparameters': {'cb_buffer_size': 178257920.0, 'romio_cb_read': 'disable', 'romio_cb_write': 'disable', 'romio_ds_read': 'enable', 'romio_ds_write': 'disable', 'setstripe-count': 20.0, 'setstripe-size': 65536.0}, 'iteration': 18, 'iteration_time': 15.997019157744944, 'status': 'ok'}, {'loss': 0.009067827348567283, 'hyperparameters': {'cb_buffer_size': 523239424.0, 'romio_cb_read': 'enable', 'romio_cb_write': 'enable', 'romio_ds_read': 'enable', 'romio_ds_write': 'enable', 'setstripe-count': 15.0, 'setstripe-size': 262144.0}, 'iteration': 19, 'iteration_time': 6.761448763310909, 'status': 'ok'}, {'loss': 0.008700948403375968, 'hyperparameters': {'cb_buffer_size': 93323264.0, 'romio_cb_read': 'enable', 'romio_cb_write': 'enable', 'romio_ds_read': 'enable', 'romio_ds_write': 'enable', 'setstripe-count': 8.0, 'setstripe-size': 524288.0}, 'iteration': 20, 'iteration_time': 6.829770348966122, 'status': 'ok'}]\n"
     ]
    },
    {
     "data": {
      "text/plain": [
       "[{'loss': 0.002681324574339724,\n",
       "  'hyperparameters': {'cb_buffer_size': 189792256.0,\n",
       "   'romio_cb_read': 'disable',\n",
       "   'romio_cb_write': 'enable',\n",
       "   'romio_ds_read': 'disable',\n",
       "   'romio_ds_write': 'enable',\n",
       "   'setstripe-count': 0.0,\n",
       "   'setstripe-size': 131072.0},\n",
       "  'iteration': 14,\n",
       "  'iteration_time': 5.100869610905647,\n",
       "  'status': 'ok'}]"
      ]
     },
     "execution_count": 89,
     "metadata": {},
     "output_type": "execute_result"
    }
   ],
   "source": [
    "print(best)\n",
    "d=  best\n",
    "print(bayes_trials.results)\n",
    "bayes_trials_results = sorted(bayes_trials.results, key = lambda x: x['loss'])\n",
    "bayes_trials_results[:1]"
   ]
  },
  {
   "cell_type": "code",
   "execution_count": 90,
   "metadata": {},
   "outputs": [
    {
     "data": {
      "text/html": [
       "<div>\n",
       "<style scoped>\n",
       "    .dataframe tbody tr th:only-of-type {\n",
       "        vertical-align: middle;\n",
       "    }\n",
       "\n",
       "    .dataframe tbody tr th {\n",
       "        vertical-align: top;\n",
       "    }\n",
       "\n",
       "    .dataframe thead th {\n",
       "        text-align: right;\n",
       "    }\n",
       "</style>\n",
       "<table border=\"1\" class=\"dataframe\">\n",
       "  <thead>\n",
       "    <tr style=\"text-align: right;\">\n",
       "      <th></th>\n",
       "      <th>loss</th>\n",
       "      <th>params</th>\n",
       "      <th>iteration</th>\n",
       "      <th>train_time</th>\n",
       "    </tr>\n",
       "  </thead>\n",
       "  <tbody>\n",
       "    <tr>\n",
       "      <th>0</th>\n",
       "      <td>0.002869</td>\n",
       "      <td>{'cb_buffer_size': 57671680.0, 'romio_cb_read'...</td>\n",
       "      <td>4</td>\n",
       "      <td>4.998128</td>\n",
       "    </tr>\n",
       "    <tr>\n",
       "      <th>1</th>\n",
       "      <td>0.002987</td>\n",
       "      <td>{'cb_buffer_size': 14680064.0, 'romio_cb_read'...</td>\n",
       "      <td>9</td>\n",
       "      <td>5.028838</td>\n",
       "    </tr>\n",
       "    <tr>\n",
       "      <th>2</th>\n",
       "      <td>0.002681</td>\n",
       "      <td>{'cb_buffer_size': 189792256.0, 'romio_cb_read...</td>\n",
       "      <td>14</td>\n",
       "      <td>5.100870</td>\n",
       "    </tr>\n",
       "    <tr>\n",
       "      <th>3</th>\n",
       "      <td>0.003738</td>\n",
       "      <td>{'cb_buffer_size': 170917888.0, 'romio_cb_read...</td>\n",
       "      <td>6</td>\n",
       "      <td>5.430377</td>\n",
       "    </tr>\n",
       "    <tr>\n",
       "      <th>4</th>\n",
       "      <td>0.004581</td>\n",
       "      <td>{'cb_buffer_size': 488636416.0, 'romio_cb_read...</td>\n",
       "      <td>5</td>\n",
       "      <td>5.573585</td>\n",
       "    </tr>\n",
       "  </tbody>\n",
       "</table>\n",
       "</div>"
      ],
      "text/plain": [
       "       loss                                             params  iteration  \\\n",
       "0  0.002869  {'cb_buffer_size': 57671680.0, 'romio_cb_read'...          4   \n",
       "1  0.002987  {'cb_buffer_size': 14680064.0, 'romio_cb_read'...          9   \n",
       "2  0.002681  {'cb_buffer_size': 189792256.0, 'romio_cb_read...         14   \n",
       "3  0.003738  {'cb_buffer_size': 170917888.0, 'romio_cb_read...          6   \n",
       "4  0.004581  {'cb_buffer_size': 488636416.0, 'romio_cb_read...          5   \n",
       "\n",
       "   train_time  \n",
       "0    4.998128  \n",
       "1    5.028838  \n",
       "2    5.100870  \n",
       "3    5.430377  \n",
       "4    5.573585  "
      ]
     },
     "execution_count": 90,
     "metadata": {},
     "output_type": "execute_result"
    }
   ],
   "source": [
    "results = pd.read_csv(out_file)\n",
    "\n",
    "# Sort with best scores on top and reset index for slicing\n",
    "results.sort_values('train_time', ascending = True, inplace = True)\n",
    "results.reset_index(inplace = True, drop = True)\n",
    "results.head()\n"
   ]
  },
  {
   "cell_type": "code",
   "execution_count": 91,
   "metadata": {},
   "outputs": [
    {
     "name": "stdout",
     "output_type": "stream",
     "text": [
      "{'cb_buffer_size': 57671680.0, 'romio_cb_read': 'enable', 'romio_cb_write': 'disable', 'romio_ds_read': 'disable', 'romio_ds_write': 'enable', 'setstripe-count': 14.0, 'setstripe-size': 1048576.0}\n"
     ]
    }
   ],
   "source": [
    "import ast\n",
    "\n",
    "# Convert from a string to a dictionary\n",
    "ast.literal_eval(results.loc[0, 'params'])\n",
    "best_bayes_params = ast.literal_eval(results.loc[0, 'params']).copy()\n",
    "print(best_bayes_params)"
   ]
  },
  {
   "cell_type": "code",
   "execution_count": 92,
   "metadata": {},
   "outputs": [
    {
     "data": {
      "text/html": [
       "<div>\n",
       "<style scoped>\n",
       "    .dataframe tbody tr th:only-of-type {\n",
       "        vertical-align: middle;\n",
       "    }\n",
       "\n",
       "    .dataframe tbody tr th {\n",
       "        vertical-align: top;\n",
       "    }\n",
       "\n",
       "    .dataframe thead th {\n",
       "        text-align: right;\n",
       "    }\n",
       "</style>\n",
       "<table border=\"1\" class=\"dataframe\">\n",
       "  <thead>\n",
       "    <tr style=\"text-align: right;\">\n",
       "      <th></th>\n",
       "      <th>cb_buffer_size</th>\n",
       "      <th>romio_cb_read</th>\n",
       "      <th>romio_cb_write</th>\n",
       "      <th>romio_ds_read</th>\n",
       "      <th>romio_ds_write</th>\n",
       "      <th>setstripe-count</th>\n",
       "      <th>setstripe-size</th>\n",
       "      <th>train_time</th>\n",
       "      <th>loss</th>\n",
       "      <th>iteration</th>\n",
       "    </tr>\n",
       "  </thead>\n",
       "  <tbody>\n",
       "    <tr>\n",
       "      <th>0</th>\n",
       "      <td>5.76717e+07</td>\n",
       "      <td>enable</td>\n",
       "      <td>disable</td>\n",
       "      <td>disable</td>\n",
       "      <td>enable</td>\n",
       "      <td>14</td>\n",
       "      <td>1.04858e+06</td>\n",
       "      <td>4.998128</td>\n",
       "      <td>0.002869</td>\n",
       "      <td>4</td>\n",
       "    </tr>\n",
       "    <tr>\n",
       "      <th>1</th>\n",
       "      <td>1.46801e+07</td>\n",
       "      <td>disable</td>\n",
       "      <td>disable</td>\n",
       "      <td>enable</td>\n",
       "      <td>disable</td>\n",
       "      <td>3</td>\n",
       "      <td>196608</td>\n",
       "      <td>5.028838</td>\n",
       "      <td>0.002987</td>\n",
       "      <td>9</td>\n",
       "    </tr>\n",
       "    <tr>\n",
       "      <th>2</th>\n",
       "      <td>1.89792e+08</td>\n",
       "      <td>disable</td>\n",
       "      <td>enable</td>\n",
       "      <td>disable</td>\n",
       "      <td>enable</td>\n",
       "      <td>0</td>\n",
       "      <td>131072</td>\n",
       "      <td>5.100870</td>\n",
       "      <td>0.002681</td>\n",
       "      <td>14</td>\n",
       "    </tr>\n",
       "    <tr>\n",
       "      <th>3</th>\n",
       "      <td>1.70918e+08</td>\n",
       "      <td>enable</td>\n",
       "      <td>disable</td>\n",
       "      <td>enable</td>\n",
       "      <td>disable</td>\n",
       "      <td>4</td>\n",
       "      <td>655360</td>\n",
       "      <td>5.430377</td>\n",
       "      <td>0.003738</td>\n",
       "      <td>6</td>\n",
       "    </tr>\n",
       "    <tr>\n",
       "      <th>4</th>\n",
       "      <td>4.88636e+08</td>\n",
       "      <td>disable</td>\n",
       "      <td>disable</td>\n",
       "      <td>enable</td>\n",
       "      <td>disable</td>\n",
       "      <td>8</td>\n",
       "      <td>786432</td>\n",
       "      <td>5.573585</td>\n",
       "      <td>0.004581</td>\n",
       "      <td>5</td>\n",
       "    </tr>\n",
       "  </tbody>\n",
       "</table>\n",
       "</div>"
      ],
      "text/plain": [
       "  cb_buffer_size romio_cb_read romio_cb_write romio_ds_read romio_ds_write  \\\n",
       "0    5.76717e+07        enable        disable       disable         enable   \n",
       "1    1.46801e+07       disable        disable        enable        disable   \n",
       "2    1.89792e+08       disable         enable       disable         enable   \n",
       "3    1.70918e+08        enable        disable        enable        disable   \n",
       "4    4.88636e+08       disable        disable        enable        disable   \n",
       "\n",
       "  setstripe-count setstripe-size  train_time      loss  iteration  \n",
       "0              14    1.04858e+06    4.998128  0.002869          4  \n",
       "1               3         196608    5.028838  0.002987          9  \n",
       "2               0         131072    5.100870  0.002681         14  \n",
       "3               4         655360    5.430377  0.003738          6  \n",
       "4               8         786432    5.573585  0.004581          5  "
      ]
     },
     "execution_count": 92,
     "metadata": {},
     "output_type": "execute_result"
    }
   ],
   "source": [
    "bayes_params = pd.DataFrame(columns = list(ast.literal_eval(results.loc[0, 'params']).keys()),\n",
    "                            index = list(range(len(results))))\n",
    "\n",
    "# Add the results with each parameter a different column\n",
    "for i, params in enumerate(results['params']):\n",
    "    bayes_params.loc[i, :] = list(ast.literal_eval(params).values())\n",
    "bayes_params['train_time'] = results['train_time']    \n",
    "bayes_params['loss'] = results['loss']\n",
    "bayes_params['iteration'] = results['iteration']\n",
    "\n",
    "bayes_params.head()"
   ]
  },
  {
   "cell_type": "code",
   "execution_count": 93,
   "metadata": {},
   "outputs": [
    {
     "name": "stderr",
     "output_type": "stream",
     "text": [
      "DEBUG:matplotlib.axes._base:update_title_pos\n",
      "DEBUG:matplotlib.axes._base:update_title_pos\n",
      "DEBUG:matplotlib.axes._base:update_title_pos\n",
      "DEBUG:matplotlib.axes._base:update_title_pos\n",
      "DEBUG:matplotlib.axes._base:update_title_pos\n"
     ]
    },
    {
     "data": {
      "image/png": "[encoded data removed]",
      "text/plain": [
       "<Figure size 1440x576 with 1 Axes>"
      ]
     },
     "metadata": {
      "needs_background": "light"
     },
     "output_type": "display_data"
    }
   ],
   "source": [
    "plt.figure(figsize = (20, 8))\n",
    "plt.rcParams['font.size'] = 18\n",
    "\n",
    "# Density plots of the learning rate distributions \n",
    "sns.kdeplot(bayes_params['loss'], label = 'Loss Variation', linewidth = 2)\n",
    "plt.legend()\n",
    "plt.xlabel('Loss'); plt.ylabel('Density'); plt.title('Loss Distribution');\n"
   ]
  },
  {
   "cell_type": "code",
   "execution_count": 94,
   "metadata": {},
   "outputs": [],
   "source": [
    "cb_buffer_size_dist = []\n",
    "for _ in range(15):\n",
    "    cb_buffer_size_dist.append(sample(space)['cb_buffer_size'])"
   ]
  },
  {
   "cell_type": "code",
   "execution_count": 95,
   "metadata": {},
   "outputs": [
    {
     "name": "stderr",
     "output_type": "stream",
     "text": [
      "DEBUG:matplotlib.axes._base:update_title_pos\n",
      "DEBUG:matplotlib.axes._base:update_title_pos\n",
      "DEBUG:matplotlib.axes._base:update_title_pos\n",
      "DEBUG:matplotlib.axes._base:update_title_pos\n",
      "DEBUG:matplotlib.axes._base:update_title_pos\n"
     ]
    },
    {
     "data": {
      "image/png": "[encoded data removed]",
      "text/plain": [
       "<Figure size 1440x576 with 1 Axes>"
      ]
     },
     "metadata": {
      "needs_background": "light"
     },
     "output_type": "display_data"
    }
   ],
   "source": [
    "plt.figure(figsize = (20, 8))\n",
    "plt.rcParams['font.size'] = 18\n",
    "\n",
    "# Density plots of the learning rate distributions \n",
    "sns.kdeplot(bayes_params['cb_buffer_size'], label = 'cb_buffer_size', linewidth = 2)\n",
    "sns.kdeplot(cb_buffer_size_dist,color=\"red\",linewidth=2,shade=True)\n",
    "plt.legend()\n",
    "plt.xlabel('Loss'); plt.ylabel('Density'); plt.title('cb_buffer_size Distribution');\n"
   ]
  },
  {
   "cell_type": "code",
   "execution_count": 100,
   "metadata": {},
   "outputs": [],
   "source": [
    "import random\n",
    "import numpy as np\n",
    "\n",
    "def random_objective(hyperparameters):\n",
    "    global ITERATION\n",
    "    ITERATION += 1\n",
    "    start = timer()\n",
    "    result = runthebenchmark(hyperparameters)\n",
    "    run_time = timer() - start\n",
    "    print({'loss': result, 'hyperparameters': hyperparameters, 'iteration': ITERATION, 'iteration_time': run_time, 'status': STATUS_OK})\n",
    "    # Write to the csv file ('a' means append)\n",
    "    of_connection = open(out_file, 'a')\n",
    "    writer = csv.writer(of_connection)\n",
    "    writer.writerow([float(result), hyperparameters, ITERATION, run_time])\n",
    "    return [ float(result), hyperparameters, ITERATION, run_time]\n"
   ]
  },
  {
   "cell_type": "code",
   "execution_count": 101,
   "metadata": {},
   "outputs": [
    {
     "name": "stdout",
     "output_type": "stream",
     "text": [
      "{'romio_ds_read': 'disable', 'romio_ds_write': 'disable', 'romio_cb_read': 'disable', 'romio_cb_write': 'enable', 'cb_buffer_size': 1015021568, 'setstripe-size': 65536, 'setstripe-count': 2}\n",
      "{'mpi': {'romio_ds_read': 'disable', 'romio_ds_write': 'disable', 'romio_cb_read': 'disable', 'romio_cb_write': 'enable', 'cb_buffer_size': '1015021568'}, 'lfs': {'setstripe': {'size': 65536, 'count': 2}}}\n",
      "S3D-IO 50-100-100-2-2-4-1 511.55 0.06 0.12 379.72 0.30 0.80 0.05 0.03 65536 2 disable disable disable enable 1015021568 \n",
      "\n",
      "379.72\n",
      "{'loss': 0.002633519435373433, 'hyperparameters': {'romio_ds_read': 'disable', 'romio_ds_write': 'disable', 'romio_cb_read': 'disable', 'romio_cb_write': 'enable', 'cb_buffer_size': 1015021568, 'setstripe-size': 65536, 'setstripe-count': 2}, 'iteration': 51, 'iteration_time': 5.079044162295759, 'status': 'ok'}\n",
      "{'romio_ds_read': 'disable', 'romio_ds_write': 'enable', 'romio_cb_read': 'enable', 'romio_cb_write': 'enable', 'cb_buffer_size': 742391808, 'setstripe-size': 0, 'setstripe-count': 11}\n",
      "{'mpi': {'romio_ds_read': 'disable', 'romio_ds_write': 'enable', 'romio_cb_read': 'enable', 'romio_cb_write': 'enable', 'cb_buffer_size': '742391808'}, 'lfs': {'setstripe': {'size': 0, 'count': 11}}}\n",
      "S3D-IO 50-100-100-2-2-4-1 383.88 0.06 0.16 371.55 0.30 0.82 0.04 0.02 0 11 disable enable enable enable 742391808 \n",
      "\n",
      "371.55\n",
      "{'loss': 0.0026914278024491992, 'hyperparameters': {'romio_ds_read': 'disable', 'romio_ds_write': 'enable', 'romio_cb_read': 'enable', 'romio_cb_write': 'enable', 'cb_buffer_size': 742391808, 'setstripe-size': 0, 'setstripe-count': 11}, 'iteration': 52, 'iteration_time': 4.894219050183892, 'status': 'ok'}\n",
      "{'romio_ds_read': 'disable', 'romio_ds_write': 'enable', 'romio_cb_read': 'enable', 'romio_cb_write': 'enable', 'cb_buffer_size': 704643072, 'setstripe-size': 131072, 'setstripe-count': 19}\n",
      "{'mpi': {'romio_ds_read': 'disable', 'romio_ds_write': 'enable', 'romio_cb_read': 'enable', 'romio_cb_write': 'enable', 'cb_buffer_size': '704643072'}, 'lfs': {'setstripe': {'size': 131072, 'count': 19}}}\n",
      "S3D-IO 50-100-100-2-2-4-1 355.26 0.06 0.17 64.46 0.30 4.73 0.05 0.02 131072 19 disable enable enable enable 704643072 \n",
      "\n",
      "64.46\n",
      "{'loss': 0.015513496742165686, 'hyperparameters': {'romio_ds_read': 'disable', 'romio_ds_write': 'enable', 'romio_cb_read': 'enable', 'romio_cb_write': 'enable', 'cb_buffer_size': 704643072, 'setstripe-size': 131072, 'setstripe-count': 19}, 'iteration': 53, 'iteration_time': 8.859606945887208, 'status': 'ok'}\n",
      "{'romio_ds_read': 'disable', 'romio_ds_write': 'enable', 'romio_cb_read': 'enable', 'romio_cb_write': 'disable', 'cb_buffer_size': 922746880, 'setstripe-size': 0, 'setstripe-count': 7}\n",
      "{'mpi': {'romio_ds_read': 'disable', 'romio_ds_write': 'enable', 'romio_cb_read': 'enable', 'romio_cb_write': 'disable', 'cb_buffer_size': '922746880'}, 'lfs': {'setstripe': {'size': 0, 'count': 7}}}\n",
      "S3D-IO 50-100-100-2-2-4-1 227.02 0.06 0.27 346.93 0.30 0.88 0.05 0.02 0 7 disable enable enable disable 922746880 \n",
      "\n",
      "346.93\n",
      "{'loss': 0.002882425849595019, 'hyperparameters': {'romio_ds_read': 'disable', 'romio_ds_write': 'enable', 'romio_cb_read': 'enable', 'romio_cb_write': 'disable', 'cb_buffer_size': 922746880, 'setstripe-size': 0, 'setstripe-count': 7}, 'iteration': 54, 'iteration_time': 5.079978061839938, 'status': 'ok'}\n",
      "{'romio_ds_read': 'disable', 'romio_ds_write': 'disable', 'romio_cb_read': 'disable', 'romio_cb_write': 'enable', 'cb_buffer_size': 427819008, 'setstripe-size': 65536, 'setstripe-count': 8}\n",
      "{'mpi': {'romio_ds_read': 'disable', 'romio_ds_write': 'disable', 'romio_cb_read': 'disable', 'romio_cb_write': 'enable', 'cb_buffer_size': '427819008'}, 'lfs': {'setstripe': {'size': 65536, 'count': 8}}}\n",
      "S3D-IO 50-100-100-2-2-4-1 488.44 0.06 0.13 205.96 0.30 1.48 0.05 0.03 65536 8 disable disable disable enable 427819008 \n",
      "\n",
      "205.96\n",
      "{'loss': 0.004855311711011847, 'hyperparameters': {'romio_ds_read': 'disable', 'romio_ds_write': 'disable', 'romio_cb_read': 'disable', 'romio_cb_write': 'enable', 'cb_buffer_size': 427819008, 'setstripe-size': 65536, 'setstripe-count': 8}, 'iteration': 55, 'iteration_time': 5.564984397031367, 'status': 'ok'}\n",
      "{'romio_ds_read': 'disable', 'romio_ds_write': 'enable', 'romio_cb_read': 'disable', 'romio_cb_write': 'enable', 'cb_buffer_size': 260046848, 'setstripe-size': 65536, 'setstripe-count': 19}\n",
      "{'mpi': {'romio_ds_read': 'disable', 'romio_ds_write': 'enable', 'romio_cb_read': 'disable', 'romio_cb_write': 'enable', 'cb_buffer_size': '260046848'}, 'lfs': {'setstripe': {'size': 65536, 'count': 19}}}\n",
      "S3D-IO 50-100-100-2-2-4-1 236.55 0.06 0.26 46.26 0.30 6.60 0.06 0.02 65536 19 disable enable disable enable 260046848 \n",
      "\n",
      "46.26\n",
      "{'loss': 0.021616947686986597, 'hyperparameters': {'romio_ds_read': 'disable', 'romio_ds_write': 'enable', 'romio_cb_read': 'disable', 'romio_cb_write': 'enable', 'cb_buffer_size': 260046848, 'setstripe-size': 65536, 'setstripe-count': 19}, 'iteration': 56, 'iteration_time': 10.875507828779519, 'status': 'ok'}\n",
      "{'romio_ds_read': 'enable', 'romio_ds_write': 'disable', 'romio_cb_read': 'disable', 'romio_cb_write': 'enable', 'cb_buffer_size': 1069547520, 'setstripe-size': 131072, 'setstripe-count': 16}\n",
      "{'mpi': {'romio_ds_read': 'enable', 'romio_ds_write': 'disable', 'romio_cb_read': 'disable', 'romio_cb_write': 'enable', 'cb_buffer_size': '1069547520'}, 'lfs': {'setstripe': {'size': 131072, 'count': 16}}}\n",
      "S3D-IO 50-100-100-2-2-4-1 194.16 0.06 0.32 48.13 0.30 6.34 0.06 0.02 131072 16 enable disable disable enable 1069547520 \n",
      "\n",
      "48.13\n",
      "{'loss': 0.02077706212341575, 'hyperparameters': {'romio_ds_read': 'enable', 'romio_ds_write': 'disable', 'romio_cb_read': 'disable', 'romio_cb_write': 'enable', 'cb_buffer_size': 1069547520, 'setstripe-size': 131072, 'setstripe-count': 16}, 'iteration': 57, 'iteration_time': 10.613587725907564, 'status': 'ok'}\n",
      "{'romio_ds_read': 'disable', 'romio_ds_write': 'enable', 'romio_cb_read': 'disable', 'romio_cb_write': 'enable', 'cb_buffer_size': 12582912, 'setstripe-size': 65536, 'setstripe-count': 0}\n",
      "{'mpi': {'romio_ds_read': 'disable', 'romio_ds_write': 'enable', 'romio_cb_read': 'disable', 'romio_cb_write': 'enable', 'cb_buffer_size': '12582912'}, 'lfs': {'setstripe': {'size': 65536, 'count': 0}}}\n",
      "S3D-IO 50-100-100-2-2-4-1 261.01 0.06 0.23 317.32 0.30 0.96 0.07 0.04 65536 0 disable enable disable enable 12582912 \n",
      "\n",
      "317.32\n",
      "{'loss': 0.0031513929156687256, 'hyperparameters': {'romio_ds_read': 'disable', 'romio_ds_write': 'enable', 'romio_cb_read': 'disable', 'romio_cb_write': 'enable', 'cb_buffer_size': 12582912, 'setstripe-size': 65536, 'setstripe-count': 0}, 'iteration': 58, 'iteration_time': 5.204550297930837, 'status': 'ok'}\n",
      "{'romio_ds_read': 'disable', 'romio_ds_write': 'disable', 'romio_cb_read': 'enable', 'romio_cb_write': 'enable', 'cb_buffer_size': 209715200, 'setstripe-size': 0, 'setstripe-count': 8}\n",
      "{'mpi': {'romio_ds_read': 'disable', 'romio_ds_write': 'disable', 'romio_cb_read': 'enable', 'romio_cb_write': 'enable', 'cb_buffer_size': '209715200'}, 'lfs': {'setstripe': {'size': 0, 'count': 8}}}\n",
      "S3D-IO 50-100-100-2-2-4-1 468.58 0.06 0.13 336.94 0.30 0.91 0.06 0.02 0 8 disable disable enable enable 209715200 \n",
      "\n",
      "336.94\n",
      "{'loss': 0.002967887457707604, 'hyperparameters': {'romio_ds_read': 'disable', 'romio_ds_write': 'disable', 'romio_cb_read': 'enable', 'romio_cb_write': 'enable', 'cb_buffer_size': 209715200, 'setstripe-size': 0, 'setstripe-count': 8}, 'iteration': 59, 'iteration_time': 5.008357076905668, 'status': 'ok'}\n",
      "{'romio_ds_read': 'disable', 'romio_ds_write': 'enable', 'romio_cb_read': 'disable', 'romio_cb_write': 'enable', 'cb_buffer_size': 100663296, 'setstripe-size': 0, 'setstripe-count': 7}\n",
      "{'mpi': {'romio_ds_read': 'disable', 'romio_ds_write': 'enable', 'romio_cb_read': 'disable', 'romio_cb_write': 'enable', 'cb_buffer_size': '100663296'}, 'lfs': {'setstripe': {'size': 0, 'count': 7}}}\n",
      "S3D-IO 50-100-100-2-2-4-1 441.77 0.06 0.14 332.03 0.30 0.92 0.05 0.02 0 7 disable enable disable enable 100663296 \n",
      "\n",
      "332.03\n",
      "{'loss': 0.0030117760443333437, 'hyperparameters': {'romio_ds_read': 'disable', 'romio_ds_write': 'enable', 'romio_cb_read': 'disable', 'romio_cb_write': 'enable', 'cb_buffer_size': 100663296, 'setstripe-size': 0, 'setstripe-count': 7}, 'iteration': 60, 'iteration_time': 4.897690360434353, 'status': 'ok'}\n",
      "{'romio_ds_read': 'disable', 'romio_ds_write': 'disable', 'romio_cb_read': 'disable', 'romio_cb_write': 'disable', 'cb_buffer_size': 838860800, 'setstripe-size': 65536, 'setstripe-count': 2}\n",
      "{'mpi': {'romio_ds_read': 'disable', 'romio_ds_write': 'disable', 'romio_cb_read': 'disable', 'romio_cb_write': 'disable', 'cb_buffer_size': '838860800'}, 'lfs': {'setstripe': {'size': 65536, 'count': 2}}}\n"
     ]
    },
    {
     "name": "stdout",
     "output_type": "stream",
     "text": [
      "S3D-IO 50-100-100-2-2-4-1 489.65 0.06 0.13 397.48 0.30 0.77 0.05 0.03 65536 2 disable disable disable disable 838860800 \n",
      "\n",
      "397.48\n",
      "{'loss': 0.002515849854080708, 'hyperparameters': {'romio_ds_read': 'disable', 'romio_ds_write': 'disable', 'romio_cb_read': 'disable', 'romio_cb_write': 'disable', 'cb_buffer_size': 838860800, 'setstripe-size': 65536, 'setstripe-count': 2}, 'iteration': 61, 'iteration_time': 4.847023608162999, 'status': 'ok'}\n",
      "{'romio_ds_read': 'disable', 'romio_ds_write': 'enable', 'romio_cb_read': 'disable', 'romio_cb_write': 'enable', 'cb_buffer_size': 37748736, 'setstripe-size': 0, 'setstripe-count': 14}\n",
      "{'mpi': {'romio_ds_read': 'disable', 'romio_ds_write': 'enable', 'romio_cb_read': 'disable', 'romio_cb_write': 'enable', 'cb_buffer_size': '37748736'}, 'lfs': {'setstripe': {'size': 0, 'count': 14}}}\n",
      "S3D-IO 50-100-100-2-2-4-1 551.83 0.06 0.11 363.01 0.30 0.84 0.05 0.03 0 14 disable enable disable enable 37748736 \n",
      "\n",
      "363.01\n",
      "{'loss': 0.0027547450483457756, 'hyperparameters': {'romio_ds_read': 'disable', 'romio_ds_write': 'enable', 'romio_cb_read': 'disable', 'romio_cb_write': 'enable', 'cb_buffer_size': 37748736, 'setstripe-size': 0, 'setstripe-count': 14}, 'iteration': 62, 'iteration_time': 4.934340332634747, 'status': 'ok'}\n",
      "{'romio_ds_read': 'enable', 'romio_ds_write': 'disable', 'romio_cb_read': 'disable', 'romio_cb_write': 'disable', 'cb_buffer_size': 1065353216, 'setstripe-size': 0, 'setstripe-count': 9}\n",
      "{'mpi': {'romio_ds_read': 'enable', 'romio_ds_write': 'disable', 'romio_cb_read': 'disable', 'romio_cb_write': 'disable', 'cb_buffer_size': '1065353216'}, 'lfs': {'setstripe': {'size': 0, 'count': 9}}}\n",
      "S3D-IO 50-100-100-2-2-4-1 422.09 0.06 0.15 326.63 0.30 0.93 0.06 0.02 0 9 enable disable disable disable 1065353216 \n",
      "\n",
      "326.63\n",
      "{'loss': 0.003061568135198849, 'hyperparameters': {'romio_ds_read': 'enable', 'romio_ds_write': 'disable', 'romio_cb_read': 'disable', 'romio_cb_write': 'disable', 'cb_buffer_size': 1065353216, 'setstripe-size': 0, 'setstripe-count': 9}, 'iteration': 63, 'iteration_time': 5.10889133810997, 'status': 'ok'}\n",
      "{'romio_ds_read': 'enable', 'romio_ds_write': 'disable', 'romio_cb_read': 'enable', 'romio_cb_write': 'enable', 'cb_buffer_size': 188743680, 'setstripe-size': 0, 'setstripe-count': 5}\n",
      "{'mpi': {'romio_ds_read': 'enable', 'romio_ds_write': 'disable', 'romio_cb_read': 'enable', 'romio_cb_write': 'enable', 'cb_buffer_size': '188743680'}, 'lfs': {'setstripe': {'size': 0, 'count': 5}}}\n",
      "S3D-IO 50-100-100-2-2-4-1 451.74 0.06 0.14 309.82 0.30 0.99 0.05 0.02 0 5 enable disable enable enable 188743680 \n",
      "\n",
      "309.82\n",
      "{'loss': 0.0032276805887289394, 'hyperparameters': {'romio_ds_read': 'enable', 'romio_ds_write': 'disable', 'romio_cb_read': 'enable', 'romio_cb_write': 'enable', 'cb_buffer_size': 188743680, 'setstripe-size': 0, 'setstripe-count': 5}, 'iteration': 64, 'iteration_time': 5.07877226639539, 'status': 'ok'}\n",
      "{'romio_ds_read': 'enable', 'romio_ds_write': 'enable', 'romio_cb_read': 'enable', 'romio_cb_write': 'enable', 'cb_buffer_size': 666894336, 'setstripe-size': 131072, 'setstripe-count': 11}\n",
      "{'mpi': {'romio_ds_read': 'enable', 'romio_ds_write': 'enable', 'romio_cb_read': 'enable', 'romio_cb_write': 'enable', 'cb_buffer_size': '666894336'}, 'lfs': {'setstripe': {'size': 131072, 'count': 11}}}\n",
      "S3D-IO 50-100-100-2-2-4-1 406.79 0.06 0.15 50.29 0.30 6.07 0.06 0.02 131072 11 enable enable enable enable 666894336 \n",
      "\n",
      "50.29\n",
      "{'loss': 0.01988466892026248, 'hyperparameters': {'romio_ds_read': 'enable', 'romio_ds_write': 'enable', 'romio_cb_read': 'enable', 'romio_cb_write': 'enable', 'cb_buffer_size': 666894336, 'setstripe-size': 131072, 'setstripe-count': 11}, 'iteration': 65, 'iteration_time': 10.115845987573266, 'status': 'ok'}\n",
      "{'romio_ds_read': 'enable', 'romio_ds_write': 'enable', 'romio_cb_read': 'enable', 'romio_cb_write': 'enable', 'cb_buffer_size': 658505728, 'setstripe-size': 131072, 'setstripe-count': 18}\n",
      "{'mpi': {'romio_ds_read': 'enable', 'romio_ds_write': 'enable', 'romio_cb_read': 'enable', 'romio_cb_write': 'enable', 'cb_buffer_size': '658505728'}, 'lfs': {'setstripe': {'size': 131072, 'count': 18}}}\n",
      "S3D-IO 50-100-100-2-2-4-1 209.04 0.06 0.29 40.17 0.30 7.60 0.07 0.02 131072 18 enable enable enable enable 658505728 \n",
      "\n",
      "40.17\n",
      "{'loss': 0.024894199651481205, 'hyperparameters': {'romio_ds_read': 'enable', 'romio_ds_write': 'enable', 'romio_cb_read': 'enable', 'romio_cb_write': 'enable', 'cb_buffer_size': 658505728, 'setstripe-size': 131072, 'setstripe-count': 18}, 'iteration': 66, 'iteration_time': 11.810357932001352, 'status': 'ok'}\n",
      "{'romio_ds_read': 'enable', 'romio_ds_write': 'enable', 'romio_cb_read': 'disable', 'romio_cb_write': 'disable', 'cb_buffer_size': 926941184, 'setstripe-size': 65536, 'setstripe-count': 17}\n",
      "{'mpi': {'romio_ds_read': 'enable', 'romio_ds_write': 'enable', 'romio_cb_read': 'disable', 'romio_cb_write': 'disable', 'cb_buffer_size': '926941184'}, 'lfs': {'setstripe': {'size': 65536, 'count': 17}}}\n",
      "S3D-IO 50-100-100-2-2-4-1 \n",
      "{'loss': 0, 'hyperparameters': {'romio_ds_read': 'enable', 'romio_ds_write': 'enable', 'romio_cb_read': 'disable', 'romio_cb_write': 'disable', 'cb_buffer_size': 926941184, 'setstripe-size': 65536, 'setstripe-count': 17}, 'iteration': 67, 'iteration_time': 15.184411828406155, 'status': 'ok'}\n",
      "{'romio_ds_read': 'enable', 'romio_ds_write': 'enable', 'romio_cb_read': 'enable', 'romio_cb_write': 'disable', 'cb_buffer_size': 717225984, 'setstripe-size': 65536, 'setstripe-count': 10}\n",
      "{'mpi': {'romio_ds_read': 'enable', 'romio_ds_write': 'enable', 'romio_cb_read': 'enable', 'romio_cb_write': 'disable', 'cb_buffer_size': '717225984'}, 'lfs': {'setstripe': {'size': 65536, 'count': 10}}}\n",
      "S3D-IO 50-100-100-2-2-4-1 346.95 0.06 0.18 72.88 0.30 4.19 0.08 0.03 65536 10 enable enable enable disable 717225984 \n",
      "\n",
      "72.88\n",
      "{'loss': 0.013721185510428101, 'hyperparameters': {'romio_ds_read': 'enable', 'romio_ds_write': 'enable', 'romio_cb_read': 'enable', 'romio_cb_write': 'disable', 'cb_buffer_size': 717225984, 'setstripe-size': 65536, 'setstripe-count': 10}, 'iteration': 68, 'iteration_time': 8.378205441869795, 'status': 'ok'}\n",
      "{'romio_ds_read': 'enable', 'romio_ds_write': 'enable', 'romio_cb_read': 'disable', 'romio_cb_write': 'disable', 'cb_buffer_size': 268435456, 'setstripe-size': 0, 'setstripe-count': 10}\n",
      "{'mpi': {'romio_ds_read': 'enable', 'romio_ds_write': 'enable', 'romio_cb_read': 'disable', 'romio_cb_write': 'disable', 'cb_buffer_size': '268435456'}, 'lfs': {'setstripe': {'size': 0, 'count': 10}}}\n",
      "S3D-IO 50-100-100-2-2-4-1 242.58 0.06 0.25 343.45 0.30 0.89 0.05 0.02 0 10 enable enable disable disable 268435456 \n",
      "\n",
      "343.45\n",
      "{'loss': 0.0029116319697190278, 'hyperparameters': {'romio_ds_read': 'enable', 'romio_ds_write': 'enable', 'romio_cb_read': 'disable', 'romio_cb_write': 'disable', 'cb_buffer_size': 268435456, 'setstripe-size': 0, 'setstripe-count': 10}, 'iteration': 69, 'iteration_time': 5.128663893789053, 'status': 'ok'}\n",
      "{'romio_ds_read': 'disable', 'romio_ds_write': 'disable', 'romio_cb_read': 'enable', 'romio_cb_write': 'enable', 'cb_buffer_size': 142606336, 'setstripe-size': 0, 'setstripe-count': 3}\n",
      "{'mpi': {'romio_ds_read': 'disable', 'romio_ds_write': 'disable', 'romio_cb_read': 'enable', 'romio_cb_write': 'enable', 'cb_buffer_size': '142606336'}, 'lfs': {'setstripe': {'size': 0, 'count': 3}}}\n",
      "S3D-IO 50-100-100-2-2-4-1 101.33 0.06 0.60 337.37 0.30 0.90 0.06 0.03 0 3 disable disable enable enable 142606336 \n",
      "\n",
      "337.37\n",
      "{'loss': 0.002964104692177728, 'hyperparameters': {'romio_ds_read': 'disable', 'romio_ds_write': 'disable', 'romio_cb_read': 'enable', 'romio_cb_write': 'enable', 'cb_buffer_size': 142606336, 'setstripe-size': 0, 'setstripe-count': 3}, 'iteration': 70, 'iteration_time': 5.510244408622384, 'status': 'ok'}\n",
      "{'romio_ds_read': 'disable', 'romio_ds_write': 'disable', 'romio_cb_read': 'disable', 'romio_cb_write': 'disable', 'cb_buffer_size': 629145600, 'setstripe-size': 131072, 'setstripe-count': 19}\n",
      "{'mpi': {'romio_ds_read': 'disable', 'romio_ds_write': 'disable', 'romio_cb_read': 'disable', 'romio_cb_write': 'disable', 'cb_buffer_size': '629145600'}, 'lfs': {'setstripe': {'size': 131072, 'count': 19}}}\n",
      "S3D-IO 50-100-100-2-2-4-1 341.59 0.06 0.18 44.89 0.30 6.80 0.05 0.02 131072 19 disable disable disable disable 629145600 \n",
      "\n",
      "44.89\n",
      "{'loss': 0.022276676319893073, 'hyperparameters': {'romio_ds_read': 'disable', 'romio_ds_write': 'disable', 'romio_cb_read': 'disable', 'romio_cb_write': 'disable', 'cb_buffer_size': 629145600, 'setstripe-size': 131072, 'setstripe-count': 19}, 'iteration': 71, 'iteration_time': 10.945784862153232, 'status': 'ok'}\n",
      "{'romio_ds_read': 'enable', 'romio_ds_write': 'disable', 'romio_cb_read': 'enable', 'romio_cb_write': 'enable', 'cb_buffer_size': 532676608, 'setstripe-size': 65536, 'setstripe-count': 7}\n",
      "{'mpi': {'romio_ds_read': 'enable', 'romio_ds_write': 'disable', 'romio_cb_read': 'enable', 'romio_cb_write': 'enable', 'cb_buffer_size': '532676608'}, 'lfs': {'setstripe': {'size': 65536, 'count': 7}}}\n"
     ]
    },
    {
     "name": "stdout",
     "output_type": "stream",
     "text": [
      "S3D-IO 50-100-100-2-2-4-1 85.37 0.06 0.72 85.73 0.30 3.56 0.07 0.02 65536 7 enable disable enable enable 532676608 \n",
      "\n",
      "85.73\n",
      "{'loss': 0.01166452816983553, 'hyperparameters': {'romio_ds_read': 'enable', 'romio_ds_write': 'disable', 'romio_cb_read': 'enable', 'romio_cb_write': 'enable', 'cb_buffer_size': 532676608, 'setstripe-size': 65536, 'setstripe-count': 7}, 'iteration': 72, 'iteration_time': 8.290078262798488, 'status': 'ok'}\n",
      "{'romio_ds_read': 'enable', 'romio_ds_write': 'disable', 'romio_cb_read': 'enable', 'romio_cb_write': 'enable', 'cb_buffer_size': 243269632, 'setstripe-size': 131072, 'setstripe-count': 8}\n",
      "{'mpi': {'romio_ds_read': 'enable', 'romio_ds_write': 'disable', 'romio_cb_read': 'enable', 'romio_cb_write': 'enable', 'cb_buffer_size': '243269632'}, 'lfs': {'setstripe': {'size': 131072, 'count': 8}}}\n",
      "S3D-IO 50-100-100-2-2-4-1 417.51 0.06 0.15 100.75 0.30 3.03 0.06 0.03 131072 8 enable disable enable enable 243269632 \n",
      "\n",
      "100.75\n",
      "{'loss': 0.009925558312655087, 'hyperparameters': {'romio_ds_read': 'enable', 'romio_ds_write': 'disable', 'romio_cb_read': 'enable', 'romio_cb_write': 'enable', 'cb_buffer_size': 243269632, 'setstripe-size': 131072, 'setstripe-count': 8}, 'iteration': 73, 'iteration_time': 7.161409988999367, 'status': 'ok'}\n",
      "{'romio_ds_read': 'disable', 'romio_ds_write': 'enable', 'romio_cb_read': 'disable', 'romio_cb_write': 'enable', 'cb_buffer_size': 335544320, 'setstripe-size': 131072, 'setstripe-count': 13}\n",
      "{'mpi': {'romio_ds_read': 'disable', 'romio_ds_write': 'enable', 'romio_cb_read': 'disable', 'romio_cb_write': 'enable', 'cb_buffer_size': '335544320'}, 'lfs': {'setstripe': {'size': 131072, 'count': 13}}}\n",
      "S3D-IO 50-100-100-2-2-4-1 369.56 0.06 0.17 72.45 0.30 4.21 0.08 0.03 131072 13 disable enable disable enable 335544320 \n",
      "\n",
      "72.45\n",
      "{'loss': 0.013802622498274672, 'hyperparameters': {'romio_ds_read': 'disable', 'romio_ds_write': 'enable', 'romio_cb_read': 'disable', 'romio_cb_write': 'enable', 'cb_buffer_size': 335544320, 'setstripe-size': 131072, 'setstripe-count': 13}, 'iteration': 74, 'iteration_time': 8.390611018054187, 'status': 'ok'}\n",
      "{'romio_ds_read': 'enable', 'romio_ds_write': 'disable', 'romio_cb_read': 'disable', 'romio_cb_write': 'enable', 'cb_buffer_size': 654311424, 'setstripe-size': 65536, 'setstripe-count': 3}\n",
      "{'mpi': {'romio_ds_read': 'enable', 'romio_ds_write': 'disable', 'romio_cb_read': 'disable', 'romio_cb_write': 'enable', 'cb_buffer_size': '654311424'}, 'lfs': {'setstripe': {'size': 65536, 'count': 3}}}\n",
      "S3D-IO 50-100-100-2-2-4-1 283.70 0.06 0.22 284.01 0.30 1.07 0.06 0.03 65536 3 enable disable disable enable 654311424 \n",
      "\n",
      "284.01\n",
      "{'loss': 0.0035210027815921977, 'hyperparameters': {'romio_ds_read': 'enable', 'romio_ds_write': 'disable', 'romio_cb_read': 'disable', 'romio_cb_write': 'enable', 'cb_buffer_size': 654311424, 'setstripe-size': 65536, 'setstripe-count': 3}, 'iteration': 75, 'iteration_time': 5.272504663094878, 'status': 'ok'}\n",
      "{'romio_ds_read': 'enable', 'romio_ds_write': 'enable', 'romio_cb_read': 'disable', 'romio_cb_write': 'enable', 'cb_buffer_size': 62914560, 'setstripe-size': 0, 'setstripe-count': 6}\n",
      "{'mpi': {'romio_ds_read': 'enable', 'romio_ds_write': 'enable', 'romio_cb_read': 'disable', 'romio_cb_write': 'enable', 'cb_buffer_size': '62914560'}, 'lfs': {'setstripe': {'size': 0, 'count': 6}}}\n",
      "S3D-IO 50-100-100-2-2-4-1 366.70 0.06 0.17 234.06 0.30 1.30 0.06 0.02 0 6 enable enable disable enable 62914560 \n",
      "\n",
      "234.06\n",
      "{'loss': 0.00427240878407246, 'hyperparameters': {'romio_ds_read': 'enable', 'romio_ds_write': 'enable', 'romio_cb_read': 'disable', 'romio_cb_write': 'enable', 'cb_buffer_size': 62914560, 'setstripe-size': 0, 'setstripe-count': 6}, 'iteration': 76, 'iteration_time': 5.450973023660481, 'status': 'ok'}\n",
      "{'romio_ds_read': 'disable', 'romio_ds_write': 'disable', 'romio_cb_read': 'disable', 'romio_cb_write': 'enable', 'cb_buffer_size': 461373440, 'setstripe-size': 0, 'setstripe-count': 11}\n",
      "{'mpi': {'romio_ds_read': 'disable', 'romio_ds_write': 'disable', 'romio_cb_read': 'disable', 'romio_cb_write': 'enable', 'cb_buffer_size': '461373440'}, 'lfs': {'setstripe': {'size': 0, 'count': 11}}}\n",
      "S3D-IO 50-100-100-2-2-4-1 421.17 0.06 0.15 364.32 0.30 0.84 0.05 0.04 0 11 disable disable disable enable 461373440 \n",
      "\n",
      "364.32\n",
      "{'loss': 0.0027448397013614405, 'hyperparameters': {'romio_ds_read': 'disable', 'romio_ds_write': 'disable', 'romio_cb_read': 'disable', 'romio_cb_write': 'enable', 'cb_buffer_size': 461373440, 'setstripe-size': 0, 'setstripe-count': 11}, 'iteration': 77, 'iteration_time': 5.036979736760259, 'status': 'ok'}\n",
      "{'romio_ds_read': 'enable', 'romio_ds_write': 'enable', 'romio_cb_read': 'enable', 'romio_cb_write': 'enable', 'cb_buffer_size': 310378496, 'setstripe-size': 0, 'setstripe-count': 14}\n",
      "{'mpi': {'romio_ds_read': 'enable', 'romio_ds_write': 'enable', 'romio_cb_read': 'enable', 'romio_cb_write': 'enable', 'cb_buffer_size': '310378496'}, 'lfs': {'setstripe': {'size': 0, 'count': 14}}}\n",
      "S3D-IO 50-100-100-2-2-4-1 403.23 0.06 0.15 348.49 0.30 0.88 0.05 0.02 0 14 enable enable enable enable 310378496 \n",
      "\n",
      "348.49\n",
      "{'loss': 0.002869522798358633, 'hyperparameters': {'romio_ds_read': 'enable', 'romio_ds_write': 'enable', 'romio_cb_read': 'enable', 'romio_cb_write': 'enable', 'cb_buffer_size': 310378496, 'setstripe-size': 0, 'setstripe-count': 14}, 'iteration': 78, 'iteration_time': 5.0421065874397755, 'status': 'ok'}\n",
      "{'romio_ds_read': 'enable', 'romio_ds_write': 'disable', 'romio_cb_read': 'disable', 'romio_cb_write': 'enable', 'cb_buffer_size': 364904448, 'setstripe-size': 65536, 'setstripe-count': 12}\n",
      "{'mpi': {'romio_ds_read': 'enable', 'romio_ds_write': 'disable', 'romio_cb_read': 'disable', 'romio_cb_write': 'enable', 'cb_buffer_size': '364904448'}, 'lfs': {'setstripe': {'size': 65536, 'count': 12}}}\n",
      "S3D-IO 50-100-100-2-2-4-1 390.86 0.06 0.16 43.45 0.30 7.02 0.05 0.02 65536 12 enable disable disable enable 364904448 \n",
      "\n",
      "43.45\n",
      "{'loss': 0.02301495972382048, 'hyperparameters': {'romio_ds_read': 'enable', 'romio_ds_write': 'disable', 'romio_cb_read': 'disable', 'romio_cb_write': 'enable', 'cb_buffer_size': 364904448, 'setstripe-size': 65536, 'setstripe-count': 12}, 'iteration': 79, 'iteration_time': 11.178302966989577, 'status': 'ok'}\n",
      "{'romio_ds_read': 'enable', 'romio_ds_write': 'enable', 'romio_cb_read': 'enable', 'romio_cb_write': 'disable', 'cb_buffer_size': 868220928, 'setstripe-size': 131072, 'setstripe-count': 0}\n",
      "{'mpi': {'romio_ds_read': 'enable', 'romio_ds_write': 'enable', 'romio_cb_read': 'enable', 'romio_cb_write': 'disable', 'cb_buffer_size': '868220928'}, 'lfs': {'setstripe': {'size': 131072, 'count': 0}}}\n",
      "S3D-IO 50-100-100-2-2-4-1 444.27 0.06 0.14 357.99 0.30 0.85 0.09 0.03 131072 0 enable enable enable disable 868220928 \n",
      "\n",
      "357.99\n",
      "{'loss': 0.0027933741165954355, 'hyperparameters': {'romio_ds_read': 'enable', 'romio_ds_write': 'enable', 'romio_cb_read': 'enable', 'romio_cb_write': 'disable', 'cb_buffer_size': 868220928, 'setstripe-size': 131072, 'setstripe-count': 0}, 'iteration': 80, 'iteration_time': 5.056376210413873, 'status': 'ok'}\n"
     ]
    }
   ],
   "source": [
    "\n",
    "random_space = {\n",
    "    'romio_ds_read' : ['enable','disable'],\n",
    "    'romio_ds_write' : ['enable','disable'],\n",
    "    'romio_cb_read' : ['enable','disable'],\n",
    "    'romio_cb_write' : ['enable','disable'],\n",
    "    'cb_buffer_size' : [1048576*x for x in list(range(0,1024,4))],\n",
    "    'setstripe-size' : [65536*x for x in list(range(0,3,1))],\n",
    "    'setstripe-count' : list(range(0,20,1))\n",
    "    \n",
    "}\n",
    "random.seed(50)\n",
    "\n",
    "random_results = pd.DataFrame(columns = ['loss', 'params', 'iteration', 'time'],\n",
    "                       index = list(range(MAX_EVALS)))\n",
    "\n",
    "# Iterate through the specified number of evaluations\n",
    "for i in range(MAX_EVALS):\n",
    "    \n",
    "    # Randomly sample parameters for gbm\n",
    "    params = {key: random.sample(value, 1)[0] for key, value in random_space.items()}\n",
    "    print(params)\n",
    "    results_list = random_objective(params)\n",
    "    random_results.loc[i, :] = results_list\n"
   ]
  },
  {
   "cell_type": "code",
   "execution_count": 133,
   "metadata": {},
   "outputs": [
    {
     "data": {
      "text/html": [
       "<div>\n",
       "<style scoped>\n",
       "    .dataframe tbody tr th:only-of-type {\n",
       "        vertical-align: middle;\n",
       "    }\n",
       "\n",
       "    .dataframe tbody tr th {\n",
       "        vertical-align: top;\n",
       "    }\n",
       "\n",
       "    .dataframe thead th {\n",
       "        text-align: right;\n",
       "    }\n",
       "</style>\n",
       "<table border=\"1\" class=\"dataframe\">\n",
       "  <thead>\n",
       "    <tr style=\"text-align: right;\">\n",
       "      <th></th>\n",
       "      <th>loss</th>\n",
       "      <th>params</th>\n",
       "      <th>iteration</th>\n",
       "      <th>time</th>\n",
       "    </tr>\n",
       "  </thead>\n",
       "  <tbody>\n",
       "    <tr>\n",
       "      <th>0</th>\n",
       "      <td>0.00252532</td>\n",
       "      <td>{'romio_ds_read': 'disable', 'romio_ds_write':...</td>\n",
       "      <td>24</td>\n",
       "      <td>5.28523</td>\n",
       "    </tr>\n",
       "    <tr>\n",
       "      <th>1</th>\n",
       "      <td>0.00259902</td>\n",
       "      <td>{'romio_ds_read': 'disable', 'romio_ds_write':...</td>\n",
       "      <td>50</td>\n",
       "      <td>4.96524</td>\n",
       "    </tr>\n",
       "    <tr>\n",
       "      <th>2</th>\n",
       "      <td>0.0026094</td>\n",
       "      <td>{'romio_ds_read': 'enable', 'romio_ds_write': ...</td>\n",
       "      <td>53</td>\n",
       "      <td>5.65222</td>\n",
       "    </tr>\n",
       "    <tr>\n",
       "      <th>3</th>\n",
       "      <td>0.0026275</td>\n",
       "      <td>{'romio_ds_read': 'disable', 'romio_ds_write':...</td>\n",
       "      <td>34</td>\n",
       "      <td>5.04684</td>\n",
       "    </tr>\n",
       "    <tr>\n",
       "      <th>4</th>\n",
       "      <td>0.00268991</td>\n",
       "      <td>{'romio_ds_read': 'disable', 'romio_ds_write':...</td>\n",
       "      <td>35</td>\n",
       "      <td>5.13629</td>\n",
       "    </tr>\n",
       "  </tbody>\n",
       "</table>\n",
       "</div>"
      ],
      "text/plain": [
       "         loss                                             params iteration  \\\n",
       "0  0.00252532  {'romio_ds_read': 'disable', 'romio_ds_write':...        24   \n",
       "1  0.00259902  {'romio_ds_read': 'disable', 'romio_ds_write':...        50   \n",
       "2   0.0026094  {'romio_ds_read': 'enable', 'romio_ds_write': ...        53   \n",
       "3   0.0026275  {'romio_ds_read': 'disable', 'romio_ds_write':...        34   \n",
       "4  0.00268991  {'romio_ds_read': 'disable', 'romio_ds_write':...        35   \n",
       "\n",
       "      time  \n",
       "0  5.28523  \n",
       "1  4.96524  \n",
       "2  5.65222  \n",
       "3  5.04684  \n",
       "4  5.13629  "
      ]
     },
     "execution_count": 133,
     "metadata": {},
     "output_type": "execute_result"
    }
   ],
   "source": [
    "random_results.sort_values('loss', ascending = True, inplace = True)\n",
    "random_results.reset_index(inplace = True, drop = True)\n",
    "random_results.head()\n"
   ]
  },
  {
   "cell_type": "code",
   "execution_count": 164,
   "metadata": {},
   "outputs": [
    {
     "name": "stdout",
     "output_type": "stream",
     "text": [
      "20\n"
     ]
    },
    {
     "data": {
      "text/html": [
       "<div>\n",
       "<style scoped>\n",
       "    .dataframe tbody tr th:only-of-type {\n",
       "        vertical-align: middle;\n",
       "    }\n",
       "\n",
       "    .dataframe tbody tr th {\n",
       "        vertical-align: top;\n",
       "    }\n",
       "\n",
       "    .dataframe thead th {\n",
       "        text-align: right;\n",
       "    }\n",
       "</style>\n",
       "<table border=\"1\" class=\"dataframe\">\n",
       "  <thead>\n",
       "    <tr style=\"text-align: right;\">\n",
       "      <th></th>\n",
       "      <th>romio_ds_read</th>\n",
       "      <th>romio_ds_write</th>\n",
       "      <th>romio_cb_read</th>\n",
       "      <th>romio_cb_write</th>\n",
       "      <th>cb_buffer_size</th>\n",
       "      <th>setstripe-size</th>\n",
       "      <th>setstripe-count</th>\n",
       "      <th>loss</th>\n",
       "      <th>iteration</th>\n",
       "      <th>time</th>\n",
       "    </tr>\n",
       "  </thead>\n",
       "  <tbody>\n",
       "    <tr>\n",
       "      <th>0</th>\n",
       "      <td>disable</td>\n",
       "      <td>disable</td>\n",
       "      <td>disable</td>\n",
       "      <td>enable</td>\n",
       "      <td>1015021568</td>\n",
       "      <td>65536</td>\n",
       "      <td>2</td>\n",
       "      <td>0.00252532</td>\n",
       "      <td>24</td>\n",
       "      <td>5.28523</td>\n",
       "    </tr>\n",
       "    <tr>\n",
       "      <th>1</th>\n",
       "      <td>disable</td>\n",
       "      <td>disable</td>\n",
       "      <td>disable</td>\n",
       "      <td>enable</td>\n",
       "      <td>461373440</td>\n",
       "      <td>0</td>\n",
       "      <td>11</td>\n",
       "      <td>0.00259902</td>\n",
       "      <td>50</td>\n",
       "      <td>4.96524</td>\n",
       "    </tr>\n",
       "    <tr>\n",
       "      <th>2</th>\n",
       "      <td>enable</td>\n",
       "      <td>enable</td>\n",
       "      <td>enable</td>\n",
       "      <td>disable</td>\n",
       "      <td>868220928</td>\n",
       "      <td>131072</td>\n",
       "      <td>0</td>\n",
       "      <td>0.0026094</td>\n",
       "      <td>53</td>\n",
       "      <td>5.65222</td>\n",
       "    </tr>\n",
       "    <tr>\n",
       "      <th>3</th>\n",
       "      <td>disable</td>\n",
       "      <td>disable</td>\n",
       "      <td>disable</td>\n",
       "      <td>disable</td>\n",
       "      <td>838860800</td>\n",
       "      <td>65536</td>\n",
       "      <td>2</td>\n",
       "      <td>0.0026275</td>\n",
       "      <td>34</td>\n",
       "      <td>5.04684</td>\n",
       "    </tr>\n",
       "    <tr>\n",
       "      <th>4</th>\n",
       "      <td>disable</td>\n",
       "      <td>enable</td>\n",
       "      <td>disable</td>\n",
       "      <td>enable</td>\n",
       "      <td>37748736</td>\n",
       "      <td>0</td>\n",
       "      <td>14</td>\n",
       "      <td>0.00268991</td>\n",
       "      <td>35</td>\n",
       "      <td>5.13629</td>\n",
       "    </tr>\n",
       "  </tbody>\n",
       "</table>\n",
       "</div>"
      ],
      "text/plain": [
       "  romio_ds_read romio_ds_write romio_cb_read romio_cb_write cb_buffer_size  \\\n",
       "0       disable        disable       disable         enable     1015021568   \n",
       "1       disable        disable       disable         enable      461373440   \n",
       "2        enable         enable        enable        disable      868220928   \n",
       "3       disable        disable       disable        disable      838860800   \n",
       "4       disable         enable       disable         enable       37748736   \n",
       "\n",
       "  setstripe-size setstripe-count        loss iteration     time  \n",
       "0          65536               2  0.00252532        24  5.28523  \n",
       "1              0              11  0.00259902        50  4.96524  \n",
       "2         131072               0   0.0026094        53  5.65222  \n",
       "3          65536               2   0.0026275        34  5.04684  \n",
       "4              0              14  0.00268991        35  5.13629  "
      ]
     },
     "execution_count": 164,
     "metadata": {},
     "output_type": "execute_result"
    }
   ],
   "source": [
    "best_random_params = random_results.loc[0, 'params'].copy()\n",
    "random_params = pd.DataFrame(columns = list(random_results.loc[0, 'params'].keys()),\n",
    "                            index = list(range(len(random_results))))\n",
    "\n",
    "# Add the results with each parameter a different column\n",
    "random_results = random_results[:20]\n",
    "print(len(random_results))\n",
    "for i, params in enumerate(random_results['params']):\n",
    "    random_params.loc[i, :] = list(params.values())\n",
    "random_params['loss'] = random_results['loss']\n",
    "random_params['iteration'] = random_results['iteration']\n",
    "random_params['time'] = random_results['time']\n",
    "\n",
    "random_params.head()"
   ]
  },
  {
   "cell_type": "code",
   "execution_count": 177,
   "metadata": {},
   "outputs": [
    {
     "ename": "ValueError",
     "evalue": "color kwarg must have one color per data set. 20 data sets and 1 colors were provided",
     "output_type": "error",
     "traceback": [
      "\u001b[0;31m---------------------------------------------------------------------------\u001b[0m",
      "\u001b[0;31mValueError\u001b[0m                                Traceback (most recent call last)",
      "\u001b[0;32m<ipython-input-177-dd19140d5fad>\u001b[0m in \u001b[0;36m<module>\u001b[0;34m\u001b[0m\n\u001b[1;32m      3\u001b[0m \u001b[0;34m\u001b[0m\u001b[0m\n\u001b[1;32m      4\u001b[0m \u001b[0;31m# Density plots of the learning rate distributions\u001b[0m\u001b[0;34m\u001b[0m\u001b[0;34m\u001b[0m\u001b[0;34m\u001b[0m\u001b[0m\n\u001b[0;32m----> 5\u001b[0;31m \u001b[0msns\u001b[0m\u001b[0;34m.\u001b[0m\u001b[0mdistplot\u001b[0m\u001b[0;34m(\u001b[0m\u001b[0mrandom_params\u001b[0m\u001b[0;34m[\u001b[0m\u001b[0;34m'time'\u001b[0m\u001b[0;34m]\u001b[0m\u001b[0;34m,\u001b[0m \u001b[0mlabel\u001b[0m \u001b[0;34m=\u001b[0m \u001b[0;34m'Random Search'\u001b[0m\u001b[0;34m)\u001b[0m\u001b[0;31m#, linewidth = 2)\u001b[0m\u001b[0;34m\u001b[0m\u001b[0;34m\u001b[0m\u001b[0m\n\u001b[0m\u001b[1;32m      6\u001b[0m \u001b[0;31m#sns.distplot(bayes_params['train_time'], label = 'Bayes Optimization')#, linewidth = 2\u001b[0m\u001b[0;34m\u001b[0m\u001b[0;34m\u001b[0m\u001b[0;34m\u001b[0m\u001b[0m\n\u001b[1;32m      7\u001b[0m \u001b[0mplt\u001b[0m\u001b[0;34m.\u001b[0m\u001b[0mlegend\u001b[0m\u001b[0;34m(\u001b[0m\u001b[0;34m)\u001b[0m\u001b[0;34m\u001b[0m\u001b[0;34m\u001b[0m\u001b[0m\n",
      "\u001b[0;32m~/env/lib/python3.6/site-packages/seaborn/distributions.py\u001b[0m in \u001b[0;36mdistplot\u001b[0;34m(a, bins, hist, kde, rug, fit, hist_kws, kde_kws, rug_kws, fit_kws, color, vertical, norm_hist, axlabel, label, ax)\u001b[0m\n\u001b[1;32m    223\u001b[0m         \u001b[0mhist_color\u001b[0m \u001b[0;34m=\u001b[0m \u001b[0mhist_kws\u001b[0m\u001b[0;34m.\u001b[0m\u001b[0mpop\u001b[0m\u001b[0;34m(\u001b[0m\u001b[0;34m\"color\"\u001b[0m\u001b[0;34m,\u001b[0m \u001b[0mcolor\u001b[0m\u001b[0;34m)\u001b[0m\u001b[0;34m\u001b[0m\u001b[0;34m\u001b[0m\u001b[0m\n\u001b[1;32m    224\u001b[0m         ax.hist(a, bins, orientation=orientation,\n\u001b[0;32m--> 225\u001b[0;31m                 color=hist_color, **hist_kws)\n\u001b[0m\u001b[1;32m    226\u001b[0m         \u001b[0;32mif\u001b[0m \u001b[0mhist_color\u001b[0m \u001b[0;34m!=\u001b[0m \u001b[0mcolor\u001b[0m\u001b[0;34m:\u001b[0m\u001b[0;34m\u001b[0m\u001b[0;34m\u001b[0m\u001b[0m\n\u001b[1;32m    227\u001b[0m             \u001b[0mhist_kws\u001b[0m\u001b[0;34m[\u001b[0m\u001b[0;34m\"color\"\u001b[0m\u001b[0;34m]\u001b[0m \u001b[0;34m=\u001b[0m \u001b[0mhist_color\u001b[0m\u001b[0;34m\u001b[0m\u001b[0;34m\u001b[0m\u001b[0m\n",
      "\u001b[0;32m~/env/lib/python3.6/site-packages/matplotlib/__init__.py\u001b[0m in \u001b[0;36minner\u001b[0;34m(ax, data, *args, **kwargs)\u001b[0m\n\u001b[1;32m   1808\u001b[0m                         \u001b[0;34m\"the Matplotlib list!)\"\u001b[0m \u001b[0;34m%\u001b[0m \u001b[0;34m(\u001b[0m\u001b[0mlabel_namer\u001b[0m\u001b[0;34m,\u001b[0m \u001b[0mfunc\u001b[0m\u001b[0;34m.\u001b[0m\u001b[0m__name__\u001b[0m\u001b[0;34m)\u001b[0m\u001b[0;34m,\u001b[0m\u001b[0;34m\u001b[0m\u001b[0;34m\u001b[0m\u001b[0m\n\u001b[1;32m   1809\u001b[0m                         RuntimeWarning, stacklevel=2)\n\u001b[0;32m-> 1810\u001b[0;31m             \u001b[0;32mreturn\u001b[0m \u001b[0mfunc\u001b[0m\u001b[0;34m(\u001b[0m\u001b[0max\u001b[0m\u001b[0;34m,\u001b[0m \u001b[0;34m*\u001b[0m\u001b[0margs\u001b[0m\u001b[0;34m,\u001b[0m \u001b[0;34m**\u001b[0m\u001b[0mkwargs\u001b[0m\u001b[0;34m)\u001b[0m\u001b[0;34m\u001b[0m\u001b[0;34m\u001b[0m\u001b[0m\n\u001b[0m\u001b[1;32m   1811\u001b[0m \u001b[0;34m\u001b[0m\u001b[0m\n\u001b[1;32m   1812\u001b[0m         inner.__doc__ = _add_data_doc(inner.__doc__,\n",
      "\u001b[0;32m~/env/lib/python3.6/site-packages/matplotlib/axes/_axes.py\u001b[0m in \u001b[0;36mhist\u001b[0;34m(self, x, bins, range, density, weights, cumulative, bottom, histtype, align, orientation, rwidth, log, color, label, stacked, normed, **kwargs)\u001b[0m\n\u001b[1;32m   6563\u001b[0m                     \u001b[0;34m\"color kwarg must have one color per data set. %d data \"\u001b[0m\u001b[0;34m\u001b[0m\u001b[0;34m\u001b[0m\u001b[0m\n\u001b[1;32m   6564\u001b[0m                     \"sets and %d colors were provided\" % (nx, len(color)))\n\u001b[0;32m-> 6565\u001b[0;31m                 \u001b[0;32mraise\u001b[0m \u001b[0mValueError\u001b[0m\u001b[0;34m(\u001b[0m\u001b[0merror_message\u001b[0m\u001b[0;34m)\u001b[0m\u001b[0;34m\u001b[0m\u001b[0;34m\u001b[0m\u001b[0m\n\u001b[0m\u001b[1;32m   6566\u001b[0m \u001b[0;34m\u001b[0m\u001b[0m\n\u001b[1;32m   6567\u001b[0m         \u001b[0;31m# If bins are not specified either explicitly or via range,\u001b[0m\u001b[0;34m\u001b[0m\u001b[0;34m\u001b[0m\u001b[0;34m\u001b[0m\u001b[0m\n",
      "\u001b[0;31mValueError\u001b[0m: color kwarg must have one color per data set. 20 data sets and 1 colors were provided"
     ]
    },
    {
     "name": "stderr",
     "output_type": "stream",
     "text": [
      "DEBUG:matplotlib.axes._base:update_title_pos\n",
      "DEBUG:matplotlib.axes._base:update_title_pos\n",
      "DEBUG:matplotlib.axes._base:update_title_pos\n",
      "DEBUG:matplotlib.axes._base:update_title_pos\n",
      "DEBUG:matplotlib.axes._base:update_title_pos\n"
     ]
    },
    {
     "data": {
      "image/png": "[encoded data removed]",
      "text/plain": [
       "<Figure size 1440x576 with 1 Axes>"
      ]
     },
     "metadata": {
      "needs_background": "light"
     },
     "output_type": "display_data"
    }
   ],
   "source": [
    "plt.figure(figsize = (20, 8))\n",
    "plt.rcParams['font.size'] = 18\n",
    "\n",
    "# Density plots of the learning rate distributions \n",
    "sns.distplot(random_params['time'], label = 'Random Search')#, linewidth = 2)\n",
    "#sns.distplot(bayes_params['train_time'], label = 'Bayes Optimization')#, linewidth = 2\n",
    "plt.legend()\n",
    "plt.xlabel('Loss'); plt.ylabel('Density'); plt.title('Learning Rate Distribution');"
   ]
  },
  {
   "cell_type": "code",
   "execution_count": null,
   "metadata": {},
   "outputs": [],
   "source": []
  },
  {
   "cell_type": "code",
   "execution_count": null,
   "metadata": {},
   "outputs": [],
   "source": []
  }
 ],
 "metadata": {
  "kernelspec": {
   "display_name": "Python 3",
   "language": "python",
   "name": "python3"
  },
  "language_info": {
   "codemirror_mode": {
    "name": "ipython",
    "version": 3
   },
   "file_extension": ".py",
   "mimetype": "text/x-python",
   "name": "python",
   "nbconvert_exporter": "python",
   "pygments_lexer": "ipython3",
   "version": "3.6.7"
  }
 },
 "nbformat": 4,
 "nbformat_minor": 2
}
