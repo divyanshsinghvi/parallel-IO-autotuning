{
 "cells": [
  {
   "cell_type": "code",
   "execution_count": 31,
   "metadata": {},
   "outputs": [
    {
     "name": "stderr",
     "output_type": "stream",
     "text": [
      "DEBUG:matplotlib.pyplot:Loaded backend module://ipykernel.pylab.backend_inline version unknown.\n"
     ]
    }
   ],
   "source": [
    "# Data manipulation\n",
    "import pandas as pd\n",
    "import numpy as np\n",
    "# Evaluation of the model\n",
    "from sklearn.model_selection import KFold, train_test_split\n",
    "from sklearn.metrics import roc_auc_score\n",
    "\n",
    "# Visualization\n",
    "import matplotlib.pyplot as plt\n",
    "import seaborn as sns\n",
    "plt.rcParams['font.size'] = 18\n",
    "%matplotlib inline\n",
    "\n",
    "MAX_EVALS = 5\n",
    "import csv\n",
    "from hyperopt import STATUS_OK\n",
    "from timeit import default_timer as timer\n",
    "\n"
   ]
  },
  {
   "cell_type": "code",
   "execution_count": 32,
   "metadata": {},
   "outputs": [],
   "source": [
    "import json\n",
    "import shlex\n",
    "import subprocess\n",
    "import logging\n",
    "from pprint import pprint\n",
    "import re\n",
    "import os\n"
   ]
  },
  {
   "cell_type": "code",
   "execution_count": 33,
   "metadata": {},
   "outputs": [],
   "source": [
    "def runthebenchmark(hyperparameters):\n",
    "    os.chdir('/home/dsinghvi/project/progress/active/../')\n",
    "    storeinfile(hyperparameters)\n",
    "    out=subprocess.Popen([\"python3\",\"read_config.py\"], shell=False, stdout=subprocess.PIPE)\n",
    "    logging.basicConfig(level=logging.DEBUG)\n",
    "    output=out.stdout.read().decode('utf-8')\n",
    "    print(output)\n",
    "    value = 312 #output.split(\" \")[5]\n",
    "    value = float(value)\n",
    "    print(value)\n",
    "    return float(1/value)\n",
    "    #logging.basicConfig(filename='app.log', filemode='a', format='%(name)s - %(levelname)s - %(message)s',level=logging.DEBUG)\n"
   ]
  },
  {
   "cell_type": "code",
   "execution_count": 34,
   "metadata": {},
   "outputs": [],
   "source": [
    "def storeinfile(hyperparameters):\n",
    "    data={\"mpi\": {\"romio_ds_read\": \"enable\", \"romio_ds_write\": \"disable\"}, \"lfs\": {\"setstripe\": {\"size\": \"16777216\", \"count\": 4}}}\n",
    "    data[\"lfs\"][\"setstripe\"][\"size\"] = int(hyperparameters[\"setstripe-size\"])\n",
    "    data[\"lfs\"][\"setstripe\"][\"count\"] = int(hyperparameters[\"setstripe-count\"])\n",
    "\n",
    "    data[\"mpi\"][\"romio_ds_read\"] = hyperparameters[\"romio_ds_read\"]\n",
    "    data[\"mpi\"][\"romio_ds_write\"] = hyperparameters[\"romio_ds_write\"]\n",
    "\n",
    "    with open(\"confex.json\",\"w\") as fp:\n",
    "        json.dump(data,fp)\n",
    "    print(data)\n"
   ]
  },
  {
   "cell_type": "code",
   "execution_count": 35,
   "metadata": {},
   "outputs": [],
   "source": [
    "def objective(hyperparameters):\n",
    "    global ITERATION\n",
    "    ITERATION += 1\n",
    "    start = timer()\n",
    "    result = runthebenchmark(hyperparameters)\n",
    "    run_time = timer() - start\n",
    "    print({'result': result, 'hyperparameters': hyperparameters, 'iteration': ITERATION, 'iteration_time': run_time, 'status': STATUS_OK})\n",
    "    return {'loss': float(result), 'hyperparameters': hyperparameters, 'iteration': ITERATION, 'iteration_time': run_time, 'status': STATUS_OK}\n",
    "    "
   ]
  },
  {
   "cell_type": "code",
   "execution_count": 36,
   "metadata": {},
   "outputs": [],
   "source": [
    "from hyperopt import hp\n",
    "from hyperopt.pyll.stochastic import sample\n",
    "\n",
    "space = {\n",
    "    'romio_ds_read' : hp.choice('romio_ds_read',['enable','disable']),\n",
    "    'romio_ds_write' : hp.choice('romio_ds_write',['enable','disable']),\n",
    "    'setstripe-size' : 65536*(hp.qloguniform('setstripe-size',0,3,1)),\n",
    "    'setstripe-count' : hp.quniform('setstripe-count',0,20,1)\n",
    "}"
   ]
  },
  {
   "cell_type": "code",
   "execution_count": 37,
   "metadata": {},
   "outputs": [
    {
     "name": "stdout",
     "output_type": "stream",
     "text": [
      "{'romio_ds_read': 'disable', 'romio_ds_write': 'enable', 'setstripe-count': 17.0, 'setstripe-size': 7986432.0}\n"
     ]
    }
   ],
   "source": [
    "x = sample(space)\n",
    "print(x)"
   ]
  },
  {
   "cell_type": "code",
   "execution_count": null,
   "metadata": {},
   "outputs": [
    {
     "name": "stdout",
     "output_type": "stream",
     "text": [
      "\r",
      "  0%|          | 0/5 [00:00<?, ?it/s, best loss: ?]"
     ]
    },
    {
     "name": "stderr",
     "output_type": "stream",
     "text": [
      "INFO:hyperopt.tpe:tpe_transform took 0.005472 seconds\n",
      "INFO:hyperopt.tpe:TPE using 0 trials\n"
     ]
    },
    {
     "name": "stdout",
     "output_type": "stream",
     "text": [
      "{'mpi': {'romio_ds_read': 'enable', 'romio_ds_write': 'disable'}, 'lfs': {'setstripe': {'size': 5989824, 'count': 11}}}\n",
      "S3D-IO 50-50-100-2-2-4-1 473.12 0.03 0.07 335.44 0.09 0.27 0.03 0.01 5989824 11 enable disable \n",
      "\n",
      "312.0                                              \n",
      "{'result': 0.003205128205128205, 'hyperparameters': {'romio_ds_read': 'enable', 'romio_ds_write': 'disable', 'setstripe-count': 11.0, 'setstripe-size': 5989824.0}, 'iteration': 1, 'iteration_time': 6.171882868744433, 'status': 'ok'}\n",
      " 20%|██        | 1/5 [00:06<00:24,  6.19s/it, best loss: 0.003205128205128205]"
     ]
    },
    {
     "name": "stderr",
     "output_type": "stream",
     "text": [
      "INFO:hyperopt.tpe:tpe_transform took 0.005946 seconds\n",
      "INFO:hyperopt.tpe:TPE using 1/1 trials with best loss 0.003205\n"
     ]
    },
    {
     "name": "stdout",
     "output_type": "stream",
     "text": [
      "{'mpi': {'romio_ds_read': 'enable', 'romio_ds_write': 'enable'}, 'lfs': {'setstripe': {'size': 1331072, 'count': 4}}}\n",
      "S3D-IO 50-50-100-2-2-4-1 416.68 0.03 0.07 345.27 0.09 0.27 0.05 0.01 1331072 4 enable enable \n",
      "\n",
      "312.0                                                                         \n",
      "{'result': 0.003205128205128205, 'hyperparameters': {'romio_ds_read': 'enable', 'romio_ds_write': 'enable', 'setstripe-count': 4.0, 'setstripe-size': 1331072.0}, 'iteration': 2, 'iteration_time': 6.0168288657441735, 'status': 'ok'}\n",
      " 40%|████      | 2/5 [00:12<00:18,  6.14s/it, best loss: 0.003205128205128205]"
     ]
    },
    {
     "name": "stderr",
     "output_type": "stream",
     "text": [
      "INFO:hyperopt.tpe:tpe_transform took 0.005926 seconds\n",
      "INFO:hyperopt.tpe:TPE using 2/2 trials with best loss 0.003205\n"
     ]
    },
    {
     "name": "stdout",
     "output_type": "stream",
     "text": [
      "{'mpi': {'romio_ds_read': 'disable', 'romio_ds_write': 'enable'}, 'lfs': {'setstripe': {'size': 5324288, 'count': 18}}}\n",
      "S3D-IO 50-50-100-2-2-4-1 393.41 0.03 0.08 339.18 0.09 0.27 0.06 0.01 5324288 18 disable enable \n",
      "\n",
      "312.0                                                                         \n",
      "{'result': 0.003205128205128205, 'hyperparameters': {'romio_ds_read': 'disable', 'romio_ds_write': 'enable', 'setstripe-count': 18.0, 'setstripe-size': 5324288.0}, 'iteration': 3, 'iteration_time': 6.0787642281502485, 'status': 'ok'}\n",
      " 60%|██████    | 3/5 [00:18<00:12,  6.13s/it, best loss: 0.003205128205128205]"
     ]
    },
    {
     "name": "stderr",
     "output_type": "stream",
     "text": [
      "INFO:hyperopt.tpe:tpe_transform took 0.009909 seconds\n",
      "INFO:hyperopt.tpe:TPE using 3/3 trials with best loss 0.003205\n"
     ]
    },
    {
     "name": "stdout",
     "output_type": "stream",
     "text": [
      "{'mpi': {'romio_ds_read': 'enable', 'romio_ds_write': 'enable'}, 'lfs': {'setstripe': {'size': 665536, 'count': 9}}}\n",
      "S3D-IO 50-50-100-2-2-4-1 386.06 0.03 0.08 352.98 0.09 0.26 0.06 0.02 665536 9 enable enable \n",
      "\n",
      "312.0                                                                         \n",
      "{'result': 0.003205128205128205, 'hyperparameters': {'romio_ds_read': 'enable', 'romio_ds_write': 'enable', 'setstripe-count': 9.0, 'setstripe-size': 665536.0}, 'iteration': 4, 'iteration_time': 5.99504126328975, 'status': 'ok'}\n",
      " 80%|████████  | 4/5 [00:24<00:06,  6.10s/it, best loss: 0.003205128205128205]"
     ]
    },
    {
     "name": "stderr",
     "output_type": "stream",
     "text": [
      "INFO:hyperopt.tpe:tpe_transform took 0.005961 seconds\n",
      "INFO:hyperopt.tpe:TPE using 4/4 trials with best loss 0.003205\n"
     ]
    },
    {
     "name": "stdout",
     "output_type": "stream",
     "text": [
      "{'mpi': {'romio_ds_read': 'enable', 'romio_ds_write': 'enable'}, 'lfs': {'setstripe': {'size': 665536, 'count': 8}}}\n",
      " 80%|████████  | 4/5 [00:24<00:06,  6.10s/it, best loss: 0.003205128205128205]"
     ]
    }
   ],
   "source": [
    "from hyperopt import tpe\n",
    "\n",
    "# Create the algorithm\n",
    "tpe_algorithm = tpe.suggest\n",
    "\n",
    "\n",
    "from hyperopt import Trials\n",
    "\n",
    "# Record results\n",
    "trials = Trials()\n",
    "\n",
    "from hyperopt import fmin\n",
    "\n",
    "\n",
    "ITERATION = 0\n",
    "\n",
    "best = fmin(fn = objective, space = space, algo = tpe.suggest, trials = trials, max_evals = MAX_EVALS)\n"
   ]
  },
  {
   "cell_type": "code",
   "execution_count": null,
   "metadata": {},
   "outputs": [],
   "source": []
  },
  {
   "cell_type": "code",
   "execution_count": null,
   "metadata": {},
   "outputs": [],
   "source": [
    "###Loader\n",
    "data = pd.read_csv('../stats.txt', delim_whitespace=True)\n",
    "array = data.values\n",
    "\n",
    "output_col = input(\"Number of output column indexed from 0\")\n",
    "output_col = 2#int(output_col)\n",
    "(n,m) = array.shape\n",
    "print(array)                                                                           \n",
    "X = array[:,0:m]\n",
    "Y = array[:,output_col]\n",
    "Y=Y.astype('int')\n",
    "\n",
    "X=np.delete(X,output_col,1)\n",
    "\n",
    "k=0\n",
    "for i in range(0,m-1):\n",
    "    if type(X[0][k]) == str:\n",
    "        X=np.delete(X,k,1)\n",
    "    #    print(X)\n",
    "    else : \n",
    "        k=k+1\n",
    "print(X)\n",
    "###Model\n",
    "model1(X,Y)\n",
    "\n",
    "\n"
   ]
  },
  {
   "cell_type": "code",
   "execution_count": null,
   "metadata": {},
   "outputs": [],
   "source": []
  }
 ],
 "metadata": {
  "kernelspec": {
   "display_name": "Python 3",
   "language": "python",
   "name": "python3"
  },
  "language_info": {
   "codemirror_mode": {
    "name": "ipython",
    "version": 3
   },
   "file_extension": ".py",
   "mimetype": "text/x-python",
   "name": "python",
   "nbconvert_exporter": "python",
   "pygments_lexer": "ipython3",
   "version": "3.6.7"
  }
 },
 "nbformat": 4,
 "nbformat_minor": 2
}
