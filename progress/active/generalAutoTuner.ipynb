{
 "cells": [
  {
   "cell_type": "code",
   "execution_count": 1,
   "metadata": {},
   "outputs": [],
   "source": [
    "# Data manipulation\n",
    "import pandas as pd\n",
    "import numpy as np\n",
    "# Evaluation of the model\n",
    "from sklearn.model_selection import KFold, train_test_split\n",
    "from sklearn.metrics import roc_auc_score\n",
    "# Visualization\n",
    "import matplotlib.pyplot as plt\n",
    "import seaborn as sns\n",
    "plt.rcParams['font.size'] = 18\n",
    "%matplotlib inline\n",
    "MAX_EVALS = 20\n",
    "import csv\n",
    "from hyperopt import STATUS_OK\n",
    "from timeit import default_timer as timer\n",
    "import json\n",
    "import shlex\n",
    "import subprocess\n",
    "import logging\n",
    "from pprint import pprint\n",
    "import re\n",
    "import os\n"
   ]
  },
  {
   "cell_type": "code",
   "execution_count": 2,
   "metadata": {},
   "outputs": [],
   "source": [
    "file_suffix = \"BT-IO-400-400-400-8-\" + str(MAX_EVALS)\n",
    "project_dir = \"/home/dsinghvi/project/progress/\"\n",
    "def runthebenchmark(hyperparameters):\n",
    "    os.chdir(project_dir+'active/../')\n",
    "    storeinfile(hyperparameters)\n",
    "    out=subprocess.Popen([\"python3\",\"bt_read_config_general.py\",\"-n 8\",\"-c400 400 400\"], shell=False, stdout=subprocess.PIPE)\n",
    "    logging.basicConfig(level=logging.DEBUG)\n",
    "    output=out.stdout.read().decode('utf-8')\n",
    "    print(\"output\"+output)\n",
    "    if len(output.split(\" \")) > 5:\n",
    "        values = output.split(\" \")\n",
    "        value = float(float(values[6])*1024)/float(values[5]) + float(float(values[3])*1024)/float(values[2])\n",
    "        value = float(value)\n",
    "        print(value)\n",
    "        return float((value/1000)**3),output\n",
    "    return 0,0;"
   ]
  },
  {
   "cell_type": "code",
   "execution_count": 3,
   "metadata": {},
   "outputs": [],
   "source": [
    "def storeinfile(hyperparameters):\n",
    "    data={\"mpi\": {\"romio_ds_read\": \"enable\", \"romio_ds_write\": \"disable\"}, \"lfs\": {\"setstripe\": {\"size\": \"16777216\", \"count\": 4}}}\n",
    "    data[\"lfs\"][\"setstripe\"][\"size\"] = int(hyperparameters[\"setstripe-size\"])\n",
    "    data[\"lfs\"][\"setstripe\"][\"count\"] = int(hyperparameters[\"setstripe-count\"])\n",
    "\n",
    "    data[\"mpi\"][\"romio_ds_read\"] = hyperparameters[\"romio_ds_read\"]\n",
    "    data[\"mpi\"][\"romio_ds_write\"] = hyperparameters[\"romio_ds_write\"]\n",
    "    data[\"mpi\"][\"romio_cb_read\"] = hyperparameters[\"romio_cb_read\"]\n",
    "    data[\"mpi\"][\"romio_cb_write\"] = hyperparameters[\"romio_cb_write\"]\n",
    "    data[\"mpi\"][\"cb_buffer_size\"] = str(int(hyperparameters[\"cb_buffer_size\"]))\n",
    "    with open(\"confex.json\",\"w\") as fp:\n",
    "        json.dump(data,fp)\n",
    "    print(data)\n"
   ]
  },
  {
   "cell_type": "code",
   "execution_count": 4,
   "metadata": {},
   "outputs": [],
   "source": [
    "def objective(hyperparameters):\n",
    "    global ITERATION\n",
    "    ITERATION += 1\n",
    "    start = timer()\n",
    "    result=0\n",
    "    while(result == 0):\n",
    "        print(\"rerun\")\n",
    "        result,output = runthebenchmark(hyperparameters)\n",
    "        print(result)\n",
    "    run_time = timer() - start\n",
    "    print({'loss': result, 'hyperparameters': hyperparameters, 'iteration': ITERATION, 'iteration_time': run_time, 'status': STATUS_OK})\n",
    "    # Write to the csv file ('a' means append)\n",
    "    of_connection = open(out_file, 'a')\n",
    "    writer = csv.writer(of_connection)\n",
    "    writer.writerow([float(result), hyperparameters, ITERATION, run_time, output])\n",
    "    return {'loss': float(result), 'hyperparameters': hyperparameters, 'iteration': ITERATION, 'iteration_time': run_time, 'status': STATUS_OK}\n"
   ]
  },
  {
   "cell_type": "code",
   "execution_count": 5,
   "metadata": {},
   "outputs": [],
   "source": [
    "from hyperopt import hp\n",
    "from hyperopt.pyll.stochastic import sample\n",
    "\n",
    "space = {\n",
    "    'romio_ds_read' : hp.choice('romio_ds_read',['enable','disable']),\n",
    "    'romio_ds_write' : hp.choice('romio_ds_write',['enable','disable']),\n",
    "    'romio_cb_read' : hp.choice('romio_cb_read',['enable','disable']),\n",
    "    'romio_cb_write' : hp.choice('romio_cb_write',['enable','disable']),\n",
    "    'cb_buffer_size' : 1048576*hp.quniform('cb_buffer_size',1,256,1),\n",
    "    'setstripe-size' : 65536*(hp.quniform('setstripe-size',0,156,1)),\n",
    "    'setstripe-count' : hp.quniform('setstripe-count',0,30,1)\n",
    "    \n",
    "}"
   ]
  },
  {
   "cell_type": "code",
   "execution_count": 6,
   "metadata": {},
   "outputs": [
    {
     "name": "stdout",
     "output_type": "stream",
     "text": [
      "{'cb_buffer_size': 87031808.0, 'romio_cb_read': 'disable', 'romio_cb_write': 'enable', 'romio_ds_read': 'enable', 'romio_ds_write': 'disable', 'setstripe-count': 5.0, 'setstripe-size': 5701632.0}\n"
     ]
    }
   ],
   "source": [
    "x = sample(space)\n",
    "params = x\n",
    "print(x)\n",
    "\n",
    "cb_buffer_size_dist = []\n",
    "for _ in range(1000):\n",
    "    cb_buffer_size_dist.append(sample(space)['cb_buffer_size'])\n",
    "    \n",
    "setstripe_size_dist = []\n",
    "for _ in range(1000):\n",
    "    setstripe_size_dist.append(sample(space)['setstripe-size'])\n",
    "    \n",
    "setstripe_count_dist = []\n",
    "for _ in range(1000):\n",
    "    setstripe_count_dist.append(sample(space)['setstripe-count']) \n",
    "    \n",
    "romio_ds_read_dist = []\n",
    "for _ in range(20):\n",
    "    romio_ds_read_dist.append(sample(space)['romio_ds_read'])\n",
    "    \n",
    "romio_ds_write_dist = []\n",
    "for _ in range(20):\n",
    "    romio_ds_write_dist.append(sample(space)['romio_ds_write'])\n",
    "    \n",
    "romio_cb_read_dist = []\n",
    "for _ in range(20):\n",
    "    romio_cb_read_dist.append(sample(space)['romio_cb_read']) \n",
    "    \n",
    "romio_cb_write_dist = []\n",
    "for _ in range(20):\n",
    "    romio_cb_write_dist.append(sample(space)['romio_cb_write']) \n",
    "    "
   ]
  },
  {
   "cell_type": "code",
   "execution_count": 7,
   "metadata": {},
   "outputs": [
    {
     "name": "stdout",
     "output_type": "stream",
     "text": [
      "/home/dsinghvi/project/progress/active\n"
     ]
    }
   ],
   "source": [
    "# File to save first results\n",
    "print(os.getcwd())\n",
    "out_file = project_dir+'active/result/gbm_trials-'+file_suffix+'.csv'\n",
    "of_connection = open(out_file, 'w')\n",
    "writer = csv.writer(of_connection)\n",
    "writer.writerow(['loss', 'params', 'iteration', 'train_time', 'output'])\n",
    "of_connection.close()"
   ]
  },
  {
   "cell_type": "code",
   "execution_count": null,
   "metadata": {
    "scrolled": true
   },
   "outputs": [
    {
     "name": "stdout",
     "output_type": "stream",
     "text": [
      "rerun                                               \n",
      "{'mpi': {'romio_ds_read': 'enable', 'romio_ds_write': 'disable', 'romio_cb_read': 'enable', 'romio_cb_write': 'disable', 'cb_buffer_size': '38797312'}, 'lfs': {'setstripe': {'size': 6684672, 'count': 5}}}\n",
      "  0%|          | 0/20 [00:00<?, ?it/s, best loss: ?]"
     ]
    }
   ],
   "source": [
    "from hyperopt import tpe\n",
    "\n",
    "# Create the algorithm\n",
    "tpe_algorithm = tpe.suggest\n",
    "\n",
    "\n",
    "from hyperopt import Trials\n",
    "\n",
    "# Record results\n",
    "bayes_trials = Trials()\n",
    "\n",
    "from hyperopt import fmin\n",
    "\n",
    "\n",
    "ITERATION = 20\n",
    "\n",
    "best = fmin(fn = objective, space = space, algo = tpe.suggest, trials = bayes_trials, max_evals = MAX_EVALS)"
   ]
  },
  {
   "cell_type": "code",
   "execution_count": null,
   "metadata": {},
   "outputs": [],
   "source": [
    "print(best)\n",
    "d=  best\n",
    "#print(bayes_trials.results)\n",
    "bayes_trials_results = sorted(bayes_trials.results, key = lambda x: x['loss'])\n",
    "#bayes_trials_results[:1]"
   ]
  },
  {
   "cell_type": "code",
   "execution_count": null,
   "metadata": {},
   "outputs": [],
   "source": [
    "results = pd.read_csv(out_file)\n",
    "\n",
    "# Sort with best scores on top and reset index for slicing\n",
    "results.sort_values('train_time', ascending = True, inplace = True)\n",
    "results.reset_index(inplace = True, drop = True)\n",
    "results.head()\n"
   ]
  },
  {
   "cell_type": "code",
   "execution_count": null,
   "metadata": {},
   "outputs": [],
   "source": [
    "import ast\n",
    "\n",
    "# Convert from a string to a dictionary\n",
    "ast.literal_eval(results.loc[0, 'params'])\n",
    "best_bayes_params = ast.literal_eval(results.loc[0, 'params']).copy()\n",
    "print(best_bayes_params)\n",
    "log = open('bt_best.txt','a')\n",
    "print(results.loc[0,'output'])\n",
    "print(results.loc[0,'output'],file=log)\n",
    "log.close()"
   ]
  },
  {
   "cell_type": "code",
   "execution_count": null,
   "metadata": {},
   "outputs": [],
   "source": [
    "bayes_params = pd.DataFrame(columns = list(ast.literal_eval(results.loc[0, 'params']).keys()),\n",
    "                            index = list(range(len(results))))\n",
    "\n",
    "# Add the results with each parameter a different column\n",
    "for i, params in enumerate(results['params']):\n",
    "    bayes_params.loc[i, :] = list(ast.literal_eval(params).values())\n",
    "bayes_params['train_time'] = results['train_time']    \n",
    "bayes_params['loss'] = results['loss']\n",
    "bayes_params['iteration'] = results['iteration']\n",
    "bayes_params['output']=results['output']\n",
    "\n",
    "bayes_params.head()"
   ]
  },
  {
   "cell_type": "code",
   "execution_count": null,
   "metadata": {},
   "outputs": [],
   "source": [
    "os.chdir('./bt_plots')\n",
    "plt.figure(figsize = (20, 8))\n",
    "plt.rcParams['font.size'] = 18\n",
    "\n",
    "# Density plots of the learning rate distributions \n",
    "sns.kdeplot(bayes_params['loss'], label = 'Loss Variation', linewidth = 2)\n",
    "plt.legend()\n",
    "plt.xlabel('Loss'); plt.ylabel('Density'); plt.title('Loss Distribution');\n",
    "plt.savefig(file_suffix+'_loss.png')"
   ]
  },
  {
   "cell_type": "code",
   "execution_count": null,
   "metadata": {
    "scrolled": true
   },
   "outputs": [],
   "source": [
    "plt.figure(figsize = (20, 8))\n",
    "plt.rcParams['font.size'] = 18\n",
    "\n",
    "\n",
    "sns.kdeplot(bayes_params['cb_buffer_size'], label = 'bayes cb_buffer_size', linewidth = 2)\n",
    "sns.kdeplot(cb_buffer_size_dist,color=\"red\",linewidth=2, label = 'initial cb_buffer_size')\n",
    "\n",
    "plt.legend()\n",
    "plt.xlabel('cb_buffer_size'); plt.ylabel('Density'); plt.title('cb_buffer_size Distribution');\n",
    "plt.savefig(file_suffix+'_cb_buffer_size.png')"
   ]
  },
  {
   "cell_type": "code",
   "execution_count": null,
   "metadata": {},
   "outputs": [],
   "source": [
    "plt.figure(figsize = (20, 8))\n",
    "plt.rcParams['font.size'] = 18\n",
    "\n",
    "sns.kdeplot(bayes_params['setstripe-size'], label = 'bayes setstripe-size', linewidth = 2)\n",
    "sns.kdeplot(setstripe_size_dist,color=\"red\",linewidth=2, label = 'initial setstripe-size')\n",
    "\n",
    "plt.legend()\n",
    "plt.xlabel('setstripe-size'); plt.ylabel('Density'); plt.title('setstripe-size Distribution');\n",
    "plt.savefig(file_suffix+'_setstripe-size.png')"
   ]
  },
  {
   "cell_type": "code",
   "execution_count": null,
   "metadata": {},
   "outputs": [],
   "source": [
    "plt.figure(figsize = (20, 8))\n",
    "plt.rcParams['font.size'] = 18\n",
    "\n",
    "sns.kdeplot(bayes_params['setstripe-count'], label = 'bayes setstripe-count', linewidth = 2)\n",
    "sns.kdeplot(setstripe_count_dist,color=\"red\",linewidth=2, label = 'initial setstripe-count')\n",
    "\n",
    "plt.legend()\n",
    "plt.xlabel('setstripe-count'); plt.ylabel('Density'); plt.title('setstripe-count Distribution');\n",
    "plt.savefig(file_suffix+'_setstripe-count.png')"
   ]
  },
  {
   "cell_type": "code",
   "execution_count": null,
   "metadata": {},
   "outputs": [],
   "source": [
    "plt.figure(figsize = (20, 8))\n",
    "from scipy.stats import itemfreq\n",
    "plt.rcParams['font.size'] = 18\n",
    "bayes_params['romio_ds_read'].value_counts().plot.bar()#plt.hist(romio_ds_read_dist,color=\"red\",linewidth=2, label = 'initial romio_ds_read')\n",
    "\n",
    "plt.legend()\n",
    "plt.xlabel('romio_ds_read'); plt.ylabel('Count'); plt.title('romio_ds_read Distribution');\n",
    "plt.savefig(file_suffix+'_romio_ds_read.png')"
   ]
  },
  {
   "cell_type": "code",
   "execution_count": null,
   "metadata": {},
   "outputs": [],
   "source": [
    "plt.figure(figsize = (20, 8))\n",
    "plt.rcParams['font.size'] = 18\n",
    "\n",
    "#plt.hist(bayes_params['romio_ds_write'], label = 'bayes romio_ds_write', linewidth = 2)\n",
    "#plt.hist(romio_ds_write_dist,color=\"red\",linewidth=2, label = 'initial romio_ds_write')\n",
    "bayes_params['romio_ds_write'].value_counts().plot.bar()\n",
    "plt.legend()\n",
    "plt.xlabel('romio_ds_write'); plt.ylabel('Count'); plt.title('romio_ds_write Distribution');\n",
    "plt.savefig(file_suffix+'_romio_ds_write.png')"
   ]
  },
  {
   "cell_type": "code",
   "execution_count": null,
   "metadata": {},
   "outputs": [],
   "source": [
    "plt.figure(figsize = (20, 8))\n",
    "plt.rcParams['font.size'] = 18\n",
    "\n",
    "bayes_params['romio_cb_write'].value_counts().plot.bar()#plt.hist(romio_ds_write_dist,color=\"red\",linewidth=2, label = 'initial romio_cb_write')\n",
    "\n",
    "plt.legend()\n",
    "plt.xlabel('romio_cb_write'); plt.ylabel('Count'); plt.title('romio_cb_write Distribution');\n",
    "plt.savefig(file_suffix+'_romio_cb_write.png')"
   ]
  },
  {
   "cell_type": "code",
   "execution_count": null,
   "metadata": {},
   "outputs": [],
   "source": [
    "plt.figure(figsize = (20, 8))\n",
    "plt.rcParams['font.size'] = 18\n",
    "\n",
    "bayes_params['romio_cb_read'].value_counts().plot.bar()#plt.hist(romio_cb_read_dist,color=\"red\",linewidth=2, label = 'initial romio_cb_read')\n",
    "\n",
    "plt.legend()\n",
    "plt.xlabel('romio_cb_read'); plt.ylabel('Count'); plt.title('romio_cb_read Distribution');\n",
    "plt.savefig(file_suffix+'_romio_cb_read.png')"
   ]
  },
  {
   "cell_type": "code",
   "execution_count": null,
   "metadata": {},
   "outputs": [],
   "source": [
    "os.chdir('../')"
   ]
  },
  {
   "cell_type": "code",
   "execution_count": null,
   "metadata": {},
   "outputs": [],
   "source": []
  },
  {
   "cell_type": "code",
   "execution_count": null,
   "metadata": {},
   "outputs": [],
   "source": []
  }
 ],
 "metadata": {
  "kernelspec": {
   "display_name": "Python 3",
   "language": "python",
   "name": "python3"
  },
  "language_info": {
   "codemirror_mode": {
    "name": "ipython",
    "version": 3
   },
   "file_extension": ".py",
   "mimetype": "text/x-python",
   "name": "python",
   "nbconvert_exporter": "python",
   "pygments_lexer": "ipython3",
   "version": "3.6.7"
  }
 },
 "nbformat": 4,
 "nbformat_minor": 2
}
