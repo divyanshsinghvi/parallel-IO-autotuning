{
 "cells": [
  {
   "cell_type": "code",
   "execution_count": 55,
   "metadata": {},
   "outputs": [
    {
     "name": "stderr",
     "output_type": "stream",
     "text": [
      "DEBUG:matplotlib.pyplot:Loaded backend module://ipykernel.pylab.backend_inline version unknown.\n"
     ]
    }
   ],
   "source": [
    "# Data manipulation\n",
    "import pandas as pd\n",
    "import numpy as np\n",
    "# Evaluation of the model\n",
    "from sklearn.model_selection import KFold, train_test_split\n",
    "from sklearn.metrics import roc_auc_score\n",
    "\n",
    "# Visualization\n",
    "import matplotlib.pyplot as plt\n",
    "import seaborn as sns\n",
    "plt.rcParams['font.size'] = 18\n",
    "%matplotlib inline\n",
    "\n",
    "MAX_EVALS = 5\n",
    "import csv\n",
    "from hyperopt import STATUS_OK\n",
    "from timeit import default_timer as timer\n",
    "\n"
   ]
  },
  {
   "cell_type": "code",
   "execution_count": 56,
   "metadata": {},
   "outputs": [],
   "source": [
    "import json\n",
    "import shlex\n",
    "import subprocess\n",
    "import logging\n",
    "from pprint import pprint\n",
    "import re\n",
    "import os\n"
   ]
  },
  {
   "cell_type": "code",
   "execution_count": 72,
   "metadata": {},
   "outputs": [],
   "source": [
    "def runthebenchmark(hyperparameters):\n",
    "    os.chdir('/home/dsinghvi/project/progress/active/../')\n",
    "    out=subprocess.Popen([\"python3\",\"read_config.py\"], shell=False, stdout=subprocess.PIPE)\n",
    "    logging.basicConfig(level=logging.DEBUG)\n",
    "    output=out.stdout.read().decode('utf-8')\n",
    "    value = output.split(\" \")[5]\n",
    "    value = float(value)\n",
    "    print(value)\n",
    "    return float(1/value)\n",
    "    #logging.basicConfig(filename='app.log', filemode='a', format='%(name)s - %(levelname)s - %(message)s',level=logging.DEBUG)\n"
   ]
  },
  {
   "cell_type": "code",
   "execution_count": 93,
   "metadata": {},
   "outputs": [],
   "source": [
    "def objective(hyperparameters):\n",
    "    global ITERATION\n",
    "    ITERATION += 1\n",
    "    start = timer()\n",
    "    result = runthebenchmark(hyperparameters)\n",
    "    run_time = timer() - start\n",
    "    print({'result': result, 'hyperparameters': hyperparameters, 'iteration': ITERATION, 'iteration_time': run_time, 'status': STATUS_OK})\n",
    "    return {'loss': float(result), 'hyperparameters': hyperparameters, 'iteration': ITERATION, 'iteration_time': run_time, 'status': STATUS_OK}\n",
    "    "
   ]
  },
  {
   "cell_type": "code",
   "execution_count": 94,
   "metadata": {},
   "outputs": [],
   "source": [
    "from hyperopt import hp\n",
    "from hyperopt.pyll.stochastic import sample\n",
    "\n",
    "space = {\n",
    "    'romio_ds_read' : hp.choice('romio_ds_read',[{'enable':'enable'},{'disable':'disable'}]),\n",
    "    'romio_ds_write' : hp.choice('romio_ds_write',[{'enable':'enable'},{'disable':'disable'}]),\n",
    "    'setstripe' : hp.qloguniform('setstripe',0,20,1),\n",
    "    'count' : hp.quniform('count',0,20,1)\n",
    "}"
   ]
  },
  {
   "cell_type": "code",
   "execution_count": 95,
   "metadata": {},
   "outputs": [
    {
     "name": "stdout",
     "output_type": "stream",
     "text": [
      "{'count': 8.0, 'romio_ds_read': {'disable': 'disable'}, 'romio_ds_write': {'enable': 'enable'}, 'setstripe': 71.0}\n"
     ]
    }
   ],
   "source": [
    "x = sample(space)\n",
    "print(x)"
   ]
  },
  {
   "cell_type": "code",
   "execution_count": 96,
   "metadata": {},
   "outputs": [
    {
     "name": "stdout",
     "output_type": "stream",
     "text": [
      "\r",
      "  0%|          | 0/5 [00:00<?, ?it/s, best loss: ?]"
     ]
    },
    {
     "name": "stderr",
     "output_type": "stream",
     "text": [
      "INFO:hyperopt.tpe:tpe_transform took 0.006050 seconds\n",
      "INFO:hyperopt.tpe:TPE using 0 trials\n"
     ]
    },
    {
     "name": "stdout",
     "output_type": "stream",
     "text": [
      "357.47                                             \n",
      "{'result': 0.0027974375472067585, 'hyperparameters': {'count': 0.0, 'romio_ds_read': {'disable': 'disable'}, 'romio_ds_write': {'disable': 'disable'}, 'setstripe': 431578862.0}, 'iteration': 1, 'iteration_time': 6.1296276999637485, 'status': 'ok'}\n",
      " 20%|██        | 1/5 [00:06<00:24,  6.15s/it, best loss: 0.0027974375472067585]"
     ]
    },
    {
     "name": "stderr",
     "output_type": "stream",
     "text": [
      "INFO:hyperopt.tpe:tpe_transform took 0.006394 seconds\n",
      "INFO:hyperopt.tpe:TPE using 1/1 trials with best loss 0.002797\n"
     ]
    },
    {
     "name": "stdout",
     "output_type": "stream",
     "text": [
      "355.85                                                                         \n",
      "{'result': 0.002810172825628776, 'hyperparameters': {'count': 1.0, 'romio_ds_read': {'disable': 'disable'}, 'romio_ds_write': {'enable': 'enable'}, 'setstripe': 126117217.0}, 'iteration': 2, 'iteration_time': 4.395754866302013, 'status': 'ok'}\n",
      " 40%|████      | 2/5 [00:10<00:16,  5.63s/it, best loss: 0.0027974375472067585]"
     ]
    },
    {
     "name": "stderr",
     "output_type": "stream",
     "text": [
      "INFO:hyperopt.tpe:tpe_transform took 0.007633 seconds\n",
      "INFO:hyperopt.tpe:TPE using 2/2 trials with best loss 0.002797\n"
     ]
    },
    {
     "name": "stdout",
     "output_type": "stream",
     "text": [
      "352.8                                                                          \n",
      "{'result': 0.002834467120181406, 'hyperparameters': {'count': 6.0, 'romio_ds_read': {'disable': 'disable'}, 'romio_ds_write': {'disable': 'disable'}, 'setstripe': 400641.0}, 'iteration': 3, 'iteration_time': 6.06619977299124, 'status': 'ok'}\n",
      " 60%|██████    | 3/5 [00:16<00:11,  5.77s/it, best loss: 0.0027974375472067585]"
     ]
    },
    {
     "name": "stderr",
     "output_type": "stream",
     "text": [
      "INFO:hyperopt.tpe:tpe_transform took 0.006380 seconds\n",
      "INFO:hyperopt.tpe:TPE using 3/3 trials with best loss 0.002797\n"
     ]
    },
    {
     "name": "stdout",
     "output_type": "stream",
     "text": [
      "368.8                                                                          \n",
      "{'result': 0.0027114967462039045, 'hyperparameters': {'count': 13.0, 'romio_ds_read': {'enable': 'enable'}, 'romio_ds_write': {'disable': 'disable'}, 'setstripe': 108901.0}, 'iteration': 4, 'iteration_time': 6.055659491568804, 'status': 'ok'}\n",
      " 80%|████████  | 4/5 [00:22<00:05,  5.86s/it, best loss: 0.0027114967462039045]"
     ]
    },
    {
     "name": "stderr",
     "output_type": "stream",
     "text": [
      "INFO:hyperopt.tpe:tpe_transform took 0.006301 seconds\n",
      "INFO:hyperopt.tpe:TPE using 4/4 trials with best loss 0.002711\n"
     ]
    },
    {
     "name": "stdout",
     "output_type": "stream",
     "text": [
      "332.23                                                                         \n",
      "{'result': 0.003009962977455377, 'hyperparameters': {'count': 16.0, 'romio_ds_read': {'disable': 'disable'}, 'romio_ds_write': {'enable': 'enable'}, 'setstripe': 6.0}, 'iteration': 5, 'iteration_time': 4.0869356812909245, 'status': 'ok'}\n",
      "100%|██████████| 5/5 [00:26<00:00,  5.33s/it, best loss: 0.0027114967462039045]\n"
     ]
    }
   ],
   "source": [
    "from hyperopt import tpe\n",
    "\n",
    "# Create the algorithm\n",
    "tpe_algorithm = tpe.suggest\n",
    "\n",
    "\n",
    "from hyperopt import Trials\n",
    "\n",
    "# Record results\n",
    "trials = Trials()\n",
    "\n",
    "from hyperopt import fmin\n",
    "\n",
    "\n",
    "ITERATION = 0\n",
    "\n",
    "best = fmin(fn = objective, space = space, algo = tpe.suggest, trials = trials, max_evals = MAX_EVALS)\n"
   ]
  },
  {
   "cell_type": "code",
   "execution_count": null,
   "metadata": {},
   "outputs": [],
   "source": []
  },
  {
   "cell_type": "code",
   "execution_count": null,
   "metadata": {},
   "outputs": [],
   "source": [
    "###Loader\n",
    "data = pd.read_csv('../stats.txt', delim_whitespace=True)\n",
    "array = data.values\n",
    "\n",
    "output_col = input(\"Number of output column indexed from 0\")\n",
    "output_col = 2#int(output_col)\n",
    "(n,m) = array.shape\n",
    "print(array)                                                                           \n",
    "X = array[:,0:m]\n",
    "Y = array[:,output_col]\n",
    "Y=Y.astype('int')\n",
    "\n",
    "X=np.delete(X,output_col,1)\n",
    "\n",
    "k=0\n",
    "for i in range(0,m-1):\n",
    "    if type(X[0][k]) == str:\n",
    "        X=np.delete(X,k,1)\n",
    "    #    print(X)\n",
    "    else : \n",
    "        k=k+1\n",
    "print(X)\n",
    "###Model\n",
    "model1(X,Y)\n",
    "\n",
    "\n"
   ]
  },
  {
   "cell_type": "code",
   "execution_count": null,
   "metadata": {},
   "outputs": [],
   "source": []
  }
 ],
 "metadata": {
  "kernelspec": {
   "display_name": "Python 3",
   "language": "python",
   "name": "python3"
  },
  "language_info": {
   "codemirror_mode": {
    "name": "ipython",
    "version": 3
   },
   "file_extension": ".py",
   "mimetype": "text/x-python",
   "name": "python",
   "nbconvert_exporter": "python",
   "pygments_lexer": "ipython3",
   "version": "3.6.7"
  }
 },
 "nbformat": 4,
 "nbformat_minor": 2
}
