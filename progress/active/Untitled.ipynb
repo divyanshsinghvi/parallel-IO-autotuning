{
 "cells": [
  {
   "cell_type": "code",
   "execution_count": 69,
   "metadata": {},
   "outputs": [
    {
     "name": "stderr",
     "output_type": "stream",
     "text": [
      "DEBUG:matplotlib.pyplot:Loaded backend module://ipykernel.pylab.backend_inline version unknown.\n"
     ]
    }
   ],
   "source": [
    "# Data manipulation\n",
    "import pandas as pd\n",
    "import numpy as np\n",
    "# Evaluation of the model\n",
    "from sklearn.model_selection import KFold, train_test_split\n",
    "from sklearn.metrics import roc_auc_score\n",
    "\n",
    "# Visualization\n",
    "import matplotlib.pyplot as plt\n",
    "import seaborn as sns\n",
    "plt.rcParams['font.size'] = 18\n",
    "%matplotlib inline\n",
    "\n",
    "MAX_EVALS = 20\n",
    "import csv\n",
    "from hyperopt import STATUS_OK\n",
    "from timeit import default_timer as timer\n",
    "\n"
   ]
  },
  {
   "cell_type": "code",
   "execution_count": 70,
   "metadata": {},
   "outputs": [],
   "source": [
    "import json\n",
    "import shlex\n",
    "import subprocess\n",
    "import logging\n",
    "from pprint import pprint\n",
    "import re\n",
    "import os\n"
   ]
  },
  {
   "cell_type": "code",
   "execution_count": 71,
   "metadata": {},
   "outputs": [],
   "source": [
    "def runthebenchmark(hyperparameters):\n",
    "    os.chdir('/home/dsinghvi/project/progress/active/../')\n",
    "    storeinfile(hyperparameters)\n",
    "    out=subprocess.Popen([\"python3\",\"read_config_general.py\",\"-n 2\",\"-c200 200 400 2 2 4 1\"], shell=False, stdout=subprocess.PIPE)\n",
    "    logging.basicConfig(level=logging.DEBUG)\n",
    "    output=out.stdout.read().decode('utf-8')\n",
    "    print(\"output\"+output)\n",
    "    if len(output.split(\" \")) > 5:\n",
    "        values = output.split(\" \")\n",
    "        value = float(values[6]*1024)/float(values[5]) + float(values[3]*1024)/float(values[2])\n",
    "        value = float(value)\n",
    "        print(value)\n",
    "        return float(value**3)\n",
    "        #return float((100*100*100)/(value*value*value))\n",
    "    return 0;\n",
    "    #logging.basicConfig(filename='app.log', filemode='a', format='%(name)s - %(levelname)s - %(message)s',level=logging.DEBUG)\n"
   ]
  },
  {
   "cell_type": "code",
   "execution_count": 72,
   "metadata": {},
   "outputs": [],
   "source": [
    "def storeinfile(hyperparameters):\n",
    "    data={\"mpi\": {\"romio_ds_read\": \"enable\", \"romio_ds_write\": \"disable\"}, \"lfs\": {\"setstripe\": {\"size\": \"16777216\", \"count\": 4}}}\n",
    "    data[\"lfs\"][\"setstripe\"][\"size\"] = int(hyperparameters[\"setstripe-size\"])\n",
    "    data[\"lfs\"][\"setstripe\"][\"count\"] = int(hyperparameters[\"setstripe-count\"])\n",
    "\n",
    "    data[\"mpi\"][\"romio_ds_read\"] = hyperparameters[\"romio_ds_read\"]\n",
    "    data[\"mpi\"][\"romio_ds_write\"] = hyperparameters[\"romio_ds_write\"]\n",
    "    data[\"mpi\"][\"romio_cb_read\"] = hyperparameters[\"romio_cb_read\"]\n",
    "    data[\"mpi\"][\"romio_cb_write\"] = hyperparameters[\"romio_cb_write\"]\n",
    "    data[\"mpi\"][\"cb_buffer_size\"] = str(int(hyperparameters[\"cb_buffer_size\"]))\n",
    "    with open(\"confex.json\",\"w\") as fp:\n",
    "        json.dump(data,fp)\n",
    "    print(data)\n"
   ]
  },
  {
   "cell_type": "code",
   "execution_count": 73,
   "metadata": {},
   "outputs": [],
   "source": [
    "def objective(hyperparameters):\n",
    "    global ITERATION\n",
    "    ITERATION += 1\n",
    "    start = timer()\n",
    "    result=0\n",
    "    while(result == 0):\n",
    "        print(\"rerun\")\n",
    "        result = runthebenchmark(hyperparameters)\n",
    "        print(result)\n",
    "    run_time = timer() - start\n",
    "    print({'loss': result, 'hyperparameters': hyperparameters, 'iteration': ITERATION, 'iteration_time': run_time, 'status': STATUS_OK})\n",
    "    # Write to the csv file ('a' means append)\n",
    "    of_connection = open(out_file, 'a')\n",
    "    writer = csv.writer(of_connection)\n",
    "    writer.writerow([float(result), hyperparameters, ITERATION, run_time])\n",
    "    return {'loss': float(result), 'hyperparameters': hyperparameters, 'iteration': ITERATION, 'iteration_time': run_time, 'status': STATUS_OK}\n"
   ]
  },
  {
   "cell_type": "code",
   "execution_count": 74,
   "metadata": {},
   "outputs": [],
   "source": [
    "from hyperopt import hp\n",
    "from hyperopt.pyll.stochastic import sample\n",
    "\n",
    "space = {\n",
    "    'romio_ds_read' : hp.choice('romio_ds_read',['enable','disable']),\n",
    "    'romio_ds_write' : hp.choice('romio_ds_write',['enable','disable']),\n",
    "    'romio_cb_read' : hp.choice('romio_cb_read',['enable','disable']),\n",
    "    'romio_cb_write' : hp.choice('romio_cb_write',['enable','disable']),\n",
    "    'cb_buffer_size' : 1048576*hp.quniform('cb_buffer_size',1,512,1),\n",
    "    'setstripe-size' : 65536*(hp.qloguniform('setstripe-size',0,3,1)),\n",
    "    'setstripe-count' : hp.quniform('setstripe-count',0,20,1)\n",
    "    \n",
    "}"
   ]
  },
  {
   "cell_type": "code",
   "execution_count": 75,
   "metadata": {},
   "outputs": [
    {
     "name": "stdout",
     "output_type": "stream",
     "text": [
      "{'cb_buffer_size': 235929600.0, 'romio_cb_read': 'disable', 'romio_cb_write': 'enable', 'romio_ds_read': 'disable', 'romio_ds_write': 'disable', 'setstripe-count': 4.0, 'setstripe-size': 262144.0}\n"
     ]
    }
   ],
   "source": [
    "x = sample(space)\n",
    "params = x\n",
    "print(x)\n",
    "cb_buffer_size_dist = []\n",
    "for _ in range(1000):\n",
    "    cb_buffer_size_dist.append(sample(space)['cb_buffer_size'])\n",
    "setstripe_size_dist = []\n",
    "for _ in range(1000):\n",
    "    setstripe_size_dist.append(sample(space)['setstripe_size'])\n",
    "setstripe_count_dist = []\n",
    "for _ in range(1000):\n",
    "    setstripe_count_dist.append(sample(space)['setstripe_count'])    "
   ]
  },
  {
   "cell_type": "code",
   "execution_count": 76,
   "metadata": {},
   "outputs": [],
   "source": [
    "from hyperopt import tpe\n",
    "\n",
    "# Create the algorithm\n",
    "tpe_algorithm = tpe.suggest\n",
    "\n",
    "\n",
    "from hyperopt import Trials\n",
    "\n",
    "# Record results\n",
    "bayes_trials = Trials()"
   ]
  },
  {
   "cell_type": "code",
   "execution_count": 77,
   "metadata": {},
   "outputs": [
    {
     "name": "stdout",
     "output_type": "stream",
     "text": [
      "/home/dsinghvi/project/progress\n"
     ]
    }
   ],
   "source": [
    "# File to save first results\n",
    "print(os.getcwd())\n",
    "out_file = '/home/dsinghvi/project/progress/active/result/gbm_trials.csv'\n",
    "of_connection = open(out_file, 'w')\n",
    "writer = csv.writer(of_connection)\n",
    "writer.writerow(['loss', 'params', 'iteration', 'train_time'])\n",
    "of_connection.close()"
   ]
  },
  {
   "cell_type": "code",
   "execution_count": 78,
   "metadata": {},
   "outputs": [
    {
     "name": "stdout",
     "output_type": "stream",
     "text": [
      "\r",
      "  0%|          | 0/20 [00:00<?, ?it/s, best loss: ?]"
     ]
    },
    {
     "name": "stderr",
     "output_type": "stream",
     "text": [
      "INFO:hyperopt.tpe:tpe_transform took 0.004619 seconds\n",
      "INFO:hyperopt.tpe:TPE using 0 trials\n"
     ]
    },
    {
     "name": "stdout",
     "output_type": "stream",
     "text": [
      "rerun                                               \n",
      "{'mpi': {'romio_ds_read': 'disable', 'romio_ds_write': 'enable', 'romio_cb_read': 'enable', 'romio_cb_write': 'disable', 'cb_buffer_size': '182452224'}, 'lfs': {'setstripe': {'size': 131072, 'count': 15}}}\n",
      "outputS3D-IO 200-200-400-2-2-4-1 657.02 1.91 2.97 585.24 5.72 10.01 0.04 0.06 131072 15 disable enable enable disable 182452224 \n",
      "\n",
      "0.012680833260727466                                \n",
      "2.0391227793914057e-06                              \n",
      "{'loss': 2.0391227793914057e-06, 'hyperparameters': {'cb_buffer_size': 182452224.0, 'romio_cb_read': 'enable', 'romio_cb_write': 'disable', 'romio_ds_read': 'disable', 'romio_ds_write': 'enable', 'setstripe-count': 15.0, 'setstripe-size': 131072.0}, 'iteration': 1, 'iteration_time': 17.79341949429363, 'status': 'ok'}\n",
      "  5%|▌         | 1/20 [00:17<05:38, 17.81s/it, best loss: 2.0391227793914057e-06]"
     ]
    },
    {
     "name": "stderr",
     "output_type": "stream",
     "text": [
      "INFO:hyperopt.tpe:tpe_transform took 0.013125 seconds\n",
      "INFO:hyperopt.tpe:TPE using 1/1 trials with best loss 0.000002\n"
     ]
    },
    {
     "name": "stdout",
     "output_type": "stream",
     "text": [
      "rerun                                                                            \n",
      "{'mpi': {'romio_ds_read': 'enable', 'romio_ds_write': 'enable', 'romio_cb_read': 'disable', 'romio_cb_write': 'enable', 'cb_buffer_size': '159383552'}, 'lfs': {'setstripe': {'size': 458752, 'count': 7}}}\n",
      "outputS3D-IO 200-200-400-2-2-4-1 704.45 1.91 2.77 735.03 5.72 7.97 0.04 0.13 458752 7 enable enable disable enable 159383552 \n",
      "\n",
      "0.01049333037681731                                                              \n",
      "1.1554204230776467e-06                                                           \n",
      "{'loss': 1.1554204230776467e-06, 'hyperparameters': {'cb_buffer_size': 159383552.0, 'romio_cb_read': 'disable', 'romio_cb_write': 'enable', 'romio_ds_read': 'enable', 'romio_ds_write': 'enable', 'setstripe-count': 7.0, 'setstripe-size': 458752.0}, 'iteration': 2, 'iteration_time': 15.368536981754005, 'status': 'ok'}\n",
      " 10%|█         | 2/20 [00:33<05:07, 17.09s/it, best loss: 1.1554204230776467e-06]"
     ]
    },
    {
     "name": "stderr",
     "output_type": "stream",
     "text": [
      "INFO:hyperopt.tpe:tpe_transform took 0.011597 seconds\n",
      "INFO:hyperopt.tpe:TPE using 2/2 trials with best loss 0.000001\n"
     ]
    },
    {
     "name": "stdout",
     "output_type": "stream",
     "text": [
      "rerun                                                                            \n",
      "{'mpi': {'romio_ds_read': 'disable', 'romio_ds_write': 'disable', 'romio_cb_read': 'enable', 'romio_cb_write': 'enable', 'cb_buffer_size': '244318208'}, 'lfs': {'setstripe': {'size': 131072, 'count': 13}}}\n",
      "outputS3D-IO 200-200-400-2-2-4-1 652.12 1.91 3.00 615.88 5.72 9.51 0.04 0.10 131072 13 disable disable enable enable 244318208 \n",
      "\n",
      "0.012216432333340733                                                             \n",
      "1.8231952527101807e-06                                                           \n",
      "{'loss': 1.8231952527101807e-06, 'hyperparameters': {'cb_buffer_size': 244318208.0, 'romio_cb_read': 'enable', 'romio_cb_write': 'enable', 'romio_ds_read': 'disable', 'romio_ds_write': 'disable', 'setstripe-count': 13.0, 'setstripe-size': 131072.0}, 'iteration': 3, 'iteration_time': 17.3392443228513, 'status': 'ok'}\n",
      " 15%|█▌        | 3/20 [00:50<04:51, 17.17s/it, best loss: 1.1554204230776467e-06]"
     ]
    },
    {
     "name": "stderr",
     "output_type": "stream",
     "text": [
      "INFO:hyperopt.tpe:tpe_transform took 0.010517 seconds\n",
      "INFO:hyperopt.tpe:TPE using 3/3 trials with best loss 0.000001\n"
     ]
    },
    {
     "name": "stdout",
     "output_type": "stream",
     "text": [
      "rerun                                                                            \n",
      "{'mpi': {'romio_ds_read': 'disable', 'romio_ds_write': 'enable', 'romio_cb_read': 'disable', 'romio_cb_write': 'disable', 'cb_buffer_size': '447741952'}, 'lfs': {'setstripe': {'size': 196608, 'count': 3}}}\n",
      "outputS3D-IO 200-200-400-2-2-4-1 710.03 1.91 2.75 740.40 5.72 7.91 0.04 0.05 196608 3 disable enable disable disable 447741952 \n",
      "\n",
      "0.010415580936677233                                                             \n",
      "1.1299272804018814e-06                                                           \n",
      "{'loss': 1.1299272804018814e-06, 'hyperparameters': {'cb_buffer_size': 447741952.0, 'romio_cb_read': 'disable', 'romio_cb_write': 'disable', 'romio_ds_read': 'disable', 'romio_ds_write': 'enable', 'setstripe-count': 3.0, 'setstripe-size': 196608.0}, 'iteration': 4, 'iteration_time': 15.287835768423975, 'status': 'ok'}\n",
      " 20%|██        | 4/20 [01:05<04:25, 16.62s/it, best loss: 1.1299272804018814e-06]"
     ]
    },
    {
     "name": "stderr",
     "output_type": "stream",
     "text": [
      "INFO:hyperopt.tpe:tpe_transform took 0.009950 seconds\n",
      "INFO:hyperopt.tpe:TPE using 4/4 trials with best loss 0.000001\n"
     ]
    },
    {
     "name": "stdout",
     "output_type": "stream",
     "text": [
      "rerun                                                                            \n",
      "{'mpi': {'romio_ds_read': 'enable', 'romio_ds_write': 'enable', 'romio_cb_read': 'enable', 'romio_cb_write': 'disable', 'cb_buffer_size': '232783872'}, 'lfs': {'setstripe': {'size': 393216, 'count': 5}}}\n",
      "outputS3D-IO 200-200-400-2-2-4-1 631.18 1.91 3.09 781.78 5.72 7.49 0.07 0.18 393216 5 enable enable enable disable 232783872 \n",
      "\n",
      "0.010342714533228426                                                             \n",
      "1.1063782104432977e-06                                                           \n",
      "{'loss': 1.1063782104432977e-06, 'hyperparameters': {'cb_buffer_size': 232783872.0, 'romio_cb_read': 'enable', 'romio_cb_write': 'disable', 'romio_ds_read': 'enable', 'romio_ds_write': 'enable', 'setstripe-count': 5.0, 'setstripe-size': 393216.0}, 'iteration': 5, 'iteration_time': 15.35701375734061, 'status': 'ok'}\n",
      " 25%|██▌       | 5/20 [01:21<04:03, 16.25s/it, best loss: 1.1063782104432977e-06]"
     ]
    },
    {
     "name": "stderr",
     "output_type": "stream",
     "text": [
      "INFO:hyperopt.tpe:tpe_transform took 0.006017 seconds\n",
      "INFO:hyperopt.tpe:TPE using 5/5 trials with best loss 0.000001\n"
     ]
    },
    {
     "name": "stdout",
     "output_type": "stream",
     "text": [
      "rerun                                                                            \n",
      "{'mpi': {'romio_ds_read': 'enable', 'romio_ds_write': 'enable', 'romio_cb_read': 'disable', 'romio_cb_write': 'disable', 'cb_buffer_size': '97517568'}, 'lfs': {'setstripe': {'size': 917504, 'count': 17}}}\n",
      "outputS3D-IO 200-200-400-2-2-4-1 621.99 1.91 3.14 143.31 5.72 40.89 0.05 0.12 917504 17 enable enable disable disable 97517568 \n",
      "\n",
      "0.04298426320594776                                                              \n",
      "7.94197399459177e-05                                                             \n",
      "{'loss': 7.94197399459177e-05, 'hyperparameters': {'cb_buffer_size': 97517568.0, 'romio_cb_read': 'disable', 'romio_cb_write': 'disable', 'romio_ds_read': 'enable', 'romio_ds_write': 'enable', 'setstripe-count': 17.0, 'setstripe-size': 917504.0}, 'iteration': 6, 'iteration_time': 48.635577091015875, 'status': 'ok'}\n",
      " 30%|███       | 6/20 [02:09<06:03, 25.97s/it, best loss: 1.1063782104432977e-06]"
     ]
    },
    {
     "name": "stderr",
     "output_type": "stream",
     "text": [
      "INFO:hyperopt.tpe:tpe_transform took 0.011184 seconds\n",
      "INFO:hyperopt.tpe:TPE using 6/6 trials with best loss 0.000001\n"
     ]
    },
    {
     "name": "stdout",
     "output_type": "stream",
     "text": [
      "rerun                                                                            \n",
      "{'mpi': {'romio_ds_read': 'enable', 'romio_ds_write': 'enable', 'romio_cb_read': 'enable', 'romio_cb_write': 'disable', 'cb_buffer_size': '231735296'}, 'lfs': {'setstripe': {'size': 983040, 'count': 18}}}\n",
      "outputS3D-IO 200-200-400-2-2-4-1 611.80 1.91 3.19 183.83 5.72 31.87 0.07 0.12 983040 18 enable enable enable disable 231735296 \n",
      "\n",
      "0.03423764000015862                                                              \n",
      "4.013390916324599e-05                                                            \n",
      "{'loss': 4.013390916324599e-05, 'hyperparameters': {'cb_buffer_size': 231735296.0, 'romio_cb_read': 'enable', 'romio_cb_write': 'disable', 'romio_ds_read': 'enable', 'romio_ds_write': 'enable', 'setstripe-count': 18.0, 'setstripe-size': 983040.0}, 'iteration': 7, 'iteration_time': 39.665239156223834, 'status': 'ok'}\n",
      " 35%|███▌      | 7/20 [02:49<06:31, 30.09s/it, best loss: 1.1063782104432977e-06]"
     ]
    },
    {
     "name": "stderr",
     "output_type": "stream",
     "text": [
      "INFO:hyperopt.tpe:tpe_transform took 0.011036 seconds\n",
      "INFO:hyperopt.tpe:TPE using 7/7 trials with best loss 0.000001\n"
     ]
    },
    {
     "name": "stdout",
     "output_type": "stream",
     "text": [
      "rerun                                                                            \n",
      "{'mpi': {'romio_ds_read': 'disable', 'romio_ds_write': 'disable', 'romio_cb_read': 'enable', 'romio_cb_write': 'enable', 'cb_buffer_size': '154140672'}, 'lfs': {'setstripe': {'size': 131072, 'count': 12}}}\n",
      "outputS3D-IO 200-200-400-2-2-4-1 693.84 1.91 2.82 627.78 5.72 9.33 0.04 0.09 131072 12 disable disable enable enable 154140672 \n",
      "\n",
      "0.011864268205447627                                                             \n",
      "1.6700245964721154e-06                                                           \n",
      "{'loss': 1.6700245964721154e-06, 'hyperparameters': {'cb_buffer_size': 154140672.0, 'romio_cb_read': 'enable', 'romio_cb_write': 'enable', 'romio_ds_read': 'disable', 'romio_ds_write': 'disable', 'setstripe-count': 12.0, 'setstripe-size': 131072.0}, 'iteration': 8, 'iteration_time': 16.79045313131064, 'status': 'ok'}\n",
      " 40%|████      | 8/20 [03:06<05:13, 26.11s/it, best loss: 1.1063782104432977e-06]"
     ]
    },
    {
     "name": "stderr",
     "output_type": "stream",
     "text": [
      "INFO:hyperopt.tpe:tpe_transform took 0.009092 seconds\n",
      "INFO:hyperopt.tpe:TPE using 8/8 trials with best loss 0.000001\n"
     ]
    },
    {
     "name": "stdout",
     "output_type": "stream",
     "text": [
      "rerun                                                                            \n",
      "{'mpi': {'romio_ds_read': 'enable', 'romio_ds_write': 'enable', 'romio_cb_read': 'disable', 'romio_cb_write': 'enable', 'cb_buffer_size': '59768832'}, 'lfs': {'setstripe': {'size': 458752, 'count': 13}}}\n",
      "outputS3D-IO 200-200-400-2-2-4-1 556.84 1.91 3.51 420.51 5.72 13.93 0.17 0.04 458752 13 enable enable disable enable 59768832 \n",
      "\n",
      "0.01703259993977608                                                              \n",
      "4.941318382991388e-06                                                            \n",
      "{'loss': 4.941318382991388e-06, 'hyperparameters': {'cb_buffer_size': 59768832.0, 'romio_cb_read': 'disable', 'romio_cb_write': 'enable', 'romio_ds_read': 'enable', 'romio_ds_write': 'enable', 'setstripe-count': 13.0, 'setstripe-size': 458752.0}, 'iteration': 9, 'iteration_time': 22.181697318330407, 'status': 'ok'}\n",
      " 45%|████▌     | 9/20 [03:28<04:34, 24.94s/it, best loss: 1.1063782104432977e-06]"
     ]
    },
    {
     "name": "stderr",
     "output_type": "stream",
     "text": [
      "INFO:hyperopt.tpe:tpe_transform took 0.011676 seconds\n",
      "INFO:hyperopt.tpe:TPE using 9/9 trials with best loss 0.000001\n"
     ]
    },
    {
     "name": "stdout",
     "output_type": "stream",
     "text": [
      "rerun                                                                            \n",
      "{'mpi': {'romio_ds_read': 'enable', 'romio_ds_write': 'disable', 'romio_cb_read': 'disable', 'romio_cb_write': 'disable', 'cb_buffer_size': '214958080'}, 'lfs': {'setstripe': {'size': 524288, 'count': 20}}}\n",
      "outputS3D-IO 200-200-400-2-2-4-1 706.94 1.91 2.76 118.26 5.72 49.55 0.04 0.09 524288 20 enable disable disable disable 214958080 \n",
      "\n",
      "0.051069787864472985                                                             \n",
      "0.000133196300209316                                                             \n",
      "{'loss': 0.000133196300209316, 'hyperparameters': {'cb_buffer_size': 214958080.0, 'romio_cb_read': 'disable', 'romio_cb_write': 'disable', 'romio_ds_read': 'enable', 'romio_ds_write': 'disable', 'setstripe-count': 20.0, 'setstripe-size': 524288.0}, 'iteration': 10, 'iteration_time': 56.95530547760427, 'status': 'ok'}\n",
      " 50%|█████     | 10/20 [04:25<05:45, 34.55s/it, best loss: 1.1063782104432977e-06]"
     ]
    },
    {
     "name": "stderr",
     "output_type": "stream",
     "text": [
      "INFO:hyperopt.tpe:tpe_transform took 0.010347 seconds\n",
      "INFO:hyperopt.tpe:TPE using 10/10 trials with best loss 0.000001\n"
     ]
    },
    {
     "name": "stdout",
     "output_type": "stream",
     "text": [
      "rerun                                                                             \n",
      "{'mpi': {'romio_ds_read': 'enable', 'romio_ds_write': 'disable', 'romio_cb_read': 'disable', 'romio_cb_write': 'disable', 'cb_buffer_size': '213909504'}, 'lfs': {'setstripe': {'size': 262144, 'count': 11}}}\n",
      "outputS3D-IO 200-200-400-2-2-4-1 634.57 1.91 3.08 686.14 5.72 8.54 0.04 0.03 262144 11 enable disable disable disable 213909504 \n",
      "\n",
      "0.011346403319137503                                                              \n",
      "1.460745815166901e-06                                                             \n",
      "{'loss': 1.460745815166901e-06, 'hyperparameters': {'cb_buffer_size': 213909504.0, 'romio_cb_read': 'disable', 'romio_cb_write': 'disable', 'romio_ds_read': 'enable', 'romio_ds_write': 'disable', 'setstripe-count': 11.0, 'setstripe-size': 262144.0}, 'iteration': 11, 'iteration_time': 16.32841975055635, 'status': 'ok'}\n",
      " 55%|█████▌    | 11/20 [04:42<04:21, 29.10s/it, best loss: 1.1063782104432977e-06]"
     ]
    },
    {
     "name": "stderr",
     "output_type": "stream",
     "text": [
      "INFO:hyperopt.tpe:tpe_transform took 0.010880 seconds\n",
      "INFO:hyperopt.tpe:TPE using 11/11 trials with best loss 0.000001\n"
     ]
    },
    {
     "name": "stdout",
     "output_type": "stream",
     "text": [
      "rerun                                                                             \n",
      "{'mpi': {'romio_ds_read': 'disable', 'romio_ds_write': 'enable', 'romio_cb_read': 'enable', 'romio_cb_write': 'disable', 'cb_buffer_size': '137363456'}, 'lfs': {'setstripe': {'size': 131072, 'count': 13}}}\n",
      "outputS3D-IO 200-200-400-2-2-4-1 595.65 1.91 3.28 644.78 5.72 9.09 0.03 0.13 131072 13 disable enable enable disable 137363456 \n",
      "\n",
      "0.012077823950472818                                                              \n",
      "1.7618384543718675e-06                                                            \n",
      "{'loss': 1.7618384543718675e-06, 'hyperparameters': {'cb_buffer_size': 137363456.0, 'romio_cb_read': 'enable', 'romio_cb_write': 'disable', 'romio_ds_read': 'disable', 'romio_ds_write': 'enable', 'setstripe-count': 13.0, 'setstripe-size': 131072.0}, 'iteration': 12, 'iteration_time': 17.0447253677994, 'status': 'ok'}\n",
      " 60%|██████    | 12/20 [04:59<03:23, 25.49s/it, best loss: 1.1063782104432977e-06]"
     ]
    },
    {
     "name": "stderr",
     "output_type": "stream",
     "text": [
      "INFO:hyperopt.tpe:tpe_transform took 0.010507 seconds\n",
      "INFO:hyperopt.tpe:TPE using 12/12 trials with best loss 0.000001\n"
     ]
    },
    {
     "name": "stdout",
     "output_type": "stream",
     "text": [
      "rerun                                                                             \n",
      "{'mpi': {'romio_ds_read': 'enable', 'romio_ds_write': 'enable', 'romio_cb_read': 'enable', 'romio_cb_write': 'disable', 'cb_buffer_size': '54525952'}, 'lfs': {'setstripe': {'size': 196608, 'count': 16}}}\n",
      "outputS3D-IO 200-200-400-2-2-4-1 593.65 1.91 3.29 335.29 5.72 17.48 0.16 0.09 196608 16 enable enable enable disable 54525952 \n",
      "\n",
      "0.020277242610302688                                                              \n",
      "8.337324250088937e-06                                                             \n",
      "{'loss': 8.337324250088937e-06, 'hyperparameters': {'cb_buffer_size': 54525952.0, 'romio_cb_read': 'enable', 'romio_cb_write': 'disable', 'romio_ds_read': 'enable', 'romio_ds_write': 'enable', 'setstripe-count': 16.0, 'setstripe-size': 196608.0}, 'iteration': 13, 'iteration_time': 25.631063429638743, 'status': 'ok'}\n",
      " 65%|██████▌   | 13/20 [05:24<02:58, 25.54s/it, best loss: 1.1063782104432977e-06]"
     ]
    },
    {
     "name": "stderr",
     "output_type": "stream",
     "text": [
      "INFO:hyperopt.tpe:tpe_transform took 0.010751 seconds\n",
      "INFO:hyperopt.tpe:TPE using 13/13 trials with best loss 0.000001\n"
     ]
    },
    {
     "name": "stdout",
     "output_type": "stream",
     "text": [
      "rerun                                                                             \n",
      "{'mpi': {'romio_ds_read': 'disable', 'romio_ds_write': 'disable', 'romio_cb_read': 'enable', 'romio_cb_write': 'disable', 'cb_buffer_size': '223346688'}, 'lfs': {'setstripe': {'size': 589824, 'count': 17}}}\n",
      "outputS3D-IO 200-200-400-2-2-4-1 615.89 1.91 3.17 591.83 5.72 9.90 0.04 0.04 589824 17 disable disable enable disable 223346688 \n",
      "\n",
      "0.012766140703454729                                                              \n",
      "2.080553463499373e-06                                                             \n",
      "{'loss': 2.080553463499373e-06, 'hyperparameters': {'cb_buffer_size': 223346688.0, 'romio_cb_read': 'enable', 'romio_cb_write': 'disable', 'romio_ds_read': 'disable', 'romio_ds_write': 'disable', 'setstripe-count': 17.0, 'setstripe-size': 589824.0}, 'iteration': 14, 'iteration_time': 17.77639433555305, 'status': 'ok'}\n",
      " 70%|███████   | 14/20 [05:42<02:19, 23.22s/it, best loss: 1.1063782104432977e-06]"
     ]
    },
    {
     "name": "stderr",
     "output_type": "stream",
     "text": [
      "INFO:hyperopt.tpe:tpe_transform took 0.010132 seconds\n",
      "INFO:hyperopt.tpe:TPE using 14/14 trials with best loss 0.000001\n"
     ]
    },
    {
     "name": "stdout",
     "output_type": "stream",
     "text": [
      "rerun                                                                             \n",
      "{'mpi': {'romio_ds_read': 'enable', 'romio_ds_write': 'disable', 'romio_cb_read': 'enable', 'romio_cb_write': 'enable', 'cb_buffer_size': '326107136'}, 'lfs': {'setstripe': {'size': 131072, 'count': 19}}}\n",
      "outputS3D-IO 200-200-400-2-2-4-1 701.71 1.91 2.78 599.42 5.72 9.78 0.04 0.10 131072 19 enable disable enable enable 326107136 \n",
      "\n",
      "0.012264479967455735                                                              \n",
      "1.8447920337375496e-06                                                            \n",
      "{'loss': 1.8447920337375496e-06, 'hyperparameters': {'cb_buffer_size': 326107136.0, 'romio_cb_read': 'enable', 'romio_cb_write': 'enable', 'romio_ds_read': 'enable', 'romio_ds_write': 'disable', 'setstripe-count': 19.0, 'setstripe-size': 131072.0}, 'iteration': 15, 'iteration_time': 17.237110727466643, 'status': 'ok'}\n",
      " 75%|███████▌  | 15/20 [05:59<01:47, 21.44s/it, best loss: 1.1063782104432977e-06]"
     ]
    },
    {
     "name": "stderr",
     "output_type": "stream",
     "text": [
      "INFO:hyperopt.tpe:tpe_transform took 0.010040 seconds\n",
      "INFO:hyperopt.tpe:TPE using 15/15 trials with best loss 0.000001\n"
     ]
    },
    {
     "name": "stdout",
     "output_type": "stream",
     "text": [
      "rerun                                                                             \n",
      "{'mpi': {'romio_ds_read': 'disable', 'romio_ds_write': 'disable', 'romio_cb_read': 'enable', 'romio_cb_write': 'enable', 'cb_buffer_size': '216006656'}, 'lfs': {'setstripe': {'size': 65536, 'count': 18}}}\n",
      "outputS3D-IO 200-200-400-2-2-4-1 640.96 1.91 3.05 603.52 5.72 9.71 0.04 0.04 65536 18 disable disable enable enable 216006656 \n",
      "\n",
      "0.012457635789158256                                                              \n",
      "1.9333340023742756e-06                                                            \n",
      "{'loss': 1.9333340023742756e-06, 'hyperparameters': {'cb_buffer_size': 216006656.0, 'romio_cb_read': 'enable', 'romio_cb_write': 'enable', 'romio_ds_read': 'disable', 'romio_ds_write': 'disable', 'setstripe-count': 18.0, 'setstripe-size': 65536.0}, 'iteration': 16, 'iteration_time': 17.407520584762096, 'status': 'ok'}\n",
      " 80%|████████  | 16/20 [06:17<01:20, 20.24s/it, best loss: 1.1063782104432977e-06]"
     ]
    },
    {
     "name": "stderr",
     "output_type": "stream",
     "text": [
      "INFO:hyperopt.tpe:tpe_transform took 0.009946 seconds\n",
      "INFO:hyperopt.tpe:TPE using 16/16 trials with best loss 0.000001\n"
     ]
    },
    {
     "name": "stdout",
     "output_type": "stream",
     "text": [
      "rerun                                                                             \n",
      "{'mpi': {'romio_ds_read': 'disable', 'romio_ds_write': 'disable', 'romio_cb_read': 'enable', 'romio_cb_write': 'disable', 'cb_buffer_size': '146800640'}, 'lfs': {'setstripe': {'size': 327680, 'count': 10}}}\n",
      "outputS3D-IO 200-200-400-2-2-4-1 661.84 1.91 2.95 695.29 5.72 8.43 0.05 0.07 327680 10 disable disable enable disable 146800640 \n",
      "\n",
      "0.01111267694056587                                                               \n",
      "1.3723221310491843e-06                                                            \n",
      "{'loss': 1.3723221310491843e-06, 'hyperparameters': {'cb_buffer_size': 146800640.0, 'romio_cb_read': 'enable', 'romio_cb_write': 'disable', 'romio_ds_read': 'disable', 'romio_ds_write': 'disable', 'setstripe-count': 10.0, 'setstripe-size': 327680.0}, 'iteration': 17, 'iteration_time': 16.060841751284897, 'status': 'ok'}\n",
      " 85%|████████▌ | 17/20 [06:33<00:56, 18.99s/it, best loss: 1.1063782104432977e-06]"
     ]
    },
    {
     "name": "stderr",
     "output_type": "stream",
     "text": [
      "INFO:hyperopt.tpe:tpe_transform took 0.009869 seconds\n",
      "INFO:hyperopt.tpe:TPE using 17/17 trials with best loss 0.000001\n"
     ]
    },
    {
     "name": "stdout",
     "output_type": "stream",
     "text": [
      "rerun                                                                             \n",
      "{'mpi': {'romio_ds_read': 'disable', 'romio_ds_write': 'enable', 'romio_cb_read': 'enable', 'romio_cb_write': 'disable', 'cb_buffer_size': '269484032'}, 'lfs': {'setstripe': {'size': 196608, 'count': 12}}}\n",
      "outputS3D-IO 200-200-400-2-2-4-1 538.05 1.91 3.63 680.84 5.72 8.61 0.03 0.07 196608 12 disable enable enable disable 269484032 \n",
      "\n",
      "0.011951242483872873                                                              \n",
      "1.7070222197557033e-06                                                            \n",
      "{'loss': 1.7070222197557033e-06, 'hyperparameters': {'cb_buffer_size': 269484032.0, 'romio_cb_read': 'enable', 'romio_cb_write': 'disable', 'romio_ds_read': 'disable', 'romio_ds_write': 'enable', 'setstripe-count': 12.0, 'setstripe-size': 196608.0}, 'iteration': 18, 'iteration_time': 16.81332257669419, 'status': 'ok'}\n",
      " 90%|█████████ | 18/20 [06:50<00:36, 18.35s/it, best loss: 1.1063782104432977e-06]"
     ]
    },
    {
     "name": "stderr",
     "output_type": "stream",
     "text": [
      "INFO:hyperopt.tpe:tpe_transform took 0.012318 seconds\n",
      "INFO:hyperopt.tpe:TPE using 18/18 trials with best loss 0.000001\n"
     ]
    },
    {
     "name": "stdout",
     "output_type": "stream",
     "text": [
      "rerun                                                                             \n",
      "{'mpi': {'romio_ds_read': 'enable', 'romio_ds_write': 'disable', 'romio_cb_read': 'enable', 'romio_cb_write': 'enable', 'cb_buffer_size': '472907776'}, 'lfs': {'setstripe': {'size': 393216, 'count': 15}}}\n",
      "outputS3D-IO 200-200-400-2-2-4-1 737.13 1.91 2.65 635.29 5.72 9.22 0.04 0.12 393216 15 enable disable enable enable 472907776 \n",
      "\n",
      "0.011594892526874623                                                              \n",
      "1.5588351229181167e-06                                                            \n",
      "{'loss': 1.5588351229181167e-06, 'hyperparameters': {'cb_buffer_size': 472907776.0, 'romio_cb_read': 'enable', 'romio_cb_write': 'enable', 'romio_ds_read': 'enable', 'romio_ds_write': 'disable', 'setstripe-count': 15.0, 'setstripe-size': 393216.0}, 'iteration': 19, 'iteration_time': 16.523416757583618, 'status': 'ok'}\n",
      " 95%|█████████▌| 19/20 [07:06<00:17, 17.81s/it, best loss: 1.1063782104432977e-06]"
     ]
    },
    {
     "name": "stderr",
     "output_type": "stream",
     "text": [
      "INFO:hyperopt.tpe:tpe_transform took 0.013539 seconds\n",
      "INFO:hyperopt.tpe:TPE using 19/19 trials with best loss 0.000001\n"
     ]
    },
    {
     "name": "stdout",
     "output_type": "stream",
     "text": [
      "rerun                                                                             \n",
      "{'mpi': {'romio_ds_read': 'disable', 'romio_ds_write': 'disable', 'romio_cb_read': 'disable', 'romio_cb_write': 'enable', 'cb_buffer_size': '149946368'}, 'lfs': {'setstripe': {'size': 131072, 'count': 2}}}\n",
      "outputS3D-IO 200-200-400-2-2-4-1 727.76 1.91 2.68 765.09 5.72 7.66 0.04 0.07 131072 2 disable disable disable enable 149946368 \n",
      "\n",
      "0.010100736215449655                                                              \n",
      "1.0305263204374566e-06                                                            \n",
      "{'loss': 1.0305263204374566e-06, 'hyperparameters': {'cb_buffer_size': 149946368.0, 'romio_cb_read': 'disable', 'romio_cb_write': 'enable', 'romio_ds_read': 'disable', 'romio_ds_write': 'disable', 'setstripe-count': 2.0, 'setstripe-size': 131072.0}, 'iteration': 20, 'iteration_time': 14.947573266923428, 'status': 'ok'}\n",
      "100%|██████████| 20/20 [07:21<00:00, 16.96s/it, best loss: 1.0305263204374566e-06]\n"
     ]
    }
   ],
   "source": [
    "from hyperopt import fmin\n",
    "\n",
    "\n",
    "ITERATION = 0\n",
    "\n",
    "best = fmin(fn = objective, space = space, algo = tpe.suggest, trials = bayes_trials, max_evals = MAX_EVALS)"
   ]
  },
  {
   "cell_type": "code",
   "execution_count": 79,
   "metadata": {},
   "outputs": [
    {
     "name": "stdout",
     "output_type": "stream",
     "text": [
      "{'cb_buffer_size': 143.0, 'romio_cb_read': 1, 'romio_cb_write': 0, 'romio_ds_read': 1, 'romio_ds_write': 1, 'setstripe-count': 2.0, 'setstripe-size': 2.0}\n"
     ]
    }
   ],
   "source": [
    "print(best)\n",
    "d=  best\n",
    "#print(bayes_trials.results)\n",
    "bayes_trials_results = sorted(bayes_trials.results, key = lambda x: x['loss'])\n",
    "#bayes_trials_results[:1]"
   ]
  },
  {
   "cell_type": "code",
   "execution_count": 80,
   "metadata": {},
   "outputs": [
    {
     "data": {
      "text/html": [
       "<div>\n",
       "<style scoped>\n",
       "    .dataframe tbody tr th:only-of-type {\n",
       "        vertical-align: middle;\n",
       "    }\n",
       "\n",
       "    .dataframe tbody tr th {\n",
       "        vertical-align: top;\n",
       "    }\n",
       "\n",
       "    .dataframe thead th {\n",
       "        text-align: right;\n",
       "    }\n",
       "</style>\n",
       "<table border=\"1\" class=\"dataframe\">\n",
       "  <thead>\n",
       "    <tr style=\"text-align: right;\">\n",
       "      <th></th>\n",
       "      <th>loss</th>\n",
       "      <th>params</th>\n",
       "      <th>iteration</th>\n",
       "      <th>train_time</th>\n",
       "    </tr>\n",
       "  </thead>\n",
       "  <tbody>\n",
       "    <tr>\n",
       "      <th>0</th>\n",
       "      <td>0.000001</td>\n",
       "      <td>{'cb_buffer_size': 149946368.0, 'romio_cb_read...</td>\n",
       "      <td>20</td>\n",
       "      <td>14.947573</td>\n",
       "    </tr>\n",
       "    <tr>\n",
       "      <th>1</th>\n",
       "      <td>0.000001</td>\n",
       "      <td>{'cb_buffer_size': 447741952.0, 'romio_cb_read...</td>\n",
       "      <td>4</td>\n",
       "      <td>15.287836</td>\n",
       "    </tr>\n",
       "    <tr>\n",
       "      <th>2</th>\n",
       "      <td>0.000001</td>\n",
       "      <td>{'cb_buffer_size': 232783872.0, 'romio_cb_read...</td>\n",
       "      <td>5</td>\n",
       "      <td>15.357014</td>\n",
       "    </tr>\n",
       "    <tr>\n",
       "      <th>3</th>\n",
       "      <td>0.000001</td>\n",
       "      <td>{'cb_buffer_size': 159383552.0, 'romio_cb_read...</td>\n",
       "      <td>2</td>\n",
       "      <td>15.368537</td>\n",
       "    </tr>\n",
       "    <tr>\n",
       "      <th>4</th>\n",
       "      <td>0.000001</td>\n",
       "      <td>{'cb_buffer_size': 146800640.0, 'romio_cb_read...</td>\n",
       "      <td>17</td>\n",
       "      <td>16.060842</td>\n",
       "    </tr>\n",
       "  </tbody>\n",
       "</table>\n",
       "</div>"
      ],
      "text/plain": [
       "       loss                                             params  iteration  \\\n",
       "0  0.000001  {'cb_buffer_size': 149946368.0, 'romio_cb_read...         20   \n",
       "1  0.000001  {'cb_buffer_size': 447741952.0, 'romio_cb_read...          4   \n",
       "2  0.000001  {'cb_buffer_size': 232783872.0, 'romio_cb_read...          5   \n",
       "3  0.000001  {'cb_buffer_size': 159383552.0, 'romio_cb_read...          2   \n",
       "4  0.000001  {'cb_buffer_size': 146800640.0, 'romio_cb_read...         17   \n",
       "\n",
       "   train_time  \n",
       "0   14.947573  \n",
       "1   15.287836  \n",
       "2   15.357014  \n",
       "3   15.368537  \n",
       "4   16.060842  "
      ]
     },
     "execution_count": 80,
     "metadata": {},
     "output_type": "execute_result"
    }
   ],
   "source": [
    "results = pd.read_csv(out_file)\n",
    "\n",
    "# Sort with best scores on top and reset index for slicing\n",
    "results.sort_values('train_time', ascending = True, inplace = True)\n",
    "results.reset_index(inplace = True, drop = True)\n",
    "results.head()\n"
   ]
  },
  {
   "cell_type": "code",
   "execution_count": 81,
   "metadata": {},
   "outputs": [
    {
     "name": "stdout",
     "output_type": "stream",
     "text": [
      "{'cb_buffer_size': 149946368.0, 'romio_cb_read': 'disable', 'romio_cb_write': 'enable', 'romio_ds_read': 'disable', 'romio_ds_write': 'disable', 'setstripe-count': 2.0, 'setstripe-size': 131072.0}\n"
     ]
    }
   ],
   "source": [
    "import ast\n",
    "\n",
    "# Convert from a string to a dictionary\n",
    "ast.literal_eval(results.loc[0, 'params'])\n",
    "best_bayes_params = ast.literal_eval(results.loc[0, 'params']).copy()\n",
    "print(best_bayes_params)"
   ]
  },
  {
   "cell_type": "code",
   "execution_count": 82,
   "metadata": {},
   "outputs": [
    {
     "data": {
      "text/html": [
       "<div>\n",
       "<style scoped>\n",
       "    .dataframe tbody tr th:only-of-type {\n",
       "        vertical-align: middle;\n",
       "    }\n",
       "\n",
       "    .dataframe tbody tr th {\n",
       "        vertical-align: top;\n",
       "    }\n",
       "\n",
       "    .dataframe thead th {\n",
       "        text-align: right;\n",
       "    }\n",
       "</style>\n",
       "<table border=\"1\" class=\"dataframe\">\n",
       "  <thead>\n",
       "    <tr style=\"text-align: right;\">\n",
       "      <th></th>\n",
       "      <th>cb_buffer_size</th>\n",
       "      <th>romio_cb_read</th>\n",
       "      <th>romio_cb_write</th>\n",
       "      <th>romio_ds_read</th>\n",
       "      <th>romio_ds_write</th>\n",
       "      <th>setstripe-count</th>\n",
       "      <th>setstripe-size</th>\n",
       "      <th>train_time</th>\n",
       "      <th>loss</th>\n",
       "      <th>iteration</th>\n",
       "    </tr>\n",
       "  </thead>\n",
       "  <tbody>\n",
       "    <tr>\n",
       "      <th>0</th>\n",
       "      <td>1.49946e+08</td>\n",
       "      <td>disable</td>\n",
       "      <td>enable</td>\n",
       "      <td>disable</td>\n",
       "      <td>disable</td>\n",
       "      <td>2</td>\n",
       "      <td>131072</td>\n",
       "      <td>14.947573</td>\n",
       "      <td>0.000001</td>\n",
       "      <td>20</td>\n",
       "    </tr>\n",
       "    <tr>\n",
       "      <th>1</th>\n",
       "      <td>4.47742e+08</td>\n",
       "      <td>disable</td>\n",
       "      <td>disable</td>\n",
       "      <td>disable</td>\n",
       "      <td>enable</td>\n",
       "      <td>3</td>\n",
       "      <td>196608</td>\n",
       "      <td>15.287836</td>\n",
       "      <td>0.000001</td>\n",
       "      <td>4</td>\n",
       "    </tr>\n",
       "    <tr>\n",
       "      <th>2</th>\n",
       "      <td>2.32784e+08</td>\n",
       "      <td>enable</td>\n",
       "      <td>disable</td>\n",
       "      <td>enable</td>\n",
       "      <td>enable</td>\n",
       "      <td>5</td>\n",
       "      <td>393216</td>\n",
       "      <td>15.357014</td>\n",
       "      <td>0.000001</td>\n",
       "      <td>5</td>\n",
       "    </tr>\n",
       "    <tr>\n",
       "      <th>3</th>\n",
       "      <td>1.59384e+08</td>\n",
       "      <td>disable</td>\n",
       "      <td>enable</td>\n",
       "      <td>enable</td>\n",
       "      <td>enable</td>\n",
       "      <td>7</td>\n",
       "      <td>458752</td>\n",
       "      <td>15.368537</td>\n",
       "      <td>0.000001</td>\n",
       "      <td>2</td>\n",
       "    </tr>\n",
       "    <tr>\n",
       "      <th>4</th>\n",
       "      <td>1.46801e+08</td>\n",
       "      <td>enable</td>\n",
       "      <td>disable</td>\n",
       "      <td>disable</td>\n",
       "      <td>disable</td>\n",
       "      <td>10</td>\n",
       "      <td>327680</td>\n",
       "      <td>16.060842</td>\n",
       "      <td>0.000001</td>\n",
       "      <td>17</td>\n",
       "    </tr>\n",
       "  </tbody>\n",
       "</table>\n",
       "</div>"
      ],
      "text/plain": [
       "  cb_buffer_size romio_cb_read romio_cb_write romio_ds_read romio_ds_write  \\\n",
       "0    1.49946e+08       disable         enable       disable        disable   \n",
       "1    4.47742e+08       disable        disable       disable         enable   \n",
       "2    2.32784e+08        enable        disable        enable         enable   \n",
       "3    1.59384e+08       disable         enable        enable         enable   \n",
       "4    1.46801e+08        enable        disable       disable        disable   \n",
       "\n",
       "  setstripe-count setstripe-size  train_time      loss  iteration  \n",
       "0               2         131072   14.947573  0.000001         20  \n",
       "1               3         196608   15.287836  0.000001          4  \n",
       "2               5         393216   15.357014  0.000001          5  \n",
       "3               7         458752   15.368537  0.000001          2  \n",
       "4              10         327680   16.060842  0.000001         17  "
      ]
     },
     "execution_count": 82,
     "metadata": {},
     "output_type": "execute_result"
    }
   ],
   "source": [
    "bayes_params = pd.DataFrame(columns = list(ast.literal_eval(results.loc[0, 'params']).keys()),\n",
    "                            index = list(range(len(results))))\n",
    "\n",
    "# Add the results with each parameter a different column\n",
    "for i, params in enumerate(results['params']):\n",
    "    bayes_params.loc[i, :] = list(ast.literal_eval(params).values())\n",
    "bayes_params['train_time'] = results['train_time']    \n",
    "bayes_params['loss'] = results['loss']\n",
    "bayes_params['iteration'] = results['iteration']\n",
    "\n",
    "bayes_params.head()"
   ]
  },
  {
   "cell_type": "code",
   "execution_count": 83,
   "metadata": {},
   "outputs": [
    {
     "name": "stderr",
     "output_type": "stream",
     "text": [
      "DEBUG:matplotlib.axes._base:update_title_pos\n",
      "DEBUG:matplotlib.axes._base:update_title_pos\n",
      "DEBUG:matplotlib.axes._base:update_title_pos\n",
      "DEBUG:matplotlib.axes._base:update_title_pos\n",
      "DEBUG:matplotlib.axes._base:update_title_pos\n"
     ]
    },
    {
     "data": {
      "image/png": "[encoded data removed]",
      "text/plain": [
       "<Figure size 1440x576 with 1 Axes>"
      ]
     },
     "metadata": {
      "needs_background": "light"
     },
     "output_type": "display_data"
    }
   ],
   "source": [
    "plt.figure(figsize = (20, 8))\n",
    "plt.rcParams['font.size'] = 18\n",
    "\n",
    "# Density plots of the learning rate distributions \n",
    "sns.kdeplot(bayes_params['loss'], label = 'Loss Variation', linewidth = 2)\n",
    "plt.legend()\n",
    "plt.xlabel('Loss'); plt.ylabel('Density'); plt.title('Loss Distribution');\n"
   ]
  },
  {
   "cell_type": "code",
   "execution_count": 84,
   "metadata": {
    "scrolled": true
   },
   "outputs": [
    {
     "name": "stderr",
     "output_type": "stream",
     "text": [
      "DEBUG:matplotlib.axes._base:update_title_pos\n",
      "DEBUG:matplotlib.axes._base:update_title_pos\n",
      "DEBUG:matplotlib.axes._base:update_title_pos\n",
      "DEBUG:matplotlib.axes._base:update_title_pos\n",
      "DEBUG:matplotlib.axes._base:update_title_pos\n"
     ]
    },
    {
     "data": {
      "image/png": "[encoded data removed]",
      "text/plain": [
       "<Figure size 1440x576 with 1 Axes>"
      ]
     },
     "metadata": {
      "needs_background": "light"
     },
     "output_type": "display_data"
    }
   ],
   "source": [
    "plt.figure(figsize = (20, 8))\n",
    "plt.rcParams['font.size'] = 18\n",
    "#cb_buffer_size_dist_now = []\n",
    "#for _ in range(30):\n",
    "#    cb_buffer_size_dist_now.append(sample(space)['cb_buffer_size'])\n",
    "# Density plots of the learning rate distributions \n",
    "sns.kdeplot(bayes_params['cb_buffer_size'], label = 'bayes cb_buffer_size', linewidth = 2)\n",
    "sns.kdeplot(cb_buffer_size_dist,color=\"red\",linewidth=2, label = 'initial cb_buffer_size')\n",
    "#sns.kdeplot(cb_buffer_size_dist_now,color=\"green\",linewidth=2, label= 'current cb_buffer_size')\n",
    "plt.legend()\n",
    "plt.xlabel('cb_buffer_size'); plt.ylabel('Density'); plt.title('cb_buffer_size Distribution');"
   ]
  },
  {
   "cell_type": "code",
   "execution_count": null,
   "metadata": {},
   "outputs": [],
   "source": []
  },
  {
   "cell_type": "code",
   "execution_count": null,
   "metadata": {},
   "outputs": [],
   "source": []
  }
 ],
 "metadata": {
  "kernelspec": {
   "display_name": "Python 3",
   "language": "python",
   "name": "python3"
  },
  "language_info": {
   "codemirror_mode": {
    "name": "ipython",
    "version": 3
   },
   "file_extension": ".py",
   "mimetype": "text/x-python",
   "name": "python",
   "nbconvert_exporter": "python",
   "pygments_lexer": "ipython3",
   "version": "3.6.7"
  }
 },
 "nbformat": 4,
 "nbformat_minor": 2
}
