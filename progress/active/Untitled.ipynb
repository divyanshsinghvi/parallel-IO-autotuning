{
 "cells": [
  {
   "cell_type": "code",
   "execution_count": 39,
   "metadata": {},
   "outputs": [
    {
     "name": "stderr",
     "output_type": "stream",
     "text": [
      "DEBUG:matplotlib.pyplot:Loaded backend module://ipykernel.pylab.backend_inline version unknown.\n"
     ]
    }
   ],
   "source": [
    "# Data manipulation\n",
    "import pandas as pd\n",
    "import numpy as np\n",
    "# Evaluation of the model\n",
    "from sklearn.model_selection import KFold, train_test_split\n",
    "from sklearn.metrics import roc_auc_score\n",
    "\n",
    "# Visualization\n",
    "import matplotlib.pyplot as plt\n",
    "import seaborn as sns\n",
    "plt.rcParams['font.size'] = 18\n",
    "%matplotlib inline\n",
    "\n",
    "MAX_EVALS = 5\n",
    "import csv\n",
    "from hyperopt import STATUS_OK\n",
    "from timeit import default_timer as timer\n",
    "\n"
   ]
  },
  {
   "cell_type": "code",
   "execution_count": 40,
   "metadata": {},
   "outputs": [],
   "source": [
    "import json\n",
    "import shlex\n",
    "import subprocess\n",
    "import logging\n",
    "from pprint import pprint\n",
    "import re\n",
    "import os\n"
   ]
  },
  {
   "cell_type": "code",
   "execution_count": 41,
   "metadata": {},
   "outputs": [],
   "source": [
    "def runthebenchmark(hyperparameters):\n",
    "    os.chdir('/home/dsinghvi/project/progress/active/../')\n",
    "    storeinfile(hyperparameters)\n",
    "    out=subprocess.Popen([\"python3\",\"read_config.py\"], shell=False, stdout=subprocess.PIPE)\n",
    "    logging.basicConfig(level=logging.DEBUG)\n",
    "    output=out.stdout.read().decode('utf-8')\n",
    "    print(output)\n",
    "    value = 312 #output.split(\" \")[5]\n",
    "    value = float(value)\n",
    "    print(value)\n",
    "    return float(1/value)\n",
    "    #logging.basicConfig(filename='app.log', filemode='a', format='%(name)s - %(levelname)s - %(message)s',level=logging.DEBUG)\n"
   ]
  },
  {
   "cell_type": "code",
   "execution_count": 42,
   "metadata": {},
   "outputs": [],
   "source": [
    "def storeinfile(hyperparameters):\n",
    "    data={\"mpi\": {\"romio_ds_read\": \"enable\", \"romio_ds_write\": \"disable\"}, \"lfs\": {\"setstripe\": {\"size\": \"16777216\", \"count\": 4}}}\n",
    "    data[\"lfs\"][\"setstripe\"][\"size\"] = int(hyperparameters[\"setstripe-size\"])\n",
    "    data[\"lfs\"][\"setstripe\"][\"count\"] = int(hyperparameters[\"setstripe-count\"])\n",
    "\n",
    "    data[\"mpi\"][\"romio_ds_read\"] = hyperparameters[\"romio_ds_read\"]\n",
    "    data[\"mpi\"][\"romio_ds_write\"] = hyperparameters[\"romio_ds_write\"]\n",
    "\n",
    "    with open(\"confex.json\",\"w\") as fp:\n",
    "        json.dump(data,fp)\n",
    "    print(data)\n"
   ]
  },
  {
   "cell_type": "code",
   "execution_count": 43,
   "metadata": {},
   "outputs": [],
   "source": [
    "def objective(hyperparameters):\n",
    "    global ITERATION\n",
    "    ITERATION += 1\n",
    "    start = timer()\n",
    "    result = runthebenchmark(hyperparameters)\n",
    "    run_time = timer() - start\n",
    "    print({'result': result, 'hyperparameters': hyperparameters, 'iteration': ITERATION, 'iteration_time': run_time, 'status': STATUS_OK})\n",
    "    return {'loss': float(result), 'hyperparameters': hyperparameters, 'iteration': ITERATION, 'iteration_time': run_time, 'status': STATUS_OK}\n",
    "    "
   ]
  },
  {
   "cell_type": "code",
   "execution_count": 44,
   "metadata": {},
   "outputs": [],
   "source": [
    "from hyperopt import hp\n",
    "from hyperopt.pyll.stochastic import sample\n",
    "\n",
    "space = {\n",
    "    'romio_ds_read' : hp.choice('romio_ds_read',['enable','disable']),\n",
    "    'romio_ds_write' : hp.choice('romio_ds_write',['enable','disable']),\n",
    "    'setstripe-size' : 65536*(hp.qloguniform('setstripe-size',0,3,1)),\n",
    "    'setstripe-count' : hp.quniform('setstripe-count',0,20,1)\n",
    "}"
   ]
  },
  {
   "cell_type": "code",
   "execution_count": 45,
   "metadata": {},
   "outputs": [
    {
     "name": "stdout",
     "output_type": "stream",
     "text": [
      "{'romio_ds_read': 'disable', 'romio_ds_write': 'disable', 'setstripe-count': 9.0, 'setstripe-size': 196608.0}\n"
     ]
    }
   ],
   "source": [
    "x = sample(space)\n",
    "print(x)"
   ]
  },
  {
   "cell_type": "code",
   "execution_count": 46,
   "metadata": {},
   "outputs": [
    {
     "name": "stdout",
     "output_type": "stream",
     "text": [
      "\r",
      "  0%|          | 0/5 [00:00<?, ?it/s, best loss: ?]"
     ]
    },
    {
     "name": "stderr",
     "output_type": "stream",
     "text": [
      "INFO:hyperopt.tpe:tpe_transform took 0.005253 seconds\n",
      "INFO:hyperopt.tpe:TPE using 0 trials\n"
     ]
    },
    {
     "name": "stdout",
     "output_type": "stream",
     "text": [
      "{'mpi': {'romio_ds_read': 'enable', 'romio_ds_write': 'disable'}, 'lfs': {'setstripe': {'size': 131072, 'count': 3}}}\n",
      "S3D-IO 50-50-100-2-2-4-1 455.24 0.03 0.07 244.73 0.09 0.37 0.05 0.01 131072 3 enable disable \n",
      "\n",
      "312.0                                              \n",
      "{'result': 0.003205128205128205, 'hyperparameters': {'romio_ds_read': 'enable', 'romio_ds_write': 'disable', 'setstripe-count': 3.0, 'setstripe-size': 131072.0}, 'iteration': 1, 'iteration_time': 4.27945130225271, 'status': 'ok'}\n",
      " 20%|██        | 1/5 [00:04<00:17,  4.29s/it, best loss: 0.003205128205128205]"
     ]
    },
    {
     "name": "stderr",
     "output_type": "stream",
     "text": [
      "INFO:hyperopt.tpe:tpe_transform took 0.006875 seconds\n",
      "INFO:hyperopt.tpe:TPE using 1/1 trials with best loss 0.003205\n"
     ]
    },
    {
     "name": "stdout",
     "output_type": "stream",
     "text": [
      "{'mpi': {'romio_ds_read': 'enable', 'romio_ds_write': 'disable'}, 'lfs': {'setstripe': {'size': 327680, 'count': 8}}}\n",
      "S3D-IO 50-50-100-2-2-4-1 242.33 0.03 0.13 179.89 0.09 0.51 0.03 0.01 327680 8 enable disable \n",
      "\n",
      "312.0                                                                         \n",
      "{'result': 0.003205128205128205, 'hyperparameters': {'romio_ds_read': 'enable', 'romio_ds_write': 'disable', 'setstripe-count': 8.0, 'setstripe-size': 327680.0}, 'iteration': 2, 'iteration_time': 4.302283903583884, 'status': 'ok'}\n",
      " 40%|████      | 2/5 [00:08<00:12,  4.30s/it, best loss: 0.003205128205128205]"
     ]
    },
    {
     "name": "stderr",
     "output_type": "stream",
     "text": [
      "INFO:hyperopt.tpe:tpe_transform took 0.005892 seconds\n",
      "INFO:hyperopt.tpe:TPE using 2/2 trials with best loss 0.003205\n"
     ]
    },
    {
     "name": "stdout",
     "output_type": "stream",
     "text": [
      "{'mpi': {'romio_ds_read': 'enable', 'romio_ds_write': 'disable'}, 'lfs': {'setstripe': {'size': 131072, 'count': 3}}}\n",
      "S3D-IO 50-50-100-2-2-4-1 231.66 0.03 0.13 226.95 0.09 0.40 0.04 0.01 131072 3 enable disable \n",
      "\n",
      "312.0                                                                         \n",
      "{'result': 0.003205128205128205, 'hyperparameters': {'romio_ds_read': 'enable', 'romio_ds_write': 'disable', 'setstripe-count': 3.0, 'setstripe-size': 131072.0}, 'iteration': 3, 'iteration_time': 4.22165332455188, 'status': 'ok'}\n",
      " 60%|██████    | 3/5 [00:12<00:08,  4.28s/it, best loss: 0.003205128205128205]"
     ]
    },
    {
     "name": "stderr",
     "output_type": "stream",
     "text": [
      "INFO:hyperopt.tpe:tpe_transform took 0.005914 seconds\n",
      "INFO:hyperopt.tpe:TPE using 3/3 trials with best loss 0.003205\n"
     ]
    },
    {
     "name": "stdout",
     "output_type": "stream",
     "text": [
      "{'mpi': {'romio_ds_read': 'disable', 'romio_ds_write': 'enable'}, 'lfs': {'setstripe': {'size': 393216, 'count': 6}}}\n",
      "S3D-IO 50-50-100-2-2-4-1 289.43 0.03 0.11 102.41 0.09 0.89 0.03 0.01 393216 6 disable enable \n",
      "\n",
      "312.0                                                                         \n",
      "{'result': 0.003205128205128205, 'hyperparameters': {'romio_ds_read': 'disable', 'romio_ds_write': 'enable', 'setstripe-count': 6.0, 'setstripe-size': 393216.0}, 'iteration': 4, 'iteration_time': 4.761988355778158, 'status': 'ok'}\n",
      " 80%|████████  | 4/5 [00:17<00:04,  4.43s/it, best loss: 0.003205128205128205]"
     ]
    },
    {
     "name": "stderr",
     "output_type": "stream",
     "text": [
      "INFO:hyperopt.tpe:tpe_transform took 0.005851 seconds\n",
      "INFO:hyperopt.tpe:TPE using 4/4 trials with best loss 0.003205\n"
     ]
    },
    {
     "name": "stdout",
     "output_type": "stream",
     "text": [
      "{'mpi': {'romio_ds_read': 'enable', 'romio_ds_write': 'disable'}, 'lfs': {'setstripe': {'size': 458752, 'count': 15}}}\n",
      "S3D-IO 50-50-100-2-2-4-1 353.73 0.03 0.09 110.35 0.09 0.83 0.05 0.01 458752 15 enable disable \n",
      "\n",
      "312.0                                                                         \n",
      "{'result': 0.003205128205128205, 'hyperparameters': {'romio_ds_read': 'enable', 'romio_ds_write': 'disable', 'setstripe-count': 15.0, 'setstripe-size': 458752.0}, 'iteration': 5, 'iteration_time': 4.559067235328257, 'status': 'ok'}\n",
      "100%|██████████| 5/5 [00:22<00:00,  4.48s/it, best loss: 0.003205128205128205]\n"
     ]
    }
   ],
   "source": [
    "from hyperopt import tpe\n",
    "\n",
    "# Create the algorithm\n",
    "tpe_algorithm = tpe.suggest\n",
    "\n",
    "\n",
    "from hyperopt import Trials\n",
    "\n",
    "# Record results\n",
    "trials = Trials()\n",
    "\n",
    "from hyperopt import fmin\n",
    "\n",
    "\n",
    "ITERATION = 0\n",
    "\n",
    "best = fmin(fn = objective, space = space, algo = tpe.suggest, trials = trials, max_evals = MAX_EVALS)\n"
   ]
  },
  {
   "cell_type": "code",
   "execution_count": null,
   "metadata": {},
   "outputs": [],
   "source": []
  },
  {
   "cell_type": "code",
   "execution_count": null,
   "metadata": {},
   "outputs": [],
   "source": [
    "###Loader\n",
    "data = pd.read_csv('../stats.txt', delim_whitespace=True)\n",
    "array = data.values\n",
    "\n",
    "output_col = input(\"Number of output column indexed from 0\")\n",
    "output_col = 2#int(output_col)\n",
    "(n,m) = array.shape\n",
    "print(array)                                                                           \n",
    "X = array[:,0:m]\n",
    "Y = array[:,output_col]\n",
    "Y=Y.astype('int')\n",
    "\n",
    "X=np.delete(X,output_col,1)\n",
    "\n",
    "k=0\n",
    "for i in range(0,m-1):\n",
    "    if type(X[0][k]) == str:\n",
    "        X=np.delete(X,k,1)\n",
    "    #    print(X)\n",
    "    else : \n",
    "        k=k+1\n",
    "print(X)\n",
    "###Model\n",
    "model1(X,Y)\n",
    "\n",
    "\n"
   ]
  },
  {
   "cell_type": "code",
   "execution_count": null,
   "metadata": {},
   "outputs": [],
   "source": []
  }
 ],
 "metadata": {
  "kernelspec": {
   "display_name": "Python 3",
   "language": "python",
   "name": "python3"
  },
  "language_info": {
   "codemirror_mode": {
    "name": "ipython",
    "version": 3
   },
   "file_extension": ".py",
   "mimetype": "text/x-python",
   "name": "python",
   "nbconvert_exporter": "python",
   "pygments_lexer": "ipython3",
   "version": "3.6.7"
  }
 },
 "nbformat": 4,
 "nbformat_minor": 2
}
