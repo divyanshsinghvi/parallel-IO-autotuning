{
 "cells": [
  {
   "cell_type": "code",
   "execution_count": 102,
   "metadata": {},
   "outputs": [
    {
     "name": "stderr",
     "output_type": "stream",
     "text": [
      "DEBUG:matplotlib.pyplot:Loaded backend module://ipykernel.pylab.backend_inline version unknown.\n"
     ]
    }
   ],
   "source": [
    "# Data manipulation\n",
    "import pandas as pd\n",
    "import numpy as np\n",
    "# Evaluation of the model\n",
    "from sklearn.model_selection import KFold, train_test_split\n",
    "from sklearn.metrics import roc_auc_score\n",
    "\n",
    "# Visualization\n",
    "import matplotlib.pyplot as plt\n",
    "import seaborn as sns\n",
    "plt.rcParams['font.size'] = 18\n",
    "%matplotlib inline\n",
    "\n",
    "MAX_EVALS = 15\n",
    "import csv\n",
    "from hyperopt import STATUS_OK\n",
    "from timeit import default_timer as timer\n",
    "\n"
   ]
  },
  {
   "cell_type": "code",
   "execution_count": 103,
   "metadata": {},
   "outputs": [],
   "source": [
    "import json\n",
    "import shlex\n",
    "import subprocess\n",
    "import logging\n",
    "from pprint import pprint\n",
    "import re\n",
    "import os\n"
   ]
  },
  {
   "cell_type": "code",
   "execution_count": 104,
   "metadata": {},
   "outputs": [],
   "source": [
    "def runthebenchmark(hyperparameters):\n",
    "    os.chdir('/home/meghaagr/project/progress/active/../')\n",
    "    storeinfile(hyperparameters)\n",
    "    out=subprocess.Popen([\"python3\",\"read_config.py\"], shell=False, stdout=subprocess.PIPE)\n",
    "    logging.basicConfig(level=logging.DEBUG)\n",
    "    output=out.stdout.read().decode('utf-8')\n",
    "    print(output)\n",
    "    value = output.split(\" \")[5]\n",
    "    value = float(value)\n",
    "    print(value)\n",
    "    return float(1/value)\n",
    "    #logging.basicConfig(filename='app.log', filemode='a', format='%(name)s - %(levelname)s - %(message)s',level=logging.DEBUG)\n"
   ]
  },
  {
   "cell_type": "code",
   "execution_count": 105,
   "metadata": {},
   "outputs": [],
   "source": [
    "def storeinfile(hyperparameters):\n",
    "    data={\"mpi\": {\"romio_ds_read\": \"enable\", \"romio_ds_write\": \"disable\"}, \"lfs\": {\"setstripe\": {\"size\": \"16777216\", \"count\": 4}}}\n",
    "    data[\"lfs\"][\"setstripe\"][\"size\"] = int(hyperparameters[\"setstripe-size\"])\n",
    "    data[\"lfs\"][\"setstripe\"][\"count\"] = int(hyperparameters[\"setstripe-count\"])\n",
    "\n",
    "    data[\"mpi\"][\"romio_ds_read\"] = hyperparameters[\"romio_ds_read\"]\n",
    "    data[\"mpi\"][\"romio_ds_write\"] = hyperparameters[\"romio_ds_write\"]\n",
    "    data[\"mpi\"][\"romio_cb_read\"] = hyperparameters[\"romio_cb_read\"]\n",
    "    data[\"mpi\"][\"romio_cb_write\"] = hyperparameters[\"romio_cb_write\"]\n",
    "    data[\"mpi\"][\"cb_buffer_size\"] = str(int(hyperparameters[\"cb_buffer_size\"]))\n",
    "    with open(\"confex.json\",\"w\") as fp:\n",
    "        json.dump(data,fp)\n",
    "    print(data)\n"
   ]
  },
  {
   "cell_type": "code",
   "execution_count": 106,
   "metadata": {},
   "outputs": [],
   "source": [
    "def objective(hyperparameters):\n",
    "    global ITERATION\n",
    "    ITERATION += 1\n",
    "    start = timer()\n",
    "    result = runthebenchmark(hyperparameters)\n",
    "    run_time = timer() - start\n",
    "    print({'loss': result, 'hyperparameters': hyperparameters, 'iteration': ITERATION, 'iteration_time': run_time, 'status': STATUS_OK})\n",
    "    return {'loss': float(result), 'hyperparameters': hyperparameters, 'iteration': ITERATION, 'iteration_time': run_time, 'status': STATUS_OK}\n",
    "    "
   ]
  },
  {
   "cell_type": "code",
   "execution_count": 107,
   "metadata": {},
   "outputs": [],
   "source": [
    "from hyperopt import hp\n",
    "from hyperopt.pyll.stochastic import sample\n",
    "\n",
    "space = {\n",
    "    'romio_ds_read' : hp.choice('romio_ds_read',['enable','disable']),\n",
    "    'romio_ds_write' : hp.choice('romio_ds_write',['enable','disable']),\n",
    "    'romio_cb_read' : hp.choice('romio_cb_read',['enable','disable']),\n",
    "    'romio_cb_write' : hp.choice('romio_cb_write',['enable','disable']),\n",
    "    'cb_buffer_size' : 1048576*hp.qnormal('cb_buffer_size',512,128,4),\n",
    "    'setstripe-size' : 65536*(hp.qloguniform('setstripe-size',0,3,1)),\n",
    "    'setstripe-count' : hp.quniform('setstripe-count',0,20,1)\n",
    "    \n",
    "}"
   ]
  },
  {
   "cell_type": "code",
   "execution_count": 108,
   "metadata": {},
   "outputs": [
    {
     "name": "stdout",
     "output_type": "stream",
     "text": [
      "{'cb_buffer_size': 591396864.0, 'romio_cb_read': 'enable', 'romio_cb_write': 'disable', 'romio_ds_read': 'disable', 'romio_ds_write': 'disable', 'setstripe-count': 12.0, 'setstripe-size': 131072.0}\n"
     ]
    }
   ],
   "source": [
    "x = sample(space)\n",
    "print(x)"
   ]
  },
  {
   "cell_type": "code",
   "execution_count": 113,
   "metadata": {},
   "outputs": [
    {
     "name": "stdout",
     "output_type": "stream",
     "text": [
      "\r",
      "  0%|          | 0/15 [00:00<?, ?it/s, best loss: ?]"
     ]
    },
    {
     "name": "stderr",
     "output_type": "stream",
     "text": [
      "INFO:hyperopt.tpe:tpe_transform took 0.009608 seconds\n",
      "INFO:hyperopt.tpe:TPE using 0 trials\n"
     ]
    },
    {
     "name": "stdout",
     "output_type": "stream",
     "text": [
      "{'mpi': {'romio_ds_read': 'enable', 'romio_ds_write': 'disable', 'romio_cb_read': 'enable', 'romio_cb_write': 'disable', 'cb_buffer_size': '398458880'}, 'lfs': {'setstripe': {'size': 131072, 'count': 6}}}\n",
      "S3D-IO 200-400-400-2-4-4-1 851.60 3.81 4.59 431.69 19.07 45.24 0.16 0.17 131072 6 enable disable enable disable 398458880 \n",
      "\n",
      "431.69                                              \n",
      "{'loss': 0.0023164771016238503, 'hyperparameters': {'cb_buffer_size': 398458880.0, 'romio_cb_read': 'enable', 'romio_cb_write': 'disable', 'romio_ds_read': 'enable', 'romio_ds_write': 'disable', 'setstripe-count': 6.0, 'setstripe-size': 131072.0}, 'iteration': 1, 'iteration_time': 55.62724397704005, 'status': 'ok'}\n",
      "  7%|▋         | 1/15 [00:55<12:59, 55.65s/it, best loss: 0.0023164771016238503]"
     ]
    },
    {
     "name": "stderr",
     "output_type": "stream",
     "text": [
      "INFO:hyperopt.tpe:tpe_transform took 0.009512 seconds\n",
      "INFO:hyperopt.tpe:TPE using 1/1 trials with best loss 0.002316\n"
     ]
    },
    {
     "name": "stdout",
     "output_type": "stream",
     "text": [
      "{'mpi': {'romio_ds_read': 'enable', 'romio_ds_write': 'enable', 'romio_cb_read': 'disable', 'romio_cb_write': 'enable', 'cb_buffer_size': '658505728'}, 'lfs': {'setstripe': {'size': 1048576, 'count': 16}}}\n",
      "S3D-IO 200-400-400-2-4-4-1 473.80 3.81 8.25 1002.86 19.07 19.48 0.07 0.66 1048576 16 enable enable disable enable 658505728 \n",
      "\n",
      "1002.86                                                                         \n",
      "{'loss': 0.000997148156273059, 'hyperparameters': {'cb_buffer_size': 658505728.0, 'romio_cb_read': 'disable', 'romio_cb_write': 'enable', 'romio_ds_read': 'enable', 'romio_ds_write': 'enable', 'setstripe-count': 16.0, 'setstripe-size': 1048576.0}, 'iteration': 2, 'iteration_time': 33.32229568529874, 'status': 'ok'}\n",
      " 13%|█▎        | 2/15 [01:29<10:36, 48.96s/it, best loss: 0.000997148156273059] "
     ]
    },
    {
     "name": "stderr",
     "output_type": "stream",
     "text": [
      "INFO:hyperopt.tpe:tpe_transform took 0.009583 seconds\n",
      "INFO:hyperopt.tpe:TPE using 2/2 trials with best loss 0.000997\n"
     ]
    },
    {
     "name": "stdout",
     "output_type": "stream",
     "text": [
      "{'mpi': {'romio_ds_read': 'disable', 'romio_ds_write': 'enable', 'romio_cb_read': 'enable', 'romio_cb_write': 'disable', 'cb_buffer_size': '654311424'}, 'lfs': {'setstripe': {'size': 655360, 'count': 13}}}\n",
      "S3D-IO 200-400-400-2-4-4-1 643.94 3.81 6.07 826.45 19.07 23.63 0.54 0.30 655360 13 disable enable enable disable 654311424 \n",
      "\n",
      "826.45                                                                         \n",
      "{'loss': 0.0012099945550245023, 'hyperparameters': {'cb_buffer_size': 654311424.0, 'romio_cb_read': 'enable', 'romio_cb_write': 'disable', 'romio_ds_read': 'disable', 'romio_ds_write': 'enable', 'setstripe-count': 13.0, 'setstripe-size': 655360.0}, 'iteration': 3, 'iteration_time': 35.98846830613911, 'status': 'ok'}\n",
      " 20%|██        | 3/15 [02:05<09:00, 45.08s/it, best loss: 0.000997148156273059]"
     ]
    },
    {
     "name": "stderr",
     "output_type": "stream",
     "text": [
      "INFO:hyperopt.tpe:tpe_transform took 0.011342 seconds\n",
      "INFO:hyperopt.tpe:TPE using 3/3 trials with best loss 0.000997\n"
     ]
    },
    {
     "name": "stdout",
     "output_type": "stream",
     "text": [
      "{'mpi': {'romio_ds_read': 'disable', 'romio_ds_write': 'disable', 'romio_cb_read': 'enable', 'romio_cb_write': 'disable', 'cb_buffer_size': '633339904'}, 'lfs': {'setstripe': {'size': 131072, 'count': 19}}}\n",
      "S3D-IO 200-400-400-2-4-4-1 629.61 3.81 6.20 641.33 19.07 30.45 0.28 0.30 131072 19 disable disable enable disable 633339904 \n",
      "\n",
      "641.33                                                                         \n",
      "{'loss': 0.0015592596635117645, 'hyperparameters': {'cb_buffer_size': 633339904.0, 'romio_cb_read': 'enable', 'romio_cb_write': 'disable', 'romio_ds_read': 'disable', 'romio_ds_write': 'disable', 'setstripe-count': 19.0, 'setstripe-size': 131072.0}, 'iteration': 4, 'iteration_time': 42.375570479780436, 'status': 'ok'}\n",
      " 27%|██▋       | 4/15 [02:47<08:07, 44.28s/it, best loss: 0.000997148156273059]"
     ]
    },
    {
     "name": "stderr",
     "output_type": "stream",
     "text": [
      "INFO:hyperopt.tpe:tpe_transform took 0.127524 seconds\n",
      "INFO:hyperopt.tpe:TPE using 4/4 trials with best loss 0.000997\n"
     ]
    },
    {
     "name": "stdout",
     "output_type": "stream",
     "text": [
      "{'mpi': {'romio_ds_read': 'disable', 'romio_ds_write': 'enable', 'romio_cb_read': 'disable', 'romio_cb_write': 'enable', 'cb_buffer_size': '511705088'}, 'lfs': {'setstripe': {'size': 458752, 'count': 13}}}\n",
      "S3D-IO 200-400-400-2-4-4-1 556.54 3.81 7.02 865.70 19.07 22.56 0.31 0.13 458752 13 disable enable disable enable 511705088 \n",
      "\n",
      "865.7                                                                          \n",
      "{'loss': 0.0011551345731777751, 'hyperparameters': {'cb_buffer_size': 511705088.0, 'romio_cb_read': 'disable', 'romio_cb_write': 'enable', 'romio_ds_read': 'disable', 'romio_ds_write': 'enable', 'setstripe-count': 13.0, 'setstripe-size': 458752.0}, 'iteration': 5, 'iteration_time': 35.35548426397145, 'status': 'ok'}\n",
      " 33%|███▎      | 5/15 [03:22<06:56, 41.64s/it, best loss: 0.000997148156273059]"
     ]
    },
    {
     "name": "stderr",
     "output_type": "stream",
     "text": [
      "INFO:hyperopt.tpe:tpe_transform took 0.009754 seconds\n",
      "INFO:hyperopt.tpe:TPE using 5/5 trials with best loss 0.000997\n"
     ]
    },
    {
     "name": "stdout",
     "output_type": "stream",
     "text": [
      "{'mpi': {'romio_ds_read': 'enable', 'romio_ds_write': 'disable', 'romio_cb_read': 'disable', 'romio_cb_write': 'enable', 'cb_buffer_size': '717225984'}, 'lfs': {'setstripe': {'size': 327680, 'count': 19}}}\n",
      "S3D-IO 200-400-400-2-4-4-1 832.89 3.81 4.69 1123.60 19.07 17.38 0.07 0.16 327680 19 enable disable disable enable 717225984 \n",
      "\n",
      "1123.6                                                                         \n",
      "{'loss': 0.00088999644001424, 'hyperparameters': {'cb_buffer_size': 717225984.0, 'romio_cb_read': 'disable', 'romio_cb_write': 'enable', 'romio_ds_read': 'enable', 'romio_ds_write': 'disable', 'setstripe-count': 19.0, 'setstripe-size': 327680.0}, 'iteration': 6, 'iteration_time': 27.578420755453408, 'status': 'ok'}\n",
      " 40%|████      | 6/15 [03:50<05:36, 37.43s/it, best loss: 0.00088999644001424] "
     ]
    },
    {
     "name": "stderr",
     "output_type": "stream",
     "text": [
      "INFO:hyperopt.tpe:tpe_transform took 0.009490 seconds\n",
      "INFO:hyperopt.tpe:TPE using 6/6 trials with best loss 0.000890\n"
     ]
    },
    {
     "name": "stdout",
     "output_type": "stream",
     "text": [
      "{'mpi': {'romio_ds_read': 'disable', 'romio_ds_write': 'enable', 'romio_cb_read': 'disable', 'romio_cb_write': 'enable', 'cb_buffer_size': '373293056'}, 'lfs': {'setstripe': {'size': 851968, 'count': 17}}}\n",
      "S3D-IO 200-400-400-2-4-4-1 858.63 3.81 4.55 998.29 19.07 19.56 0.18 0.16 851968 17 disable enable disable enable 373293056 \n",
      "\n",
      "998.29                                                                        \n",
      "{'loss': 0.0010017129291087761, 'hyperparameters': {'cb_buffer_size': 373293056.0, 'romio_cb_read': 'disable', 'romio_cb_write': 'enable', 'romio_ds_read': 'disable', 'romio_ds_write': 'enable', 'setstripe-count': 17.0, 'setstripe-size': 851968.0}, 'iteration': 7, 'iteration_time': 29.70570599567145, 'status': 'ok'}\n",
      " 47%|████▋     | 7/15 [04:20<04:40, 35.12s/it, best loss: 0.00088999644001424]"
     ]
    },
    {
     "name": "stderr",
     "output_type": "stream",
     "text": [
      "INFO:hyperopt.tpe:tpe_transform took 0.012147 seconds\n",
      "INFO:hyperopt.tpe:TPE using 7/7 trials with best loss 0.000890\n"
     ]
    },
    {
     "name": "stdout",
     "output_type": "stream",
     "text": [
      "{'mpi': {'romio_ds_read': 'disable', 'romio_ds_write': 'enable', 'romio_cb_read': 'disable', 'romio_cb_write': 'disable', 'cb_buffer_size': '603979776'}, 'lfs': {'setstripe': {'size': 65536, 'count': 9}}}\n",
      "S3D-IO 200-400-400-2-4-4-1 949.63 3.81 4.11 1186.99 19.07 16.45 0.10 0.34 65536 9 disable enable disable disable 603979776 \n",
      "\n",
      "1186.99                                                                       \n",
      "{'loss': 0.0008424670805988256, 'hyperparameters': {'cb_buffer_size': 603979776.0, 'romio_cb_read': 'disable', 'romio_cb_write': 'disable', 'romio_ds_read': 'disable', 'romio_ds_write': 'enable', 'setstripe-count': 9.0, 'setstripe-size': 65536.0}, 'iteration': 8, 'iteration_time': 26.281006179749966, 'status': 'ok'}\n",
      " 53%|█████▎    | 8/15 [04:46<03:47, 32.48s/it, best loss: 0.0008424670805988256]"
     ]
    },
    {
     "name": "stderr",
     "output_type": "stream",
     "text": [
      "INFO:hyperopt.tpe:tpe_transform took 0.009871 seconds\n",
      "INFO:hyperopt.tpe:TPE using 8/8 trials with best loss 0.000842\n"
     ]
    },
    {
     "name": "stdout",
     "output_type": "stream",
     "text": [
      "{'mpi': {'romio_ds_read': 'disable', 'romio_ds_write': 'disable', 'romio_cb_read': 'enable', 'romio_cb_write': 'disable', 'cb_buffer_size': '788529152'}, 'lfs': {'setstripe': {'size': 1245184, 'count': 15}}}\n",
      "S3D-IO 200-400-400-2-4-4-1 846.95 3.81 4.61 1141.78 19.07 17.11 0.08 0.14 1245184 15 disable disable enable disable 788529152 \n",
      "\n",
      "1141.78                                                                         \n",
      "{'loss': 0.0008758254655012349, 'hyperparameters': {'cb_buffer_size': 788529152.0, 'romio_cb_read': 'enable', 'romio_cb_write': 'disable', 'romio_ds_read': 'disable', 'romio_ds_write': 'disable', 'setstripe-count': 15.0, 'setstripe-size': 1245184.0}, 'iteration': 9, 'iteration_time': 27.12000114005059, 'status': 'ok'}\n",
      " 60%|██████    | 9/15 [05:13<03:05, 30.88s/it, best loss: 0.0008424670805988256]"
     ]
    },
    {
     "name": "stderr",
     "output_type": "stream",
     "text": [
      "INFO:hyperopt.tpe:tpe_transform took 0.009677 seconds\n",
      "INFO:hyperopt.tpe:TPE using 9/9 trials with best loss 0.000842\n"
     ]
    },
    {
     "name": "stdout",
     "output_type": "stream",
     "text": [
      "{'mpi': {'romio_ds_read': 'disable', 'romio_ds_write': 'disable', 'romio_cb_read': 'disable', 'romio_cb_write': 'disable', 'cb_buffer_size': '729808896'}, 'lfs': {'setstripe': {'size': 983040, 'count': 15}}}\n",
      "S3D-IO 200-400-400-2-4-4-1 722.48 3.81 5.41 1012.08 19.07 19.30 0.08 0.26 983040 15 disable disable disable disable 729808896 \n",
      "\n",
      "1012.08                                                                         \n",
      "{'loss': 0.0009880641846494347, 'hyperparameters': {'cb_buffer_size': 729808896.0, 'romio_cb_read': 'disable', 'romio_cb_write': 'disable', 'romio_ds_read': 'disable', 'romio_ds_write': 'disable', 'setstripe-count': 15.0, 'setstripe-size': 983040.0}, 'iteration': 10, 'iteration_time': 30.291276899166405, 'status': 'ok'}\n",
      " 67%|██████▋   | 10/15 [05:44<02:33, 30.71s/it, best loss: 0.0008424670805988256]"
     ]
    },
    {
     "name": "stderr",
     "output_type": "stream",
     "text": [
      "INFO:hyperopt.tpe:tpe_transform took 0.009709 seconds\n",
      "INFO:hyperopt.tpe:TPE using 10/10 trials with best loss 0.000842\n"
     ]
    },
    {
     "name": "stdout",
     "output_type": "stream",
     "text": [
      "{'mpi': {'romio_ds_read': 'disable', 'romio_ds_write': 'enable', 'romio_cb_read': 'enable', 'romio_cb_write': 'enable', 'cb_buffer_size': '373293056'}, 'lfs': {'setstripe': {'size': 458752, 'count': 11}}}\n",
      "S3D-IO 200-400-400-2-4-4-1 502.99 3.81 7.77 543.41 19.07 35.94 0.11 1.13 458752 11 disable enable enable enable 373293056 \n",
      "\n",
      "543.41                                                                           \n",
      "{'loss': 0.0018402311330303087, 'hyperparameters': {'cb_buffer_size': 373293056.0, 'romio_cb_read': 'enable', 'romio_cb_write': 'enable', 'romio_ds_read': 'disable', 'romio_ds_write': 'enable', 'setstripe-count': 11.0, 'setstripe-size': 458752.0}, 'iteration': 11, 'iteration_time': 49.37948856782168, 'status': 'ok'}\n",
      " 73%|███████▎  | 11/15 [06:33<02:25, 36.32s/it, best loss: 0.0008424670805988256]"
     ]
    },
    {
     "name": "stderr",
     "output_type": "stream",
     "text": [
      "INFO:hyperopt.tpe:tpe_transform took 0.009753 seconds\n",
      "INFO:hyperopt.tpe:TPE using 11/11 trials with best loss 0.000842\n"
     ]
    },
    {
     "name": "stdout",
     "output_type": "stream",
     "text": [
      "{'mpi': {'romio_ds_read': 'disable', 'romio_ds_write': 'disable', 'romio_cb_read': 'disable', 'romio_cb_write': 'disable', 'cb_buffer_size': '721420288'}, 'lfs': {'setstripe': {'size': 131072, 'count': 5}}}\n",
      "S3D-IO 200-400-400-2-4-4-1 896.88 3.81 4.36 473.59 19.07 41.24 0.07 0.16 131072 5 disable disable disable disable 721420288 \n",
      "\n",
      "473.59                                                                           \n",
      "{'loss': 0.0021115310711797126, 'hyperparameters': {'cb_buffer_size': 721420288.0, 'romio_cb_read': 'disable', 'romio_cb_write': 'disable', 'romio_ds_read': 'disable', 'romio_ds_write': 'disable', 'setstripe-count': 5.0, 'setstripe-size': 131072.0}, 'iteration': 12, 'iteration_time': 51.071675955317914, 'status': 'ok'}\n",
      " 80%|████████  | 12/15 [07:24<02:02, 40.75s/it, best loss: 0.0008424670805988256]"
     ]
    },
    {
     "name": "stderr",
     "output_type": "stream",
     "text": [
      "INFO:hyperopt.tpe:tpe_transform took 0.009421 seconds\n",
      "INFO:hyperopt.tpe:TPE using 12/12 trials with best loss 0.000842\n"
     ]
    },
    {
     "name": "stdout",
     "output_type": "stream",
     "text": [
      "{'mpi': {'romio_ds_read': 'enable', 'romio_ds_write': 'enable', 'romio_cb_read': 'disable', 'romio_cb_write': 'enable', 'cb_buffer_size': '620756992'}, 'lfs': {'setstripe': {'size': 196608, 'count': 7}}}\n",
      "S3D-IO 200-400-400-2-4-4-1 852.04 3.81 4.58 1164.05 19.07 16.78 0.19 0.33 196608 7 enable enable disable enable 620756992 \n",
      "\n",
      "1164.05                                                                          \n",
      "{'loss': 0.0008590696275933165, 'hyperparameters': {'cb_buffer_size': 620756992.0, 'romio_cb_read': 'disable', 'romio_cb_write': 'enable', 'romio_ds_read': 'enable', 'romio_ds_write': 'enable', 'setstripe-count': 7.0, 'setstripe-size': 196608.0}, 'iteration': 13, 'iteration_time': 27.130868021398783, 'status': 'ok'}\n",
      " 87%|████████▋ | 13/15 [07:51<01:13, 36.67s/it, best loss: 0.0008424670805988256]"
     ]
    },
    {
     "name": "stderr",
     "output_type": "stream",
     "text": [
      "INFO:hyperopt.tpe:tpe_transform took 0.010722 seconds\n",
      "INFO:hyperopt.tpe:TPE using 13/13 trials with best loss 0.000842\n"
     ]
    },
    {
     "name": "stdout",
     "output_type": "stream",
     "text": [
      "{'mpi': {'romio_ds_read': 'disable', 'romio_ds_write': 'disable', 'romio_cb_read': 'enable', 'romio_cb_write': 'disable', 'cb_buffer_size': '499122176'}, 'lfs': {'setstripe': {'size': 262144, 'count': 16}}}\n",
      "S3D-IO 200-400-400-2-4-4-1 853.53 3.81 4.58 980.43 19.07 19.92 0.13 0.16 262144 16 disable disable enable disable 499122176 \n",
      "\n",
      "980.43                                                                           \n",
      "{'loss': 0.0010199606295197006, 'hyperparameters': {'cb_buffer_size': 499122176.0, 'romio_cb_read': 'enable', 'romio_cb_write': 'disable', 'romio_ds_read': 'disable', 'romio_ds_write': 'disable', 'setstripe-count': 16.0, 'setstripe-size': 262144.0}, 'iteration': 14, 'iteration_time': 30.230907284654677, 'status': 'ok'}\n",
      " 93%|█████████▎| 14/15 [08:21<00:34, 34.75s/it, best loss: 0.0008424670805988256]"
     ]
    },
    {
     "name": "stderr",
     "output_type": "stream",
     "text": [
      "INFO:hyperopt.tpe:tpe_transform took 0.009833 seconds\n",
      "INFO:hyperopt.tpe:TPE using 14/14 trials with best loss 0.000842\n"
     ]
    },
    {
     "name": "stdout",
     "output_type": "stream",
     "text": [
      "{'mpi': {'romio_ds_read': 'enable', 'romio_ds_write': 'disable', 'romio_cb_read': 'disable', 'romio_cb_write': 'enable', 'cb_buffer_size': '557842432'}, 'lfs': {'setstripe': {'size': 1114112, 'count': 18}}}\n",
      "S3D-IO 200-400-400-2-4-4-1 861.93 3.81 4.53 1110.49 19.07 17.59 0.16 0.34 1114112 18 enable disable disable enable 557842432 \n",
      "\n",
      "1110.49                                                                          \n",
      "{'loss': 0.0009005033813901971, 'hyperparameters': {'cb_buffer_size': 557842432.0, 'romio_cb_read': 'disable', 'romio_cb_write': 'enable', 'romio_ds_read': 'enable', 'romio_ds_write': 'disable', 'setstripe-count': 18.0, 'setstripe-size': 1114112.0}, 'iteration': 15, 'iteration_time': 27.959081003442407, 'status': 'ok'}\n",
      "100%|██████████| 15/15 [08:49<00:00, 32.72s/it, best loss: 0.0008424670805988256]\n"
     ]
    }
   ],
   "source": [
    "from hyperopt import tpe\n",
    "\n",
    "# Create the algorithm\n",
    "tpe_algorithm = tpe.suggest\n",
    "\n",
    "\n",
    "from hyperopt import Trials\n",
    "\n",
    "# Record results\n",
    "trials = Trials()\n",
    "\n",
    "from hyperopt import fmin\n",
    "\n",
    "\n",
    "ITERATION = 0\n",
    "\n",
    "best = fmin(fn = objective, space = space, algo = tpe.suggest, trials = trials, max_evals = MAX_EVALS)"
   ]
  },
  {
   "cell_type": "code",
   "execution_count": 114,
   "metadata": {},
   "outputs": [
    {
     "name": "stdout",
     "output_type": "stream",
     "text": [
      "{'cb_buffer_size': 576.0, 'romio_cb_read': 1, 'romio_cb_write': 1, 'romio_ds_read': 1, 'romio_ds_write': 0, 'setstripe-count': 9.0, 'setstripe-size': 1.0}\n"
     ]
    }
   ],
   "source": [
    "print(best)\n",
    "d=  best"
   ]
  },
  {
   "cell_type": "code",
   "execution_count": null,
   "metadata": {},
   "outputs": [],
   "source": []
  },
  {
   "cell_type": "code",
   "execution_count": null,
   "metadata": {},
   "outputs": [],
   "source": []
  },
  {
   "cell_type": "code",
   "execution_count": null,
   "metadata": {},
   "outputs": [],
   "source": []
  }
 ],
 "metadata": {
  "kernelspec": {
   "display_name": "Python 3",
   "language": "python",
   "name": "python3"
  },
  "language_info": {
   "codemirror_mode": {
    "name": "ipython",
    "version": 3
   },
   "file_extension": ".py",
   "mimetype": "text/x-python",
   "name": "python",
   "nbconvert_exporter": "python",
   "pygments_lexer": "ipython3",
   "version": "3.6.7"
  }
 },
 "nbformat": 4,
 "nbformat_minor": 2
}
