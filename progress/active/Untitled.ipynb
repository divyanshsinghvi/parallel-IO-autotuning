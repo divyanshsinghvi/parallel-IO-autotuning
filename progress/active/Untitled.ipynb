{
 "cells": [
  {
   "cell_type": "code",
   "execution_count": 137,
   "metadata": {},
   "outputs": [
    {
     "name": "stderr",
     "output_type": "stream",
     "text": [
      "DEBUG:matplotlib.pyplot:Loaded backend module://ipykernel.pylab.backend_inline version unknown.\n"
     ]
    }
   ],
   "source": [
    "# Data manipulation\n",
    "import pandas as pd\n",
    "import numpy as np\n",
    "# Evaluation of the model\n",
    "from sklearn.model_selection import KFold, train_test_split\n",
    "from sklearn.metrics import roc_auc_score\n",
    "\n",
    "# Visualization\n",
    "import matplotlib.pyplot as plt\n",
    "import seaborn as sns\n",
    "plt.rcParams['font.size'] = 18\n",
    "%matplotlib inline\n",
    "\n",
    "MAX_EVALS = 20\n",
    "import csv\n",
    "from hyperopt import STATUS_OK\n",
    "from timeit import default_timer as timer\n",
    "\n"
   ]
  },
  {
   "cell_type": "code",
   "execution_count": 138,
   "metadata": {},
   "outputs": [],
   "source": [
    "import json\n",
    "import shlex\n",
    "import subprocess\n",
    "import logging\n",
    "from pprint import pprint\n",
    "import re\n",
    "import os\n"
   ]
  },
  {
   "cell_type": "code",
   "execution_count": 139,
   "metadata": {},
   "outputs": [],
   "source": [
    "def runthebenchmark(hyperparameters):\n",
    "    os.chdir('/home/dsinghvi/project/progress/active/../')\n",
    "    storeinfile(hyperparameters)\n",
    "    out=subprocess.Popen([\"python3\",\"read_config_general.py\",\"-n 8\",\"-c400 400 800 4 4 4 1\"], shell=False, stdout=subprocess.PIPE)\n",
    "    logging.basicConfig(level=logging.DEBUG)\n",
    "    output=out.stdout.read().decode('utf-8')\n",
    "    print(\"output\"+output)\n",
    "    if len(output.split(\" \")) > 5:\n",
    "        value = output.split(\" \")[5]\n",
    "        value = float(value)\n",
    "        print(value)\n",
    "        return float(1/value)\n",
    "    return 0;\n",
    "    #logging.basicConfig(filename='app.log', filemode='a', format='%(name)s - %(levelname)s - %(message)s',level=logging.DEBUG)\n"
   ]
  },
  {
   "cell_type": "code",
   "execution_count": 140,
   "metadata": {},
   "outputs": [],
   "source": [
    "def storeinfile(hyperparameters):\n",
    "    data={\"mpi\": {\"romio_ds_read\": \"enable\", \"romio_ds_write\": \"disable\"}, \"lfs\": {\"setstripe\": {\"size\": \"16777216\", \"count\": 4}}}\n",
    "    data[\"lfs\"][\"setstripe\"][\"size\"] = int(hyperparameters[\"setstripe-size\"])\n",
    "    data[\"lfs\"][\"setstripe\"][\"count\"] = int(hyperparameters[\"setstripe-count\"])\n",
    "\n",
    "    data[\"mpi\"][\"romio_ds_read\"] = hyperparameters[\"romio_ds_read\"]\n",
    "    data[\"mpi\"][\"romio_ds_write\"] = hyperparameters[\"romio_ds_write\"]\n",
    "    data[\"mpi\"][\"romio_cb_read\"] = hyperparameters[\"romio_cb_read\"]\n",
    "    data[\"mpi\"][\"romio_cb_write\"] = hyperparameters[\"romio_cb_write\"]\n",
    "    data[\"mpi\"][\"cb_buffer_size\"] = str(int(hyperparameters[\"cb_buffer_size\"]))\n",
    "    with open(\"confex.json\",\"w\") as fp:\n",
    "        json.dump(data,fp)\n",
    "    print(data)\n"
   ]
  },
  {
   "cell_type": "code",
   "execution_count": 141,
   "metadata": {},
   "outputs": [],
   "source": [
    "def objective(hyperparameters):\n",
    "    global ITERATION\n",
    "    ITERATION += 1\n",
    "    start = timer()\n",
    "    result=0\n",
    "    while(result == 0):\n",
    "        print(\"rerun\")\n",
    "        result = runthebenchmark(hyperparameters)\n",
    "        print(result)\n",
    "    run_time = timer() - start\n",
    "    print({'loss': result, 'hyperparameters': hyperparameters, 'iteration': ITERATION, 'iteration_time': run_time, 'status': STATUS_OK})\n",
    "    # Write to the csv file ('a' means append)\n",
    "    of_connection = open(out_file, 'a')\n",
    "    writer = csv.writer(of_connection)\n",
    "    writer.writerow([float(result), hyperparameters, ITERATION, run_time])\n",
    "    return {'loss': float(result), 'hyperparameters': hyperparameters, 'iteration': ITERATION, 'iteration_time': run_time, 'status': STATUS_OK}\n"
   ]
  },
  {
   "cell_type": "code",
   "execution_count": 142,
   "metadata": {},
   "outputs": [],
   "source": [
    "from hyperopt import hp\n",
    "from hyperopt.pyll.stochastic import sample\n",
    "\n",
    "space = {\n",
    "    'romio_ds_read' : hp.choice('romio_ds_read',['enable']),\n",
    "    'romio_ds_write' : hp.choice('romio_ds_write',['enable']),\n",
    "    'romio_cb_read' : hp.choice('romio_cb_read',['enable']),\n",
    "    'romio_cb_write' : hp.choice('romio_cb_write',['enable']),\n",
    "    'cb_buffer_size' : 1048576*hp.quniform('cb_buffer_size',1,512,1),\n",
    "    'setstripe-size' : 65536*(hp.qloguniform('setstripe-size',0,3,1)),\n",
    "    'setstripe-count' : hp.quniform('setstripe-count',0,20,1)\n",
    "    \n",
    "}"
   ]
  },
  {
   "cell_type": "code",
   "execution_count": 143,
   "metadata": {},
   "outputs": [
    {
     "name": "stdout",
     "output_type": "stream",
     "text": [
      "{'cb_buffer_size': 397410304.0, 'romio_cb_read': 'enable', 'romio_cb_write': 'enable', 'romio_ds_read': 'enable', 'romio_ds_write': 'enable', 'setstripe-count': 1.0, 'setstripe-size': 196608.0}\n"
     ]
    }
   ],
   "source": [
    "x = sample(space)\n",
    "params = x\n",
    "print(x)\n",
    "cb_buffer_size_dist = []\n",
    "for _ in range(30):\n",
    "    cb_buffer_size_dist.append(sample(space)['cb_buffer_size'])"
   ]
  },
  {
   "cell_type": "code",
   "execution_count": 144,
   "metadata": {},
   "outputs": [],
   "source": [
    "from hyperopt import tpe\n",
    "\n",
    "# Create the algorithm\n",
    "tpe_algorithm = tpe.suggest\n",
    "\n",
    "\n",
    "from hyperopt import Trials\n",
    "\n",
    "# Record results\n",
    "bayes_trials = Trials()"
   ]
  },
  {
   "cell_type": "code",
   "execution_count": 145,
   "metadata": {},
   "outputs": [
    {
     "name": "stdout",
     "output_type": "stream",
     "text": [
      "/home/dsinghvi/project/progress\n"
     ]
    }
   ],
   "source": [
    "# File to save first results\n",
    "print(os.getcwd())\n",
    "out_file = '/home/dsinghvi/project/progress/active/result/gbm_trials.csv'\n",
    "of_connection = open(out_file, 'w')\n",
    "writer = csv.writer(of_connection)\n",
    "writer.writerow(['loss', 'params', 'iteration', 'train_time'])\n",
    "of_connection.close()"
   ]
  },
  {
   "cell_type": "code",
   "execution_count": null,
   "metadata": {},
   "outputs": [
    {
     "name": "stdout",
     "output_type": "stream",
     "text": [
      "\r",
      "  0%|          | 0/20 [00:00<?, ?it/s, best loss: ?]"
     ]
    },
    {
     "name": "stderr",
     "output_type": "stream",
     "text": [
      "INFO:hyperopt.tpe:tpe_transform took 0.008683 seconds\n",
      "INFO:hyperopt.tpe:TPE using 0 trials\n"
     ]
    },
    {
     "name": "stdout",
     "output_type": "stream",
     "text": [
      "rerun                                               \n",
      "{'mpi': {'romio_ds_read': 'enable', 'romio_ds_write': 'enable', 'romio_cb_read': 'enable', 'romio_cb_write': 'enable', 'cb_buffer_size': '38797312'}, 'lfs': {'setstripe': {'size': 458752, 'count': 9}}}\n",
      "outputS3D-IO 400-400-800-4-4-4-1 1125.01 15.26 13.89 543.22 45.78 86.29 0.17 0.14 458752 9 enable enable enable enable 38797312 \n",
      "\n",
      "543.22                                              \n",
      "0.0018408747836972127                               \n",
      "{'loss': 0.0018408747836972127, 'hyperparameters': {'cb_buffer_size': 38797312.0, 'romio_cb_read': 'enable', 'romio_cb_write': 'enable', 'romio_ds_read': 'enable', 'romio_ds_write': 'enable', 'setstripe-count': 9.0, 'setstripe-size': 458752.0}, 'iteration': 1, 'iteration_time': 106.43382771220058, 'status': 'ok'}\n",
      "  5%|▌         | 1/20 [01:46<33:42, 106.46s/it, best loss: 0.0018408747836972127]"
     ]
    },
    {
     "name": "stderr",
     "output_type": "stream",
     "text": [
      "INFO:hyperopt.tpe:tpe_transform took 0.010063 seconds\n",
      "INFO:hyperopt.tpe:TPE using 1/1 trials with best loss 0.001841\n"
     ]
    },
    {
     "name": "stdout",
     "output_type": "stream",
     "text": [
      "rerun                                                                            \n",
      "{'mpi': {'romio_ds_read': 'enable', 'romio_ds_write': 'enable', 'romio_cb_read': 'enable', 'romio_cb_write': 'enable', 'cb_buffer_size': '386924544'}, 'lfs': {'setstripe': {'size': 131072, 'count': 10}}}\n",
      "outputS3D-IO 400-400-800-4-4-4-1 1095.57 15.26 14.26 1329.65 45.78 35.25 0.28 0.34 131072 10 enable enable enable enable 386924544 \n",
      "\n",
      "1329.65                                                                          \n",
      "0.0007520776144098071                                                            \n",
      "{'loss': 0.0007520776144098071, 'hyperparameters': {'cb_buffer_size': 386924544.0, 'romio_cb_read': 'enable', 'romio_cb_write': 'enable', 'romio_ds_read': 'enable', 'romio_ds_write': 'enable', 'setstripe-count': 10.0, 'setstripe-size': 131072.0}, 'iteration': 2, 'iteration_time': 55.68092682491988, 'status': 'ok'}\n",
      " 10%|█         | 2/20 [02:42<27:22, 91.24s/it, best loss: 0.0007520776144098071] "
     ]
    },
    {
     "name": "stderr",
     "output_type": "stream",
     "text": [
      "INFO:hyperopt.tpe:tpe_transform took 0.009095 seconds\n",
      "INFO:hyperopt.tpe:TPE using 2/2 trials with best loss 0.000752\n"
     ]
    },
    {
     "name": "stdout",
     "output_type": "stream",
     "text": [
      "rerun                                                                           \n",
      "{'mpi': {'romio_ds_read': 'enable', 'romio_ds_write': 'enable', 'romio_cb_read': 'enable', 'romio_cb_write': 'enable', 'cb_buffer_size': '490733568'}, 'lfs': {'setstripe': {'size': 131072, 'count': 18}}}\n",
      "outputS3D-IO 400-400-800-4-4-4-1 1228.80 15.26 12.72 1209.86 45.78 38.74 0.06 0.29 131072 18 enable enable enable enable 490733568 \n",
      "\n",
      "1209.86                                                                         \n",
      "0.000826541913940456                                                            \n",
      "{'loss': 0.000826541913940456, 'hyperparameters': {'cb_buffer_size': 490733568.0, 'romio_cb_read': 'enable', 'romio_cb_write': 'enable', 'romio_ds_read': 'enable', 'romio_ds_write': 'enable', 'setstripe-count': 18.0, 'setstripe-size': 131072.0}, 'iteration': 3, 'iteration_time': 57.20179736986756, 'status': 'ok'}\n",
      " 15%|█▌        | 3/20 [03:39<22:57, 81.04s/it, best loss: 0.0007520776144098071]"
     ]
    },
    {
     "name": "stderr",
     "output_type": "stream",
     "text": [
      "INFO:hyperopt.tpe:tpe_transform took 0.010501 seconds\n",
      "INFO:hyperopt.tpe:TPE using 3/3 trials with best loss 0.000752\n"
     ]
    },
    {
     "name": "stdout",
     "output_type": "stream",
     "text": [
      "rerun                                                                           \n",
      "{'mpi': {'romio_ds_read': 'enable', 'romio_ds_write': 'enable', 'romio_cb_read': 'enable', 'romio_cb_write': 'enable', 'cb_buffer_size': '396361728'}, 'lfs': {'setstripe': {'size': 524288, 'count': 11}}}\n",
      "outputS3D-IO 400-400-800-4-4-4-1 1142.37 15.26 13.68 1150.46 45.78 40.74 0.17 0.22 524288 11 enable enable enable enable 396361728 \n",
      "\n",
      "1150.46                                                                         \n",
      "0.0008692175303791526                                                           \n",
      "{'loss': 0.0008692175303791526, 'hyperparameters': {'cb_buffer_size': 396361728.0, 'romio_cb_read': 'enable', 'romio_cb_write': 'enable', 'romio_ds_read': 'enable', 'romio_ds_write': 'enable', 'setstripe-count': 11.0, 'setstripe-size': 524288.0}, 'iteration': 4, 'iteration_time': 60.51825467776507, 'status': 'ok'}\n",
      " 20%|██        | 4/20 [04:39<19:58, 74.89s/it, best loss: 0.0007520776144098071]"
     ]
    },
    {
     "name": "stderr",
     "output_type": "stream",
     "text": [
      "INFO:hyperopt.tpe:tpe_transform took 0.009377 seconds\n",
      "INFO:hyperopt.tpe:TPE using 4/4 trials with best loss 0.000752\n"
     ]
    },
    {
     "name": "stdout",
     "output_type": "stream",
     "text": [
      "rerun                                                                           \n",
      "{'mpi': {'romio_ds_read': 'enable', 'romio_ds_write': 'enable', 'romio_cb_read': 'enable', 'romio_cb_write': 'enable', 'cb_buffer_size': '149946368'}, 'lfs': {'setstripe': {'size': 196608, 'count': 20}}}\n",
      "outputS3D-IO 400-400-800-4-4-4-1 401.70 15.26 38.90 1060.00 45.78 44.22 0.20 0.29 196608 20 enable enable enable enable 149946368 \n",
      "\n",
      "1060.0                                                                          \n",
      "0.0009433962264150943                                                           \n",
      "{'loss': 0.0009433962264150943, 'hyperparameters': {'cb_buffer_size': 149946368.0, 'romio_cb_read': 'enable', 'romio_cb_write': 'enable', 'romio_ds_read': 'enable', 'romio_ds_write': 'enable', 'setstripe-count': 20.0, 'setstripe-size': 196608.0}, 'iteration': 5, 'iteration_time': 89.13300476688892, 'status': 'ok'}\n",
      " 25%|██▌       | 5/20 [06:09<19:47, 79.17s/it, best loss: 0.0007520776144098071]"
     ]
    },
    {
     "name": "stderr",
     "output_type": "stream",
     "text": [
      "INFO:hyperopt.tpe:tpe_transform took 0.009137 seconds\n",
      "INFO:hyperopt.tpe:TPE using 5/5 trials with best loss 0.000752\n"
     ]
    },
    {
     "name": "stdout",
     "output_type": "stream",
     "text": [
      "rerun                                                                           \n",
      "{'mpi': {'romio_ds_read': 'enable', 'romio_ds_write': 'enable', 'romio_cb_read': 'enable', 'romio_cb_write': 'enable', 'cb_buffer_size': '296747008'}, 'lfs': {'setstripe': {'size': 196608, 'count': 1}}}\n",
      "outputS3D-IO 400-400-800-4-4-4-1 408.79 15.26 38.22 584.80 45.78 80.16 0.07 0.67 196608 1 enable enable enable enable 296747008 \n",
      "\n",
      "584.8                                                                           \n",
      "0.0017099863201094393                                                           \n",
      "{'loss': 0.0017099863201094393, 'hyperparameters': {'cb_buffer_size': 296747008.0, 'romio_cb_read': 'enable', 'romio_cb_write': 'enable', 'romio_ds_read': 'enable', 'romio_ds_write': 'enable', 'setstripe-count': 1.0, 'setstripe-size': 196608.0}, 'iteration': 6, 'iteration_time': 124.54356175009161, 'status': 'ok'}\n",
      " 30%|███       | 6/20 [08:13<21:39, 92.79s/it, best loss: 0.0007520776144098071]"
     ]
    },
    {
     "name": "stderr",
     "output_type": "stream",
     "text": [
      "INFO:hyperopt.tpe:tpe_transform took 0.010652 seconds\n",
      "INFO:hyperopt.tpe:TPE using 6/6 trials with best loss 0.000752\n"
     ]
    },
    {
     "name": "stdout",
     "output_type": "stream",
     "text": [
      "rerun                                                                           \n",
      "{'mpi': {'romio_ds_read': 'enable', 'romio_ds_write': 'enable', 'romio_cb_read': 'enable', 'romio_cb_write': 'enable', 'cb_buffer_size': '90177536'}, 'lfs': {'setstripe': {'size': 983040, 'count': 20}}}\n",
      "outputS3D-IO 400-400-800-4-4-4-1 767.77 15.26 20.35 838.60 45.78 55.90 0.06 0.21 983040 20 enable enable enable enable 90177536 \n",
      "\n",
      "838.6                                                                           \n",
      "0.0011924636298592892                                                           \n",
      "{'loss': 0.0011924636298592892, 'hyperparameters': {'cb_buffer_size': 90177536.0, 'romio_cb_read': 'enable', 'romio_cb_write': 'enable', 'romio_ds_read': 'enable', 'romio_ds_write': 'enable', 'setstripe-count': 20.0, 'setstripe-size': 983040.0}, 'iteration': 7, 'iteration_time': 82.09448842983693, 'status': 'ok'}\n",
      " 35%|███▌      | 7/20 [09:35<19:24, 89.59s/it, best loss: 0.0007520776144098071]"
     ]
    },
    {
     "name": "stderr",
     "output_type": "stream",
     "text": [
      "INFO:hyperopt.tpe:tpe_transform took 0.009619 seconds\n",
      "INFO:hyperopt.tpe:TPE using 7/7 trials with best loss 0.000752\n"
     ]
    },
    {
     "name": "stdout",
     "output_type": "stream",
     "text": [
      "rerun                                                                           \n",
      "{'mpi': {'romio_ds_read': 'enable', 'romio_ds_write': 'enable', 'romio_cb_read': 'enable', 'romio_cb_write': 'enable', 'cb_buffer_size': '529530880'}, 'lfs': {'setstripe': {'size': 65536, 'count': 2}}}\n",
      "outputS3D-IO 400-400-800-4-4-4-1 1118.92 15.26 13.96 787.96 45.78 59.49 0.06 0.77 65536 2 enable enable enable enable 529530880 \n",
      "\n",
      "787.96                                                                          \n",
      "0.0012690999543124015                                                           \n",
      "{'loss': 0.0012690999543124015, 'hyperparameters': {'cb_buffer_size': 529530880.0, 'romio_cb_read': 'enable', 'romio_cb_write': 'enable', 'romio_ds_read': 'enable', 'romio_ds_write': 'enable', 'setstripe-count': 2.0, 'setstripe-size': 65536.0}, 'iteration': 8, 'iteration_time': 79.69128688238561, 'status': 'ok'}\n",
      " 40%|████      | 8/20 [10:55<17:19, 86.63s/it, best loss: 0.0007520776144098071]"
     ]
    },
    {
     "name": "stderr",
     "output_type": "stream",
     "text": [
      "INFO:hyperopt.tpe:tpe_transform took 0.004840 seconds\n",
      "INFO:hyperopt.tpe:TPE using 8/8 trials with best loss 0.000752\n"
     ]
    },
    {
     "name": "stdout",
     "output_type": "stream",
     "text": [
      "rerun                                                                           \n",
      "{'mpi': {'romio_ds_read': 'enable', 'romio_ds_write': 'enable', 'romio_cb_read': 'enable', 'romio_cb_write': 'enable', 'cb_buffer_size': '475004928'}, 'lfs': {'setstripe': {'size': 458752, 'count': 18}}}\n",
      "outputS3D-IO 400-400-800-4-4-4-1 711.43 15.26 21.96 1383.99 45.78 33.87 0.37 0.41 458752 18 enable enable enable enable 475004928 \n",
      "\n",
      "1383.99                                                                         \n",
      "0.000722548573327842                                                            \n",
      "{'loss': 0.000722548573327842, 'hyperparameters': {'cb_buffer_size': 475004928.0, 'romio_cb_read': 'enable', 'romio_cb_write': 'enable', 'romio_ds_read': 'enable', 'romio_ds_write': 'enable', 'setstripe-count': 18.0, 'setstripe-size': 458752.0}, 'iteration': 9, 'iteration_time': 61.99004308972508, 'status': 'ok'}\n",
      " 45%|████▌     | 9/20 [11:57<14:31, 79.24s/it, best loss: 0.000722548573327842] "
     ]
    },
    {
     "name": "stderr",
     "output_type": "stream",
     "text": [
      "INFO:hyperopt.tpe:tpe_transform took 0.009263 seconds\n",
      "INFO:hyperopt.tpe:TPE using 9/9 trials with best loss 0.000723\n"
     ]
    },
    {
     "name": "stdout",
     "output_type": "stream",
     "text": [
      "rerun                                                                          \n",
      "{'mpi': {'romio_ds_read': 'enable', 'romio_ds_write': 'enable', 'romio_cb_read': 'enable', 'romio_cb_write': 'enable', 'cb_buffer_size': '211812352'}, 'lfs': {'setstripe': {'size': 393216, 'count': 19}}}\n",
      "outputS3D-IO 400-400-800-4-4-4-1 1070.83 15.26 14.59 1170.36 45.78 40.05 0.06 0.41 393216 19 enable enable enable enable 211812352 \n",
      "\n",
      "1170.36                                                                        \n",
      "0.000854437950716019                                                           \n",
      "{'loss': 0.000854437950716019, 'hyperparameters': {'cb_buffer_size': 211812352.0, 'romio_cb_read': 'enable', 'romio_cb_write': 'enable', 'romio_ds_read': 'enable', 'romio_ds_write': 'enable', 'setstripe-count': 19.0, 'setstripe-size': 393216.0}, 'iteration': 10, 'iteration_time': 60.48078168928623, 'status': 'ok'}\n",
      " 50%|█████     | 10/20 [12:58<12:16, 73.62s/it, best loss: 0.000722548573327842]"
     ]
    },
    {
     "name": "stderr",
     "output_type": "stream",
     "text": [
      "INFO:hyperopt.tpe:tpe_transform took 0.013183 seconds\n",
      "INFO:hyperopt.tpe:TPE using 10/10 trials with best loss 0.000723\n"
     ]
    },
    {
     "name": "stdout",
     "output_type": "stream",
     "text": [
      "rerun                                                                           \n",
      "{'mpi': {'romio_ds_read': 'enable', 'romio_ds_write': 'enable', 'romio_cb_read': 'enable', 'romio_cb_write': 'enable', 'cb_buffer_size': '506462208'}, 'lfs': {'setstripe': {'size': 917504, 'count': 10}}}\n",
      "outputS3D-IO 400-400-800-4-4-4-1 401.10 15.26 38.96 1069.99 45.78 43.81 0.18 0.15 917504 10 enable enable enable enable 506462208 \n",
      "\n",
      "1069.99                                                                         \n",
      "0.0009345881737212497                                                           \n",
      "{'loss': 0.0009345881737212497, 'hyperparameters': {'cb_buffer_size': 506462208.0, 'romio_cb_read': 'enable', 'romio_cb_write': 'enable', 'romio_ds_read': 'enable', 'romio_ds_write': 'enable', 'setstripe-count': 10.0, 'setstripe-size': 917504.0}, 'iteration': 11, 'iteration_time': 88.87770444061607, 'status': 'ok'}\n",
      " 55%|█████▌    | 11/20 [14:26<11:43, 78.21s/it, best loss: 0.000722548573327842]"
     ]
    },
    {
     "name": "stderr",
     "output_type": "stream",
     "text": [
      "INFO:hyperopt.tpe:tpe_transform took 0.009156 seconds\n",
      "INFO:hyperopt.tpe:TPE using 11/11 trials with best loss 0.000723\n"
     ]
    },
    {
     "name": "stdout",
     "output_type": "stream",
     "text": [
      "rerun                                                                           \n",
      "{'mpi': {'romio_ds_read': 'enable', 'romio_ds_write': 'enable', 'romio_cb_read': 'enable', 'romio_cb_write': 'enable', 'cb_buffer_size': '185597952'}, 'lfs': {'setstripe': {'size': 65536, 'count': 13}}}\n",
      "outputS3D-IO 400-400-800-4-4-4-1 1120.55 15.26 13.94 1203.52 45.78 38.95 0.29 0.07 65536 13 enable enable enable enable 185597952 \n",
      "\n",
      "1203.52                                                                         \n",
      "0.0008308960382876894                                                           \n",
      "{'loss': 0.0008308960382876894, 'hyperparameters': {'cb_buffer_size': 185597952.0, 'romio_cb_read': 'enable', 'romio_cb_write': 'enable', 'romio_ds_read': 'enable', 'romio_ds_write': 'enable', 'setstripe-count': 13.0, 'setstripe-size': 65536.0}, 'iteration': 12, 'iteration_time': 58.96236936468631, 'status': 'ok'}\n",
      " 60%|██████    | 12/20 [15:25<09:39, 72.44s/it, best loss: 0.000722548573327842]"
     ]
    },
    {
     "name": "stderr",
     "output_type": "stream",
     "text": [
      "INFO:hyperopt.tpe:tpe_transform took 0.009083 seconds\n",
      "INFO:hyperopt.tpe:TPE using 12/12 trials with best loss 0.000723\n"
     ]
    },
    {
     "name": "stdout",
     "output_type": "stream",
     "text": [
      "rerun                                                                           \n",
      "{'mpi': {'romio_ds_read': 'enable', 'romio_ds_write': 'enable', 'romio_cb_read': 'enable', 'romio_cb_write': 'enable', 'cb_buffer_size': '212860928'}, 'lfs': {'setstripe': {'size': 851968, 'count': 18}}}\n",
      "outputS3D-IO 400-400-800-4-4-4-1 394.06 15.26 39.65 1173.39 45.78 39.95 0.24 0.36 851968 18 enable enable enable enable 212860928 \n",
      "\n",
      "1173.39                                                                         \n",
      "0.0008522315683617552                                                           \n",
      "{'loss': 0.0008522315683617552, 'hyperparameters': {'cb_buffer_size': 212860928.0, 'romio_cb_read': 'enable', 'romio_cb_write': 'enable', 'romio_ds_read': 'enable', 'romio_ds_write': 'enable', 'setstripe-count': 18.0, 'setstripe-size': 851968.0}, 'iteration': 13, 'iteration_time': 85.70896150171757, 'status': 'ok'}\n",
      " 65%|██████▌   | 13/20 [16:51<08:55, 76.43s/it, best loss: 0.000722548573327842]"
     ]
    },
    {
     "name": "stderr",
     "output_type": "stream",
     "text": [
      "INFO:hyperopt.tpe:tpe_transform took 0.004815 seconds\n",
      "INFO:hyperopt.tpe:TPE using 13/13 trials with best loss 0.000723\n"
     ]
    },
    {
     "name": "stdout",
     "output_type": "stream",
     "text": [
      "rerun                                                                           \n",
      "{'mpi': {'romio_ds_read': 'enable', 'romio_ds_write': 'enable', 'romio_cb_read': 'enable', 'romio_cb_write': 'enable', 'cb_buffer_size': '200278016'}, 'lfs': {'setstripe': {'size': 65536, 'count': 17}}}\n",
      "outputS3D-IO 400-400-800-4-4-4-1 1145.19 15.26 13.64 1134.84 45.78 41.31 0.22 0.18 65536 17 enable enable enable enable 200278016 \n",
      "\n",
      "1134.84                                                                         \n",
      "0.0008811814881392972                                                           \n",
      "{'loss': 0.0008811814881392972, 'hyperparameters': {'cb_buffer_size': 200278016.0, 'romio_cb_read': 'enable', 'romio_cb_write': 'enable', 'romio_ds_read': 'enable', 'romio_ds_write': 'enable', 'setstripe-count': 17.0, 'setstripe-size': 65536.0}, 'iteration': 14, 'iteration_time': 60.86185788176954, 'status': 'ok'}\n",
      " 70%|███████   | 14/20 [17:52<07:10, 71.77s/it, best loss: 0.000722548573327842]"
     ]
    },
    {
     "name": "stderr",
     "output_type": "stream",
     "text": [
      "INFO:hyperopt.tpe:tpe_transform took 0.009359 seconds\n",
      "INFO:hyperopt.tpe:TPE using 14/14 trials with best loss 0.000723\n"
     ]
    },
    {
     "name": "stdout",
     "output_type": "stream",
     "text": [
      "rerun                                                                           \n",
      "{'mpi': {'romio_ds_read': 'enable', 'romio_ds_write': 'enable', 'romio_cb_read': 'enable', 'romio_cb_write': 'enable', 'cb_buffer_size': '192937984'}, 'lfs': {'setstripe': {'size': 655360, 'count': 0}}}\n",
      "outputS3D-IO 400-400-800-4-4-4-1 1061.96 15.26 14.71 550.05 45.78 85.22 0.14 0.36 655360 0 enable enable enable enable 192937984 \n",
      "\n",
      "550.05                                                                          \n",
      "0.0018180165439505502                                                           \n",
      "{'loss': 0.0018180165439505502, 'hyperparameters': {'cb_buffer_size': 192937984.0, 'romio_cb_read': 'enable', 'romio_cb_write': 'enable', 'romio_ds_read': 'enable', 'romio_ds_write': 'enable', 'setstripe-count': 0.0, 'setstripe-size': 655360.0}, 'iteration': 15, 'iteration_time': 105.80711520649493, 'status': 'ok'}\n",
      " 75%|███████▌  | 15/20 [19:38<06:49, 81.99s/it, best loss: 0.000722548573327842]"
     ]
    },
    {
     "name": "stderr",
     "output_type": "stream",
     "text": [
      "INFO:hyperopt.tpe:tpe_transform took 0.009408 seconds\n",
      "INFO:hyperopt.tpe:TPE using 15/15 trials with best loss 0.000723\n"
     ]
    },
    {
     "name": "stdout",
     "output_type": "stream",
     "text": [
      "rerun                                                                           \n",
      "{'mpi': {'romio_ds_read': 'enable', 'romio_ds_write': 'enable', 'romio_cb_read': 'enable', 'romio_cb_write': 'enable', 'cb_buffer_size': '312475648'}, 'lfs': {'setstripe': {'size': 131072, 'count': 9}}}\n",
      "outputS3D-IO 400-400-800-4-4-4-1 820.82 15.26 19.04 1192.24 45.78 39.32 0.09 0.56 131072 9 enable enable enable enable 312475648 \n",
      "\n",
      "1192.24                                                                         \n",
      "0.0008387572971884855                                                           \n",
      "{'loss': 0.0008387572971884855, 'hyperparameters': {'cb_buffer_size': 312475648.0, 'romio_cb_read': 'enable', 'romio_cb_write': 'enable', 'romio_ds_read': 'enable', 'romio_ds_write': 'enable', 'setstripe-count': 9.0, 'setstripe-size': 131072.0}, 'iteration': 16, 'iteration_time': 64.20483140088618, 'status': 'ok'}\n",
      " 80%|████████  | 16/20 [20:42<05:06, 76.66s/it, best loss: 0.000722548573327842]"
     ]
    },
    {
     "name": "stderr",
     "output_type": "stream",
     "text": [
      "INFO:hyperopt.tpe:tpe_transform took 0.009522 seconds\n",
      "INFO:hyperopt.tpe:TPE using 16/16 trials with best loss 0.000723\n"
     ]
    },
    {
     "name": "stdout",
     "output_type": "stream",
     "text": [
      "rerun                                                                           \n",
      "{'mpi': {'romio_ds_read': 'enable', 'romio_ds_write': 'enable', 'romio_cb_read': 'enable', 'romio_cb_write': 'enable', 'cb_buffer_size': '381681664'}, 'lfs': {'setstripe': {'size': 851968, 'count': 16}}}\n",
      " 80%|████████  | 16/20 [20:42<05:06, 76.66s/it, best loss: 0.000722548573327842]"
     ]
    }
   ],
   "source": [
    "from hyperopt import fmin\n",
    "\n",
    "\n",
    "ITERATION = 0\n",
    "\n",
    "best = fmin(fn = objective, space = space, algo = tpe.suggest, trials = bayes_trials, max_evals = MAX_EVALS)"
   ]
  },
  {
   "cell_type": "code",
   "execution_count": null,
   "metadata": {},
   "outputs": [],
   "source": [
    "print(best)\n",
    "d=  best\n",
    "#print(bayes_trials.results)\n",
    "bayes_trials_results = sorted(bayes_trials.results, key = lambda x: x['loss'])\n",
    "#bayes_trials_results[:1]"
   ]
  },
  {
   "cell_type": "code",
   "execution_count": null,
   "metadata": {},
   "outputs": [],
   "source": [
    "results = pd.read_csv(out_file)\n",
    "\n",
    "# Sort with best scores on top and reset index for slicing\n",
    "results.sort_values('train_time', ascending = True, inplace = True)\n",
    "results.reset_index(inplace = True, drop = True)\n",
    "results.head()\n"
   ]
  },
  {
   "cell_type": "code",
   "execution_count": null,
   "metadata": {},
   "outputs": [],
   "source": [
    "import ast\n",
    "\n",
    "# Convert from a string to a dictionary\n",
    "ast.literal_eval(results.loc[0, 'params'])\n",
    "best_bayes_params = ast.literal_eval(results.loc[0, 'params']).copy()\n",
    "print(best_bayes_params)"
   ]
  },
  {
   "cell_type": "code",
   "execution_count": null,
   "metadata": {},
   "outputs": [],
   "source": [
    "bayes_params = pd.DataFrame(columns = list(ast.literal_eval(results.loc[0, 'params']).keys()),\n",
    "                            index = list(range(len(results))))\n",
    "\n",
    "# Add the results with each parameter a different column\n",
    "for i, params in enumerate(results['params']):\n",
    "    bayes_params.loc[i, :] = list(ast.literal_eval(params).values())\n",
    "bayes_params['train_time'] = results['train_time']    \n",
    "bayes_params['loss'] = results['loss']\n",
    "bayes_params['iteration'] = results['iteration']\n",
    "\n",
    "bayes_params.head()"
   ]
  },
  {
   "cell_type": "code",
   "execution_count": null,
   "metadata": {},
   "outputs": [],
   "source": [
    "plt.figure(figsize = (20, 8))\n",
    "plt.rcParams['font.size'] = 18\n",
    "\n",
    "# Density plots of the learning rate distributions \n",
    "sns.kdeplot(bayes_params['loss'], label = 'Loss Variation', linewidth = 2)\n",
    "plt.legend()\n",
    "plt.xlabel('Loss'); plt.ylabel('Density'); plt.title('Loss Distribution');\n"
   ]
  },
  {
   "cell_type": "code",
   "execution_count": null,
   "metadata": {},
   "outputs": [],
   "source": [
    "plt.figure(figsize = (20, 8))\n",
    "plt.rcParams['font.size'] = 18\n",
    "cb_buffer_size_dist_now = []\n",
    "for _ in range(30):\n",
    "    cb_buffer_size_dist_now.append(sample(space)['cb_buffer_size'])\n",
    "# Density plots of the learning rate distributions \n",
    "sns.kdeplot(bayes_params['cb_buffer_size'], label = 'cb_buffer_size', linewidth = 2)\n",
    "sns.kdeplot(cb_buffer_size_dist,color=\"red\",linewidth=2)\n",
    "sns.kdeplot(cb_buffer_size_dist_now,color=\"green\",linewidth=2)\n",
    "plt.legend()\n",
    "plt.xlabel('cb_buffer_size'); plt.ylabel('Density'); plt.title('cb_buffer_size Distribution');"
   ]
  },
  {
   "cell_type": "code",
   "execution_count": null,
   "metadata": {},
   "outputs": [],
   "source": []
  }
 ],
 "metadata": {
  "kernelspec": {
   "display_name": "Python 3",
   "language": "python",
   "name": "python3"
  },
  "language_info": {
   "codemirror_mode": {
    "name": "ipython",
    "version": 3
   },
   "file_extension": ".py",
   "mimetype": "text/x-python",
   "name": "python",
   "nbconvert_exporter": "python",
   "pygments_lexer": "ipython3",
   "version": "3.6.7"
  }
 },
 "nbformat": 4,
 "nbformat_minor": 2
}
