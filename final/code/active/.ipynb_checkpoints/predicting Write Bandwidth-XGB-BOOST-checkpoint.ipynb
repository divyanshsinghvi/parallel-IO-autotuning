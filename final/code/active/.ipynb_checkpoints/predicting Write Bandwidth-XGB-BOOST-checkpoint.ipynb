{
 "cells": [
  {
   "cell_type": "code",
   "execution_count": 10,
   "metadata": {},
   "outputs": [],
   "source": [
    "import numpy as np\n",
    "import pandas as pd\n",
    "import matplotlib.pyplot as plt\n",
    "import seaborn as sns\n",
    "from sklearn import preprocessing\n",
    "from sklearn.datasets import make_circles\n",
    "from sklearn.ensemble import RandomTreesEmbedding, ExtraTreesClassifier\n",
    "from sklearn.decomposition import TruncatedSVD\n",
    "from sklearn.naive_bayes import BernoulliNB\n",
    "import pickle\n",
    "from sklearn.externals import joblib\n",
    "from sklearn.metrics import auc, accuracy_score, confusion_matrix, mean_squared_error\n",
    "import os "
   ]
  },
  {
   "cell_type": "code",
   "execution_count": 11,
   "metadata": {},
   "outputs": [
    {
     "name": "stdout",
     "output_type": "stream",
     "text": [
      "   S3D-IO    50-50-100-2-2-4-1   526.27   0.03   0.06    66.03   0.15   2.31  \\\n",
      "0  S3D-IO  100-100-400-2-4-4-1   191.97   0.48   2.54   973.31   1.43   1.51   \n",
      "1  S3D-IO  200-200-400-2-2-4-1   606.58   1.91   3.22   263.27   5.72  22.26   \n",
      "2  S3D-IO  100-200-200-2-4-4-1   653.72   0.48   0.75   386.61   2.38   6.31   \n",
      "3  S3D-IO  400-400-800-4-4-4-1  1087.47  15.26  14.37  1216.99  45.78  38.52   \n",
      "4  S3D-IO  100-200-400-2-4-4-1   910.12   0.95   1.07   870.82   2.86   3.36   \n",
      "\n",
      "   0.05  0.01    196608  12   enable enable.1 enable.2  disable  478150656  \n",
      "0  0.06  0.04  15728640  13   enable   enable   enable   enable  212860928  \n",
      "1  0.10  0.08    720896  18  disable  disable  disable   enable  390070272  \n",
      "2  0.07  0.06    131072  19  disable   enable   enable   enable  704643072  \n",
      "3  0.07  0.20    262144  20  disable   enable  disable   enable  331350016  \n",
      "4  0.09  0.10  30932992  28   enable   enable   enable  disable  297795584  \n"
     ]
    },
    {
     "data": {
      "text/plain": [
       "<matplotlib.axes._subplots.AxesSubplot at 0x7f907c842048>"
      ]
     },
     "execution_count": 11,
     "metadata": {},
     "output_type": "execute_result"
    },
    {
     "data": {
      "image/png": "[encoded data removed]",
      "text/plain": [
       "<Figure size 432x288 with 1 Axes>"
      ]
     },
     "metadata": {},
     "output_type": "display_data"
    }
   ],
   "source": [
    "projectdir = \"/home/dsinghvi/sem8/parallel/project/CS633-2018-19-2-project/progress/\"\n",
    "data = pd.read_csv('../S3DIOstats.txt', delim_whitespace=True)\n",
    "data = data.sample(frac=1).reset_index(drop=True)\n",
    "print(data.head(5))\n",
    "data.iloc[:,5].plot()"
   ]
  },
  {
   "cell_type": "code",
   "execution_count": 12,
   "metadata": {},
   "outputs": [
    {
     "name": "stdout",
     "output_type": "stream",
     "text": [
      "   S3D-IO    50-50-100-2-2-4-1   526.27   0.03   0.06    66.03   0.15   2.31  \\\n",
      "0  S3D-IO  100-100-400-2-4-4-1   191.97   0.48   2.54   973.31   1.43   1.51   \n",
      "1  S3D-IO  200-200-400-2-2-4-1   606.58   1.91   3.22   263.27   5.72  22.26   \n",
      "2  S3D-IO  100-200-200-2-4-4-1   653.72   0.48   0.75   386.61   2.38   6.31   \n",
      "3  S3D-IO  400-400-800-4-4-4-1  1087.47  15.26  14.37  1216.99  45.78  38.52   \n",
      "4  S3D-IO  100-200-400-2-4-4-1   910.12   0.95   1.07   870.82   2.86   3.36   \n",
      "\n",
      "   0.05  0.01    196608  12   enable enable.1 enable.2  disable  478150656  \n",
      "0  0.06  0.04  15728640  13   enable   enable   enable   enable  212860928  \n",
      "1  0.10  0.08    720896  18  disable  disable  disable   enable  390070272  \n",
      "2  0.07  0.06    131072  19  disable   enable   enable   enable  704643072  \n",
      "3  0.07  0.20    262144  20  disable   enable  disable   enable  331350016  \n",
      "4  0.09  0.10  30932992  28   enable   enable   enable  disable  297795584  \n",
      "(1135, 17)\n",
      "0    [100, 100, 400, 2, 4, 4, 1]\n",
      "1    [200, 200, 400, 2, 2, 4, 1]\n",
      "2    [100, 200, 200, 2, 4, 4, 1]\n",
      "3    [400, 400, 800, 4, 4, 4, 1]\n",
      "4    [100, 200, 400, 2, 4, 4, 1]\n",
      "Name: col2, dtype: object\n"
     ]
    }
   ],
   "source": [
    "array = data.values\n",
    "\n",
    "print(data.head())\n",
    "print(data.shape)\n",
    "data.columns=['col1','col2','col3','col4','col5','col6','col7','col8','col9','col10','col11','col12','col13','col14','col15','col16','col17']\n",
    "z = data['col2'].str.split('-')\n",
    "print(z.head())\n",
    "data['col13']=data['col13'].eq(\"enable\").mul(1)\n",
    "data['col14']=data['col14'].eq(\"enable\").mul(1)\n",
    "data['col15']=data['col15'].eq(\"enable\").mul(1)\n",
    "data['col16']=data['col16'].eq(\"enable\").mul(1)"
   ]
  },
  {
   "cell_type": "code",
   "execution_count": 13,
   "metadata": {},
   "outputs": [
    {
     "name": "stdout",
     "output_type": "stream",
     "text": [
      "<class 'pandas.core.frame.DataFrame'>\n",
      "         0         1         2    3    4         5    6    7         8   \\\n",
      "0  0.142857  0.142857  0.466667  0.0  1.0  0.333333  1.0  1.0  0.013136   \n",
      "1  0.428571  0.428571  0.466667  0.0  0.0  0.333333  0.0  0.0  0.000602   \n",
      "2  0.142857  0.428571  0.200000  0.0  1.0  0.333333  0.0  1.0  0.000109   \n",
      "3  1.000000  1.000000  1.000000  1.0  1.0  0.333333  0.0  1.0  0.000219   \n",
      "4  0.142857  0.428571  0.466667  0.0  1.0  0.333333  1.0  1.0  0.025833   \n",
      "\n",
      "         9         10        11        12        13  \n",
      "0  0.026804  0.198234  0.142857  0.000000  0.428571  \n",
      "1  0.037113  0.364082  0.428571  0.428571  0.428571  \n",
      "2  0.039175  0.658489  0.142857  0.142857  0.142857  \n",
      "3  0.041237  0.309127  0.428571  0.428571  1.000000  \n",
      "4  0.057732  0.277723  0.142857  0.142857  0.428571  \n"
     ]
    },
    {
     "name": "stderr",
     "output_type": "stream",
     "text": [
      "/usr/local/lib/python3.6/dist-packages/sklearn/utils/validation.py:475: DataConversionWarning: Data with input dtype object was converted to float64 by MinMaxScaler.\n",
      "  warnings.warn(msg, DataConversionWarning)\n"
     ]
    }
   ],
   "source": [
    "X = pd.DataFrame(z.tolist())\n",
    "X = X.drop(6, 1)\n",
    "\n",
    "#FEATURES\n",
    "X['cb3']=data['col13']\n",
    "X['cb4']=data['col14']\n",
    "#X['cb5']=data['col15']\n",
    "#X['cb6']=data['col16']\n",
    "X['cb1']=data['col11']\n",
    "X['cb2']=data['col12']\n",
    "X['cb7']=data['col17']\n",
    "X['ratio1'] = X.iloc[:,0].astype(int)/(X.iloc[:,3].astype(int))\n",
    "X['ratio2'] = X.iloc[:,1].astype(int)/(X.iloc[:,4].astype(int))\n",
    "X['ratio3'] = X.iloc[:,2].astype(int)/(X.iloc[:,5].astype(int))\n",
    "\n",
    "#NORMALIZING \n",
    "min_max_scaler = preprocessing.MinMaxScaler()\n",
    "X_scaled = min_max_scaler.fit_transform(X.values)\n",
    "X = pd.DataFrame(X_scaled)\n",
    "\n",
    "print(type(X))\n",
    "print(X.head())\n",
    "X_total = X\n",
    "#pd.options.display.max_rows=  1500\n"
   ]
  },
  {
   "cell_type": "code",
   "execution_count": 14,
   "metadata": {},
   "outputs": [
    {
     "name": "stdout",
     "output_type": "stream",
     "text": [
      "[ 973  263  386 1216  870]\n",
      "            0         1         2    3    4         5    6    7         8   \\\n",
      "912   0.000000  0.142857  0.066667  0.0  0.0  0.333333  1.0  0.0  0.000109   \n",
      "1037  0.428571  0.428571  0.466667  0.0  0.0  0.333333  1.0  1.0  0.570686   \n",
      "486   0.000000  0.142857  0.066667  0.0  0.0  0.333333  1.0  0.0  0.000219   \n",
      "1035  0.142857  0.428571  0.466667  0.0  1.0  0.333333  0.0  1.0  0.011111   \n",
      "704   1.000000  1.000000  1.000000  1.0  1.0  1.000000  0.0  0.0  0.000055   \n",
      "\n",
      "            9         10        11        12        13  \n",
      "912   0.012371  0.272816  0.000000  0.142857  0.000000  \n",
      "1037  0.183505  0.341511  0.428571  0.428571  0.428571  \n",
      "486   0.032990  0.475957  0.000000  0.142857  0.000000  \n",
      "1035  0.004124  0.053974  0.142857  0.142857  0.428571  \n",
      "704   0.028866  0.054956  0.428571  0.428571  0.428571  \n",
      "(794,) (794, 14)\n",
      "(341, 14) (341,)\n",
      "[139 585  70 560 725]\n"
     ]
    }
   ],
   "source": [
    "Y = data['col6']\n",
    "#Y = ((data['col7'])*1024)/data['col6'] + (data['col4']*1024)/data['col3']\n",
    "Y=Y.values\n",
    "Y = Y.astype(int)\n",
    "print(Y[0:5])\n",
    "import xgboost as xgb\n",
    "from sklearn.model_selection import train_test_split\n",
    "train_X, test_X, train_Y, test_Y = train_test_split(X_total,Y,test_size=0.3,random_state = 42) \n",
    "y = train_Y\n",
    "X = train_X\n",
    "print(X[0:5])\n",
    "print(y.shape, X.shape)\n",
    "print(test_X.shape,test_Y.shape)\n",
    "print(y[0:5])\n",
    "\n"
   ]
  },
  {
   "cell_type": "code",
   "execution_count": 15,
   "metadata": {},
   "outputs": [
    {
     "name": "stdout",
     "output_type": "stream",
     "text": [
      "119.07515768028533\n"
     ]
    }
   ],
   "source": [
    "xgb_model =xgb_model = xgb.XGBRegressor(objective=\"reg:linear\", random_state=42)\n",
    "\n",
    "xgb_model.fit(X, y)\n",
    "y_pred = xgb_model.predict(test_X)\n",
    "\n",
    "mse=mean_squared_error(test_Y, y_pred)\n",
    "print(np.sqrt(mse))"
   ]
  },
  {
   "cell_type": "code",
   "execution_count": 16,
   "metadata": {},
   "outputs": [
    {
     "data": {
      "text/plain": [
       "0.8771073294844032"
      ]
     },
     "execution_count": 16,
     "metadata": {},
     "output_type": "execute_result"
    }
   ],
   "source": [
    "#print(test_Y)\n",
    "from sklearn.metrics import r2_score\n",
    "r2_score(test_Y,y_pred)"
   ]
  },
  {
   "cell_type": "code",
   "execution_count": 17,
   "metadata": {},
   "outputs": [
    {
     "data": {
      "image/png": "[encoded data removed]",
      "text/plain": [
       "<Figure size 432x288 with 1 Axes>"
      ]
     },
     "metadata": {},
     "output_type": "display_data"
    }
   ],
   "source": [
    "fig, ax = plt.subplots()\n",
    "ax.scatter(test_Y, y_pred)\n",
    "ax.plot([test_Y.min(), test_Y.max()], [test_Y.min(), test_Y.max()], 'k--', lw=4)\n",
    "ax.set_xlabel('Measured')\n",
    "ax.set_ylabel('Predicted')\n",
    "plt.show()"
   ]
  },
  {
   "cell_type": "code",
   "execution_count": 18,
   "metadata": {},
   "outputs": [
    {
     "data": {
      "text/plain": [
       "['scalerxgb.save']"
      ]
     },
     "execution_count": 18,
     "metadata": {},
     "output_type": "execute_result"
    }
   ],
   "source": [
    "# save the model to disk\n",
    "\n",
    "modelfile = 'finalxgb.sav'\n",
    "joblib.dump(xgb_model, open(modelfile, 'wb'))\n",
    "scaler_filename = \"scalerxgb.save\"\n",
    "joblib.dump(min_max_scaler, scaler_filename) \n"
   ]
  },
  {
   "cell_type": "code",
   "execution_count": 19,
   "metadata": {},
   "outputs": [],
   "source": [
    "# ##### TESTING CODE FOR THIS MODEL\n",
    "\n",
    "\n",
    "# import json\n",
    "# with open(projectdir+'confex.json') as f:\n",
    "#     data = json.load(f)\n",
    "\n",
    "# romio_ds_read = data[\"mpi\"][\"romio_ds_read\"] == \"enable\"\n",
    "# romio_ds_write = data[\"mpi\"][\"romio_ds_write\"] == \"enable\"\n",
    "# romio_cb_read = data[\"mpi\"][\"romio_cb_read\"]\n",
    "# romio_cb_write = data[\"mpi\"][\"romio_cb_write\"]\n",
    "# cb_buffer_size = data[\"mpi\"][\"cb_buffer_size\"]\n",
    "# stripe_size = data[\"lfs\"][\"setstripe\"][\"size\"]\n",
    "# stripe_count = data[\"lfs\"][\"setstripe\"][\"count\"]\n",
    "\n",
    "# col_names =  ['cb5','cb6','cb7','cb8','cb8','cb10','cb11','cb12']\n",
    "# cb_df  = pd.DataFrame(columns = col_names)\n",
    "# cb_df.loc[len(cb_df)] = [romio_ds_read,romio_ds_write,stripe_size, stripe_count, cb_buffer_size,\"50\",\"50\",\"50\"]\n",
    "\n",
    "\n",
    "# scaler_filename = \"scalerxgb.save\"\n",
    "# scaler = joblib.load(scaler_filename)\n",
    "# xgb_model = joblib.load(modelfile)\n",
    "\n",
    "# print(test_X.head(1))\n",
    "\n",
    "\n",
    "# col_names =  ['f0','1', '2','3','4','5']\n",
    "# my_df = pd.DataFrame(columns=col_names)\n",
    "# my_df.loc[len(my_df)] = [100,100,100,2,2,4]\n",
    "\n",
    "# x = pd.concat([my_df,cb_df], axis=1)\n",
    "# norm_df = pd.DataFrame(scaler.transform(x))\n",
    "# print(norm_df)\n",
    "\n",
    "# xgb_model.predict(norm_df)\n",
    "# x\n",
    "# test_X.head(1)\n",
    "# trees.predict(test_X.head(1))"
   ]
  },
  {
   "cell_type": "code",
   "execution_count": null,
   "metadata": {},
   "outputs": [],
   "source": []
  },
  {
   "cell_type": "code",
   "execution_count": null,
   "metadata": {},
   "outputs": [],
   "source": []
  }
 ],
 "metadata": {
  "kernelspec": {
   "display_name": "Python 3",
   "language": "python",
   "name": "python3"
  },
  "language_info": {
   "codemirror_mode": {
    "name": "ipython",
    "version": 3
   },
   "file_extension": ".py",
   "mimetype": "text/x-python",
   "name": "python",
   "nbconvert_exporter": "python",
   "pygments_lexer": "ipython3",
   "version": "3.6.7"
  }
 },
 "nbformat": 4,
 "nbformat_minor": 2
}
